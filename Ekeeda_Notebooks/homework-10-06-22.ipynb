{
 "cells": [
  {
   "cell_type": "code",
   "execution_count": 1,
   "id": "ee791090",
   "metadata": {},
   "outputs": [],
   "source": [
    "#with arguiments\n",
    "def cal(a,b):\n",
    "    c=a+b\n",
    "    d=a-b\n",
    "    e=a*b\n",
    "    f=a/b\n",
    "    return c,d,e,f"
   ]
  },
  {
   "cell_type": "code",
   "execution_count": 2,
   "id": "9b86d0b5",
   "metadata": {},
   "outputs": [
    {
     "name": "stdout",
     "output_type": "stream",
     "text": [
      "(10, -2, 24, 0.6666666666666666)\n"
     ]
    }
   ],
   "source": [
    "g=cal(4,6)\n",
    "print(g)"
   ]
  },
  {
   "cell_type": "code",
   "execution_count": 3,
   "id": "6ebb79f7",
   "metadata": {},
   "outputs": [],
   "source": [
    "def raj(x,y):\n",
    "    return x**y"
   ]
  },
  {
   "cell_type": "code",
   "execution_count": 4,
   "id": "76de610a",
   "metadata": {},
   "outputs": [
    {
     "name": "stdout",
     "output_type": "stream",
     "text": [
      "16\n"
     ]
    }
   ],
   "source": [
    "print(raj(2,4))"
   ]
  },
  {
   "cell_type": "code",
   "execution_count": 5,
   "id": "09fd0ea8",
   "metadata": {},
   "outputs": [],
   "source": [
    "#without arguiments\n",
    "def cal():\n",
    "    a,b=4,6\n",
    "    c=a+b\n",
    "    d=a-b\n",
    "    e=a*b\n",
    "    f=a/b\n",
    "    return c,d,e,f"
   ]
  },
  {
   "cell_type": "code",
   "execution_count": 6,
   "id": "1715b22f",
   "metadata": {},
   "outputs": [
    {
     "name": "stdout",
     "output_type": "stream",
     "text": [
      "(10, -2, 24, 0.6666666666666666)\n"
     ]
    }
   ],
   "source": [
    "t=cal()\n",
    "print(t)"
   ]
  },
  {
   "cell_type": "code",
   "execution_count": 11,
   "id": "eb10ca4e",
   "metadata": {},
   "outputs": [],
   "source": [
    "def fname():\n",
    "    first='Rajesh'\n",
    "    last='Mandapati'\n",
    "    res=\" \".join((first,last))\n",
    "    return res"
   ]
  },
  {
   "cell_type": "code",
   "execution_count": 13,
   "id": "7f2d7daf",
   "metadata": {},
   "outputs": [
    {
     "name": "stdout",
     "output_type": "stream",
     "text": [
      "Rajesh Mandapati\n"
     ]
    }
   ],
   "source": [
    "print(fname())"
   ]
  },
  {
   "cell_type": "code",
   "execution_count": null,
   "id": "52eb0231",
   "metadata": {},
   "outputs": [],
   "source": []
  }
 ],
 "metadata": {
  "kernelspec": {
   "display_name": "Python 3 (ipykernel)",
   "language": "python",
   "name": "python3"
  },
  "language_info": {
   "codemirror_mode": {
    "name": "ipython",
    "version": 3
   },
   "file_extension": ".py",
   "mimetype": "text/x-python",
   "name": "python",
   "nbconvert_exporter": "python",
   "pygments_lexer": "ipython3",
   "version": "3.9.12"
  }
 },
 "nbformat": 4,
 "nbformat_minor": 5
}
