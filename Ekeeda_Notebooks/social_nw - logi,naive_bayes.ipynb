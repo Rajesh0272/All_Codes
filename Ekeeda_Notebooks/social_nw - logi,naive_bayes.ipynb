{
 "cells": [
  {
   "cell_type": "code",
   "execution_count": 1,
   "id": "6712887f",
   "metadata": {},
   "outputs": [],
   "source": [
    "import pandas as pd \n",
    "import numpy as np\n",
    "import matplotlib.pyplot as plt\n",
    "import seaborn as sns\n",
    "import warnings \n",
    "warnings.filterwarnings('ignore') "
   ]
  },
  {
   "cell_type": "code",
   "execution_count": 2,
   "id": "08667726",
   "metadata": {},
   "outputs": [
    {
     "data": {
      "text/html": [
       "<div>\n",
       "<style scoped>\n",
       "    .dataframe tbody tr th:only-of-type {\n",
       "        vertical-align: middle;\n",
       "    }\n",
       "\n",
       "    .dataframe tbody tr th {\n",
       "        vertical-align: top;\n",
       "    }\n",
       "\n",
       "    .dataframe thead th {\n",
       "        text-align: right;\n",
       "    }\n",
       "</style>\n",
       "<table border=\"1\" class=\"dataframe\">\n",
       "  <thead>\n",
       "    <tr style=\"text-align: right;\">\n",
       "      <th></th>\n",
       "      <th>User ID</th>\n",
       "      <th>Gender</th>\n",
       "      <th>Age</th>\n",
       "      <th>EstimatedSalary</th>\n",
       "      <th>Purchased</th>\n",
       "    </tr>\n",
       "  </thead>\n",
       "  <tbody>\n",
       "    <tr>\n",
       "      <th>0</th>\n",
       "      <td>15624510</td>\n",
       "      <td>Male</td>\n",
       "      <td>19</td>\n",
       "      <td>19000</td>\n",
       "      <td>0</td>\n",
       "    </tr>\n",
       "    <tr>\n",
       "      <th>1</th>\n",
       "      <td>15810944</td>\n",
       "      <td>Male</td>\n",
       "      <td>35</td>\n",
       "      <td>20000</td>\n",
       "      <td>0</td>\n",
       "    </tr>\n",
       "    <tr>\n",
       "      <th>2</th>\n",
       "      <td>15668575</td>\n",
       "      <td>Female</td>\n",
       "      <td>26</td>\n",
       "      <td>43000</td>\n",
       "      <td>0</td>\n",
       "    </tr>\n",
       "    <tr>\n",
       "      <th>3</th>\n",
       "      <td>15603246</td>\n",
       "      <td>Female</td>\n",
       "      <td>27</td>\n",
       "      <td>57000</td>\n",
       "      <td>0</td>\n",
       "    </tr>\n",
       "    <tr>\n",
       "      <th>4</th>\n",
       "      <td>15804002</td>\n",
       "      <td>Male</td>\n",
       "      <td>19</td>\n",
       "      <td>76000</td>\n",
       "      <td>0</td>\n",
       "    </tr>\n",
       "  </tbody>\n",
       "</table>\n",
       "</div>"
      ],
      "text/plain": [
       "    User ID  Gender  Age  EstimatedSalary  Purchased\n",
       "0  15624510    Male   19            19000          0\n",
       "1  15810944    Male   35            20000          0\n",
       "2  15668575  Female   26            43000          0\n",
       "3  15603246  Female   27            57000          0\n",
       "4  15804002    Male   19            76000          0"
      ]
     },
     "execution_count": 2,
     "metadata": {},
     "output_type": "execute_result"
    }
   ],
   "source": [
    "df=pd.read_csv('C:\\\\Users\\\\M RAJESH\\\\Desktop\\\\Ekeeda DS\\Social_Network_Ads.csv')\n",
    "df.head()"
   ]
  },
  {
   "cell_type": "code",
   "execution_count": 3,
   "id": "4c72e5bc",
   "metadata": {},
   "outputs": [
    {
     "data": {
      "text/plain": [
       "User ID            0\n",
       "Gender             0\n",
       "Age                0\n",
       "EstimatedSalary    0\n",
       "Purchased          0\n",
       "dtype: int64"
      ]
     },
     "execution_count": 3,
     "metadata": {},
     "output_type": "execute_result"
    }
   ],
   "source": [
    "df.isnull().sum()"
   ]
  },
  {
   "cell_type": "code",
   "execution_count": 4,
   "id": "aad54b72",
   "metadata": {},
   "outputs": [],
   "source": [
    "dummies = pd.get_dummies(df['Gender'])"
   ]
  },
  {
   "cell_type": "code",
   "execution_count": 5,
   "id": "9dade7a8",
   "metadata": {},
   "outputs": [],
   "source": [
    "df1 = pd.concat([df.drop(['User ID','Gender'],axis=1),dummies.drop('Male',axis=1)],axis=1)"
   ]
  },
  {
   "cell_type": "code",
   "execution_count": 6,
   "id": "49dbfd9b",
   "metadata": {},
   "outputs": [
    {
     "data": {
      "text/html": [
       "<div>\n",
       "<style scoped>\n",
       "    .dataframe tbody tr th:only-of-type {\n",
       "        vertical-align: middle;\n",
       "    }\n",
       "\n",
       "    .dataframe tbody tr th {\n",
       "        vertical-align: top;\n",
       "    }\n",
       "\n",
       "    .dataframe thead th {\n",
       "        text-align: right;\n",
       "    }\n",
       "</style>\n",
       "<table border=\"1\" class=\"dataframe\">\n",
       "  <thead>\n",
       "    <tr style=\"text-align: right;\">\n",
       "      <th></th>\n",
       "      <th>Age</th>\n",
       "      <th>EstimatedSalary</th>\n",
       "      <th>Purchased</th>\n",
       "      <th>Female</th>\n",
       "    </tr>\n",
       "  </thead>\n",
       "  <tbody>\n",
       "    <tr>\n",
       "      <th>0</th>\n",
       "      <td>19</td>\n",
       "      <td>19000</td>\n",
       "      <td>0</td>\n",
       "      <td>0</td>\n",
       "    </tr>\n",
       "    <tr>\n",
       "      <th>1</th>\n",
       "      <td>35</td>\n",
       "      <td>20000</td>\n",
       "      <td>0</td>\n",
       "      <td>0</td>\n",
       "    </tr>\n",
       "    <tr>\n",
       "      <th>2</th>\n",
       "      <td>26</td>\n",
       "      <td>43000</td>\n",
       "      <td>0</td>\n",
       "      <td>1</td>\n",
       "    </tr>\n",
       "    <tr>\n",
       "      <th>3</th>\n",
       "      <td>27</td>\n",
       "      <td>57000</td>\n",
       "      <td>0</td>\n",
       "      <td>1</td>\n",
       "    </tr>\n",
       "    <tr>\n",
       "      <th>4</th>\n",
       "      <td>19</td>\n",
       "      <td>76000</td>\n",
       "      <td>0</td>\n",
       "      <td>0</td>\n",
       "    </tr>\n",
       "  </tbody>\n",
       "</table>\n",
       "</div>"
      ],
      "text/plain": [
       "   Age  EstimatedSalary  Purchased  Female\n",
       "0   19            19000          0       0\n",
       "1   35            20000          0       0\n",
       "2   26            43000          0       1\n",
       "3   27            57000          0       1\n",
       "4   19            76000          0       0"
      ]
     },
     "execution_count": 6,
     "metadata": {},
     "output_type": "execute_result"
    }
   ],
   "source": [
    "df1.head()"
   ]
  },
  {
   "cell_type": "code",
   "execution_count": 7,
   "id": "aa03f320",
   "metadata": {},
   "outputs": [
    {
     "data": {
      "text/plain": [
       "<seaborn.axisgrid.PairGrid at 0x2057b281dc0>"
      ]
     },
     "execution_count": 7,
     "metadata": {},
     "output_type": "execute_result"
    },
    {
     "data": {
      "image/png": "[encoded data removed]",
      "text/plain": [
       "<Figure size 720x720 with 20 Axes>"
      ]
     },
     "metadata": {
      "needs_background": "light"
     },
     "output_type": "display_data"
    }
   ],
   "source": [
    "sns.pairplot(df1)"
   ]
  },
  {
   "cell_type": "code",
   "execution_count": 8,
   "id": "3fe8d0bf",
   "metadata": {},
   "outputs": [],
   "source": [
    "x=df1.drop('Purchased',axis=1)\n",
    "y=df1.Purchased"
   ]
  },
  {
   "cell_type": "code",
   "execution_count": 9,
   "id": "aad65924",
   "metadata": {},
   "outputs": [],
   "source": [
    "from sklearn.model_selection import train_test_split\n",
    "X_train,X_test,y_train,y_test = train_test_split(x,y,test_size=0.2,random_state=5)"
   ]
  },
  {
   "cell_type": "code",
   "execution_count": 10,
   "id": "0d86d162",
   "metadata": {},
   "outputs": [
    {
     "data": {
      "text/plain": [
       "(320, 80)"
      ]
     },
     "execution_count": 10,
     "metadata": {},
     "output_type": "execute_result"
    }
   ],
   "source": [
    "len(X_train),len(X_test)"
   ]
  },
  {
   "cell_type": "code",
   "execution_count": 12,
   "id": "e8c57cab",
   "metadata": {},
   "outputs": [],
   "source": [
    "from sklearn.preprocessing import StandardScaler\n",
    "std_scaler = StandardScaler()\n",
    "X_train = std_scaler.fit_transform(X_train)\n",
    "X_test = std_scaler.transform(X_test)"
   ]
  },
  {
   "cell_type": "code",
   "execution_count": 13,
   "id": "f9d48c41",
   "metadata": {},
   "outputs": [
    {
     "data": {
      "text/plain": [
       "array([[-0.27257222,  0.81711559,  0.97530483],\n",
       "       [-0.27257222,  1.14463175, -1.02532046],\n",
       "       [ 0.48837095,  1.26372853,  0.97530483],\n",
       "       [-1.12863329, -1.11820715, -1.02532046],\n",
       "       [-1.41398698, -0.64182001,  0.97530483],\n",
       "       [ 2.10537519, -0.82046519, -1.02532046],\n",
       "       [-1.69934067,  0.13230908, -1.02532046],\n",
       "       [-0.17745433, -0.28452966, -1.02532046],\n",
       "       [-0.27257222,  0.07276069,  0.97530483],\n",
       "       [-1.69934067,  0.48959944, -1.02532046],\n",
       "       [-0.17745433, -0.46317484,  0.97530483],\n",
       "       [ 1.6297857 ,  1.65079308,  0.97530483],\n",
       "       [-0.08233643,  0.31095426,  0.97530483],\n",
       "       [-0.08233643, -0.37385225,  0.97530483],\n",
       "       [-1.88957646, -0.52272323, -1.02532046],\n",
       "       [ 0.01278147,  0.0429865 , -1.02532046],\n",
       "       [-0.27257222, -0.58227162, -1.02532046],\n",
       "       [-0.55792591,  1.41259951,  0.97530483],\n",
       "       [ 2.01025729,  2.18672861, -1.02532046],\n",
       "       [ 0.77372464, -1.23730393, -1.02532046],\n",
       "       [ 0.77372464, -1.38617491, -1.02532046],\n",
       "       [-0.9383975 , -0.7609168 ,  0.97530483],\n",
       "       [ 1.24931412, -1.38617491, -1.02532046],\n",
       "       [ 0.10789936,  1.08508336, -1.02532046],\n",
       "       [-0.27257222, -0.58227162,  0.97530483],\n",
       "       [-1.12863329,  0.48959944, -1.02532046],\n",
       "       [-1.03351539,  0.43005104,  0.97530483],\n",
       "       [-1.12863329,  0.31095426,  0.97530483],\n",
       "       [ 1.53466781,  1.14463175,  0.97530483],\n",
       "       [-0.9383975 , -0.31430386,  0.97530483],\n",
       "       [ 2.01025729, -0.82046519,  0.97530483],\n",
       "       [ 0.10789936, -0.82046519, -1.02532046],\n",
       "       [ 2.01025729,  0.54914783,  0.97530483],\n",
       "       [ 0.86884253, -0.55249743,  0.97530483],\n",
       "       [-0.27257222,  0.10253489, -1.02532046],\n",
       "       [-0.8432796 ,  0.16208328, -1.02532046],\n",
       "       [ 0.29813516, -0.28452966,  0.97530483],\n",
       "       [-0.27257222, -0.28452966,  0.97530483],\n",
       "       [ 0.39325305,  2.36537379, -1.02532046],\n",
       "       [ 1.7249036 ,  1.88898665, -1.02532046],\n",
       "       [ 0.20301726, -0.25475546, -1.02532046],\n",
       "       [ 1.05907833, -1.23730393, -1.02532046],\n",
       "       [-0.17745433, -0.58227162,  0.97530483],\n",
       "       [ 1.43954991,  0.37050265,  0.97530483],\n",
       "       [-0.27257222, -1.41594911, -1.02532046],\n",
       "       [ 0.96396043, -1.08843295, -1.02532046],\n",
       "       [ 1.8200215 , -0.28452966, -1.02532046],\n",
       "       [-0.27257222,  0.54914783, -1.02532046],\n",
       "       [-1.12863329, -1.62436848, -1.02532046],\n",
       "       [-1.41398698, -1.4754975 , -1.02532046],\n",
       "       [-0.08233643, -0.52272323, -1.02532046],\n",
       "       [-1.22375118,  0.28118006, -1.02532046],\n",
       "       [-0.17745433,  1.68056728,  0.97530483],\n",
       "       [ 0.96396043, -1.02888456,  0.97530483],\n",
       "       [-0.8432796 ,  0.31095426, -1.02532046],\n",
       "       [-1.50910487, -1.53504589, -1.02532046],\n",
       "       [ 1.7249036 , -0.28452966, -1.02532046],\n",
       "       [ 0.96396043,  2.12718022, -1.02532046],\n",
       "       [-0.55792591,  1.41259951,  0.97530483],\n",
       "       [ 1.53466781,  0.0132123 , -1.02532046],\n",
       "       [-1.03351539, -1.14798135,  0.97530483],\n",
       "       [ 0.01278147, -0.58227162,  0.97530483],\n",
       "       [ 0.86884253, -1.4754975 , -1.02532046],\n",
       "       [ 1.34443202,  2.39514798, -1.02532046],\n",
       "       [-0.7481617 , -0.22498127,  0.97530483],\n",
       "       [-1.22375118,  0.51937363, -1.02532046],\n",
       "       [-1.88957646, -0.7609168 ,  0.97530483],\n",
       "       [ 0.77372464,  0.37050265,  0.97530483],\n",
       "       [-1.12863329, -0.52272323,  0.97530483],\n",
       "       [ 0.67860674, -1.29685233, -1.02532046],\n",
       "       [-1.41398698,  0.37050265,  0.97530483],\n",
       "       [ 0.58348885,  2.06763183,  0.97530483],\n",
       "       [ 0.86884253, -1.38617491, -1.02532046],\n",
       "       [-0.27257222, -1.32662652,  0.97530483],\n",
       "       [-1.50910487, -0.19520707,  0.97530483],\n",
       "       [-1.12863329, -1.02888456,  0.97530483],\n",
       "       [-1.79445856,  0.19185748, -1.02532046],\n",
       "       [ 0.01278147, -0.43340064,  0.97530483],\n",
       "       [-0.55792591,  0.48959944,  0.97530483],\n",
       "       [-0.8432796 ,  2.33559959, -1.02532046],\n",
       "       [ 0.29813516, -0.52272323, -1.02532046],\n",
       "       [ 1.53466781,  1.02553496,  0.97530483],\n",
       "       [-0.08233643,  0.31095426,  0.97530483],\n",
       "       [ 0.86884253,  1.05530916, -1.02532046],\n",
       "       [-1.69934067,  0.37050265,  0.97530483],\n",
       "       [ 0.86884253, -1.05865876, -1.02532046],\n",
       "       [-0.9383975 , -0.43340064,  0.97530483],\n",
       "       [-0.8432796 , -1.23730393,  0.97530483],\n",
       "       [-0.55792591,  1.94853504,  0.97530483],\n",
       "       [ 0.20301726, -0.37385225, -1.02532046],\n",
       "       [-0.27257222, -0.34407805, -1.02532046],\n",
       "       [-0.27257222,  0.63847042, -1.02532046],\n",
       "       [-0.7481617 , -0.61204582, -1.02532046],\n",
       "       [ 0.29813516, -0.31430386, -1.02532046],\n",
       "       [ 0.29813516, -0.55249743,  0.97530483],\n",
       "       [-0.27257222, -0.93956197, -1.02532046],\n",
       "       [-0.08233643,  0.0429865 ,  0.97530483],\n",
       "       [ 0.39325305,  0.31095426,  0.97530483],\n",
       "       [-1.50910487, -0.43340064,  0.97530483],\n",
       "       [ 0.58348885, -0.90978778,  0.97530483],\n",
       "       [-1.12863329, -0.79069099,  0.97530483],\n",
       "       [-0.27257222, -0.7609168 ,  0.97530483],\n",
       "       [-0.46280801, -1.14798135, -1.02532046],\n",
       "       [ 0.67860674, -1.41594911,  0.97530483],\n",
       "       [-1.03351539, -0.37385225,  0.97530483],\n",
       "       [ 1.43954991,  0.07276069, -1.02532046],\n",
       "       [ 2.10537519,  0.96598657, -1.02532046],\n",
       "       [-0.8432796 , -0.79069099, -1.02532046],\n",
       "       [ 0.10789936,  1.91876085, -1.02532046],\n",
       "       [ 0.10789936,  0.0429865 , -1.02532046],\n",
       "       [-1.60422277, -0.04633609,  0.97530483],\n",
       "       [ 0.39325305, -0.46317484, -1.02532046],\n",
       "       [-0.08233643, -0.22498127,  0.97530483],\n",
       "       [-1.12863329,  0.31095426, -1.02532046],\n",
       "       [-0.27257222, -0.31430386, -1.02532046],\n",
       "       [ 0.39325305, -0.49294903,  0.97530483],\n",
       "       [ 1.8200215 ,  0.13230908, -1.02532046],\n",
       "       [ 0.77372464, -0.31430386, -1.02532046],\n",
       "       [ 0.29813516, -0.52272323, -1.02532046],\n",
       "       [ 0.01278147, -0.13565868,  0.97530483],\n",
       "       [-0.27257222, -0.25475546, -1.02532046],\n",
       "       [-1.31886908,  0.57892202,  0.97530483],\n",
       "       [ 1.34443202, -0.93956197,  0.97530483],\n",
       "       [-0.65304381,  1.44237371,  0.97530483],\n",
       "       [ 0.20301726, -0.67159421, -1.02532046],\n",
       "       [-0.36769012,  0.07276069,  0.97530483],\n",
       "       [ 1.05907833,  0.54914783, -1.02532046],\n",
       "       [-0.27257222,  0.16208328, -1.02532046],\n",
       "       [-0.65304381,  0.0429865 ,  0.97530483],\n",
       "       [-1.12863329, -1.56482009,  0.97530483],\n",
       "       [-1.69934067, -0.99911037,  0.97530483],\n",
       "       [-0.55792591, -1.53504589, -1.02532046],\n",
       "       [-1.03351539, -1.56482009,  0.97530483],\n",
       "       [ 0.01278147,  1.29350273,  0.97530483],\n",
       "       [ 2.01025729,  1.79966406, -1.02532046],\n",
       "       [-0.17745433, -1.08843295, -1.02532046],\n",
       "       [-0.08233643, -1.08843295,  0.97530483],\n",
       "       [ 1.05907833, -0.90978778,  0.97530483],\n",
       "       [-0.7481617 , -1.56482009, -1.02532046],\n",
       "       [ 0.67860674, -1.41594911, -1.02532046],\n",
       "       [-0.08233643,  0.22163167, -1.02532046],\n",
       "       [-0.17745433,  2.21650281, -1.02532046],\n",
       "       [ 0.39325305,  0.0132123 ,  0.97530483],\n",
       "       [ 1.91513939,  2.21650281, -1.02532046],\n",
       "       [ 0.01278147,  1.26372853,  0.97530483],\n",
       "       [ 0.77372464,  0.54914783, -1.02532046],\n",
       "       [ 1.8200215 ,  1.56147049,  0.97530483],\n",
       "       [ 1.91513939, -1.38617491,  0.97530483],\n",
       "       [-1.03351539,  0.60869622, -1.02532046],\n",
       "       [ 0.39325305,  0.10253489, -1.02532046],\n",
       "       [ 0.39325305,  1.02553496, -1.02532046],\n",
       "       [-0.65304381, -0.04633609,  0.97530483],\n",
       "       [-0.9383975 ,  0.45982524,  0.97530483],\n",
       "       [-0.9383975 ,  1.59124469, -1.02532046],\n",
       "       [ 0.39325305,  0.31095426, -1.02532046],\n",
       "       [ 1.05907833,  0.57892202, -1.02532046],\n",
       "       [ 0.29813516, -0.19520707,  0.97530483],\n",
       "       [ 0.77372464, -1.41594911,  0.97530483],\n",
       "       [-0.7481617 ,  0.28118006,  0.97530483],\n",
       "       [-0.17745433,  0.87666398, -1.02532046],\n",
       "       [-0.27257222,  0.0429865 ,  0.97530483],\n",
       "       [ 0.77372464, -1.11820715,  0.97530483],\n",
       "       [-1.79445856, -1.44572331,  0.97530483],\n",
       "       [ 1.34443202,  2.03785763,  0.97530483],\n",
       "       [-0.27257222, -0.13565868,  0.97530483],\n",
       "       [-1.12863329,  0.43005104,  0.97530483],\n",
       "       [ 0.77372464, -0.85023939,  0.97530483],\n",
       "       [-1.50910487, -1.26707813,  0.97530483],\n",
       "       [-0.8432796 , -0.79069099, -1.02532046],\n",
       "       [-0.65304381,  0.19185748, -1.02532046],\n",
       "       [-1.03351539, -0.34407805,  0.97530483],\n",
       "       [ 0.96396043, -1.20752974,  0.97530483],\n",
       "       [ 0.29813516,  0.51937363, -1.02532046],\n",
       "       [-1.31886908, -1.38617491, -1.02532046],\n",
       "       [ 0.29813516, -0.7311426 , -1.02532046],\n",
       "       [-0.27257222, -1.4754975 , -1.02532046],\n",
       "       [ 1.34443202,  0.60869622,  0.97530483],\n",
       "       [ 2.10537519,  1.14463175,  0.97530483],\n",
       "       [ 0.39325305, -0.13565868, -1.02532046],\n",
       "       [-1.79445856,  0.0132123 , -1.02532046],\n",
       "       [-0.65304381, -0.34407805, -1.02532046],\n",
       "       [ 1.91513939, -0.67159421,  0.97530483],\n",
       "       [-1.03351539,  0.54914783, -1.02532046],\n",
       "       [-0.36769012,  1.35305112, -1.02532046],\n",
       "       [ 0.01278147, -0.25475546, -1.02532046],\n",
       "       [ 0.39325305, -0.46317484, -1.02532046],\n",
       "       [ 2.01025729, -1.20752974,  0.97530483],\n",
       "       [-0.7481617 ,  0.57892202, -1.02532046],\n",
       "       [ 0.29813516,  0.28118006, -1.02532046],\n",
       "       [-0.08233643,  0.69801881,  0.97530483],\n",
       "       [ 0.10789936,  1.91876085,  0.97530483],\n",
       "       [-0.27257222, -0.90978778, -1.02532046],\n",
       "       [-0.8432796 , -0.25475546, -1.02532046],\n",
       "       [ 0.86884253,  2.21650281,  0.97530483],\n",
       "       [-0.08233643,  0.07276069, -1.02532046],\n",
       "       [-1.69934067,  0.37050265,  0.97530483],\n",
       "       [ 0.10789936, -0.31430386,  0.97530483],\n",
       "       [ 1.05907833, -0.99911037,  0.97530483],\n",
       "       [-0.9383975 ,  0.28118006, -1.02532046],\n",
       "       [-0.9383975 ,  0.57892202, -1.02532046],\n",
       "       [ 0.48837095,  1.88898665,  0.97530483],\n",
       "       [ 0.10789936,  0.16208328,  0.97530483],\n",
       "       [-0.55792591,  1.5019221 , -1.02532046],\n",
       "       [-1.22375118,  0.31095426, -1.02532046],\n",
       "       [-0.17745433, -0.19520707,  0.97530483],\n",
       "       [ 2.01025729,  0.19185748,  0.97530483],\n",
       "       [-0.17745433,  1.44237371, -1.02532046],\n",
       "       [ 0.20301726,  0.16208328, -1.02532046],\n",
       "       [ 0.96396043,  0.13230908, -1.02532046],\n",
       "       [ 0.20301726, -0.28452966,  0.97530483],\n",
       "       [-0.8432796 , -0.67159421,  0.97530483],\n",
       "       [-0.46280801, -1.23730393,  0.97530483],\n",
       "       [ 1.7249036 ,  1.02553496,  0.97530483],\n",
       "       [-1.69934067, -0.61204582, -1.02532046],\n",
       "       [-0.27257222,  0.22163167,  0.97530483],\n",
       "       [ 0.96396043, -0.85023939, -1.02532046],\n",
       "       [ 0.77372464,  0.13230908,  0.97530483],\n",
       "       [ 1.43954991,  2.18672861,  0.97530483],\n",
       "       [ 0.29813516,  0.31095426,  0.97530483],\n",
       "       [-0.55792591, -1.53504589, -1.02532046],\n",
       "       [ 0.01278147, -0.58227162,  0.97530483],\n",
       "       [-0.55792591,  0.90643818, -1.02532046],\n",
       "       [-1.69934067, -1.38617491,  0.97530483],\n",
       "       [-1.22375118, -1.41594911, -1.02532046],\n",
       "       [ 0.01278147,  0.0429865 , -1.02532046],\n",
       "       [-0.27257222, -1.26707813, -1.02532046],\n",
       "       [ 1.34443202,  1.32327693,  0.97530483],\n",
       "       [-0.08233643, -0.49294903, -1.02532046],\n",
       "       [-0.17745433,  0.16208328,  0.97530483],\n",
       "       [ 1.05907833, -0.13565868, -1.02532046],\n",
       "       [-0.65304381, -1.53504589, -1.02532046],\n",
       "       [-0.27257222,  0.07276069, -1.02532046],\n",
       "       [ 2.10537519,  0.40027685, -1.02532046],\n",
       "       [-1.12863329, -1.59459429, -1.02532046],\n",
       "       [ 1.05907833,  0.48959944, -1.02532046],\n",
       "       [ 0.20301726,  0.0429865 , -1.02532046],\n",
       "       [-1.88957646,  0.48959944,  0.97530483],\n",
       "       [ 0.39325305, -0.13565868, -1.02532046],\n",
       "       [ 1.05907833, -1.23730393, -1.02532046],\n",
       "       [ 0.96396043,  0.60869622, -1.02532046],\n",
       "       [ 2.01025729,  0.40027685,  0.97530483],\n",
       "       [ 1.43954991,  1.02553496,  0.97530483],\n",
       "       [ 0.86884253, -0.79069099, -1.02532046],\n",
       "       [ 0.39325305,  0.60869622,  0.97530483],\n",
       "       [ 0.10789936,  1.56147049, -1.02532046],\n",
       "       [-1.41398698, -1.23730393,  0.97530483],\n",
       "       [-1.12863329,  1.44237371,  0.97530483],\n",
       "       [-1.60422277, -1.59459429,  0.97530483],\n",
       "       [-1.03351539,  2.00808343,  0.97530483],\n",
       "       [ 0.20301726,  1.11485755, -1.02532046],\n",
       "       [ 0.77372464,  0.28118006, -1.02532046],\n",
       "       [-0.46280801, -0.85023939,  0.97530483],\n",
       "       [-0.36769012, -0.79069099,  0.97530483],\n",
       "       [ 1.53466781, -1.29685233,  0.97530483],\n",
       "       [-0.08233643,  0.28118006, -1.02532046],\n",
       "       [-1.12863329,  0.07276069,  0.97530483],\n",
       "       [ 0.39325305,  1.14463175,  0.97530483],\n",
       "       [ 0.48837095,  1.76988987, -1.02532046],\n",
       "       [-1.88957646,  0.37050265, -1.02532046],\n",
       "       [-0.8432796 ,  0.40027685,  0.97530483],\n",
       "       [ 0.86884253, -1.32662652, -1.02532046],\n",
       "       [-0.27257222,  0.16208328, -1.02532046],\n",
       "       [ 0.20301726,  0.25140587, -1.02532046],\n",
       "       [-0.08233643,  0.25140587,  0.97530483],\n",
       "       [-0.9383975 ,  0.51937363,  0.97530483],\n",
       "       [-0.7481617 ,  1.38282532,  0.97530483],\n",
       "       [-0.46280801, -0.79069099, -1.02532046],\n",
       "       [ 0.96396043, -1.17775554,  0.97530483],\n",
       "       [-0.08233643,  0.13230908, -1.02532046],\n",
       "       [-1.31886908,  0.43005104, -1.02532046],\n",
       "       [ 0.96396043, -1.08843295, -1.02532046],\n",
       "       [ 0.01278147,  0.31095426,  0.97530483],\n",
       "       [-1.41398698, -0.19520707, -1.02532046],\n",
       "       [ 1.24931412,  2.2760512 ,  0.97530483],\n",
       "       [ 1.8200215 , -1.29685233,  0.97530483],\n",
       "       [ 0.29813516, -1.17775554,  0.97530483],\n",
       "       [-1.60422277,  0.07276069, -1.02532046],\n",
       "       [-0.27257222, -0.37385225,  0.97530483],\n",
       "       [ 0.96396043,  1.82943826,  0.97530483],\n",
       "       [ 1.91513939,  0.7575672 ,  0.97530483],\n",
       "       [ 0.96396043,  2.03785763,  0.97530483],\n",
       "       [ 1.8200215 , -1.08843295,  0.97530483],\n",
       "       [-0.65304381, -1.05865876,  0.97530483],\n",
       "       [ 1.43954991, -1.05865876,  0.97530483],\n",
       "       [-0.46280801, -0.0165619 ,  0.97530483],\n",
       "       [ 0.10789936,  0.0429865 ,  0.97530483],\n",
       "       [ 0.29813516,  0.07276069,  0.97530483],\n",
       "       [ 0.10789936,  0.28118006,  0.97530483],\n",
       "       [-1.03351539, -0.34407805, -1.02532046],\n",
       "       [-0.36769012, -1.32662652,  0.97530483],\n",
       "       [-0.46280801,  2.36537379,  0.97530483],\n",
       "       [ 0.96396043,  0.7873414 ,  0.97530483],\n",
       "       [-0.46280801, -0.55249743,  0.97530483],\n",
       "       [ 0.86884253, -0.58227162,  0.97530483],\n",
       "       [-0.7481617 ,  1.11485755, -1.02532046],\n",
       "       [ 1.15419622, -0.7609168 ,  0.97530483],\n",
       "       [-1.03351539,  0.7873414 ,  0.97530483],\n",
       "       [ 0.10789936, -0.25475546,  0.97530483],\n",
       "       [-1.31886908, -0.43340064, -1.02532046],\n",
       "       [-0.65304381,  0.13230908, -1.02532046],\n",
       "       [-1.31886908, -0.34407805, -1.02532046],\n",
       "       [ 0.29813516,  0.0429865 ,  0.97530483],\n",
       "       [ 0.86884253, -0.67159421,  0.97530483],\n",
       "       [-0.9383975 ,  0.43005104,  0.97530483],\n",
       "       [ 0.86884253, -1.17775554,  0.97530483],\n",
       "       [-0.7481617 ,  0.31095426, -1.02532046],\n",
       "       [-0.08233643, -0.43340064, -1.02532046],\n",
       "       [ 1.91513939,  0.93621238,  0.97530483],\n",
       "       [-0.55792591,  2.39514798,  0.97530483],\n",
       "       [ 0.20301726,  2.15695441,  0.97530483],\n",
       "       [-1.12863329, -1.17775554, -1.02532046],\n",
       "       [ 0.01278147, -0.25475546, -1.02532046],\n",
       "       [ 0.10789936, -0.82046519, -1.02532046],\n",
       "       [ 0.20301726,  0.07276069,  0.97530483],\n",
       "       [-1.22375118, -1.08843295, -1.02532046],\n",
       "       [-0.46280801,  1.29350273,  0.97530483],\n",
       "       [ 0.20301726, -0.31430386, -1.02532046],\n",
       "       [-0.9383975 , -1.11820715, -1.02532046],\n",
       "       [ 1.6297857 ,  1.79966406,  0.97530483],\n",
       "       [ 2.10537519, -1.05865876, -1.02532046]])"
      ]
     },
     "execution_count": 13,
     "metadata": {},
     "output_type": "execute_result"
    }
   ],
   "source": [
    "X_train"
   ]
  },
  {
   "cell_type": "code",
   "execution_count": 19,
   "id": "cc9a0376",
   "metadata": {
    "scrolled": false
   },
   "outputs": [
    {
     "data": {
      "text/html": [
       "<style>#sk-container-id-2 {color: black;background-color: white;}#sk-container-id-2 pre{padding: 0;}#sk-container-id-2 div.sk-toggleable {background-color: white;}#sk-container-id-2 label.sk-toggleable__label {cursor: pointer;display: block;width: 100%;margin-bottom: 0;padding: 0.3em;box-sizing: border-box;text-align: center;}#sk-container-id-2 label.sk-toggleable__label-arrow:before {content: \"▸\";float: left;margin-right: 0.25em;color: #696969;}#sk-container-id-2 label.sk-toggleable__label-arrow:hover:before {color: black;}#sk-container-id-2 div.sk-estimator:hover label.sk-toggleable__label-arrow:before {color: black;}#sk-container-id-2 div.sk-toggleable__content {max-height: 0;max-width: 0;overflow: hidden;text-align: left;background-color: #f0f8ff;}#sk-container-id-2 div.sk-toggleable__content pre {margin: 0.2em;color: black;border-radius: 0.25em;background-color: #f0f8ff;}#sk-container-id-2 input.sk-toggleable__control:checked~div.sk-toggleable__content {max-height: 200px;max-width: 100%;overflow: auto;}#sk-container-id-2 input.sk-toggleable__control:checked~label.sk-toggleable__label-arrow:before {content: \"▾\";}#sk-container-id-2 div.sk-estimator input.sk-toggleable__control:checked~label.sk-toggleable__label {background-color: #d4ebff;}#sk-container-id-2 div.sk-label input.sk-toggleable__control:checked~label.sk-toggleable__label {background-color: #d4ebff;}#sk-container-id-2 input.sk-hidden--visually {border: 0;clip: rect(1px 1px 1px 1px);clip: rect(1px, 1px, 1px, 1px);height: 1px;margin: -1px;overflow: hidden;padding: 0;position: absolute;width: 1px;}#sk-container-id-2 div.sk-estimator {font-family: monospace;background-color: #f0f8ff;border: 1px dotted black;border-radius: 0.25em;box-sizing: border-box;margin-bottom: 0.5em;}#sk-container-id-2 div.sk-estimator:hover {background-color: #d4ebff;}#sk-container-id-2 div.sk-parallel-item::after {content: \"\";width: 100%;border-bottom: 1px solid gray;flex-grow: 1;}#sk-container-id-2 div.sk-label:hover label.sk-toggleable__label {background-color: #d4ebff;}#sk-container-id-2 div.sk-serial::before {content: \"\";position: absolute;border-left: 1px solid gray;box-sizing: border-box;top: 0;bottom: 0;left: 50%;z-index: 0;}#sk-container-id-2 div.sk-serial {display: flex;flex-direction: column;align-items: center;background-color: white;padding-right: 0.2em;padding-left: 0.2em;position: relative;}#sk-container-id-2 div.sk-item {position: relative;z-index: 1;}#sk-container-id-2 div.sk-parallel {display: flex;align-items: stretch;justify-content: center;background-color: white;position: relative;}#sk-container-id-2 div.sk-item::before, #sk-container-id-2 div.sk-parallel-item::before {content: \"\";position: absolute;border-left: 1px solid gray;box-sizing: border-box;top: 0;bottom: 0;left: 50%;z-index: -1;}#sk-container-id-2 div.sk-parallel-item {display: flex;flex-direction: column;z-index: 1;position: relative;background-color: white;}#sk-container-id-2 div.sk-parallel-item:first-child::after {align-self: flex-end;width: 50%;}#sk-container-id-2 div.sk-parallel-item:last-child::after {align-self: flex-start;width: 50%;}#sk-container-id-2 div.sk-parallel-item:only-child::after {width: 0;}#sk-container-id-2 div.sk-dashed-wrapped {border: 1px dashed gray;margin: 0 0.4em 0.5em 0.4em;box-sizing: border-box;padding-bottom: 0.4em;background-color: white;}#sk-container-id-2 div.sk-label label {font-family: monospace;font-weight: bold;display: inline-block;line-height: 1.2em;}#sk-container-id-2 div.sk-label-container {text-align: center;}#sk-container-id-2 div.sk-container {/* jupyter's `normalize.less` sets `[hidden] { display: none; }` but bootstrap.min.css set `[hidden] { display: none !important; }` so we also need the `!important` here to be able to override the default hidden behavior on the sphinx rendered scikit-learn.org. See: https://github.com/scikit-learn/scikit-learn/issues/21755 */display: inline-block !important;position: relative;}#sk-container-id-2 div.sk-text-repr-fallback {display: none;}</style><div id=\"sk-container-id-2\" class=\"sk-top-container\"><div class=\"sk-text-repr-fallback\"><pre>LogisticRegression(random_state=0)</pre><b>In a Jupyter environment, please rerun this cell to show the HTML representation or trust the notebook. <br />On GitHub, the HTML representation is unable to render, please try loading this page with nbviewer.org.</b></div><div class=\"sk-container\" hidden><div class=\"sk-item\"><div class=\"sk-estimator sk-toggleable\"><input class=\"sk-toggleable__control sk-hidden--visually\" id=\"sk-estimator-id-2\" type=\"checkbox\" checked><label for=\"sk-estimator-id-2\" class=\"sk-toggleable__label sk-toggleable__label-arrow\">LogisticRegression</label><div class=\"sk-toggleable__content\"><pre>LogisticRegression(random_state=0)</pre></div></div></div></div></div>"
      ],
      "text/plain": [
       "LogisticRegression(random_state=0)"
      ]
     },
     "execution_count": 19,
     "metadata": {},
     "output_type": "execute_result"
    }
   ],
   "source": [
    "from sklearn.linear_model import LogisticRegression\n",
    "log_reg = LogisticRegression(random_state = 0)\n",
    "log_reg.fit(X_train, y_train) "
   ]
  },
  {
   "cell_type": "code",
   "execution_count": 15,
   "id": "06f64c34",
   "metadata": {
    "scrolled": true
   },
   "outputs": [
    {
     "name": "stdout",
     "output_type": "stream",
     "text": [
      "[[48  5]\n",
      " [ 6 21]]\n"
     ]
    },
    {
     "data": {
      "text/plain": [
       "0.8625"
      ]
     },
     "execution_count": 15,
     "metadata": {},
     "output_type": "execute_result"
    }
   ],
   "source": [
    "from sklearn.metrics import confusion_matrix, accuracy_score\n",
    "y_pred = log_reg.predict(X_test)\n",
    "cm = confusion_matrix(y_test, y_pred)\n",
    "print(cm)\n",
    "accuracy_score(y_test, y_pred)"
   ]
  },
  {
   "cell_type": "markdown",
   "id": "9ff95b22",
   "metadata": {},
   "source": [
    "# with nive bayes"
   ]
  },
  {
   "cell_type": "code",
   "execution_count": 16,
   "id": "7a8ea1e4",
   "metadata": {},
   "outputs": [],
   "source": [
    "from sklearn.naive_bayes import GaussianNB\n",
    "GNB = GaussianNB()\n",
    "GNB.fit(X_train,y_train)\n",
    "y_pred_GNB = GNB.predict(X_test)"
   ]
  },
  {
   "cell_type": "code",
   "execution_count": 17,
   "id": "add9eba4",
   "metadata": {},
   "outputs": [
    {
     "data": {
      "text/plain": [
       "array([1, 0, 0, 0, 0, 0, 0, 0, 0, 0, 1, 0, 0, 0, 0, 0, 1, 0, 0, 0, 1, 0,\n",
       "       1, 0, 0, 0, 0, 1, 1, 0, 1, 0, 1, 0, 0, 0, 0, 0, 0, 0, 1, 0, 1, 0,\n",
       "       0, 1, 0, 0, 1, 1, 1, 0, 0, 0, 0, 0, 1, 1, 1, 0, 0, 1, 0, 0, 0, 1,\n",
       "       0, 0, 1, 1, 1, 1, 0, 1, 0, 0, 0, 0, 0, 1], dtype=int64)"
      ]
     },
     "execution_count": 17,
     "metadata": {},
     "output_type": "execute_result"
    }
   ],
   "source": [
    "y_pred_GNB"
   ]
  },
  {
   "cell_type": "code",
   "execution_count": 18,
   "id": "2403a1d2",
   "metadata": {},
   "outputs": [
    {
     "data": {
      "text/plain": [
       "0.8875"
      ]
     },
     "execution_count": 18,
     "metadata": {},
     "output_type": "execute_result"
    }
   ],
   "source": [
    "accuracy_score(y_test,y_pred_GNB)"
   ]
  },
  {
   "cell_type": "code",
   "execution_count": 20,
   "id": "b79664ed",
   "metadata": {},
   "outputs": [],
   "source": [
    "#there is a little high accuracy for naive bayes compared to logistic regression"
   ]
  },
  {
   "cell_type": "code",
   "execution_count": null,
   "id": "91d3ca45",
   "metadata": {},
   "outputs": [],
   "source": []
  }
 ],
 "metadata": {
  "kernelspec": {
   "display_name": "Python 3 (ipykernel)",
   "language": "python",
   "name": "python3"
  },
  "language_info": {
   "codemirror_mode": {
    "name": "ipython",
    "version": 3
   },
   "file_extension": ".py",
   "mimetype": "text/x-python",
   "name": "python",
   "nbconvert_exporter": "python",
   "pygments_lexer": "ipython3",
   "version": "3.9.12"
  }
 },
 "nbformat": 4,
 "nbformat_minor": 5
}
