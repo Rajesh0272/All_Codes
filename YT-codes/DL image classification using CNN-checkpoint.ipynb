{
 "cells": [
  {
   "cell_type": "code",
   "execution_count": 1,
   "id": "66ec5b85",
   "metadata": {},
   "outputs": [],
   "source": [
    "import pandas as pd \n",
    "import numpy as np\n",
    "import matplotlib.pyplot as plt\n",
    "import tensorflow as tf\n",
    "from tensorflow import keras\n",
    "from tensorflow.keras import datasets , layers , models"
   ]
  },
  {
   "cell_type": "code",
   "execution_count": 2,
   "id": "42660c5b",
   "metadata": {},
   "outputs": [],
   "source": [
    "(X_train, y_train) , (X_test,y_test) = tf.keras.datasets.cifar10.load_data() "
   ]
  },
  {
   "cell_type": "code",
   "execution_count": 3,
   "id": "5a04f1c5",
   "metadata": {},
   "outputs": [
    {
     "data": {
      "text/plain": [
       "(50000, 32, 32, 3)"
      ]
     },
     "execution_count": 3,
     "metadata": {},
     "output_type": "execute_result"
    }
   ],
   "source": [
    "X_train.shape"
   ]
  },
  {
   "cell_type": "code",
   "execution_count": 4,
   "id": "63d84f5c",
   "metadata": {
    "scrolled": true
   },
   "outputs": [
    {
     "data": {
      "text/plain": [
       "array([[6],\n",
       "       [9],\n",
       "       [9],\n",
       "       [4],\n",
       "       [1]], dtype=uint8)"
      ]
     },
     "execution_count": 4,
     "metadata": {},
     "output_type": "execute_result"
    }
   ],
   "source": [
    "y_train[:5]"
   ]
  },
  {
   "cell_type": "markdown",
   "id": "b0886f6b",
   "metadata": {},
   "source": [
    "for our classification report 1D array e enough not 2D array, so reshape the y_train"
   ]
  },
  {
   "cell_type": "code",
   "execution_count": 5,
   "id": "2611e94f",
   "metadata": {},
   "outputs": [],
   "source": [
    "y_train = y_train.reshape(-1,)"
   ]
  },
  {
   "cell_type": "code",
   "execution_count": 6,
   "id": "2b2800a3",
   "metadata": {},
   "outputs": [],
   "source": [
    "y_test = y_test.reshape(-1,)"
   ]
  },
  {
   "cell_type": "code",
   "execution_count": 7,
   "id": "cf86a7c7",
   "metadata": {},
   "outputs": [
    {
     "data": {
      "text/plain": [
       "array([6, 9, 9, 4, 1], dtype=uint8)"
      ]
     },
     "execution_count": 7,
     "metadata": {},
     "output_type": "execute_result"
    }
   ],
   "source": [
    "y_train[:5]"
   ]
  },
  {
   "cell_type": "code",
   "execution_count": 8,
   "id": "819a6a0d",
   "metadata": {},
   "outputs": [],
   "source": [
    "classes = [\"airplane\",\"automobile\",\"bird\",\"cat\",\"deer\",\"dog\",\"frog\",\"horse\",\"ship\",\"truck\"]"
   ]
  },
  {
   "cell_type": "markdown",
   "id": "5fa5edfe",
   "metadata": {},
   "source": [
    "lets plot some images to see what they are"
   ]
  },
  {
   "cell_type": "code",
   "execution_count": 9,
   "id": "a60a4644",
   "metadata": {},
   "outputs": [],
   "source": [
    "def plot_images (X,y,index):\n",
    "    plt.figure(figsize=(15,2))\n",
    "    plt.imshow(X[index])\n",
    "    plt.xlabel(classes[y[index]])"
   ]
  },
  {
   "cell_type": "code",
   "execution_count": 10,
   "id": "e5506137",
   "metadata": {},
   "outputs": [
    {
     "data": {
      "image/png": "[encoded data removed]",
      "text/plain": [
       "<Figure size 1080x144 with 1 Axes>"
      ]
     },
     "metadata": {
      "needs_background": "light"
     },
     "output_type": "display_data"
    }
   ],
   "source": [
    "plot_images(X_train , y_train , 0)"
   ]
  },
  {
   "cell_type": "code",
   "execution_count": 11,
   "id": "e04d0295",
   "metadata": {},
   "outputs": [
    {
     "data": {
      "image/png": "[encoded data removed]",
      "text/plain": [
       "<Figure size 1080x144 with 1 Axes>"
      ]
     },
     "metadata": {
      "needs_background": "light"
     },
     "output_type": "display_data"
    }
   ],
   "source": [
    "plot_images(X_train , y_train , 1)"
   ]
  },
  {
   "cell_type": "code",
   "execution_count": 12,
   "id": "2264435d",
   "metadata": {},
   "outputs": [
    {
     "data": {
      "image/png": "[encoded data removed]",
      "text/plain": [
       "<Figure size 1080x144 with 1 Axes>"
      ]
     },
     "metadata": {
      "needs_background": "light"
     },
     "output_type": "display_data"
    }
   ],
   "source": [
    "plot_images(X_train , y_train , 3)"
   ]
  },
  {
   "cell_type": "markdown",
   "id": "f419e3bf",
   "metadata": {},
   "source": [
    "Normalize the images to a number from 0 to 1. Image has 3 channels (R,G,B) and each value in the channel can range from 0 to 255. Hence to normalize in 0-->1 range, we need to divide it by 255"
   ]
  },
  {
   "cell_type": "code",
   "execution_count": 13,
   "id": "f950095a",
   "metadata": {},
   "outputs": [],
   "source": [
    "X_train = X_train/255.0\n",
    "X_test = X_test/255.0"
   ]
  },
  {
   "cell_type": "markdown",
   "id": "6060413d",
   "metadata": {},
   "source": [
    "# now lets us built a ANN model ans see the accuracy then do it with CNN"
   ]
  },
  {
   "cell_type": "code",
   "execution_count": 15,
   "id": "ce3531c5",
   "metadata": {},
   "outputs": [
    {
     "name": "stdout",
     "output_type": "stream",
     "text": [
      "Epoch 1/5\n",
      "1563/1563 [==============================] - 68s 43ms/step - loss: 1.8388 - accuracy: 0.3405\n",
      "Epoch 2/5\n",
      "1563/1563 [==============================] - 68s 43ms/step - loss: 1.6467 - accuracy: 0.4186\n",
      "Epoch 3/5\n",
      "1563/1563 [==============================] - 66s 43ms/step - loss: 1.5624 - accuracy: 0.4483\n",
      "Epoch 4/5\n",
      "1563/1563 [==============================] - 66s 42ms/step - loss: 1.5027 - accuracy: 0.4688\n",
      "Epoch 5/5\n",
      "1563/1563 [==============================] - 66s 42ms/step - loss: 1.4572 - accuracy: 0.4849\n"
     ]
    },
    {
     "data": {
      "text/plain": [
       "<keras.callbacks.History at 0x1ae4ce08670>"
      ]
     },
     "execution_count": 15,
     "metadata": {},
     "output_type": "execute_result"
    }
   ],
   "source": [
    "ann = models.Sequential([\n",
    "    layers.Flatten(input_shape=(32,32,3)),\n",
    "    layers.Dense(3000,activation='relu'),\n",
    "    layers.Dense(100,activation='relu'),\n",
    "    layers.Dense(10, activation='softmax')\n",
    "])\n",
    "ann.compile(optimizer='SGD',\n",
    "           loss = 'sparse_categorical_crossentropy',\n",
    "           metrics=['accuracy'])\n",
    "ann.fit(X_train,y_train,epochs=5)"
   ]
  },
  {
   "cell_type": "markdown",
   "id": "d60e8c58",
   "metadata": {},
   "source": [
    "You can see that at the end of 5 epochs, accuracy is at around 49%"
   ]
  },
  {
   "cell_type": "code",
   "execution_count": 16,
   "id": "4acf2dd2",
   "metadata": {},
   "outputs": [
    {
     "name": "stdout",
     "output_type": "stream",
     "text": [
      "313/313 [==============================] - 5s 15ms/step\n",
      "classification report : \n",
      "               precision    recall  f1-score   support\n",
      "\n",
      "           0       0.55      0.56      0.56      1000\n",
      "           1       0.46      0.77      0.57      1000\n",
      "           2       0.46      0.23      0.30      1000\n",
      "           3       0.43      0.16      0.23      1000\n",
      "           4       0.47      0.35      0.40      1000\n",
      "           5       0.31      0.53      0.39      1000\n",
      "           6       0.52      0.56      0.54      1000\n",
      "           7       0.52      0.56      0.54      1000\n",
      "           8       0.79      0.31      0.45      1000\n",
      "           9       0.43      0.61      0.50      1000\n",
      "\n",
      "    accuracy                           0.46     10000\n",
      "   macro avg       0.49      0.46      0.45     10000\n",
      "weighted avg       0.49      0.46      0.45     10000\n",
      "\n"
     ]
    }
   ],
   "source": [
    "from sklearn.metrics import classification_report , confusion_matrix\n",
    "y_pred= ann.predict(X_test)\n",
    "y_pred_classes = [np.argmax(element) for element in y_pred]\n",
    "print('classification report : \\n', classification_report(y_test, y_pred_classes))"
   ]
  },
  {
   "cell_type": "markdown",
   "id": "3ed586f6",
   "metadata": {},
   "source": [
    "# Now let us build a convolutional neural network to train our images CNN"
   ]
  },
  {
   "cell_type": "code",
   "execution_count": 17,
   "id": "ed01c780",
   "metadata": {},
   "outputs": [],
   "source": [
    "CNN = models.Sequential([\n",
    "    layers.Conv2D(filters=32 , kernel_size=(3,3) , activation='relu' , input_shape=(32,32,3)),\n",
    "    layers.MaxPool2D(2,2),\n",
    "    layers.Conv2D(filters=64 , kernel_size=(3,3) , activation='relu'),\n",
    "    layers.MaxPool2D(2,2),\n",
    "    \n",
    "    layers.Flatten(),\n",
    "    layers.Dense(64 , activation='relu'),\n",
    "    layers.Dense(10 , activation='softmax')\n",
    "])"
   ]
  },
  {
   "cell_type": "code",
   "execution_count": 18,
   "id": "708cfb44",
   "metadata": {},
   "outputs": [],
   "source": [
    "CNN.compile(optimizer='adam',\n",
    "           loss='sparse_categorical_crossentropy',\n",
    "           metrics=['accuracy'])"
   ]
  },
  {
   "cell_type": "code",
   "execution_count": 19,
   "id": "d7ccb7ba",
   "metadata": {},
   "outputs": [
    {
     "name": "stdout",
     "output_type": "stream",
     "text": [
      "Epoch 1/10\n",
      "1563/1563 [==============================] - 51s 31ms/step - loss: 1.5165 - accuracy: 0.4546\n",
      "Epoch 2/10\n",
      "1563/1563 [==============================] - 50s 32ms/step - loss: 1.1430 - accuracy: 0.5967\n",
      "Epoch 3/10\n",
      "1563/1563 [==============================] - 51s 32ms/step - loss: 1.0074 - accuracy: 0.6509\n",
      "Epoch 4/10\n",
      "1563/1563 [==============================] - 50s 32ms/step - loss: 0.9302 - accuracy: 0.6770\n",
      "Epoch 5/10\n",
      "1563/1563 [==============================] - 51s 33ms/step - loss: 0.8672 - accuracy: 0.6990\n",
      "Epoch 6/10\n",
      "1563/1563 [==============================] - 51s 33ms/step - loss: 0.8171 - accuracy: 0.7162\n",
      "Epoch 7/10\n",
      "1563/1563 [==============================] - 52s 33ms/step - loss: 0.7740 - accuracy: 0.7319\n",
      "Epoch 8/10\n",
      "1563/1563 [==============================] - 53s 34ms/step - loss: 0.7320 - accuracy: 0.7462\n",
      "Epoch 9/10\n",
      "1563/1563 [==============================] - 52s 34ms/step - loss: 0.6973 - accuracy: 0.7584\n",
      "Epoch 10/10\n",
      "1563/1563 [==============================] - 51s 33ms/step - loss: 0.6650 - accuracy: 0.7704\n"
     ]
    },
    {
     "data": {
      "text/plain": [
       "<keras.callbacks.History at 0x1ae4ec0ff40>"
      ]
     },
     "execution_count": 19,
     "metadata": {},
     "output_type": "execute_result"
    }
   ],
   "source": [
    "CNN.fit(X_train,y_train,epochs=10)"
   ]
  },
  {
   "cell_type": "markdown",
   "id": "92fdb778",
   "metadata": {},
   "source": [
    "With CNN, at the end 5 epochs, accuracy was at around 70% which is a significant improvement over ANN. CNN's are best for image classification and gives superb accuracy. Also computation is much less compared to simple ANN as maxpooling reduces the image dimensions while still preserving the features"
   ]
  },
  {
   "cell_type": "code",
   "execution_count": 20,
   "id": "afe1d58b",
   "metadata": {},
   "outputs": [
    {
     "name": "stdout",
     "output_type": "stream",
     "text": [
      "313/313 [==============================] - 6s 15ms/step - loss: 0.8975 - accuracy: 0.7006\n"
     ]
    },
    {
     "data": {
      "text/plain": [
       "[0.8974992036819458, 0.7006000280380249]"
      ]
     },
     "execution_count": 20,
     "metadata": {},
     "output_type": "execute_result"
    }
   ],
   "source": [
    "CNN.evaluate(X_test,y_test)"
   ]
  },
  {
   "cell_type": "code",
   "execution_count": 21,
   "id": "47011971",
   "metadata": {},
   "outputs": [
    {
     "name": "stdout",
     "output_type": "stream",
     "text": [
      "313/313 [==============================] - 4s 13ms/step\n"
     ]
    }
   ],
   "source": [
    "y_pred = CNN.predict(X_test)"
   ]
  },
  {
   "cell_type": "code",
   "execution_count": 22,
   "id": "bb081773",
   "metadata": {},
   "outputs": [
    {
     "data": {
      "text/plain": [
       "array([[4.53036884e-03, 6.43348321e-04, 2.90516275e-03, 1.55065373e-01,\n",
       "        5.93140212e-05, 9.48513206e-03, 2.48956401e-03, 1.05144736e-05,\n",
       "        8.24172556e-01, 6.38716214e-04],\n",
       "       [1.99443083e-02, 4.00200188e-01, 5.83586458e-04, 4.92740901e-06,\n",
       "        5.96598454e-07, 3.21432765e-07, 1.09885914e-08, 1.62327560e-05,\n",
       "        5.74566185e-01, 4.68364172e-03],\n",
       "       [2.23249525e-01, 7.71619678e-02, 8.52073636e-03, 6.50361553e-03,\n",
       "        6.45581400e-04, 7.92181701e-04, 1.09609871e-04, 6.84274286e-02,\n",
       "        5.91370881e-01, 2.32184064e-02],\n",
       "       [9.78120983e-01, 1.37108995e-03, 2.27879221e-03, 1.12962762e-05,\n",
       "        1.05603613e-05, 8.70521319e-07, 8.64517915e-06, 3.00607525e-07,\n",
       "        1.81939639e-02, 3.42415683e-06],\n",
       "       [2.80447348e-05, 1.22797178e-06, 2.74236910e-02, 8.65766332e-02,\n",
       "        5.23468196e-01, 3.25998594e-03, 3.59204292e-01, 1.85406989e-05,\n",
       "        1.49258285e-05, 4.56818088e-06]], dtype=float32)"
      ]
     },
     "execution_count": 22,
     "metadata": {},
     "output_type": "execute_result"
    }
   ],
   "source": [
    "y_pred[:5]"
   ]
  },
  {
   "cell_type": "code",
   "execution_count": 23,
   "id": "4eb0124f",
   "metadata": {},
   "outputs": [
    {
     "data": {
      "text/plain": [
       "[8, 8, 8, 0, 4]"
      ]
     },
     "execution_count": 23,
     "metadata": {},
     "output_type": "execute_result"
    }
   ],
   "source": [
    "y_classes = [np.argmax(ele) for ele in y_pred]\n",
    "y_classes[:5]"
   ]
  },
  {
   "cell_type": "code",
   "execution_count": 24,
   "id": "fefaf461",
   "metadata": {},
   "outputs": [
    {
     "data": {
      "text/plain": [
       "array([3, 8, 8, 0, 6], dtype=uint8)"
      ]
     },
     "execution_count": 24,
     "metadata": {},
     "output_type": "execute_result"
    }
   ],
   "source": [
    "y_test[:5]"
   ]
  },
  {
   "cell_type": "code",
   "execution_count": 25,
   "id": "62d50374",
   "metadata": {},
   "outputs": [
    {
     "data": {
      "image/png": "[encoded data removed]",
      "text/plain": [
       "<Figure size 1080x144 with 1 Axes>"
      ]
     },
     "metadata": {
      "needs_background": "light"
     },
     "output_type": "display_data"
    }
   ],
   "source": [
    "plot_images(X_test,y_test,0)"
   ]
  },
  {
   "cell_type": "code",
   "execution_count": 26,
   "id": "277d8204",
   "metadata": {},
   "outputs": [
    {
     "data": {
      "text/plain": [
       "'ship'"
      ]
     },
     "execution_count": 26,
     "metadata": {},
     "output_type": "execute_result"
    }
   ],
   "source": [
    "classes[y_classes[0]]"
   ]
  },
  {
   "cell_type": "code",
   "execution_count": 27,
   "id": "05d44006",
   "metadata": {},
   "outputs": [
    {
     "data": {
      "image/png": "[encoded data removed]",
      "text/plain": [
       "<Figure size 1080x144 with 1 Axes>"
      ]
     },
     "metadata": {
      "needs_background": "light"
     },
     "output_type": "display_data"
    }
   ],
   "source": [
    "plot_images(X_test,y_test,1)"
   ]
  },
  {
   "cell_type": "code",
   "execution_count": 28,
   "id": "4cee8609",
   "metadata": {},
   "outputs": [
    {
     "data": {
      "text/plain": [
       "'ship'"
      ]
     },
     "execution_count": 28,
     "metadata": {},
     "output_type": "execute_result"
    }
   ],
   "source": [
    "classes[y_classes[1]]"
   ]
  },
  {
   "cell_type": "code",
   "execution_count": 29,
   "id": "fcfdd5cf",
   "metadata": {},
   "outputs": [
    {
     "data": {
      "image/png": "[encoded data removed]",
      "text/plain": [
       "<Figure size 1080x144 with 1 Axes>"
      ]
     },
     "metadata": {
      "needs_background": "light"
     },
     "output_type": "display_data"
    }
   ],
   "source": [
    "plot_images(X_test,y_test,2)"
   ]
  },
  {
   "cell_type": "code",
   "execution_count": 30,
   "id": "fbc2ce4a",
   "metadata": {},
   "outputs": [
    {
     "data": {
      "text/plain": [
       "'ship'"
      ]
     },
     "execution_count": 30,
     "metadata": {},
     "output_type": "execute_result"
    }
   ],
   "source": [
    "classes[y_classes[2]]"
   ]
  },
  {
   "cell_type": "markdown",
   "id": "3c61558d",
   "metadata": {},
   "source": [
    "Exercise : \n",
    "Use CNN to do handwritten digits classification using MNIST dataset. You can use this notebook as a reference: https://github.com/codebasics/deep-learning-keras-tf-tutorial/blob/main/1_digits_recognition/digits_recognition_neural_network.ipynb\n",
    "\n",
    "Above we used ANN for digits classification. You need to modify this code to use CNN instead. Check how accuracy improves fast with CNN and figure out how CNN can be a better choice for doing image classification compared to ANN. Once you have worked on this problem on your own, you can check my solution by clicking on this link: Solution"
   ]
  },
  {
   "cell_type": "code",
   "execution_count": null,
   "id": "747db715",
   "metadata": {},
   "outputs": [],
   "source": []
  },
  {
   "cell_type": "code",
   "execution_count": null,
   "id": "480d31bb",
   "metadata": {},
   "outputs": [],
   "source": []
  },
  {
   "cell_type": "code",
   "execution_count": null,
   "id": "afd58956",
   "metadata": {},
   "outputs": [],
   "source": []
  }
 ],
 "metadata": {
  "kernelspec": {
   "display_name": "Python 3 (ipykernel)",
   "language": "python",
   "name": "python3"
  },
  "language_info": {
   "codemirror_mode": {
    "name": "ipython",
    "version": 3
   },
   "file_extension": ".py",
   "mimetype": "text/x-python",
   "name": "python",
   "nbconvert_exporter": "python",
   "pygments_lexer": "ipython3",
   "version": "3.9.12"
  }
 },
 "nbformat": 4,
 "nbformat_minor": 5
}
