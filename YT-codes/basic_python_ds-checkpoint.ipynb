{
 "cells": [
  {
   "cell_type": "code",
   "execution_count": 2,
   "id": "ea1f0941",
   "metadata": {},
   "outputs": [
    {
     "name": "stdout",
     "output_type": "stream",
     "text": [
      "enter a value; 24567\n",
      "24567\n",
      "<class 'int'>\n"
     ]
    }
   ],
   "source": [
    "a=int(input('enter a value; '))\n",
    "print(a)\n",
    "print(type(a))\n"
   ]
  },
  {
   "cell_type": "code",
   "execution_count": 3,
   "id": "098750c9",
   "metadata": {},
   "outputs": [
    {
     "name": "stdout",
     "output_type": "stream",
     "text": [
      "the given number is ; 24567\n"
     ]
    }
   ],
   "source": [
    "print('the given number is ;' , a)"
   ]
  },
  {
   "cell_type": "code",
   "execution_count": 5,
   "id": "8f0f4915",
   "metadata": {},
   "outputs": [
    {
     "name": "stdout",
     "output_type": "stream",
     "text": [
      "<class 'str'>\n"
     ]
    }
   ],
   "source": [
    "a='h'\n",
    "print(type(a))"
   ]
  },
  {
   "cell_type": "code",
   "execution_count": 40,
   "id": "555780e8",
   "metadata": {},
   "outputs": [
    {
     "name": "stdout",
     "output_type": "stream",
     "text": [
      "5\n",
      "[4, 6, 82]\n",
      "[4, 6, 82, 4, 67, 'sfadsjf']\n"
     ]
    }
   ],
   "source": [
    "a=[4,6,82,4,67]\n",
    "print(len(a))\n",
    "print(a[:3])\n",
    "print(a+['sfadsjf'])"
   ]
  },
  {
   "cell_type": "code",
   "execution_count": 14,
   "id": "398f1542",
   "metadata": {},
   "outputs": [
    {
     "name": "stdout",
     "output_type": "stream",
     "text": [
      "[82, 4, 67]\n"
     ]
    }
   ],
   "source": [
    "print(a[2:])"
   ]
  },
  {
   "cell_type": "code",
   "execution_count": 15,
   "id": "9ee03d5c",
   "metadata": {},
   "outputs": [
    {
     "name": "stdout",
     "output_type": "stream",
     "text": [
      "[82, 4, 67]\n"
     ]
    }
   ],
   "source": [
    "print(a[2:6])"
   ]
  },
  {
   "cell_type": "code",
   "execution_count": 17,
   "id": "2e1ba48a",
   "metadata": {},
   "outputs": [
    {
     "name": "stdout",
     "output_type": "stream",
     "text": [
      "<class 'dict'>\n",
      "{'name': 'rajesh', 'gender': 'male', 'age': 22, 'location': 'ap'}\n"
     ]
    }
   ],
   "source": [
    "r={'name':'rajesh','gender': 'male','age':22, 'location':'ap'}\n",
    "print(type(r))\n",
    "print(r)"
   ]
  },
  {
   "cell_type": "code",
   "execution_count": 18,
   "id": "48a4f532",
   "metadata": {},
   "outputs": [
    {
     "name": "stdout",
     "output_type": "stream",
     "text": [
      "4\n"
     ]
    }
   ],
   "source": [
    "print(len(r))"
   ]
  },
  {
   "cell_type": "code",
   "execution_count": 20,
   "id": "59650674",
   "metadata": {},
   "outputs": [
    {
     "name": "stdout",
     "output_type": "stream",
     "text": [
      "{'rajesh': [1, 2, 3, 44], 'vamsi': [4, 3, 21]}\n"
     ]
    }
   ],
   "source": [
    "ra={'rajesh':[1,2,3,44],'vamsi':[4,3,21]}\n",
    "print(ra)"
   ]
  },
  {
   "cell_type": "code",
   "execution_count": 27,
   "id": "bd946342",
   "metadata": {},
   "outputs": [
    {
     "name": "stdout",
     "output_type": "stream",
     "text": [
      "[1, 2, 3, 44]\n",
      "[4, 3, 21]\n"
     ]
    },
    {
     "data": {
      "text/plain": [
       "(None, None)"
      ]
     },
     "execution_count": 27,
     "metadata": {},
     "output_type": "execute_result"
    }
   ],
   "source": [
    "print(ra['rajesh']),print(ra['vamsi'])"
   ]
  },
  {
   "cell_type": "code",
   "execution_count": 28,
   "id": "687a8663",
   "metadata": {},
   "outputs": [
    {
     "name": "stdout",
     "output_type": "stream",
     "text": [
      "<class 'list'>\n"
     ]
    }
   ],
   "source": [
    "print(type(ra['vamsi']))"
   ]
  },
  {
   "cell_type": "code",
   "execution_count": 32,
   "id": "54e07e01",
   "metadata": {},
   "outputs": [
    {
     "name": "stdout",
     "output_type": "stream",
     "text": [
      "<class 'list'>\n"
     ]
    }
   ],
   "source": [
    "raj=[{'a':1},{'b':2},{'c':3}]\n",
    "print(type(raj))"
   ]
  },
  {
   "cell_type": "code",
   "execution_count": 36,
   "id": "38ad924f",
   "metadata": {},
   "outputs": [
    {
     "name": "stdout",
     "output_type": "stream",
     "text": [
      "(4, 6, 5, 4)\n"
     ]
    }
   ],
   "source": [
    "a=4,6,5,4\n",
    "print(a)"
   ]
  },
  {
   "cell_type": "code",
   "execution_count": 41,
   "id": "7d9d0e5d",
   "metadata": {},
   "outputs": [
    {
     "name": "stdout",
     "output_type": "stream",
     "text": [
      "[1, 2, 34, 5, 4, 3, 5, 2]\n"
     ]
    }
   ],
   "source": [
    "a=[1,2,34,5]\n",
    "b=[4,3,5,2]\n",
    "print(a+b)"
   ]
  },
  {
   "cell_type": "code",
   "execution_count": 43,
   "id": "3f97f62c",
   "metadata": {},
   "outputs": [
    {
     "name": "stdout",
     "output_type": "stream",
     "text": [
      "9\n"
     ]
    }
   ],
   "source": [
    "c=7\n",
    "d=2\n",
    "print(c+d)"
   ]
  },
  {
   "cell_type": "code",
   "execution_count": 44,
   "id": "b89d637e",
   "metadata": {},
   "outputs": [
    {
     "name": "stdout",
     "output_type": "stream",
     "text": [
      "5\n"
     ]
    }
   ],
   "source": [
    "print(c-d)"
   ]
  },
  {
   "cell_type": "code",
   "execution_count": 45,
   "id": "3a418088",
   "metadata": {},
   "outputs": [
    {
     "name": "stdout",
     "output_type": "stream",
     "text": [
      "14\n"
     ]
    }
   ],
   "source": [
    "print(c*d)"
   ]
  },
  {
   "cell_type": "code",
   "execution_count": 46,
   "id": "f56a24fa",
   "metadata": {},
   "outputs": [
    {
     "name": "stdout",
     "output_type": "stream",
     "text": [
      "3.5\n"
     ]
    }
   ],
   "source": [
    "print(c/d)"
   ]
  },
  {
   "cell_type": "code",
   "execution_count": 47,
   "id": "a1bd75a0",
   "metadata": {},
   "outputs": [
    {
     "name": "stdout",
     "output_type": "stream",
     "text": [
      "1\n"
     ]
    }
   ],
   "source": [
    "print(c%d)"
   ]
  },
  {
   "cell_type": "code",
   "execution_count": 48,
   "id": "ff431143",
   "metadata": {},
   "outputs": [
    {
     "name": "stdout",
     "output_type": "stream",
     "text": [
      "3\n"
     ]
    }
   ],
   "source": [
    "print(c//d)"
   ]
  },
  {
   "cell_type": "code",
   "execution_count": null,
   "id": "ddfdca44",
   "metadata": {},
   "outputs": [],
   "source": []
  }
 ],
 "metadata": {
  "kernelspec": {
   "display_name": "Python 3 (ipykernel)",
   "language": "python",
   "name": "python3"
  },
  "language_info": {
   "codemirror_mode": {
    "name": "ipython",
    "version": 3
   },
   "file_extension": ".py",
   "mimetype": "text/x-python",
   "name": "python",
   "nbconvert_exporter": "python",
   "pygments_lexer": "ipython3",
   "version": "3.10.4"
  }
 },
 "nbformat": 4,
 "nbformat_minor": 5
}
