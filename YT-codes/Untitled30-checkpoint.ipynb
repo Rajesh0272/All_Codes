{
 "cells": [
  {
   "cell_type": "code",
   "execution_count": 11,
   "id": "b480434d",
   "metadata": {},
   "outputs": [
    {
     "name": "stdout",
     "output_type": "stream",
     "text": [
      "enter 1st number : 56\n",
      "enter 2nd number : 56\n",
      "Both are equal\n"
     ]
    }
   ],
   "source": [
    "a=int(input('enter 1st number : '))\n",
    "b=int(input('enter 2nd number : '))\n",
    "if a>b:\n",
    "    print(a,'is greater than',b)\n",
    "elif a<b:\n",
    "    print(a,'is less than',b)\n",
    "else:\n",
    "    print('Both are equal')"
   ]
  },
  {
   "cell_type": "code",
   "execution_count": 14,
   "id": "9cf6f2be",
   "metadata": {},
   "outputs": [
    {
     "name": "stdout",
     "output_type": "stream",
     "text": [
      "enter number : 1\n",
      "1\n"
     ]
    }
   ],
   "source": [
    "num = int(input('enter number : '))\n",
    "a,b=0,1\n",
    "c=0\n",
    "if num<0:\n",
    "    print('it an invalid num')\n",
    "elif num==0:\n",
    "    print(0)\n",
    "elif num==1 or num==2:\n",
    "    print(1)\n",
    "else:\n",
    "    print('Fibonacci sequence is ')\n",
    "    while c<num:\n",
    "        print(a,end=' ')\n",
    "        tem = a+b\n",
    "        a=b\n",
    "        b=tem\n",
    "        c+=1\n",
    "    \n",
    "    "
   ]
  },
  {
   "cell_type": "code",
   "execution_count": 12,
   "id": "987448ac",
   "metadata": {},
   "outputs": [
    {
     "name": "stdout",
     "output_type": "stream",
     "text": [
      "enter value to be multiplied 5\n",
      "enter end values 10\n",
      "5 * 1 = 5\n",
      "5 * 2 = 10\n",
      "5 * 3 = 15\n",
      "5 * 4 = 20\n",
      "5 * 5 = 25\n",
      "5 * 6 = 30\n",
      "5 * 7 = 35\n",
      "5 * 8 = 40\n",
      "5 * 9 = 45\n",
      "5 * 10 = 50\n"
     ]
    }
   ],
   "source": [
    "a=int(input('enter value to be multiplied '))\n",
    "b=int(input('enter end values '))\n",
    "for i in range(1,b+1):\n",
    "    print(a,'*',i,'=',a*i)"
   ]
  },
  {
   "cell_type": "code",
   "execution_count": 4,
   "id": "5ce6daa1",
   "metadata": {},
   "outputs": [
    {
     "name": "stdout",
     "output_type": "stream",
     "text": [
      "enter values with comma seperated34,23,52,43\n",
      "sum of all the values =  152\n",
      "mean of all the values =  38.0\n"
     ]
    }
   ],
   "source": [
    "values=input('enter values with comma seperated')\n",
    "b=values.split(',')\n",
    "l=[int(i) for i in b]\n",
    "print('sum of all the values = ',sum(l))\n",
    "print('mean of all the values = ',sum(l)/len(l))"
   ]
  },
  {
   "cell_type": "code",
   "execution_count": 5,
   "id": "cc84a76d",
   "metadata": {},
   "outputs": [
    {
     "name": "stdout",
     "output_type": "stream",
     "text": [
      "enter num to check palindrome : 56565\n",
      "56565 is a palindrome number\n"
     ]
    }
   ],
   "source": [
    "num = int(input('enter num to check palindrome : '))\n",
    "num_str = str(num)\n",
    "if num_str==num_str[::-1]:\n",
    "    print(num,'is a palindrome number')\n",
    "else:\n",
    "    print(num,'is not a palindrome number')"
   ]
  },
  {
   "cell_type": "code",
   "execution_count": 6,
   "id": "b2736225",
   "metadata": {},
   "outputs": [
    {
     "name": "stdout",
     "output_type": "stream",
     "text": [
      "enter number : 45632\n",
      "sum of digits of a number is =  20\n"
     ]
    }
   ],
   "source": [
    "num=int(input('enter number : '))\n",
    "num_str=str(num)\n",
    "l=[int(i) for i in num_str]\n",
    "print('sum of digits of a number is = ',sum(l))"
   ]
  },
  {
   "cell_type": "code",
   "execution_count": 7,
   "id": "77bc9c66",
   "metadata": {},
   "outputs": [
    {
     "name": "stdout",
     "output_type": "stream",
     "text": [
      "enter number : 4532\n",
      "reversed number =  2354\n"
     ]
    }
   ],
   "source": [
    "num = int(input('enter number : '))\n",
    "num_reverse=0\n",
    "while num !=0:\n",
    "    carry = num % 10\n",
    "    num_reverse = num_reverse * 10 + carry\n",
    "    num = num//10\n",
    "print('reversed number = ',num_reverse)"
   ]
  },
  {
   "cell_type": "code",
   "execution_count": 8,
   "id": "c7edd316",
   "metadata": {},
   "outputs": [
    {
     "name": "stdout",
     "output_type": "stream",
     "text": [
      "enter number : 34523132\n",
      "three four five two three one three two "
     ]
    }
   ],
   "source": [
    "num = int(input('enter number : '))\n",
    "l=[\"zero\", \"one\", \"two\", \"three\", \"four\",\"five\", \"six\", \"seven\", \"eight\", \"nine\"]\n",
    "num_str = str(num)\n",
    "for i in num_str:\n",
    "    print(l[int(i)],end=' ')"
   ]
  },
  {
   "cell_type": "code",
   "execution_count": 9,
   "id": "0ec1b253",
   "metadata": {},
   "outputs": [
    {
     "name": "stdout",
     "output_type": "stream",
     "text": [
      "enter num to check armstrong : 153\n",
      "153 is an armstrong number\n"
     ]
    }
   ],
   "source": [
    "num = int(input('enter num to check armstrong : '))\n",
    "num_org = num\n",
    "a=len(str(num))\n",
    "add=0\n",
    "while num!=0:\n",
    "    k=num % 10\n",
    "    add = add+ (k**a)\n",
    "    num//=10\n",
    "if num_org == add:\n",
    "    print(num_org,'is an armstrong number')\n",
    "else:\n",
    "    print(num_org,'is not an armstrong number')"
   ]
  },
  {
   "cell_type": "code",
   "execution_count": null,
   "id": "e080f598",
   "metadata": {},
   "outputs": [],
   "source": []
  },
  {
   "cell_type": "code",
   "execution_count": null,
   "id": "4dd7ab3b",
   "metadata": {},
   "outputs": [],
   "source": []
  },
  {
   "cell_type": "code",
   "execution_count": null,
   "id": "a24585a7",
   "metadata": {},
   "outputs": [],
   "source": []
  },
  {
   "cell_type": "code",
   "execution_count": null,
   "id": "1c8fcc47",
   "metadata": {},
   "outputs": [],
   "source": []
  },
  {
   "cell_type": "code",
   "execution_count": 16,
   "id": "aef5ac49",
   "metadata": {},
   "outputs": [
    {
     "name": "stdout",
     "output_type": "stream",
     "text": [
      "enter a value : 5\n",
      "enter b value : 4\n",
      "enter c value : 3\n",
      "The gratest number is 5\n"
     ]
    }
   ],
   "source": [
    "a=int(input('enter a value : '))\n",
    "b=int(input('enter b value : '))\n",
    "c=int(input('enter c value : '))\n",
    "if (a>b) and (a>c):\n",
    "    print('The gratest number is',a)\n",
    "elif (b>a) and (b>c):\n",
    "    print('The greatest number is',b)\n",
    "else:\n",
    "    print('The greatest number is',c)"
   ]
  },
  {
   "cell_type": "code",
   "execution_count": 24,
   "id": "828c19ba",
   "metadata": {},
   "outputs": [
    {
     "name": "stdout",
     "output_type": "stream",
     "text": [
      "enter values by comma seperated : 34,546,234,23,453,6\n",
      "The largest number = 546\n",
      "The smallest number = 6\n"
     ]
    }
   ],
   "source": [
    "x=input('enter values by comma seperated : ')\n",
    "b=[int(i) for i in x.split(',')]\n",
    "c=sorted(b)\n",
    "print('The largest number =',c[-1])\n",
    "print('The smallest number =',c[0])\n"
   ]
  },
  {
   "cell_type": "code",
   "execution_count": 26,
   "id": "4210387b",
   "metadata": {},
   "outputs": [
    {
     "name": "stdout",
     "output_type": "stream",
     "text": [
      "enter values by comma seperated : 34,546,234,23,453,6\n",
      "The 2nd largest number = 453\n",
      "The 2nd smallest number = 23\n"
     ]
    }
   ],
   "source": [
    "x=input('enter values by comma seperated : ')\n",
    "b=[int(i) for i in x.split(',')]\n",
    "c=sorted(b)\n",
    "print('The 2nd largest number =',c[-2])\n",
    "print('The 2nd smallest number =',c[1])\n"
   ]
  },
  {
   "cell_type": "code",
   "execution_count": 50,
   "id": "79d6dfac",
   "metadata": {},
   "outputs": [
    {
     "name": "stdout",
     "output_type": "stream",
     "text": [
      "enter no.of values to be entered :5\n",
      "enter value to add : adfad\n",
      "enter value to add : er\n",
      "enter value to add : 4\n",
      "enter value to add : 35\n",
      "enter value to add : fdsa\n",
      "The 2nd last values entered by the user = 35\n"
     ]
    }
   ],
   "source": [
    "n=int(input('enter no.of values to be entered :'))\n",
    "l=[]\n",
    "for i in range(n):\n",
    "    x=input('enter value to add : ')\n",
    "    l.append(x)\n",
    "print(f'{\"The 2nd last values entered by the user =\"} {l[-2]}')"
   ]
  },
  {
   "cell_type": "code",
   "execution_count": 52,
   "id": "9dad87b1",
   "metadata": {},
   "outputs": [
    {
     "name": "stdout",
     "output_type": "stream",
     "text": [
      "enter values by comma seperated : 34,546,234,23,453,6\n",
      "['34', '546', '234', '23', '453', '6']\n"
     ]
    }
   ],
   "source": [
    "x=input('enter values by comma seperated : ')\n",
    "print(x.split(','))\n",
    "for i in x.split(','):\n",
    "    print(type(i))"
   ]
  },
  {
   "cell_type": "code",
   "execution_count": 54,
   "id": "cb7c78b9",
   "metadata": {},
   "outputs": [
    {
     "name": "stdout",
     "output_type": "stream",
     "text": [
      "enter values by comma seperated : 56,34,21,90,67.75\n",
      "53.75\n",
      "Difference from mean to 56.0 = -2.25\n",
      "Difference from mean to 34.0 = 19.75\n",
      "Difference from mean to 21.0 = 32.75\n",
      "Difference from mean to 90.0 = -36.25\n",
      "Difference from mean to 67.75 = -14.0\n"
     ]
    }
   ],
   "source": [
    "\n",
    "x=input('enter values by comma seperated : ')\n",
    "b=[float(i) for i in x.split(',')]\n",
    "c=sum(b)/len(b)\n",
    "print(c)\n",
    "for i in b:\n",
    "    print(f'{\"Difference from mean to\"} {i} {\"=\"} {c-i}')"
   ]
  },
  {
   "cell_type": "code",
   "execution_count": 44,
   "id": "24d62e06",
   "metadata": {
    "scrolled": true
   },
   "outputs": [
    {
     "name": "stdout",
     "output_type": "stream",
     "text": [
      "enter values by comma seperated : 56,34,21,90,67.75\n",
      "Square difference from mean to 56.0 = 5.0625\n",
      "Square difference from mean to 34.0 = 1156.0\n",
      "Square difference from mean to 21.0 = 441.0\n",
      "Square difference from mean to 90.0 = 1314.0625\n",
      "Square difference from mean to 67.75 = 196.0\n"
     ]
    }
   ],
   "source": [
    "import numpy as np\n",
    "x=input('enter values by comma seperated : ')\n",
    "b=[int(i) for i in x.split(',')]\n",
    "c=np.mean(b)\n",
    "for i in b:\n",
    "    print(f'{\"Square difference from mean to\"} {i} {\"=\"} {np.mod(i,c)**2}')"
   ]
  },
  {
   "cell_type": "code",
   "execution_count": null,
   "id": "9c47a746",
   "metadata": {},
   "outputs": [],
   "source": []
  },
  {
   "cell_type": "code",
   "execution_count": 49,
   "id": "31b574ef",
   "metadata": {},
   "outputs": [
    {
     "name": "stdout",
     "output_type": "stream",
     "text": [
      "enter numbers with comma seperation56,34,21,90,67.75\n",
      "[21.0, 34.0, 56.0, 67.75, 90.0]\n"
     ]
    }
   ],
   "source": [
    "n=input('enter numbers with comma seperation')\n",
    "l=[float(i) for i in n.split(',')]\n",
    "print(sorted(l))"
   ]
  },
  {
   "cell_type": "code",
   "execution_count": 1,
   "id": "1d50ac9c",
   "metadata": {},
   "outputs": [
    {
     "name": "stdout",
     "output_type": "stream",
     "text": [
      "enter percentages of students with comma seperation 56,34,21,90,67.75,45.2345\n",
      "The student is failed as percentage is 56.0\n",
      "The student is failed as percentage is 34.0\n",
      "The student is failed as percentage is 21.0\n",
      "The student grade for 90.0 = A\n",
      "The student grade for 67.75 = C\n",
      "The student is failed as percentage is 45.2345\n"
     ]
    }
   ],
   "source": [
    "n=input('enter percentages of students with comma seperation ')\n",
    "l=[float(i) for i in n.split(',')]\n",
    "for i in l:\n",
    "    if i>=90:\n",
    "        print(f'{\"The student grade for\"} {i} {\"=\"} {\"A\"}')\n",
    "\n",
    "    elif i>=75 and i<90:\n",
    "        print(f'{\"The student grade for\"} {i} {\"=\"} {\"B\"}')\n",
    "    elif i>=60 and i<75:\n",
    "        print(f'{\"The student grade for\"} {i} {\"=\"} {\"C\"}')\n",
    "    elif i>100 or i<0:\n",
    "        print(f'{\"You entered wrong value \"} {i}')\n",
    "\n",
    "    else:\n",
    "        print(f'{\"The student is failed as percentage is\"} {i}')\n",
    "        "
   ]
  },
  {
   "cell_type": "code",
   "execution_count": 6,
   "id": "7766baee",
   "metadata": {},
   "outputs": [
    {
     "name": "stdout",
     "output_type": "stream",
     "text": [
      "enter total no.of students :5\n",
      "enter percentage of a student :34\n",
      "enter percentage of a student :34\n",
      "enter percentage of a student :23\n",
      "enter percentage of a student :234\n",
      "please enter values between 0 to 100\n",
      "enter percentage of a student :542\n",
      "please enter values between 0 to 100\n",
      "[34, 34, 23]\n"
     ]
    }
   ],
   "source": [
    "l=[]\n",
    "a=int(input('enter total no.of students :'))\n",
    "for i in range(a):\n",
    "    x=int(input('enter percentage of a student :'))\n",
    "    if x>100 or x<0:\n",
    "        print('please enter values between 0 to 100')\n",
    "        \n",
    "    else:\n",
    "        l.append(x)\n",
    "print(l)"
   ]
  },
  {
   "cell_type": "code",
   "execution_count": null,
   "id": "aa44ccd0",
   "metadata": {},
   "outputs": [],
   "source": [
    "l=[]\n",
    "i=1\n",
    "a=int(input('enter total no.of students :'))\n",
    "while i<=a:\n",
    "    x=int(input('enter percentage of a student :'))\n",
    "    if x>100 or x<0:\n",
    "        print('please enter values between 0 to 100')\n",
    "    else:\n",
    "        l.append(x)\n",
    "        i=i+1\n",
    "print(l)"
   ]
  },
  {
   "cell_type": "code",
   "execution_count": null,
   "id": "c15d35b4",
   "metadata": {},
   "outputs": [],
   "source": []
  },
  {
   "cell_type": "code",
   "execution_count": null,
   "id": "4087a987",
   "metadata": {},
   "outputs": [],
   "source": []
  },
  {
   "cell_type": "code",
   "execution_count": null,
   "id": "b7730d6b",
   "metadata": {},
   "outputs": [],
   "source": []
  },
  {
   "cell_type": "code",
   "execution_count": null,
   "id": "2cfe27ad",
   "metadata": {},
   "outputs": [],
   "source": []
  },
  {
   "cell_type": "code",
   "execution_count": null,
   "id": "bec6f515",
   "metadata": {},
   "outputs": [],
   "source": []
  },
  {
   "cell_type": "code",
   "execution_count": 62,
   "id": "6dcb600f",
   "metadata": {},
   "outputs": [
    {
     "name": "stdout",
     "output_type": "stream",
     "text": [
      "same\n"
     ]
    }
   ],
   "source": [
    "a=5\n",
    "b=5\n",
    "x=(a^b)\n",
    "if x==0:\n",
    "    print('same')\n",
    "else:\n",
    "    print('not same')"
   ]
  },
  {
   "cell_type": "code",
   "execution_count": 65,
   "id": "3727b492",
   "metadata": {},
   "outputs": [
    {
     "name": "stdout",
     "output_type": "stream",
     "text": [
      "9\n"
     ]
    }
   ],
   "source": [
    "a=8\n",
    "b=a|1\n",
    "print(b)"
   ]
  },
  {
   "cell_type": "code",
   "execution_count": null,
   "id": "d77d6afa",
   "metadata": {},
   "outputs": [],
   "source": []
  },
  {
   "cell_type": "markdown",
   "id": "0278449b",
   "metadata": {},
   "source": [
    "1.Tax calculation"
   ]
  },
  {
   "cell_type": "code",
   "execution_count": 70,
   "id": "68391f20",
   "metadata": {},
   "outputs": [
    {
     "name": "stdout",
     "output_type": "stream",
     "text": [
      "enter amount : 350\n",
      "enter the range split for tax calculation : 100\n",
      "enter percentage of tax for 1 unit 10\n",
      "enter percentage of tax for 2 unit 20\n",
      "10.0\n",
      "30.0\n",
      "Tax for the income 350 =  40.0\n",
      "Income after deduction of tax for  350 is 310.0\n"
     ]
    }
   ],
   "source": [
    "n=int(input('enter amount : '))\n",
    "r = int(input('enter the range split for tax calculation : '))\n",
    "if n<=r:\n",
    "    print('No need of paying tax : ')\n",
    "else:\n",
    "    le=n//r\n",
    "    d=dict()\n",
    "    for i in range(0,le-1):\n",
    "        tax_percent=int(input(f'{\"enter percentage of tax for\"} {i+1} {\"unit\"} '))/100\n",
    "        d[i+1]=tax_percent\n",
    "#     a=n//r\n",
    "#     b=n%r\n",
    "    j=0\n",
    "    i=1\n",
    "    while i < (n//r):\n",
    "        j=j+(r*d[i])\n",
    "        i+=1\n",
    "        print(j)\n",
    "    j=j+(d[(n//r)-1]*(n%r))\n",
    "    print(f'{\"Tax for the income\"} {n} {\"= \"} {j}')\n",
    "    print(f'{\"Income after deduction of tax for \"} {n} {\"is\"} {n-j}')\n",
    "    \n",
    "\n",
    "    "
   ]
  },
  {
   "cell_type": "markdown",
   "id": "c2aa5d2d",
   "metadata": {},
   "source": [
    "2.Ages of trainees in the company"
   ]
  },
  {
   "cell_type": "code",
   "execution_count": 91,
   "id": "b63e861e",
   "metadata": {},
   "outputs": [
    {
     "name": "stdout",
     "output_type": "stream",
     "text": [
      "enter total no.of trainees :5\n",
      "enter age of a trainee :21\n",
      "enter age of a trainee :454\n",
      "The person is not eligible for trainig\n",
      "enter age of a trainee :20\n",
      "The person is not eligible for trainig\n",
      "enter age of a trainee :23\n",
      "enter age of a trainee :23\n",
      "[21, 23, 23]\n"
     ]
    }
   ],
   "source": [
    "l=[]\n",
    "i=1\n",
    "a=int(input('enter total no.of trainees :'))\n",
    "while i<=a:\n",
    "    x=int(input('enter age of a trainee :'))\n",
    "    if x>58 or x<21:\n",
    "        print('The person is not eligible for trainig')\n",
    "    else:\n",
    "        l.append(x)\n",
    "    i=i+1\n",
    "print(l)"
   ]
  },
  {
   "cell_type": "markdown",
   "id": "7736ae86",
   "metadata": {},
   "source": [
    "3.Electricity bill charge"
   ]
  },
  {
   "cell_type": "code",
   "execution_count": null,
   "id": "c39bdf31",
   "metadata": {},
   "outputs": [],
   "source": [
    "n=int(input('enter no.of units consumed : '))\n",
    "r = int(input('enter the range split for bill calculation : '))\n"
   ]
  },
  {
   "cell_type": "markdown",
   "id": "56a3e7ea",
   "metadata": {},
   "source": [
    "4. Write a program to print pattern using a loop"
   ]
  },
  {
   "cell_type": "code",
   "execution_count": 66,
   "id": "1eca1e31",
   "metadata": {
    "scrolled": true
   },
   "outputs": [
    {
     "name": "stdout",
     "output_type": "stream",
     "text": [
      "1 \n",
      "1 2 \n",
      "1 2 3 \n",
      "1 2 3 4 \n",
      "1 2 3 4 5 \n"
     ]
    }
   ],
   "source": [
    "row = 5\n",
    "for i in range(1, row + 1, 1):\n",
    "    for j in range(1, i + 1):\n",
    "        print(j, end=' ')\n",
    "    print(\"\")"
   ]
  },
  {
   "cell_type": "markdown",
   "id": "8b54c259",
   "metadata": {},
   "source": [
    "5.Calculate the sum of all numbers from 1 to a given number"
   ]
  },
  {
   "cell_type": "code",
   "execution_count": 68,
   "id": "3553d104",
   "metadata": {},
   "outputs": [
    {
     "name": "stdout",
     "output_type": "stream",
     "text": [
      "Enter number 4\n",
      "\n",
      "\n",
      "Sum is:  10\n"
     ]
    }
   ],
   "source": [
    "s = 0\n",
    "n = int(input(\"Enter number \"))\n",
    "for i in range(1, n + 1, 1):\n",
    "    s += i\n",
    "print(\"\\n\")\n",
    "print(\"Sum is: \", s)"
   ]
  },
  {
   "cell_type": "markdown",
   "id": "ecbba3b2",
   "metadata": {},
   "source": [
    "6.Count the total number of digits in a number"
   ]
  },
  {
   "cell_type": "code",
   "execution_count": 69,
   "id": "d0f55583",
   "metadata": {},
   "outputs": [
    {
     "name": "stdout",
     "output_type": "stream",
     "text": [
      "Enter number 324565\n",
      "Total digits are: 6\n"
     ]
    }
   ],
   "source": [
    "num = int(input(\"Enter number \"))\n",
    "count = 0\n",
    "while num != 0:\n",
    "    num = num // 10\n",
    "    count = count + 1\n",
    "print(\"Total digits are:\", count)"
   ]
  },
  {
   "cell_type": "markdown",
   "id": "bbd80f72",
   "metadata": {},
   "source": [
    "7.Print the following pattern"
   ]
  },
  {
   "cell_type": "code",
   "execution_count": 71,
   "id": "f8afd26e",
   "metadata": {
    "scrolled": true
   },
   "outputs": [
    {
     "name": "stdout",
     "output_type": "stream",
     "text": [
      "5 4 3 2 1 \n",
      "4 3 2 1 \n",
      "3 2 1 \n",
      "2 1 \n",
      "1 \n",
      "\n"
     ]
    }
   ],
   "source": [
    "n = 5\n",
    "k = 5\n",
    "for i in range(0,n+1):\n",
    "    for j in range(k-i,0,-1):\n",
    "        print(j,end=' ')\n",
    "    print()"
   ]
  },
  {
   "cell_type": "markdown",
   "id": "bd41cf87",
   "metadata": {},
   "source": [
    "8.Fibonacci sequence"
   ]
  },
  {
   "cell_type": "code",
   "execution_count": 72,
   "id": "67b4813d",
   "metadata": {},
   "outputs": [
    {
     "name": "stdout",
     "output_type": "stream",
     "text": [
      "enter number : 6\n",
      "Fibonacci sequence is \n",
      "0 1 1 2 3 5 "
     ]
    }
   ],
   "source": [
    "num = int(input('enter number : '))\n",
    "a,b=0,1\n",
    "c=0\n",
    "if num<0:\n",
    "    print('it an invalid num')\n",
    "elif num==0:\n",
    "    print(0)\n",
    "elif num==1 or num==2:\n",
    "    print(1)\n",
    "else:\n",
    "    print('Fibonacci sequence is ')\n",
    "    while c<num:\n",
    "        print(a,end=' ')\n",
    "        tem = a+b\n",
    "        a=b\n",
    "        b=tem\n",
    "        c+=1\n",
    "    "
   ]
  },
  {
   "cell_type": "markdown",
   "id": "bfeed624",
   "metadata": {},
   "source": [
    "9.Armstrong number"
   ]
  },
  {
   "cell_type": "code",
   "execution_count": 73,
   "id": "dcd2044d",
   "metadata": {},
   "outputs": [
    {
     "name": "stdout",
     "output_type": "stream",
     "text": [
      "enter num to check armstrong : 153\n",
      "153 is an armstrong number\n"
     ]
    }
   ],
   "source": [
    "num = int(input('enter num to check armstrong : '))\n",
    "num_org = num\n",
    "a=len(str(num))\n",
    "add=0\n",
    "while num!=0:\n",
    "    k=num % 10\n",
    "    add = add+ (k**a)\n",
    "    num//=10\n",
    "if num_org == add:\n",
    "    print(num_org,'is an armstrong number')\n",
    "else:\n",
    "    print(num_org,'is not an armstrong number')"
   ]
  },
  {
   "cell_type": "markdown",
   "id": "82296613",
   "metadata": {},
   "source": [
    "10.printing words of each number"
   ]
  },
  {
   "cell_type": "code",
   "execution_count": 74,
   "id": "d92c9efc",
   "metadata": {},
   "outputs": [
    {
     "name": "stdout",
     "output_type": "stream",
     "text": [
      "enter number : 4532\n",
      "four five three two "
     ]
    }
   ],
   "source": [
    "num = int(input('enter number : '))\n",
    "l=[\"zero\", \"one\", \"two\", \"three\", \"four\",\"five\", \"six\", \"seven\", \"eight\", \"nine\"]\n",
    "num_str = str(num)\n",
    "for i in num_str:\n",
    "    print(l[int(i)],end=' ')"
   ]
  },
  {
   "cell_type": "markdown",
   "id": "a13d13b2",
   "metadata": {},
   "source": [
    "11.Reversal of a number"
   ]
  },
  {
   "cell_type": "code",
   "execution_count": 76,
   "id": "41f6931a",
   "metadata": {},
   "outputs": [
    {
     "name": "stdout",
     "output_type": "stream",
     "text": [
      "enter number : 34256\n",
      "reversed number =  65243\n"
     ]
    }
   ],
   "source": [
    "num = int(input('enter number : '))\n",
    "num_reverse=0\n",
    "while num !=0:\n",
    "    carry = num % 10\n",
    "    num_reverse = num_reverse * 10 + carry\n",
    "    num = num//10\n",
    "print('reversed number = ',num_reverse)"
   ]
  },
  {
   "cell_type": "markdown",
   "id": "3b352d77",
   "metadata": {},
   "source": [
    "12.Sum of digits of a number"
   ]
  },
  {
   "cell_type": "code",
   "execution_count": 77,
   "id": "6668e95b",
   "metadata": {},
   "outputs": [
    {
     "name": "stdout",
     "output_type": "stream",
     "text": [
      "enter number : 34567\n",
      "sum of digits of a number is =  25\n"
     ]
    }
   ],
   "source": [
    "num=int(input('enter number : '))\n",
    "num_str=str(num)\n",
    "l=[int(i) for i in num_str]\n",
    "print('sum of digits of a number is = ',sum(l))"
   ]
  },
  {
   "cell_type": "markdown",
   "id": "1f0637ee",
   "metadata": {},
   "source": [
    "13.Palindrome number"
   ]
  },
  {
   "cell_type": "code",
   "execution_count": 78,
   "id": "a4c7957d",
   "metadata": {},
   "outputs": [
    {
     "name": "stdout",
     "output_type": "stream",
     "text": [
      "enter num to check palindrome : 35476\n",
      "35476 is not a palindrome number\n"
     ]
    }
   ],
   "source": [
    "num = int(input('enter num to check palindrome : '))\n",
    "num_str = str(num)\n",
    "if num_str==num_str[::-1]:\n",
    "    print(num,'is a palindrome number')\n",
    "else:\n",
    "    print(num,'is not a palindrome number')"
   ]
  },
  {
   "cell_type": "markdown",
   "id": "eb5b7170",
   "metadata": {},
   "source": [
    "14.comparion operation"
   ]
  },
  {
   "cell_type": "code",
   "execution_count": 80,
   "id": "a771e4ad",
   "metadata": {},
   "outputs": [
    {
     "name": "stdout",
     "output_type": "stream",
     "text": [
      "enter a value : 5\n",
      "enter b value : 343\n",
      "enter c value : 5\n",
      "The greatest number is 343\n"
     ]
    }
   ],
   "source": [
    "a=int(input('enter a value : '))\n",
    "b=int(input('enter b value : '))\n",
    "c=int(input('enter c value : '))\n",
    "if (a>b) and (a>c):\n",
    "    print('The gratest number is',a)\n",
    "elif (b>a) and (b>c):\n",
    "    print('The greatest number is',b)\n",
    "else:\n",
    "    print('The greatest number is',c)"
   ]
  },
  {
   "cell_type": "markdown",
   "id": "a4d5a14a",
   "metadata": {},
   "source": [
    "15.Prime number between to values"
   ]
  },
  {
   "cell_type": "code",
   "execution_count": 83,
   "id": "1cb967ac",
   "metadata": {},
   "outputs": [
    {
     "name": "stdout",
     "output_type": "stream",
     "text": [
      "Prime numbers between 25 and 50 are:\n",
      "29\n",
      "31\n",
      "37\n",
      "41\n",
      "43\n",
      "47\n"
     ]
    }
   ],
   "source": [
    "start = 25\n",
    "end = 50\n",
    "print(\"Prime numbers between\", start, \"and\", end, \"are:\")\n",
    "\n",
    "for num in range(start, end + 1):\n",
    "    if num > 1:\n",
    "        for i in range(2, num):\n",
    "            if (num % i) == 0:\n",
    "                break\n",
    "        else:\n",
    "            print(num)"
   ]
  },
  {
   "cell_type": "markdown",
   "id": "611d271f",
   "metadata": {},
   "source": [
    "16.Factorial "
   ]
  },
  {
   "cell_type": "code",
   "execution_count": 86,
   "id": "5907619f",
   "metadata": {},
   "outputs": [
    {
     "name": "stdout",
     "output_type": "stream",
     "text": [
      "enter number to find factorial : 5\n",
      "The factorial of 5 is 120\n"
     ]
    }
   ],
   "source": [
    "num = int(input('enter number to find factorial : '))\n",
    "factorial = 1\n",
    "if num < 0:\n",
    "    print(\"Factorial does not exist for negative numbers\")\n",
    "elif num == 0:\n",
    "    print(\"The factorial of 0 is 1\")\n",
    "else:\n",
    "    for i in range(1, num + 1):\n",
    "        factorial = factorial * i\n",
    "    print(\"The factorial of\", num, \"is\", factorial)"
   ]
  },
  {
   "cell_type": "code",
   "execution_count": null,
   "id": "0ae3b463",
   "metadata": {},
   "outputs": [],
   "source": []
  }
 ],
 "metadata": {
  "kernelspec": {
   "display_name": "Python 3 (ipykernel)",
   "language": "python",
   "name": "python3"
  },
  "language_info": {
   "codemirror_mode": {
    "name": "ipython",
    "version": 3
   },
   "file_extension": ".py",
   "mimetype": "text/x-python",
   "name": "python",
   "nbconvert_exporter": "python",
   "pygments_lexer": "ipython3",
   "version": "3.9.12"
  }
 },
 "nbformat": 4,
 "nbformat_minor": 5
}
