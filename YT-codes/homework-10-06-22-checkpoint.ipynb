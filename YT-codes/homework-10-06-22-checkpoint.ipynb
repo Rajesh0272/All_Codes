{
 "cells": [
  {
   "cell_type": "code",
   "execution_count": 1,
   "id": "eacd619c",
   "metadata": {},
   "outputs": [],
   "source": [
    "#with arguiments\n",
    "def cal(a,b):\n",
    "    c=a+b\n",
    "    d=a-b\n",
    "    e=a*b\n",
    "    f=a/b\n",
    "    return c,d,e,f"
   ]
  },
  {
   "cell_type": "code",
   "execution_count": 2,
   "id": "338b6d3a",
   "metadata": {},
   "outputs": [
    {
     "name": "stdout",
     "output_type": "stream",
     "text": [
      "(10, -2, 24, 0.6666666666666666)\n"
     ]
    }
   ],
   "source": [
    "g=cal(4,6)\n",
    "print(g)"
   ]
  },
  {
   "cell_type": "code",
   "execution_count": 3,
   "id": "f939449a",
   "metadata": {},
   "outputs": [],
   "source": [
    "def raj(x,y):\n",
    "    return x**y"
   ]
  },
  {
   "cell_type": "code",
   "execution_count": 4,
   "id": "852e4459",
   "metadata": {},
   "outputs": [
    {
     "name": "stdout",
     "output_type": "stream",
     "text": [
      "16\n"
     ]
    }
   ],
   "source": [
    "print(raj(2,4))"
   ]
  },
  {
   "cell_type": "code",
   "execution_count": 5,
   "id": "47e7060b",
   "metadata": {},
   "outputs": [],
   "source": [
    "#without arguiments\n",
    "def cal():\n",
    "    a,b=4,6\n",
    "    c=a+b\n",
    "    d=a-b\n",
    "    e=a*b\n",
    "    f=a/b\n",
    "    return c,d,e,f"
   ]
  },
  {
   "cell_type": "code",
   "execution_count": 6,
   "id": "1d99d1e6",
   "metadata": {},
   "outputs": [
    {
     "name": "stdout",
     "output_type": "stream",
     "text": [
      "(10, -2, 24, 0.6666666666666666)\n"
     ]
    }
   ],
   "source": [
    "t=cal()\n",
    "print(t)"
   ]
  },
  {
   "cell_type": "code",
   "execution_count": 11,
   "id": "cc925f26",
   "metadata": {},
   "outputs": [],
   "source": [
    "def fname():\n",
    "    first='Rajesh'\n",
    "    last='Mandapati'\n",
    "    res=\" \".join((first,last))\n",
    "    return res"
   ]
  },
  {
   "cell_type": "code",
   "execution_count": 12,
   "id": "7a42ee1c",
   "metadata": {},
   "outputs": [
    {
     "name": "stdout",
     "output_type": "stream",
     "text": [
      "Rajesh Mandapati\n"
     ]
    }
   ],
   "source": [
    "print(fname())"
   ]
  },
  {
   "cell_type": "code",
   "execution_count": null,
   "id": "946bb6f4",
   "metadata": {},
   "outputs": [],
   "source": []
  }
 ],
 "metadata": {
  "kernelspec": {
   "display_name": "Python 3 (ipykernel)",
   "language": "python",
   "name": "python3"
  },
  "language_info": {
   "codemirror_mode": {
    "name": "ipython",
    "version": 3
   },
   "file_extension": ".py",
   "mimetype": "text/x-python",
   "name": "python",
   "nbconvert_exporter": "python",
   "pygments_lexer": "ipython3",
   "version": "3.9.12"
  }
 },
 "nbformat": 4,
 "nbformat_minor": 5
}
