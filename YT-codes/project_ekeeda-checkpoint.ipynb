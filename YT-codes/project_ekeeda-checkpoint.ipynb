{
 "cells": [
  {
   "cell_type": "code",
   "execution_count": 1,
   "id": "8b5b099f",
   "metadata": {},
   "outputs": [],
   "source": [
    "# importing liburaries\n",
    "import pandas as pd \n",
    "import numpy as np \n",
    "import matplotlib.pyplot as plt\n",
    "import seaborn as sns\n",
    "import warnings\n",
    "warnings.filterwarnings(\"ignore\")"
   ]
  },
  {
   "cell_type": "code",
   "execution_count": 2,
   "id": "7373495e",
   "metadata": {},
   "outputs": [
    {
     "data": {
      "text/html": [
       "<div>\n",
       "<style scoped>\n",
       "    .dataframe tbody tr th:only-of-type {\n",
       "        vertical-align: middle;\n",
       "    }\n",
       "\n",
       "    .dataframe tbody tr th {\n",
       "        vertical-align: top;\n",
       "    }\n",
       "\n",
       "    .dataframe thead th {\n",
       "        text-align: right;\n",
       "    }\n",
       "</style>\n",
       "<table border=\"1\" class=\"dataframe\">\n",
       "  <thead>\n",
       "    <tr style=\"text-align: right;\">\n",
       "      <th></th>\n",
       "      <th>Area</th>\n",
       "      <th>Perimeter</th>\n",
       "      <th>MajorAxisLength</th>\n",
       "      <th>MinorAxisLength</th>\n",
       "      <th>AspectRation</th>\n",
       "      <th>Eccentricity</th>\n",
       "      <th>ConvexArea</th>\n",
       "      <th>EquivDiameter</th>\n",
       "      <th>Extent</th>\n",
       "      <th>Solidity</th>\n",
       "      <th>roundness</th>\n",
       "      <th>Compactness</th>\n",
       "      <th>ShapeFactor1</th>\n",
       "      <th>ShapeFactor2</th>\n",
       "      <th>ShapeFactor3</th>\n",
       "      <th>ShapeFactor4</th>\n",
       "      <th>Class</th>\n",
       "    </tr>\n",
       "  </thead>\n",
       "  <tbody>\n",
       "    <tr>\n",
       "      <th>0</th>\n",
       "      <td>28395</td>\n",
       "      <td>610.291</td>\n",
       "      <td>208.178117</td>\n",
       "      <td>173.888747</td>\n",
       "      <td>1.197191</td>\n",
       "      <td>0.549812</td>\n",
       "      <td>28715</td>\n",
       "      <td>190.141097</td>\n",
       "      <td>0.763923</td>\n",
       "      <td>0.988856</td>\n",
       "      <td>0.958027</td>\n",
       "      <td>0.913358</td>\n",
       "      <td>0.007332</td>\n",
       "      <td>0.003147</td>\n",
       "      <td>0.834222</td>\n",
       "      <td>0.998724</td>\n",
       "      <td>SEKER</td>\n",
       "    </tr>\n",
       "    <tr>\n",
       "      <th>1</th>\n",
       "      <td>28734</td>\n",
       "      <td>638.018</td>\n",
       "      <td>200.524796</td>\n",
       "      <td>182.734419</td>\n",
       "      <td>1.097356</td>\n",
       "      <td>0.411785</td>\n",
       "      <td>29172</td>\n",
       "      <td>191.272751</td>\n",
       "      <td>0.783968</td>\n",
       "      <td>0.984986</td>\n",
       "      <td>0.887034</td>\n",
       "      <td>0.953861</td>\n",
       "      <td>0.006979</td>\n",
       "      <td>0.003564</td>\n",
       "      <td>0.909851</td>\n",
       "      <td>0.998430</td>\n",
       "      <td>SEKER</td>\n",
       "    </tr>\n",
       "    <tr>\n",
       "      <th>2</th>\n",
       "      <td>29380</td>\n",
       "      <td>624.110</td>\n",
       "      <td>212.826130</td>\n",
       "      <td>175.931143</td>\n",
       "      <td>1.209713</td>\n",
       "      <td>0.562727</td>\n",
       "      <td>29690</td>\n",
       "      <td>193.410904</td>\n",
       "      <td>0.778113</td>\n",
       "      <td>0.989559</td>\n",
       "      <td>0.947849</td>\n",
       "      <td>0.908774</td>\n",
       "      <td>0.007244</td>\n",
       "      <td>0.003048</td>\n",
       "      <td>0.825871</td>\n",
       "      <td>0.999066</td>\n",
       "      <td>SEKER</td>\n",
       "    </tr>\n",
       "    <tr>\n",
       "      <th>3</th>\n",
       "      <td>30008</td>\n",
       "      <td>645.884</td>\n",
       "      <td>210.557999</td>\n",
       "      <td>182.516516</td>\n",
       "      <td>1.153638</td>\n",
       "      <td>0.498616</td>\n",
       "      <td>30724</td>\n",
       "      <td>195.467062</td>\n",
       "      <td>0.782681</td>\n",
       "      <td>0.976696</td>\n",
       "      <td>0.903936</td>\n",
       "      <td>0.928329</td>\n",
       "      <td>0.007017</td>\n",
       "      <td>0.003215</td>\n",
       "      <td>0.861794</td>\n",
       "      <td>0.994199</td>\n",
       "      <td>SEKER</td>\n",
       "    </tr>\n",
       "    <tr>\n",
       "      <th>4</th>\n",
       "      <td>30140</td>\n",
       "      <td>620.134</td>\n",
       "      <td>201.847882</td>\n",
       "      <td>190.279279</td>\n",
       "      <td>1.060798</td>\n",
       "      <td>0.333680</td>\n",
       "      <td>30417</td>\n",
       "      <td>195.896503</td>\n",
       "      <td>0.773098</td>\n",
       "      <td>0.990893</td>\n",
       "      <td>0.984877</td>\n",
       "      <td>0.970516</td>\n",
       "      <td>0.006697</td>\n",
       "      <td>0.003665</td>\n",
       "      <td>0.941900</td>\n",
       "      <td>0.999166</td>\n",
       "      <td>SEKER</td>\n",
       "    </tr>\n",
       "  </tbody>\n",
       "</table>\n",
       "</div>"
      ],
      "text/plain": [
       "    Area  Perimeter  MajorAxisLength  MinorAxisLength  AspectRation  \\\n",
       "0  28395    610.291       208.178117       173.888747      1.197191   \n",
       "1  28734    638.018       200.524796       182.734419      1.097356   \n",
       "2  29380    624.110       212.826130       175.931143      1.209713   \n",
       "3  30008    645.884       210.557999       182.516516      1.153638   \n",
       "4  30140    620.134       201.847882       190.279279      1.060798   \n",
       "\n",
       "   Eccentricity  ConvexArea  EquivDiameter    Extent  Solidity  roundness  \\\n",
       "0      0.549812       28715     190.141097  0.763923  0.988856   0.958027   \n",
       "1      0.411785       29172     191.272751  0.783968  0.984986   0.887034   \n",
       "2      0.562727       29690     193.410904  0.778113  0.989559   0.947849   \n",
       "3      0.498616       30724     195.467062  0.782681  0.976696   0.903936   \n",
       "4      0.333680       30417     195.896503  0.773098  0.990893   0.984877   \n",
       "\n",
       "   Compactness  ShapeFactor1  ShapeFactor2  ShapeFactor3  ShapeFactor4  Class  \n",
       "0     0.913358      0.007332      0.003147      0.834222      0.998724  SEKER  \n",
       "1     0.953861      0.006979      0.003564      0.909851      0.998430  SEKER  \n",
       "2     0.908774      0.007244      0.003048      0.825871      0.999066  SEKER  \n",
       "3     0.928329      0.007017      0.003215      0.861794      0.994199  SEKER  \n",
       "4     0.970516      0.006697      0.003665      0.941900      0.999166  SEKER  "
      ]
     },
     "execution_count": 2,
     "metadata": {},
     "output_type": "execute_result"
    }
   ],
   "source": [
    "#reading csv file to dataframe\n",
    "df=pd.read_csv(r'C:\\Users\\M RAJESH\\Downloads\\archive\\Dry_Bean.csv')\n",
    "df.head()"
   ]
  },
  {
   "cell_type": "code",
   "execution_count": 3,
   "id": "4db51412",
   "metadata": {},
   "outputs": [
    {
     "name": "stdout",
     "output_type": "stream",
     "text": [
      "<class 'pandas.core.frame.DataFrame'>\n",
      "RangeIndex: 13611 entries, 0 to 13610\n",
      "Data columns (total 17 columns):\n",
      " #   Column           Non-Null Count  Dtype  \n",
      "---  ------           --------------  -----  \n",
      " 0   Area             13611 non-null  int64  \n",
      " 1   Perimeter        13611 non-null  float64\n",
      " 2   MajorAxisLength  13611 non-null  float64\n",
      " 3   MinorAxisLength  13611 non-null  float64\n",
      " 4   AspectRation     13611 non-null  float64\n",
      " 5   Eccentricity     13611 non-null  float64\n",
      " 6   ConvexArea       13611 non-null  int64  \n",
      " 7   EquivDiameter    13611 non-null  float64\n",
      " 8   Extent           13611 non-null  float64\n",
      " 9   Solidity         13611 non-null  float64\n",
      " 10  roundness        13611 non-null  float64\n",
      " 11  Compactness      13611 non-null  float64\n",
      " 12  ShapeFactor1     13611 non-null  float64\n",
      " 13  ShapeFactor2     13611 non-null  float64\n",
      " 14  ShapeFactor3     13611 non-null  float64\n",
      " 15  ShapeFactor4     13611 non-null  float64\n",
      " 16  Class            13611 non-null  object \n",
      "dtypes: float64(14), int64(2), object(1)\n",
      "memory usage: 1.8+ MB\n"
     ]
    }
   ],
   "source": [
    "#getting info of dataframe\n",
    "df.info()"
   ]
  },
  {
   "cell_type": "code",
   "execution_count": 4,
   "id": "a6a0044c",
   "metadata": {},
   "outputs": [
    {
     "data": {
      "text/plain": [
       "Area               0\n",
       "Perimeter          0\n",
       "MajorAxisLength    0\n",
       "MinorAxisLength    0\n",
       "AspectRation       0\n",
       "Eccentricity       0\n",
       "ConvexArea         0\n",
       "EquivDiameter      0\n",
       "Extent             0\n",
       "Solidity           0\n",
       "roundness          0\n",
       "Compactness        0\n",
       "ShapeFactor1       0\n",
       "ShapeFactor2       0\n",
       "ShapeFactor3       0\n",
       "ShapeFactor4       0\n",
       "Class              0\n",
       "dtype: int64"
      ]
     },
     "execution_count": 4,
     "metadata": {},
     "output_type": "execute_result"
    }
   ],
   "source": [
    "#checking count of null values in each column\n",
    "df.isnull().sum()"
   ]
  },
  {
   "cell_type": "code",
   "execution_count": 5,
   "id": "c8cb006f",
   "metadata": {},
   "outputs": [
    {
     "data": {
      "text/html": [
       "<div>\n",
       "<style scoped>\n",
       "    .dataframe tbody tr th:only-of-type {\n",
       "        vertical-align: middle;\n",
       "    }\n",
       "\n",
       "    .dataframe tbody tr th {\n",
       "        vertical-align: top;\n",
       "    }\n",
       "\n",
       "    .dataframe thead th {\n",
       "        text-align: right;\n",
       "    }\n",
       "</style>\n",
       "<table border=\"1\" class=\"dataframe\">\n",
       "  <thead>\n",
       "    <tr style=\"text-align: right;\">\n",
       "      <th></th>\n",
       "      <th>Area</th>\n",
       "      <th>Perimeter</th>\n",
       "      <th>MajorAxisLength</th>\n",
       "      <th>MinorAxisLength</th>\n",
       "      <th>AspectRation</th>\n",
       "      <th>Eccentricity</th>\n",
       "      <th>ConvexArea</th>\n",
       "      <th>EquivDiameter</th>\n",
       "      <th>Extent</th>\n",
       "      <th>Solidity</th>\n",
       "      <th>roundness</th>\n",
       "      <th>Compactness</th>\n",
       "      <th>ShapeFactor1</th>\n",
       "      <th>ShapeFactor2</th>\n",
       "      <th>ShapeFactor3</th>\n",
       "      <th>ShapeFactor4</th>\n",
       "    </tr>\n",
       "  </thead>\n",
       "  <tbody>\n",
       "    <tr>\n",
       "      <th>count</th>\n",
       "      <td>13611.000000</td>\n",
       "      <td>13611.000000</td>\n",
       "      <td>13611.000000</td>\n",
       "      <td>13611.000000</td>\n",
       "      <td>13611.000000</td>\n",
       "      <td>13611.000000</td>\n",
       "      <td>13611.000000</td>\n",
       "      <td>13611.000000</td>\n",
       "      <td>13611.000000</td>\n",
       "      <td>13611.000000</td>\n",
       "      <td>13611.000000</td>\n",
       "      <td>13611.000000</td>\n",
       "      <td>13611.000000</td>\n",
       "      <td>13611.000000</td>\n",
       "      <td>13611.000000</td>\n",
       "      <td>13611.000000</td>\n",
       "    </tr>\n",
       "    <tr>\n",
       "      <th>mean</th>\n",
       "      <td>53048.284549</td>\n",
       "      <td>855.283459</td>\n",
       "      <td>320.141867</td>\n",
       "      <td>202.270714</td>\n",
       "      <td>1.583242</td>\n",
       "      <td>0.750895</td>\n",
       "      <td>53768.200206</td>\n",
       "      <td>253.064220</td>\n",
       "      <td>0.749733</td>\n",
       "      <td>0.987143</td>\n",
       "      <td>0.873282</td>\n",
       "      <td>0.799864</td>\n",
       "      <td>0.006564</td>\n",
       "      <td>0.001716</td>\n",
       "      <td>0.643590</td>\n",
       "      <td>0.995063</td>\n",
       "    </tr>\n",
       "    <tr>\n",
       "      <th>std</th>\n",
       "      <td>29324.095717</td>\n",
       "      <td>214.289696</td>\n",
       "      <td>85.694186</td>\n",
       "      <td>44.970091</td>\n",
       "      <td>0.246678</td>\n",
       "      <td>0.092002</td>\n",
       "      <td>29774.915817</td>\n",
       "      <td>59.177120</td>\n",
       "      <td>0.049086</td>\n",
       "      <td>0.004660</td>\n",
       "      <td>0.059520</td>\n",
       "      <td>0.061713</td>\n",
       "      <td>0.001128</td>\n",
       "      <td>0.000596</td>\n",
       "      <td>0.098996</td>\n",
       "      <td>0.004366</td>\n",
       "    </tr>\n",
       "    <tr>\n",
       "      <th>min</th>\n",
       "      <td>20420.000000</td>\n",
       "      <td>524.736000</td>\n",
       "      <td>183.601165</td>\n",
       "      <td>122.512653</td>\n",
       "      <td>1.024868</td>\n",
       "      <td>0.218951</td>\n",
       "      <td>20684.000000</td>\n",
       "      <td>161.243764</td>\n",
       "      <td>0.555315</td>\n",
       "      <td>0.919246</td>\n",
       "      <td>0.489618</td>\n",
       "      <td>0.640577</td>\n",
       "      <td>0.002778</td>\n",
       "      <td>0.000564</td>\n",
       "      <td>0.410339</td>\n",
       "      <td>0.947687</td>\n",
       "    </tr>\n",
       "    <tr>\n",
       "      <th>25%</th>\n",
       "      <td>36328.000000</td>\n",
       "      <td>703.523500</td>\n",
       "      <td>253.303633</td>\n",
       "      <td>175.848170</td>\n",
       "      <td>1.432307</td>\n",
       "      <td>0.715928</td>\n",
       "      <td>36714.500000</td>\n",
       "      <td>215.068003</td>\n",
       "      <td>0.718634</td>\n",
       "      <td>0.985670</td>\n",
       "      <td>0.832096</td>\n",
       "      <td>0.762469</td>\n",
       "      <td>0.005900</td>\n",
       "      <td>0.001154</td>\n",
       "      <td>0.581359</td>\n",
       "      <td>0.993703</td>\n",
       "    </tr>\n",
       "    <tr>\n",
       "      <th>50%</th>\n",
       "      <td>44652.000000</td>\n",
       "      <td>794.941000</td>\n",
       "      <td>296.883367</td>\n",
       "      <td>192.431733</td>\n",
       "      <td>1.551124</td>\n",
       "      <td>0.764441</td>\n",
       "      <td>45178.000000</td>\n",
       "      <td>238.438026</td>\n",
       "      <td>0.759859</td>\n",
       "      <td>0.988283</td>\n",
       "      <td>0.883157</td>\n",
       "      <td>0.801277</td>\n",
       "      <td>0.006645</td>\n",
       "      <td>0.001694</td>\n",
       "      <td>0.642044</td>\n",
       "      <td>0.996386</td>\n",
       "    </tr>\n",
       "    <tr>\n",
       "      <th>75%</th>\n",
       "      <td>61332.000000</td>\n",
       "      <td>977.213000</td>\n",
       "      <td>376.495012</td>\n",
       "      <td>217.031741</td>\n",
       "      <td>1.707109</td>\n",
       "      <td>0.810466</td>\n",
       "      <td>62294.000000</td>\n",
       "      <td>279.446467</td>\n",
       "      <td>0.786851</td>\n",
       "      <td>0.990013</td>\n",
       "      <td>0.916869</td>\n",
       "      <td>0.834270</td>\n",
       "      <td>0.007271</td>\n",
       "      <td>0.002170</td>\n",
       "      <td>0.696006</td>\n",
       "      <td>0.997883</td>\n",
       "    </tr>\n",
       "    <tr>\n",
       "      <th>max</th>\n",
       "      <td>254616.000000</td>\n",
       "      <td>1985.370000</td>\n",
       "      <td>738.860154</td>\n",
       "      <td>460.198497</td>\n",
       "      <td>2.430306</td>\n",
       "      <td>0.911423</td>\n",
       "      <td>263261.000000</td>\n",
       "      <td>569.374358</td>\n",
       "      <td>0.866195</td>\n",
       "      <td>0.994677</td>\n",
       "      <td>0.990685</td>\n",
       "      <td>0.987303</td>\n",
       "      <td>0.010451</td>\n",
       "      <td>0.003665</td>\n",
       "      <td>0.974767</td>\n",
       "      <td>0.999733</td>\n",
       "    </tr>\n",
       "  </tbody>\n",
       "</table>\n",
       "</div>"
      ],
      "text/plain": [
       "                Area     Perimeter  MajorAxisLength  MinorAxisLength  \\\n",
       "count   13611.000000  13611.000000     13611.000000     13611.000000   \n",
       "mean    53048.284549    855.283459       320.141867       202.270714   \n",
       "std     29324.095717    214.289696        85.694186        44.970091   \n",
       "min     20420.000000    524.736000       183.601165       122.512653   \n",
       "25%     36328.000000    703.523500       253.303633       175.848170   \n",
       "50%     44652.000000    794.941000       296.883367       192.431733   \n",
       "75%     61332.000000    977.213000       376.495012       217.031741   \n",
       "max    254616.000000   1985.370000       738.860154       460.198497   \n",
       "\n",
       "       AspectRation  Eccentricity     ConvexArea  EquivDiameter        Extent  \\\n",
       "count  13611.000000  13611.000000   13611.000000   13611.000000  13611.000000   \n",
       "mean       1.583242      0.750895   53768.200206     253.064220      0.749733   \n",
       "std        0.246678      0.092002   29774.915817      59.177120      0.049086   \n",
       "min        1.024868      0.218951   20684.000000     161.243764      0.555315   \n",
       "25%        1.432307      0.715928   36714.500000     215.068003      0.718634   \n",
       "50%        1.551124      0.764441   45178.000000     238.438026      0.759859   \n",
       "75%        1.707109      0.810466   62294.000000     279.446467      0.786851   \n",
       "max        2.430306      0.911423  263261.000000     569.374358      0.866195   \n",
       "\n",
       "           Solidity     roundness   Compactness  ShapeFactor1  ShapeFactor2  \\\n",
       "count  13611.000000  13611.000000  13611.000000  13611.000000  13611.000000   \n",
       "mean       0.987143      0.873282      0.799864      0.006564      0.001716   \n",
       "std        0.004660      0.059520      0.061713      0.001128      0.000596   \n",
       "min        0.919246      0.489618      0.640577      0.002778      0.000564   \n",
       "25%        0.985670      0.832096      0.762469      0.005900      0.001154   \n",
       "50%        0.988283      0.883157      0.801277      0.006645      0.001694   \n",
       "75%        0.990013      0.916869      0.834270      0.007271      0.002170   \n",
       "max        0.994677      0.990685      0.987303      0.010451      0.003665   \n",
       "\n",
       "       ShapeFactor3  ShapeFactor4  \n",
       "count  13611.000000  13611.000000  \n",
       "mean       0.643590      0.995063  \n",
       "std        0.098996      0.004366  \n",
       "min        0.410339      0.947687  \n",
       "25%        0.581359      0.993703  \n",
       "50%        0.642044      0.996386  \n",
       "75%        0.696006      0.997883  \n",
       "max        0.974767      0.999733  "
      ]
     },
     "execution_count": 5,
     "metadata": {},
     "output_type": "execute_result"
    }
   ],
   "source": [
    "# 5 point summery\n",
    "df.describe()"
   ]
  },
  {
   "cell_type": "code",
   "execution_count": 6,
   "id": "df2617d8",
   "metadata": {},
   "outputs": [
    {
     "data": {
      "text/plain": [
       "(13611, 17)"
      ]
     },
     "execution_count": 6,
     "metadata": {},
     "output_type": "execute_result"
    }
   ],
   "source": [
    "df.shape"
   ]
  },
  {
   "cell_type": "code",
   "execution_count": 7,
   "id": "b67dfa08",
   "metadata": {},
   "outputs": [],
   "source": [
    "#making dependent and independent columns seperate\n",
    "x=df.drop('Class',axis=1)\n",
    "y=df['Class']"
   ]
  },
  {
   "cell_type": "code",
   "execution_count": 8,
   "id": "768f7793",
   "metadata": {},
   "outputs": [
    {
     "data": {
      "text/plain": [
       "17"
      ]
     },
     "execution_count": 8,
     "metadata": {},
     "output_type": "execute_result"
    }
   ],
   "source": [
    "len(df.columns)"
   ]
  },
  {
   "cell_type": "code",
   "execution_count": 9,
   "id": "4fad51e3",
   "metadata": {},
   "outputs": [
    {
     "data": {
      "text/plain": [
       "dtype('O')"
      ]
     },
     "execution_count": 9,
     "metadata": {},
     "output_type": "execute_result"
    }
   ],
   "source": [
    "df['Class'].dtype"
   ]
  },
  {
   "cell_type": "code",
   "execution_count": 10,
   "id": "dff469a1",
   "metadata": {
    "scrolled": true
   },
   "outputs": [],
   "source": [
    "# #plotting boxplot and distplot of each column to see outliers and distribution of data and skewness\n",
    "# j=1\n",
    "# plt.figure(figsize=(20,40))\n",
    "# for i in x.columns:\n",
    "#     plt.subplot(16,2,j)\n",
    "#     sns.boxplot(x[i])\n",
    "#     plt.title(i,color='white')\n",
    "#     j=j+1\n",
    "#     plt.subplot(16,2,j)\n",
    "#     sns.distplot(x[i])\n",
    "#     j=j+1"
   ]
  },
  {
   "cell_type": "code",
   "execution_count": null,
   "id": "9e474e84",
   "metadata": {},
   "outputs": [],
   "source": []
  },
  {
   "cell_type": "code",
   "execution_count": null,
   "id": "a0cfe57d",
   "metadata": {},
   "outputs": [],
   "source": []
  },
  {
   "cell_type": "code",
   "execution_count": 11,
   "id": "e0203f98",
   "metadata": {},
   "outputs": [],
   "source": [
    "from sklearn.preprocessing import StandardScaler\n",
    "from scipy import stats"
   ]
  },
  {
   "cell_type": "code",
   "execution_count": 12,
   "id": "c3572af7",
   "metadata": {},
   "outputs": [
    {
     "data": {
      "text/plain": [
       "array([1.231339  , 1.23134186, 1.23134714, ..., 1.23142082, 1.23142085,\n",
       "       1.2314209 ])"
      ]
     },
     "execution_count": 12,
     "metadata": {},
     "output_type": "execute_result"
    }
   ],
   "source": [
    "a=stats.boxcox(x['Area'])[0]\n",
    "b=np.array([a])\n",
    "b[0]"
   ]
  },
  {
   "cell_type": "code",
   "execution_count": 13,
   "id": "dc7e49f0",
   "metadata": {
    "scrolled": true
   },
   "outputs": [
    {
     "data": {
      "text/plain": [
       "Index(['Area', 'Perimeter', 'MajorAxisLength', 'MinorAxisLength',\n",
       "       'AspectRation', 'Eccentricity', 'ConvexArea', 'EquivDiameter', 'Extent',\n",
       "       'Solidity', 'roundness', 'Compactness', 'ShapeFactor1', 'ShapeFactor2',\n",
       "       'ShapeFactor3', 'ShapeFactor4'],\n",
       "      dtype='object')"
      ]
     },
     "execution_count": 13,
     "metadata": {},
     "output_type": "execute_result"
    }
   ],
   "source": [
    "x.columns"
   ]
  },
  {
   "cell_type": "code",
   "execution_count": 14,
   "id": "ae689605",
   "metadata": {
    "scrolled": true
   },
   "outputs": [
    {
     "data": {
      "text/plain": [
       "[2.9529309714284606,\n",
       " 1.6261235244866201,\n",
       " 1.3578152835457427,\n",
       " 2.2382105395651473,\n",
       " 0.582573399255909,\n",
       " -1.0628239308671301,\n",
       " 2.9418211110165506,\n",
       " 1.9489576094878978,\n",
       " -0.8953484276830443,\n",
       " -2.5500931058430196,\n",
       " -0.6357489503361226,\n",
       " 0.03711545808296861,\n",
       " -0.5341405486852819,\n",
       " 0.30122591882133765,\n",
       " 0.24248092661997728,\n",
       " -2.759482909435988]"
      ]
     },
     "execution_count": 14,
     "metadata": {},
     "output_type": "execute_result"
    }
   ],
   "source": [
    "# skewness of each columns of main dataframe\n",
    "skew_df=[x[i].skew() for i in x.columns]\n",
    "skew_df"
   ]
  },
  {
   "cell_type": "code",
   "execution_count": 15,
   "id": "5ab962cb",
   "metadata": {},
   "outputs": [],
   "source": [
    "# treating the skewness with boxcox method \n",
    "l=[]\n",
    "for i in x.columns:\n",
    "    a=stats.boxcox(x[i])[0]\n",
    "    l.append(np.array([a]))\n",
    "X=pd.DataFrame(np.concatenate(l)) # (OR) X=pd.DataFrame(list(map(np.ravel, l)))\n"
   ]
  },
  {
   "cell_type": "code",
   "execution_count": 16,
   "id": "f7f82339",
   "metadata": {},
   "outputs": [],
   "source": [
    "X=X.T"
   ]
  },
  {
   "cell_type": "code",
   "execution_count": 17,
   "id": "8b81165b",
   "metadata": {},
   "outputs": [],
   "source": [
    "X.columns=x.columns"
   ]
  },
  {
   "cell_type": "code",
   "execution_count": 18,
   "id": "6880d7c1",
   "metadata": {
    "scrolled": true
   },
   "outputs": [
    {
     "data": {
      "text/html": [
       "<div>\n",
       "<style scoped>\n",
       "    .dataframe tbody tr th:only-of-type {\n",
       "        vertical-align: middle;\n",
       "    }\n",
       "\n",
       "    .dataframe tbody tr th {\n",
       "        vertical-align: top;\n",
       "    }\n",
       "\n",
       "    .dataframe thead th {\n",
       "        text-align: right;\n",
       "    }\n",
       "</style>\n",
       "<table border=\"1\" class=\"dataframe\">\n",
       "  <thead>\n",
       "    <tr style=\"text-align: right;\">\n",
       "      <th></th>\n",
       "      <th>Area</th>\n",
       "      <th>Perimeter</th>\n",
       "      <th>MajorAxisLength</th>\n",
       "      <th>MinorAxisLength</th>\n",
       "      <th>AspectRation</th>\n",
       "      <th>Eccentricity</th>\n",
       "      <th>ConvexArea</th>\n",
       "      <th>EquivDiameter</th>\n",
       "      <th>Extent</th>\n",
       "      <th>Solidity</th>\n",
       "      <th>roundness</th>\n",
       "      <th>Compactness</th>\n",
       "      <th>ShapeFactor1</th>\n",
       "      <th>ShapeFactor2</th>\n",
       "      <th>ShapeFactor3</th>\n",
       "      <th>ShapeFactor4</th>\n",
       "    </tr>\n",
       "  </thead>\n",
       "  <tbody>\n",
       "    <tr>\n",
       "      <th>0</th>\n",
       "      <td>1.231339</td>\n",
       "      <td>0.712910</td>\n",
       "      <td>0.897720</td>\n",
       "      <td>0.541312</td>\n",
       "      <td>0.173435</td>\n",
       "      <td>-0.241698</td>\n",
       "      <td>1.229491</td>\n",
       "      <td>0.615696</td>\n",
       "      <td>-0.131834</td>\n",
       "      <td>-0.006017</td>\n",
       "      <td>-0.039086</td>\n",
       "      <td>-0.087438</td>\n",
       "      <td>-0.539321</td>\n",
       "      <td>-2.540664</td>\n",
       "      <td>-0.174876</td>\n",
       "      <td>-0.001146</td>\n",
       "    </tr>\n",
       "    <tr>\n",
       "      <th>1</th>\n",
       "      <td>1.231342</td>\n",
       "      <td>0.712916</td>\n",
       "      <td>0.897618</td>\n",
       "      <td>0.541316</td>\n",
       "      <td>0.091140</td>\n",
       "      <td>-0.261399</td>\n",
       "      <td>1.229494</td>\n",
       "      <td>0.615697</td>\n",
       "      <td>-0.126446</td>\n",
       "      <td>-0.006777</td>\n",
       "      <td>-0.093210</td>\n",
       "      <td>-0.046361</td>\n",
       "      <td>-0.539326</td>\n",
       "      <td>-2.522478</td>\n",
       "      <td>-0.092722</td>\n",
       "      <td>-0.001375</td>\n",
       "    </tr>\n",
       "    <tr>\n",
       "      <th>2</th>\n",
       "      <td>1.231347</td>\n",
       "      <td>0.712913</td>\n",
       "      <td>0.897778</td>\n",
       "      <td>0.541313</td>\n",
       "      <td>0.183071</td>\n",
       "      <td>-0.239015</td>\n",
       "      <td>1.229498</td>\n",
       "      <td>0.615699</td>\n",
       "      <td>-0.128094</td>\n",
       "      <td>-0.005835</td>\n",
       "      <td>-0.047730</td>\n",
       "      <td>-0.092110</td>\n",
       "      <td>-0.539323</td>\n",
       "      <td>-2.545246</td>\n",
       "      <td>-0.184219</td>\n",
       "      <td>-0.000863</td>\n",
       "    </tr>\n",
       "    <tr>\n",
       "      <th>3</th>\n",
       "      <td>1.231352</td>\n",
       "      <td>0.712917</td>\n",
       "      <td>0.897750</td>\n",
       "      <td>0.541316</td>\n",
       "      <td>0.138773</td>\n",
       "      <td>-0.250786</td>\n",
       "      <td>1.229506</td>\n",
       "      <td>0.615701</td>\n",
       "      <td>-0.126814</td>\n",
       "      <td>-0.007558</td>\n",
       "      <td>-0.081582</td>\n",
       "      <td>-0.072212</td>\n",
       "      <td>-0.539326</td>\n",
       "      <td>-2.537622</td>\n",
       "      <td>-0.144424</td>\n",
       "      <td>-0.003666</td>\n",
       "    </tr>\n",
       "    <tr>\n",
       "      <th>4</th>\n",
       "      <td>1.231353</td>\n",
       "      <td>0.712912</td>\n",
       "      <td>0.897636</td>\n",
       "      <td>0.541318</td>\n",
       "      <td>0.058306</td>\n",
       "      <td>-0.266995</td>\n",
       "      <td>1.229504</td>\n",
       "      <td>0.615702</td>\n",
       "      <td>-0.129457</td>\n",
       "      <td>-0.005442</td>\n",
       "      <td>-0.014740</td>\n",
       "      <td>-0.029574</td>\n",
       "      <td>-0.539330</td>\n",
       "      <td>-2.518267</td>\n",
       "      <td>-0.059149</td>\n",
       "      <td>-0.000777</td>\n",
       "    </tr>\n",
       "    <tr>\n",
       "      <th>...</th>\n",
       "      <td>...</td>\n",
       "      <td>...</td>\n",
       "      <td>...</td>\n",
       "      <td>...</td>\n",
       "      <td>...</td>\n",
       "      <td>...</td>\n",
       "      <td>...</td>\n",
       "      <td>...</td>\n",
       "      <td>...</td>\n",
       "      <td>...</td>\n",
       "      <td>...</td>\n",
       "      <td>...</td>\n",
       "      <td>...</td>\n",
       "      <td>...</td>\n",
       "      <td>...</td>\n",
       "      <td>...</td>\n",
       "    </tr>\n",
       "    <tr>\n",
       "      <th>13606</th>\n",
       "      <td>1.231421</td>\n",
       "      <td>0.712934</td>\n",
       "      <td>0.898448</td>\n",
       "      <td>0.541317</td>\n",
       "      <td>0.402251</td>\n",
       "      <td>-0.170353</td>\n",
       "      <td>1.229570</td>\n",
       "      <td>0.615730</td>\n",
       "      <td>-0.142353</td>\n",
       "      <td>-0.005615</td>\n",
       "      <td>-0.072371</td>\n",
       "      <td>-0.202509</td>\n",
       "      <td>-0.539328</td>\n",
       "      <td>-2.617050</td>\n",
       "      <td>-0.405017</td>\n",
       "      <td>-0.001410</td>\n",
       "    </tr>\n",
       "    <tr>\n",
       "      <th>13607</th>\n",
       "      <td>1.231421</td>\n",
       "      <td>0.712934</td>\n",
       "      <td>0.898401</td>\n",
       "      <td>0.541319</td>\n",
       "      <td>0.359822</td>\n",
       "      <td>-0.183929</td>\n",
       "      <td>1.229570</td>\n",
       "      <td>0.615730</td>\n",
       "      <td>-0.121616</td>\n",
       "      <td>-0.005487</td>\n",
       "      <td>-0.068301</td>\n",
       "      <td>-0.181235</td>\n",
       "      <td>-0.539331</td>\n",
       "      <td>-2.608086</td>\n",
       "      <td>-0.362469</td>\n",
       "      <td>-0.001534</td>\n",
       "    </tr>\n",
       "    <tr>\n",
       "      <th>13608</th>\n",
       "      <td>1.231421</td>\n",
       "      <td>0.712934</td>\n",
       "      <td>0.898401</td>\n",
       "      <td>0.541319</td>\n",
       "      <td>0.357595</td>\n",
       "      <td>-0.184646</td>\n",
       "      <td>1.229570</td>\n",
       "      <td>0.615730</td>\n",
       "      <td>-0.139457</td>\n",
       "      <td>-0.005741</td>\n",
       "      <td>-0.071011</td>\n",
       "      <td>-0.180738</td>\n",
       "      <td>-0.539331</td>\n",
       "      <td>-2.607931</td>\n",
       "      <td>-0.361475</td>\n",
       "      <td>-0.002478</td>\n",
       "    </tr>\n",
       "    <tr>\n",
       "      <th>13609</th>\n",
       "      <td>1.231421</td>\n",
       "      <td>0.712934</td>\n",
       "      <td>0.898413</td>\n",
       "      <td>0.541318</td>\n",
       "      <td>0.367204</td>\n",
       "      <td>-0.181554</td>\n",
       "      <td>1.229571</td>\n",
       "      <td>0.615730</td>\n",
       "      <td>-0.143938</td>\n",
       "      <td>-0.006260</td>\n",
       "      <td>-0.078741</td>\n",
       "      <td>-0.186228</td>\n",
       "      <td>-0.539330</td>\n",
       "      <td>-2.610262</td>\n",
       "      <td>-0.372456</td>\n",
       "      <td>-0.003255</td>\n",
       "    </tr>\n",
       "    <tr>\n",
       "      <th>13610</th>\n",
       "      <td>1.231421</td>\n",
       "      <td>0.712935</td>\n",
       "      <td>0.898488</td>\n",
       "      <td>0.541316</td>\n",
       "      <td>0.437209</td>\n",
       "      <td>-0.159362</td>\n",
       "      <td>1.229571</td>\n",
       "      <td>0.615730</td>\n",
       "      <td>-0.124989</td>\n",
       "      <td>-0.005811</td>\n",
       "      <td>-0.092311</td>\n",
       "      <td>-0.220194</td>\n",
       "      <td>-0.539326</td>\n",
       "      <td>-2.624554</td>\n",
       "      <td>-0.440388</td>\n",
       "      <td>-0.001563</td>\n",
       "    </tr>\n",
       "  </tbody>\n",
       "</table>\n",
       "<p>13611 rows × 16 columns</p>\n",
       "</div>"
      ],
      "text/plain": [
       "           Area  Perimeter  MajorAxisLength  MinorAxisLength  AspectRation  \\\n",
       "0      1.231339   0.712910         0.897720         0.541312      0.173435   \n",
       "1      1.231342   0.712916         0.897618         0.541316      0.091140   \n",
       "2      1.231347   0.712913         0.897778         0.541313      0.183071   \n",
       "3      1.231352   0.712917         0.897750         0.541316      0.138773   \n",
       "4      1.231353   0.712912         0.897636         0.541318      0.058306   \n",
       "...         ...        ...              ...              ...           ...   \n",
       "13606  1.231421   0.712934         0.898448         0.541317      0.402251   \n",
       "13607  1.231421   0.712934         0.898401         0.541319      0.359822   \n",
       "13608  1.231421   0.712934         0.898401         0.541319      0.357595   \n",
       "13609  1.231421   0.712934         0.898413         0.541318      0.367204   \n",
       "13610  1.231421   0.712935         0.898488         0.541316      0.437209   \n",
       "\n",
       "       Eccentricity  ConvexArea  EquivDiameter    Extent  Solidity  roundness  \\\n",
       "0         -0.241698    1.229491       0.615696 -0.131834 -0.006017  -0.039086   \n",
       "1         -0.261399    1.229494       0.615697 -0.126446 -0.006777  -0.093210   \n",
       "2         -0.239015    1.229498       0.615699 -0.128094 -0.005835  -0.047730   \n",
       "3         -0.250786    1.229506       0.615701 -0.126814 -0.007558  -0.081582   \n",
       "4         -0.266995    1.229504       0.615702 -0.129457 -0.005442  -0.014740   \n",
       "...             ...         ...            ...       ...       ...        ...   \n",
       "13606     -0.170353    1.229570       0.615730 -0.142353 -0.005615  -0.072371   \n",
       "13607     -0.183929    1.229570       0.615730 -0.121616 -0.005487  -0.068301   \n",
       "13608     -0.184646    1.229570       0.615730 -0.139457 -0.005741  -0.071011   \n",
       "13609     -0.181554    1.229571       0.615730 -0.143938 -0.006260  -0.078741   \n",
       "13610     -0.159362    1.229571       0.615730 -0.124989 -0.005811  -0.092311   \n",
       "\n",
       "       Compactness  ShapeFactor1  ShapeFactor2  ShapeFactor3  ShapeFactor4  \n",
       "0        -0.087438     -0.539321     -2.540664     -0.174876     -0.001146  \n",
       "1        -0.046361     -0.539326     -2.522478     -0.092722     -0.001375  \n",
       "2        -0.092110     -0.539323     -2.545246     -0.184219     -0.000863  \n",
       "3        -0.072212     -0.539326     -2.537622     -0.144424     -0.003666  \n",
       "4        -0.029574     -0.539330     -2.518267     -0.059149     -0.000777  \n",
       "...            ...           ...           ...           ...           ...  \n",
       "13606    -0.202509     -0.539328     -2.617050     -0.405017     -0.001410  \n",
       "13607    -0.181235     -0.539331     -2.608086     -0.362469     -0.001534  \n",
       "13608    -0.180738     -0.539331     -2.607931     -0.361475     -0.002478  \n",
       "13609    -0.186228     -0.539330     -2.610262     -0.372456     -0.003255  \n",
       "13610    -0.220194     -0.539326     -2.624554     -0.440388     -0.001563  \n",
       "\n",
       "[13611 rows x 16 columns]"
      ]
     },
     "execution_count": 18,
     "metadata": {},
     "output_type": "execute_result"
    }
   ],
   "source": [
    "X"
   ]
  },
  {
   "cell_type": "code",
   "execution_count": 19,
   "id": "c030f18f",
   "metadata": {},
   "outputs": [
    {
     "data": {
      "text/plain": [
       "[0.02990110290564124,\n",
       " 0.06341511141959827,\n",
       " 0.07642897963122777,\n",
       " -0.005500645124182706,\n",
       " 0.004313920944963301,\n",
       " -0.09043998265465954,\n",
       " 0.03252150617529865,\n",
       " 0.029901145482938506,\n",
       " -0.1023354655321256,\n",
       " -0.13484202055683894,\n",
       " -0.06743355773186387,\n",
       " -0.004882811474295303,\n",
       " 0.006508419333280829,\n",
       " -0.043010664762330925,\n",
       " -0.00488281247309905,\n",
       " -0.3004400523574729]"
      ]
     },
     "execution_count": 19,
     "metadata": {},
     "output_type": "execute_result"
    }
   ],
   "source": [
    "#checking the skewness after boxcox, the skewness is much reduced\n",
    "skew_X=[ X[i].skew() for i in X.columns]\n",
    "skew_X"
   ]
  },
  {
   "cell_type": "code",
   "execution_count": 20,
   "id": "b837f04c",
   "metadata": {
    "scrolled": true
   },
   "outputs": [],
   "source": [
    "# #plotting the boxplot and distplot to see outliers and skewness after applying boxcox\n",
    "# j=1\n",
    "# plt.figure(figsize=(20,40))\n",
    "# for i in X.columns:\n",
    "#     plt.subplot(16,2,j)\n",
    "#     sns.boxplot(X[i])\n",
    "#     plt.title(i,color='white')\n",
    "#     j=j+1\n",
    "#     plt.subplot(16,2,j)\n",
    "#     sns.distplot(X[i])\n",
    "#     j=j+1"
   ]
  },
  {
   "cell_type": "code",
   "execution_count": 21,
   "id": "13ee6937",
   "metadata": {
    "scrolled": true
   },
   "outputs": [],
   "source": [
    "# # comparing the distribution of data before and after boxcox\n",
    "# j=1\n",
    "# plt.figure(figsize=(20,40))\n",
    "# for i in X.columns:\n",
    "#     plt.subplot(16,2,j)\n",
    "#     sns.distplot(x[i])\n",
    "#     plt.title(i,color='white')\n",
    "#     j=j+1\n",
    "#     plt.subplot(16,2,j)\n",
    "#     sns.distplot(X[i])\n",
    "#     j=j+1"
   ]
  },
  {
   "cell_type": "code",
   "execution_count": 22,
   "id": "36fcb129",
   "metadata": {},
   "outputs": [],
   "source": [
    "#applying log function to reduce skewness\n",
    "l2=[]\n",
    "for i in x.columns:\n",
    "    a=np.log(x[i])\n",
    "    l2.append(np.array([a]))\n",
    "X2=pd.DataFrame(np.concatenate(l2))"
   ]
  },
  {
   "cell_type": "code",
   "execution_count": 23,
   "id": "f80b58e3",
   "metadata": {},
   "outputs": [],
   "source": [
    "X2=X2.T"
   ]
  },
  {
   "cell_type": "code",
   "execution_count": 24,
   "id": "c223af10",
   "metadata": {},
   "outputs": [
    {
     "data": {
      "text/plain": [
       "[1.0713736451735576,\n",
       " 0.8428859219481006,\n",
       " 0.6294854107396839,\n",
       " 1.3087133132966795,\n",
       " 0.17505058074110946,\n",
       " -1.6305372805165292,\n",
       " 1.0660485957942931,\n",
       " 1.071373645156213,\n",
       " -1.0942297589021608,\n",
       " -2.611098146591883,\n",
       " -0.87684529181037,\n",
       " -0.16790472499351064,\n",
       " -1.3107459282787397,\n",
       " -0.21826904726699448,\n",
       " -0.1679047248191372,\n",
       " -2.809662958807288]"
      ]
     },
     "execution_count": 24,
     "metadata": {},
     "output_type": "execute_result"
    }
   ],
   "source": [
    "X2.columns=x.columns\n",
    "#checking the skwness after log function, skewness is reduced but not as much as boxcox did.\n",
    "skew_X2=[ X2[i].skew() for i in X2.columns]\n",
    "skew_X2"
   ]
  },
  {
   "cell_type": "code",
   "execution_count": 25,
   "id": "14880d1a",
   "metadata": {},
   "outputs": [],
   "source": [
    "# # comparing the distribution of data before and after applying log\n",
    "# j=1\n",
    "# plt.figure(figsize=(20,40))\n",
    "# for i in X2.columns:\n",
    "#     plt.subplot(16,2,j)\n",
    "#     sns.distplot(x[i])\n",
    "#     plt.title(i,color='white')\n",
    "#     j=j+1\n",
    "#     plt.subplot(16,2,j)\n",
    "#     sns.distplot(X2[i])\n",
    "#     j=j+1"
   ]
  },
  {
   "cell_type": "code",
   "execution_count": 26,
   "id": "f2b74732",
   "metadata": {},
   "outputs": [],
   "source": [
    "# #plotting boxplot and distributon plot, as the outliers are not get treated in this log function\n",
    "# j=1\n",
    "# plt.figure(figsize=(20,40))\n",
    "# for i in X2.columns:\n",
    "#     plt.subplot(16,2,j)\n",
    "#     sns.boxplot(X2[i])\n",
    "#     plt.title(i,color='white')\n",
    "#     j=j+1\n",
    "#     plt.subplot(16,2,j)\n",
    "#     sns.distplot(X2[i])\n",
    "#     j=j+1"
   ]
  },
  {
   "cell_type": "code",
   "execution_count": 27,
   "id": "d3ae498e",
   "metadata": {},
   "outputs": [],
   "source": [
    "# applyin sqrt function to reduce skewness\n",
    "l3=[]\n",
    "for i in x.columns:\n",
    "    a=np.sqrt(x[i])\n",
    "    l3.append(np.array([a]))\n",
    "X3=pd.DataFrame(np.concatenate(l3))"
   ]
  },
  {
   "cell_type": "code",
   "execution_count": 28,
   "id": "bced479e",
   "metadata": {},
   "outputs": [],
   "source": [
    "X3=X3.T\n",
    "X3.columns=x.columns\n"
   ]
  },
  {
   "cell_type": "code",
   "execution_count": 29,
   "id": "521d99ec",
   "metadata": {},
   "outputs": [
    {
     "data": {
      "text/plain": [
       "[1.9489576095229217,\n",
       " 1.2066107548938152,\n",
       " 0.9593783120199585,\n",
       " 1.7582891543855028,\n",
       " 0.3800167669711733,\n",
       " -1.3185450385814397,\n",
       " 1.9385738579751217,\n",
       " 1.4874834228448937,\n",
       " -0.9925174422654942,\n",
       " -2.5802456136491694,\n",
       " -0.749046139060767,\n",
       " -0.0655156841185551,\n",
       " -0.901427709392702,\n",
       " 0.041152680027275054,\n",
       " 0.037115458188896354,\n",
       " -2.7843851103212995]"
      ]
     },
     "execution_count": 29,
     "metadata": {},
     "output_type": "execute_result"
    }
   ],
   "source": [
    "#checking skewness after applying sqrt, the result is same as log function did.\n",
    "skew_X3=[ X3[i].skew() for i in X3.columns]\n",
    "skew_X3"
   ]
  },
  {
   "cell_type": "code",
   "execution_count": 30,
   "id": "99f77a55",
   "metadata": {},
   "outputs": [],
   "source": [
    "# # comparing the plots before and after the sqrt \n",
    "# j=1\n",
    "# plt.figure(figsize=(20,40))\n",
    "# for i in X3.columns:\n",
    "#     plt.subplot(16,2,j)\n",
    "#     sns.distplot(x[i])\n",
    "#     plt.title(i,color='white')\n",
    "#     j=j+1\n",
    "#     plt.subplot(16,2,j)\n",
    "#     sns.distplot(X3[i])\n",
    "#     j=j+1"
   ]
  },
  {
   "cell_type": "code",
   "execution_count": 31,
   "id": "9a60e7fb",
   "metadata": {
    "scrolled": true
   },
   "outputs": [],
   "source": [
    "# #plotting boxplot and distplot to check outliers, in this too outliers are not treated as much\n",
    "# j=1\n",
    "# plt.figure(figsize=(20,40))\n",
    "# for i in X3.columns:\n",
    "#     plt.subplot(16,2,j)\n",
    "#     sns.boxplot(X3[i])\n",
    "#     plt.title(i,color='white')\n",
    "#     j=j+1\n",
    "#     plt.subplot(16,2,j)\n",
    "#     sns.distplot(X3[i])\n",
    "#     j=j+1"
   ]
  },
  {
   "cell_type": "code",
   "execution_count": 32,
   "id": "192c4e44",
   "metadata": {
    "scrolled": true
   },
   "outputs": [
    {
     "data": {
      "text/plain": [
       "DERMASON    3546\n",
       "SIRA        2636\n",
       "SEKER       2027\n",
       "HOROZ       1928\n",
       "CALI        1630\n",
       "BARBUNYA    1322\n",
       "BOMBAY       522\n",
       "Name: Class, dtype: int64"
      ]
     },
     "execution_count": 32,
     "metadata": {},
     "output_type": "execute_result"
    }
   ],
   "source": [
    "#checking imbalance dataset or not \n",
    "df['Class'].value_counts()"
   ]
  },
  {
   "cell_type": "code",
   "execution_count": 33,
   "id": "2dc9f038",
   "metadata": {},
   "outputs": [],
   "source": [
    "from imblearn.over_sampling import SMOTE\n",
    "# smote=SMOTE()\n",
    "# X,y=smote.fit_resample(X,y1)   "
   ]
  },
  {
   "cell_type": "code",
   "execution_count": 35,
   "id": "e84beafd",
   "metadata": {},
   "outputs": [],
   "source": [
    "smote=SMOTE()\n",
    "X2,y2=smote.fit_resample(X2,y)"
   ]
  },
  {
   "cell_type": "code",
   "execution_count": 36,
   "id": "41a66929",
   "metadata": {},
   "outputs": [],
   "source": [
    "# y.value_counts()"
   ]
  },
  {
   "cell_type": "code",
   "execution_count": 37,
   "id": "98e5bbf2",
   "metadata": {},
   "outputs": [],
   "source": [
    "#train test split for boxcox skewed dataframe\n",
    "from sklearn.model_selection import train_test_split\n",
    "X_train,X_test,y_train,y_test = train_test_split(X,y,test_size=0.3)"
   ]
  },
  {
   "cell_type": "code",
   "execution_count": 38,
   "id": "5496f218",
   "metadata": {},
   "outputs": [],
   "source": [
    "#train test split for log skewed dataframe\n",
    "from sklearn.model_selection import train_test_split\n",
    "X_train_2,X_test_2,y_train_2,y_test_2 = train_test_split(X2,y2,test_size=0.3)"
   ]
  },
  {
   "cell_type": "code",
   "execution_count": null,
   "id": "781315b0",
   "metadata": {},
   "outputs": [],
   "source": []
  },
  {
   "cell_type": "code",
   "execution_count": 39,
   "id": "c1cbdc05",
   "metadata": {},
   "outputs": [],
   "source": [
    "# importing all the necessary libraries to build a models\n",
    "from sklearn.linear_model import LogisticRegression\n",
    "from sklearn.tree import DecisionTreeClassifier\n",
    "from sklearn.neighbors import KNeighborsClassifier\n",
    "from sklearn.naive_bayes import GaussianNB\n",
    "from sklearn.ensemble import RandomForestClassifier\n",
    "from sklearn.model_selection import GridSearchCV\n",
    "from sklearn.metrics import accuracy_score,classification_report,confusion_matrix"
   ]
  },
  {
   "cell_type": "code",
   "execution_count": null,
   "id": "293c9e39",
   "metadata": {},
   "outputs": [],
   "source": []
  },
  {
   "cell_type": "markdown",
   "id": "9d22a303",
   "metadata": {},
   "source": [
    "This are all for Boxcox dataframes"
   ]
  },
  {
   "cell_type": "code",
   "execution_count": 40,
   "id": "3db0a9ae",
   "metadata": {},
   "outputs": [
    {
     "data": {
      "text/plain": [
       "{'C': 16}"
      ]
     },
     "execution_count": 40,
     "metadata": {},
     "output_type": "execute_result"
    }
   ],
   "source": [
    "#hyperparameter tuning for logisticRegression\n",
    "g_log=GridSearchCV(LogisticRegression(),{\n",
    "    'C':[1,2,3,4,5,6,7,8,9,10,11,12,13,14,15,16]\n",
    "})\n",
    "g_log.fit(X,y)\n",
    "a=g_log.best_params_\n",
    "a"
   ]
  },
  {
   "cell_type": "code",
   "execution_count": 41,
   "id": "aa20ba4a",
   "metadata": {},
   "outputs": [],
   "source": [
    "#LogisticRegression\n",
    "log=LogisticRegression(C=a['C'])\n",
    "log.fit(X_train,y_train)\n",
    "y_pred_log = log.predict(X_test)\n"
   ]
  },
  {
   "cell_type": "code",
   "execution_count": 42,
   "id": "37011a38",
   "metadata": {},
   "outputs": [
    {
     "data": {
      "text/plain": [
       "0.8000419859347119"
      ]
     },
     "execution_count": 42,
     "metadata": {},
     "output_type": "execute_result"
    }
   ],
   "source": [
    "#Training dataset accuracy\n",
    "y_pred_train=log.predict(X_train)\n",
    "accuracy_score(y_train,y_pred_train)"
   ]
  },
  {
   "cell_type": "code",
   "execution_count": 43,
   "id": "3f492cf3",
   "metadata": {},
   "outputs": [
    {
     "name": "stdout",
     "output_type": "stream",
     "text": [
      "[[ 332    0   26    1    2    5   36]\n",
      " [  21   80   61    0    0    3    0]\n",
      " [   7    0  341    2   39    1   95]\n",
      " [  17    0    5 1012    2   24   46]\n",
      " [   1    0   34    2  502    0    9]\n",
      " [  14    0    0   47    0  522    7]\n",
      " [   8    0   60  219    4    6  491]]\n",
      "AxesSubplot(0.125,0.125;0.62x0.755)\n",
      "              precision    recall  f1-score   support\n",
      "\n",
      "    BARBUNYA       0.83      0.83      0.83       402\n",
      "      BOMBAY       1.00      0.48      0.65       165\n",
      "        CALI       0.65      0.70      0.67       485\n",
      "    DERMASON       0.79      0.92      0.85      1106\n",
      "       HOROZ       0.91      0.92      0.92       548\n",
      "       SEKER       0.93      0.88      0.91       590\n",
      "        SIRA       0.72      0.62      0.67       788\n",
      "\n",
      "    accuracy                           0.80      4084\n",
      "   macro avg       0.83      0.76      0.78      4084\n",
      "weighted avg       0.81      0.80      0.80      4084\n",
      "\n"
     ]
    },
    {
     "data": {
      "image/png": "[encoded data removed]",
      "text/plain": [
       "<Figure size 432x288 with 2 Axes>"
      ]
     },
     "metadata": {
      "needs_background": "light"
     },
     "output_type": "display_data"
    }
   ],
   "source": [
    "cm_log = confusion_matrix(y_test,y_pred_log)\n",
    "print(cm_log)\n",
    "print(sns.heatmap(cm_log , annot=True))\n",
    "print(classification_report(y_test,y_pred_log) )"
   ]
  },
  {
   "cell_type": "code",
   "execution_count": 44,
   "id": "b960a906",
   "metadata": {},
   "outputs": [
    {
     "data": {
      "text/plain": [
       "{'criterion': 'entropy', 'splitter': 'best'}"
      ]
     },
     "execution_count": 44,
     "metadata": {},
     "output_type": "execute_result"
    }
   ],
   "source": [
    "#hyperparameter tuning for DecessionTreeClassifier\n",
    "g_dtc=GridSearchCV(DecisionTreeClassifier(),{\n",
    "    \"criterion\":['gini', 'entropy','log_loss'],\"splitter\":[\"best\", 'random']\n",
    "    })\n",
    "g_dtc.fit(X,y)\n",
    "a=g_dtc.best_params_\n",
    "a"
   ]
  },
  {
   "cell_type": "code",
   "execution_count": 45,
   "id": "24f574e4",
   "metadata": {},
   "outputs": [],
   "source": [
    "#DecessionTreeClassifier\n",
    "dtc=DecisionTreeClassifier(criterion=a['criterion'],splitter=a['splitter'])\n",
    "dtc.fit(X_train,y_train)\n",
    "y_pred_dtc = dtc.predict(X_test)\n"
   ]
  },
  {
   "cell_type": "code",
   "execution_count": 46,
   "id": "39847be2",
   "metadata": {},
   "outputs": [
    {
     "data": {
      "text/plain": [
       "1.0"
      ]
     },
     "execution_count": 46,
     "metadata": {},
     "output_type": "execute_result"
    }
   ],
   "source": [
    "#Training dataset accuracy\n",
    "y_pred_train=dtc.predict(X_train)\n",
    "accuracy_score(y_train,y_pred_train)"
   ]
  },
  {
   "cell_type": "code",
   "execution_count": 47,
   "id": "f23dd2c6",
   "metadata": {},
   "outputs": [
    {
     "name": "stdout",
     "output_type": "stream",
     "text": [
      "[[352   1  27   0   4   8  10]\n",
      " [  0 165   0   0   0   0   0]\n",
      " [ 28   0 439   0  11   2   5]\n",
      " [  0   0   0 998   4  21  83]\n",
      " [  0   0  18   5 508   1  16]\n",
      " [  4   0   1  12   0 550  23]\n",
      " [  8   0   9  78  21  15 657]]\n",
      "AxesSubplot(0.125,0.125;0.62x0.755)\n",
      "              precision    recall  f1-score   support\n",
      "\n",
      "    BARBUNYA       0.90      0.88      0.89       402\n",
      "      BOMBAY       0.99      1.00      1.00       165\n",
      "        CALI       0.89      0.91      0.90       485\n",
      "    DERMASON       0.91      0.90      0.91      1106\n",
      "       HOROZ       0.93      0.93      0.93       548\n",
      "       SEKER       0.92      0.93      0.93       590\n",
      "        SIRA       0.83      0.83      0.83       788\n",
      "\n",
      "    accuracy                           0.90      4084\n",
      "   macro avg       0.91      0.91      0.91      4084\n",
      "weighted avg       0.90      0.90      0.90      4084\n",
      "\n"
     ]
    },
    {
     "data": {
      "image/png": "[encoded data removed]",
      "text/plain": [
       "<Figure size 432x288 with 2 Axes>"
      ]
     },
     "metadata": {
      "needs_background": "light"
     },
     "output_type": "display_data"
    }
   ],
   "source": [
    "cm_dtc = confusion_matrix(y_test,y_pred_dtc)\n",
    "print(cm_dtc)\n",
    "print(sns.heatmap(cm_dtc , annot=True))\n",
    "print(classification_report(y_test,y_pred_dtc))"
   ]
  },
  {
   "cell_type": "code",
   "execution_count": 48,
   "id": "7f077c62",
   "metadata": {},
   "outputs": [
    {
     "data": {
      "text/plain": [
       "{'n_neighbors': 10, 'weights': 'uniform'}"
      ]
     },
     "execution_count": 48,
     "metadata": {},
     "output_type": "execute_result"
    }
   ],
   "source": [
    "#hyperparameter tuning for KNNClassifier\n",
    "g_knn=GridSearchCV(KNeighborsClassifier(),{\n",
    "    \"n_neighbors\":[1,2,3,4.5,6,7,8,9,10],'weights':['uniform','distance']\n",
    "})\n",
    "g_knn.fit(X,y)\n",
    "a=g_knn.best_params_\n",
    "a"
   ]
  },
  {
   "cell_type": "code",
   "execution_count": 49,
   "id": "5ce53f13",
   "metadata": {},
   "outputs": [],
   "source": [
    "#KNNClassifier\n",
    "knn = KNeighborsClassifier(n_neighbors=a['n_neighbors'],weights=a['weights'])\n",
    "knn.fit(X_train,y_train)\n",
    "y_pred_knn = knn.predict(X_test)"
   ]
  },
  {
   "cell_type": "code",
   "execution_count": 50,
   "id": "19f6a770",
   "metadata": {},
   "outputs": [
    {
     "data": {
      "text/plain": [
       "0.9209614779049019"
      ]
     },
     "execution_count": 50,
     "metadata": {},
     "output_type": "execute_result"
    }
   ],
   "source": [
    "#Training dataset accuracy\n",
    "y_pred_train=knn.predict(X_train)\n",
    "accuracy_score(y_train,y_pred_train)"
   ]
  },
  {
   "cell_type": "code",
   "execution_count": 51,
   "id": "fd6fbf7f",
   "metadata": {},
   "outputs": [
    {
     "name": "stdout",
     "output_type": "stream",
     "text": [
      "[[ 353    0   29    0    2    2   16]\n",
      " [   2  163    0    0    0    0    0]\n",
      " [  13    0  450    0   10    1   11]\n",
      " [   2    0    0 1015    2   19   68]\n",
      " [   3    0   22    1  505    0   17]\n",
      " [   6    0    0   15    0  550   19]\n",
      " [   7    0    4   64    6    6  701]]\n",
      "AxesSubplot(0.125,0.125;0.62x0.755)\n",
      "              precision    recall  f1-score   support\n",
      "\n",
      "    BARBUNYA       0.91      0.88      0.90       402\n",
      "      BOMBAY       1.00      0.99      0.99       165\n",
      "        CALI       0.89      0.93      0.91       485\n",
      "    DERMASON       0.93      0.92      0.92      1106\n",
      "       HOROZ       0.96      0.92      0.94       548\n",
      "       SEKER       0.95      0.93      0.94       590\n",
      "        SIRA       0.84      0.89      0.87       788\n",
      "\n",
      "    accuracy                           0.92      4084\n",
      "   macro avg       0.93      0.92      0.92      4084\n",
      "weighted avg       0.92      0.92      0.92      4084\n",
      "\n"
     ]
    },
    {
     "data": {
      "image/png": "[encoded data removed]",
      "text/plain": [
       "<Figure size 432x288 with 2 Axes>"
      ]
     },
     "metadata": {
      "needs_background": "light"
     },
     "output_type": "display_data"
    }
   ],
   "source": [
    "cm_knn = confusion_matrix(y_test,y_pred_knn)\n",
    "print(cm_knn)\n",
    "print(sns.heatmap(cm_knn , annot=True))\n",
    "print(classification_report(y_test,y_pred_knn) )"
   ]
  },
  {
   "cell_type": "code",
   "execution_count": 52,
   "id": "4d55a1cd",
   "metadata": {},
   "outputs": [],
   "source": [
    "#NaiveBayes Classifier\n",
    "GNB = GaussianNB()\n",
    "GNB.fit(X_train,y_train)\n",
    "y_pred_GNB = GNB.predict(X_test)\n"
   ]
  },
  {
   "cell_type": "code",
   "execution_count": 53,
   "id": "09bf7a31",
   "metadata": {},
   "outputs": [
    {
     "data": {
      "text/plain": [
       "0.8913613939330325"
      ]
     },
     "execution_count": 53,
     "metadata": {},
     "output_type": "execute_result"
    }
   ],
   "source": [
    "#Training dataset accuracy\n",
    "y_pred_train=GNB.predict(X_train)\n",
    "accuracy_score(y_train,y_pred_train)"
   ]
  },
  {
   "cell_type": "code",
   "execution_count": 54,
   "id": "fcc0f6ff",
   "metadata": {},
   "outputs": [
    {
     "name": "stdout",
     "output_type": "stream",
     "text": [
      "[[319   0  60   0   2   2  19]\n",
      " [  0 165   0   0   0   0   0]\n",
      " [ 27   0 447   0   7   1   3]\n",
      " [  0   0   0 940   1  24 141]\n",
      " [  2   0  12   4 517   0  13]\n",
      " [  1   0   0   4   0 555  30]\n",
      " [  4   0   5  43  12   7 717]]\n",
      "AxesSubplot(0.125,0.125;0.62x0.755)\n",
      "              precision    recall  f1-score   support\n",
      "\n",
      "    BARBUNYA       0.90      0.79      0.85       402\n",
      "      BOMBAY       1.00      1.00      1.00       165\n",
      "        CALI       0.85      0.92      0.89       485\n",
      "    DERMASON       0.95      0.85      0.90      1106\n",
      "       HOROZ       0.96      0.94      0.95       548\n",
      "       SEKER       0.94      0.94      0.94       590\n",
      "        SIRA       0.78      0.91      0.84       788\n",
      "\n",
      "    accuracy                           0.90      4084\n",
      "   macro avg       0.91      0.91      0.91      4084\n",
      "weighted avg       0.90      0.90      0.90      4084\n",
      "\n"
     ]
    },
    {
     "data": {
      "image/png": "[encoded data removed]",
      "text/plain": [
       "<Figure size 432x288 with 2 Axes>"
      ]
     },
     "metadata": {
      "needs_background": "light"
     },
     "output_type": "display_data"
    }
   ],
   "source": [
    "cm_GNB = confusion_matrix(y_test,y_pred_GNB)\n",
    "print(cm_GNB)\n",
    "print(sns.heatmap(cm_GNB , annot=True))\n",
    "print(classification_report(y_test,y_pred_GNB) )"
   ]
  },
  {
   "cell_type": "code",
   "execution_count": 55,
   "id": "6b92321d",
   "metadata": {},
   "outputs": [
    {
     "data": {
      "text/plain": [
       "{'criterion': 'entropy'}"
      ]
     },
     "execution_count": 55,
     "metadata": {},
     "output_type": "execute_result"
    }
   ],
   "source": [
    "#hyperparameter tuning for RandomforestClassifier\n",
    "g_rfc=GridSearchCV(RandomForestClassifier(),{\n",
    "    \"criterion\":['gini', 'entropy','log_loss']\n",
    "    })\n",
    "g_rfc.fit(X,y)\n",
    "a=g_rfc.best_params_\n",
    "a"
   ]
  },
  {
   "cell_type": "code",
   "execution_count": 56,
   "id": "1bf4ff21",
   "metadata": {},
   "outputs": [],
   "source": [
    "rfc=RandomForestClassifier(criterion=a['criterion'])\n",
    "rfc.fit(X_train,y_train)\n",
    "y_pred_rfc=rfc.predict(X_test)"
   ]
  },
  {
   "cell_type": "code",
   "execution_count": 57,
   "id": "499bca7e",
   "metadata": {},
   "outputs": [
    {
     "data": {
      "text/plain": [
       "1.0"
      ]
     },
     "execution_count": 57,
     "metadata": {},
     "output_type": "execute_result"
    }
   ],
   "source": [
    "#Training dataset accuracy\n",
    "y_pred_train=rfc.predict(X_train)\n",
    "accuracy_score(y_train,y_pred_train)"
   ]
  },
  {
   "cell_type": "code",
   "execution_count": 58,
   "id": "7c2d89ae",
   "metadata": {
    "scrolled": true
   },
   "outputs": [
    {
     "name": "stdout",
     "output_type": "stream",
     "text": [
      "[[ 368    1   19    0    2    3    9]\n",
      " [   0  165    0    0    0    0    0]\n",
      " [  20    0  453    0    7    2    3]\n",
      " [   0    0    0 1026    3   14   63]\n",
      " [   1    0    7    4  521    0   15]\n",
      " [   3    0    0   12    0  562   13]\n",
      " [   2    0    5   69   14    6  692]]\n",
      "AxesSubplot(0.125,0.125;0.62x0.755)\n",
      "              precision    recall  f1-score   support\n",
      "\n",
      "    BARBUNYA       0.93      0.92      0.92       402\n",
      "      BOMBAY       0.99      1.00      1.00       165\n",
      "        CALI       0.94      0.93      0.93       485\n",
      "    DERMASON       0.92      0.93      0.93      1106\n",
      "       HOROZ       0.95      0.95      0.95       548\n",
      "       SEKER       0.96      0.95      0.95       590\n",
      "        SIRA       0.87      0.88      0.87       788\n",
      "\n",
      "    accuracy                           0.93      4084\n",
      "   macro avg       0.94      0.94      0.94      4084\n",
      "weighted avg       0.93      0.93      0.93      4084\n",
      "\n"
     ]
    },
    {
     "data": {
      "image/png": "[encoded data removed]",
      "text/plain": [
       "<Figure size 432x288 with 2 Axes>"
      ]
     },
     "metadata": {
      "needs_background": "light"
     },
     "output_type": "display_data"
    }
   ],
   "source": [
    "cm_rfc = confusion_matrix(y_test,y_pred_rfc)\n",
    "print(cm_rfc)\n",
    "print(sns.heatmap(cm_rfc , annot=True))\n",
    "print(classification_report(y_test,y_pred_rfc))"
   ]
  },
  {
   "cell_type": "code",
   "execution_count": 59,
   "id": "5c1c0ef4",
   "metadata": {},
   "outputs": [
    {
     "data": {
      "text/plain": [
       "<matplotlib.legend.Legend at 0x22880746d60>"
      ]
     },
     "execution_count": 59,
     "metadata": {},
     "output_type": "execute_result"
    },
    {
     "data": {
      "image/png": "[encoded data removed]",
      "text/plain": [
       "<Figure size 720x504 with 1 Axes>"
      ]
     },
     "metadata": {
      "needs_background": "light"
     },
     "output_type": "display_data"
    }
   ],
   "source": [
    "plt.figure(figsize=(10,7))\n",
    "plt.hist([y_test,y_pred_rfc],rwidth=0.95 , color=['green','red'] , label=['y_test','y_pred'])\n",
    "plt.legend()"
   ]
  },
  {
   "cell_type": "code",
   "execution_count": null,
   "id": "ab94ba52",
   "metadata": {},
   "outputs": [],
   "source": []
  },
  {
   "cell_type": "markdown",
   "id": "36f3eb5a",
   "metadata": {},
   "source": [
    "This is for log dataframe"
   ]
  },
  {
   "cell_type": "code",
   "execution_count": 60,
   "id": "a8316975",
   "metadata": {},
   "outputs": [
    {
     "data": {
      "text/plain": [
       "{'criterion': 'entropy'}"
      ]
     },
     "execution_count": 60,
     "metadata": {},
     "output_type": "execute_result"
    }
   ],
   "source": [
    "g_rfc=GridSearchCV(RandomForestClassifier(),{\n",
    "    \"criterion\":['gini', 'entropy','log_loss']\n",
    "    })\n",
    "g_rfc.fit(X2,y2)\n",
    "a=g_rfc.best_params_\n",
    "a"
   ]
  },
  {
   "cell_type": "code",
   "execution_count": 61,
   "id": "d8bf46f0",
   "metadata": {},
   "outputs": [],
   "source": [
    "rfc=RandomForestClassifier(criterion=a['criterion'])\n",
    "rfc.fit(X_train_2,y_train_2)\n",
    "y_pred_rfc=rfc.predict(X_test_2)"
   ]
  },
  {
   "cell_type": "code",
   "execution_count": 62,
   "id": "7186a914",
   "metadata": {},
   "outputs": [
    {
     "data": {
      "text/plain": [
       "1.0"
      ]
     },
     "execution_count": 62,
     "metadata": {},
     "output_type": "execute_result"
    }
   ],
   "source": [
    "#Training dataset accuracy\n",
    "y_pred_train=rfc.predict(X_train_2)\n",
    "accuracy_score(y_train_2,y_pred_train)"
   ]
  },
  {
   "cell_type": "code",
   "execution_count": 63,
   "id": "9d344408",
   "metadata": {
    "scrolled": true
   },
   "outputs": [
    {
     "name": "stdout",
     "output_type": "stream",
     "text": [
      "[[1082    0   31    1    1    6   12]\n",
      " [   0 1023    0    0    0    0    0]\n",
      " [  13    0 1015    0    9    2    1]\n",
      " [   0    0    0  990    2   14   90]\n",
      " [   4    0   11    7  993    0   13]\n",
      " [   4    0    0   10    0 1035   13]\n",
      " [   4    0    1   39   14   15  992]]\n",
      "AxesSubplot(0.125,0.125;0.62x0.755)\n",
      "              precision    recall  f1-score   support\n",
      "\n",
      "    BARBUNYA       0.98      0.95      0.97      1133\n",
      "      BOMBAY       1.00      1.00      1.00      1023\n",
      "        CALI       0.96      0.98      0.97      1040\n",
      "    DERMASON       0.95      0.90      0.92      1096\n",
      "       HOROZ       0.97      0.97      0.97      1028\n",
      "       SEKER       0.97      0.97      0.97      1062\n",
      "        SIRA       0.88      0.93      0.91      1065\n",
      "\n",
      "    accuracy                           0.96      7447\n",
      "   macro avg       0.96      0.96      0.96      7447\n",
      "weighted avg       0.96      0.96      0.96      7447\n",
      "\n"
     ]
    },
    {
     "data": {
      "image/png": "[encoded data removed]",
      "text/plain": [
       "<Figure size 432x288 with 2 Axes>"
      ]
     },
     "metadata": {
      "needs_background": "light"
     },
     "output_type": "display_data"
    }
   ],
   "source": [
    "cm_rfc = confusion_matrix(y_test_2,y_pred_rfc)\n",
    "print(cm_rfc)\n",
    "print(sns.heatmap(cm_rfc , annot=True))\n",
    "print(classification_report(y_test_2,y_pred_rfc))"
   ]
  },
  {
   "cell_type": "code",
   "execution_count": 64,
   "id": "54642498",
   "metadata": {},
   "outputs": [
    {
     "data": {
      "text/plain": [
       "{'n_neighbors': 3, 'weights': 'distance'}"
      ]
     },
     "execution_count": 64,
     "metadata": {},
     "output_type": "execute_result"
    }
   ],
   "source": [
    "#hyperparameter tuning for KNNClassifier\n",
    "g_knn=GridSearchCV(KNeighborsClassifier(),{\n",
    "    \"n_neighbors\":[1,2,3,4.5,6,7,8,9,10],'weights':['uniform','distance']\n",
    "})\n",
    "g_knn.fit(X2,y2)\n",
    "a=g_knn.best_params_\n",
    "a"
   ]
  },
  {
   "cell_type": "code",
   "execution_count": 65,
   "id": "a9e4a8dc",
   "metadata": {},
   "outputs": [],
   "source": [
    "#KNNClassifier\n",
    "knn = KNeighborsClassifier(n_neighbors=a['n_neighbors'],weights=a['weights'])\n",
    "knn.fit(X_train_2,y_train_2)\n",
    "y_pred_knn = knn.predict(X_test_2)"
   ]
  },
  {
   "cell_type": "code",
   "execution_count": 66,
   "id": "efacbb58",
   "metadata": {},
   "outputs": [
    {
     "data": {
      "text/plain": [
       "1.0"
      ]
     },
     "execution_count": 66,
     "metadata": {},
     "output_type": "execute_result"
    }
   ],
   "source": [
    "#Training dataset accuracy\n",
    "y_pred_train=knn.predict(X_train_2)\n",
    "accuracy_score(y_train_2,y_pred_train)"
   ]
  },
  {
   "cell_type": "code",
   "execution_count": 67,
   "id": "5e8ce737",
   "metadata": {
    "scrolled": true
   },
   "outputs": [
    {
     "name": "stdout",
     "output_type": "stream",
     "text": [
      "[[1082    0   38    0    1    4    8]\n",
      " [   0 1023    0    0    0    0    0]\n",
      " [  22    0 1012    0    3    2    1]\n",
      " [   0    0    0  947    4   28  117]\n",
      " [   5    0    8    5  990    0   20]\n",
      " [   3    0    2    7    1 1034   15]\n",
      " [   3    0    3   53   16   26  964]]\n",
      "AxesSubplot(0.125,0.125;0.62x0.755)\n",
      "              precision    recall  f1-score   support\n",
      "\n",
      "    BARBUNYA       0.97      0.95      0.96      1133\n",
      "      BOMBAY       1.00      1.00      1.00      1023\n",
      "        CALI       0.95      0.97      0.96      1040\n",
      "    DERMASON       0.94      0.86      0.90      1096\n",
      "       HOROZ       0.98      0.96      0.97      1028\n",
      "       SEKER       0.95      0.97      0.96      1062\n",
      "        SIRA       0.86      0.91      0.88      1065\n",
      "\n",
      "    accuracy                           0.95      7447\n",
      "   macro avg       0.95      0.95      0.95      7447\n",
      "weighted avg       0.95      0.95      0.95      7447\n",
      "\n"
     ]
    },
    {
     "data": {
      "image/png": "[encoded data removed]",
      "text/plain": [
       "<Figure size 432x288 with 2 Axes>"
      ]
     },
     "metadata": {
      "needs_background": "light"
     },
     "output_type": "display_data"
    }
   ],
   "source": [
    "cm_knn = confusion_matrix(y_test_2,y_pred_knn)\n",
    "print(cm_knn)\n",
    "print(sns.heatmap(cm_knn , annot=True))\n",
    "print(classification_report(y_test_2,y_pred_knn) )"
   ]
  },
  {
   "cell_type": "markdown",
   "id": "d8bc974f",
   "metadata": {},
   "source": [
    "as a result the accuracy getting for boxcox and log are almost same i.e 92% or 93%,                    \n",
    "but the model is over fitted i.e train dataset accuracy is 100%.                      \n",
    "And in log and sqrt the outliers are not treated well and skewness is more as compared to boxcox,           \n",
    "but still gives the same accuracy as like a Boxcox gives."
   ]
  },
  {
   "cell_type": "code",
   "execution_count": null,
   "id": "8f09d654",
   "metadata": {},
   "outputs": [],
   "source": []
  },
  {
   "cell_type": "code",
   "execution_count": 68,
   "id": "9fc97de3",
   "metadata": {},
   "outputs": [
    {
     "data": {
      "text/plain": [
       "<matplotlib.legend.Legend at 0x228804f24f0>"
      ]
     },
     "execution_count": 68,
     "metadata": {},
     "output_type": "execute_result"
    },
    {
     "data": {
      "image/png": "[encoded data removed]",
      "text/plain": [
       "<Figure size 720x504 with 1 Axes>"
      ]
     },
     "metadata": {
      "needs_background": "light"
     },
     "output_type": "display_data"
    }
   ],
   "source": [
    "plt.figure(figsize=(10,7))\n",
    "plt.hist([y_test_2,y_pred_rfc],rwidth=0.95 , color=['green','red'] , label=['y_test','y_pred'])\n",
    "plt.legend() "
   ]
  },
  {
   "cell_type": "code",
   "execution_count": null,
   "id": "aa438f1c",
   "metadata": {},
   "outputs": [],
   "source": []
  },
  {
   "cell_type": "code",
   "execution_count": null,
   "id": "cf328c20",
   "metadata": {},
   "outputs": [],
   "source": []
  }
 ],
 "metadata": {
  "kernelspec": {
   "display_name": "Python 3 (ipykernel)",
   "language": "python",
   "name": "python3"
  },
  "language_info": {
   "codemirror_mode": {
    "name": "ipython",
    "version": 3
   },
   "file_extension": ".py",
   "mimetype": "text/x-python",
   "name": "python",
   "nbconvert_exporter": "python",
   "pygments_lexer": "ipython3",
   "version": "3.9.12"
  }
 },
 "nbformat": 4,
 "nbformat_minor": 5
}
