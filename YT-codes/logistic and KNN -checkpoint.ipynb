{
 "cells": [
  {
   "cell_type": "code",
   "execution_count": 1,
   "id": "b0faf62e",
   "metadata": {},
   "outputs": [],
   "source": [
    "import pandas as pd \n",
    "import numpy as np\n",
    "import matplotlib.pyplot as plt\n",
    "import seaborn as sns\n",
    "import warnings \n",
    "warnings.filterwarnings('ignore')"
   ]
  },
  {
   "cell_type": "code",
   "execution_count": 2,
   "id": "6149d679",
   "metadata": {},
   "outputs": [
    {
     "data": {
      "text/html": [
       "<div>\n",
       "<style scoped>\n",
       "    .dataframe tbody tr th:only-of-type {\n",
       "        vertical-align: middle;\n",
       "    }\n",
       "\n",
       "    .dataframe tbody tr th {\n",
       "        vertical-align: top;\n",
       "    }\n",
       "\n",
       "    .dataframe thead th {\n",
       "        text-align: right;\n",
       "    }\n",
       "</style>\n",
       "<table border=\"1\" class=\"dataframe\">\n",
       "  <thead>\n",
       "    <tr style=\"text-align: right;\">\n",
       "      <th></th>\n",
       "      <th>Age</th>\n",
       "      <th>EstimatedSalary</th>\n",
       "      <th>Purchased</th>\n",
       "    </tr>\n",
       "  </thead>\n",
       "  <tbody>\n",
       "    <tr>\n",
       "      <th>0</th>\n",
       "      <td>19</td>\n",
       "      <td>19000</td>\n",
       "      <td>0</td>\n",
       "    </tr>\n",
       "    <tr>\n",
       "      <th>1</th>\n",
       "      <td>35</td>\n",
       "      <td>20000</td>\n",
       "      <td>0</td>\n",
       "    </tr>\n",
       "    <tr>\n",
       "      <th>2</th>\n",
       "      <td>26</td>\n",
       "      <td>43000</td>\n",
       "      <td>0</td>\n",
       "    </tr>\n",
       "    <tr>\n",
       "      <th>3</th>\n",
       "      <td>27</td>\n",
       "      <td>57000</td>\n",
       "      <td>0</td>\n",
       "    </tr>\n",
       "    <tr>\n",
       "      <th>4</th>\n",
       "      <td>19</td>\n",
       "      <td>76000</td>\n",
       "      <td>0</td>\n",
       "    </tr>\n",
       "  </tbody>\n",
       "</table>\n",
       "</div>"
      ],
      "text/plain": [
       "   Age  EstimatedSalary  Purchased\n",
       "0   19            19000          0\n",
       "1   35            20000          0\n",
       "2   26            43000          0\n",
       "3   27            57000          0\n",
       "4   19            76000          0"
      ]
     },
     "execution_count": 2,
     "metadata": {},
     "output_type": "execute_result"
    }
   ],
   "source": [
    "df=pd.read_csv(r'C:\\Users\\M RAJESH\\Desktop\\Ekeeda DS\\Social_Network_Ads_LR.csv')\n",
    "df.head()"
   ]
  },
  {
   "cell_type": "code",
   "execution_count": 3,
   "id": "1dcefa83",
   "metadata": {},
   "outputs": [
    {
     "data": {
      "text/plain": [
       "Age                0\n",
       "EstimatedSalary    0\n",
       "Purchased          0\n",
       "dtype: int64"
      ]
     },
     "execution_count": 3,
     "metadata": {},
     "output_type": "execute_result"
    }
   ],
   "source": [
    "df.isnull().sum()"
   ]
  },
  {
   "cell_type": "code",
   "execution_count": 4,
   "id": "898ba5e4",
   "metadata": {},
   "outputs": [
    {
     "data": {
      "text/plain": [
       "<matplotlib.collections.PathCollection at 0x1f862fa3af0>"
      ]
     },
     "execution_count": 4,
     "metadata": {},
     "output_type": "execute_result"
    },
    {
     "data": {
      "image/png": "[encoded data removed]",
      "text/plain": [
       "<Figure size 432x288 with 1 Axes>"
      ]
     },
     "metadata": {
      "needs_background": "light"
     },
     "output_type": "display_data"
    }
   ],
   "source": [
    "plt.scatter(df['Age'],df['Purchased'])"
   ]
  },
  {
   "cell_type": "code",
   "execution_count": 5,
   "id": "3443f588",
   "metadata": {},
   "outputs": [
    {
     "data": {
      "text/plain": [
       "<matplotlib.collections.PathCollection at 0x1f86374c2e0>"
      ]
     },
     "execution_count": 5,
     "metadata": {},
     "output_type": "execute_result"
    },
    {
     "data": {
      "image/png": "[encoded data removed]",
      "text/plain": [
       "<Figure size 432x288 with 1 Axes>"
      ]
     },
     "metadata": {
      "needs_background": "light"
     },
     "output_type": "display_data"
    }
   ],
   "source": [
    "plt.scatter(df['EstimatedSalary'],df['Purchased'])"
   ]
  },
  {
   "cell_type": "code",
   "execution_count": 6,
   "id": "b2897d21",
   "metadata": {},
   "outputs": [],
   "source": [
    "x=df.drop('Purchased',axis=1)\n",
    "y=df.Purchased"
   ]
  },
  {
   "cell_type": "code",
   "execution_count": null,
   "id": "6cc1a5e3",
   "metadata": {},
   "outputs": [],
   "source": []
  },
  {
   "cell_type": "code",
   "execution_count": 7,
   "id": "4a601d65",
   "metadata": {},
   "outputs": [],
   "source": [
    "from sklearn.model_selection import train_test_split\n",
    "X_train,X_test,y_train,y_test = train_test_split(x,y,test_size=0.2,random_state=5)"
   ]
  },
  {
   "cell_type": "code",
   "execution_count": null,
   "id": "7bcff794",
   "metadata": {},
   "outputs": [],
   "source": []
  },
  {
   "cell_type": "code",
   "execution_count": 8,
   "id": "6029b911",
   "metadata": {},
   "outputs": [],
   "source": [
    "from sklearn.preprocessing import StandardScaler\n",
    "std_scaler = StandardScaler()\n",
    "X_train = std_scaler.fit_transform(X_train)\n",
    "X_test = std_scaler.fit_transform(X_test)"
   ]
  },
  {
   "cell_type": "code",
   "execution_count": 9,
   "id": "3e4f1bc5",
   "metadata": {},
   "outputs": [
    {
     "data": {
      "text/plain": [
       "array([[-0.27257222,  0.81711559],\n",
       "       [-0.27257222,  1.14463175],\n",
       "       [ 0.48837095,  1.26372853],\n",
       "       [-1.12863329, -1.11820715],\n",
       "       [-1.41398698, -0.64182001],\n",
       "       [ 2.10537519, -0.82046519],\n",
       "       [-1.69934067,  0.13230908],\n",
       "       [-0.17745433, -0.28452966],\n",
       "       [-0.27257222,  0.07276069],\n",
       "       [-1.69934067,  0.48959944],\n",
       "       [-0.17745433, -0.46317484],\n",
       "       [ 1.6297857 ,  1.65079308],\n",
       "       [-0.08233643,  0.31095426],\n",
       "       [-0.08233643, -0.37385225],\n",
       "       [-1.88957646, -0.52272323],\n",
       "       [ 0.01278147,  0.0429865 ],\n",
       "       [-0.27257222, -0.58227162],\n",
       "       [-0.55792591,  1.41259951],\n",
       "       [ 2.01025729,  2.18672861],\n",
       "       [ 0.77372464, -1.23730393],\n",
       "       [ 0.77372464, -1.38617491],\n",
       "       [-0.9383975 , -0.7609168 ],\n",
       "       [ 1.24931412, -1.38617491],\n",
       "       [ 0.10789936,  1.08508336],\n",
       "       [-0.27257222, -0.58227162],\n",
       "       [-1.12863329,  0.48959944],\n",
       "       [-1.03351539,  0.43005104],\n",
       "       [-1.12863329,  0.31095426],\n",
       "       [ 1.53466781,  1.14463175],\n",
       "       [-0.9383975 , -0.31430386],\n",
       "       [ 2.01025729, -0.82046519],\n",
       "       [ 0.10789936, -0.82046519],\n",
       "       [ 2.01025729,  0.54914783],\n",
       "       [ 0.86884253, -0.55249743],\n",
       "       [-0.27257222,  0.10253489],\n",
       "       [-0.8432796 ,  0.16208328],\n",
       "       [ 0.29813516, -0.28452966],\n",
       "       [-0.27257222, -0.28452966],\n",
       "       [ 0.39325305,  2.36537379],\n",
       "       [ 1.7249036 ,  1.88898665],\n",
       "       [ 0.20301726, -0.25475546],\n",
       "       [ 1.05907833, -1.23730393],\n",
       "       [-0.17745433, -0.58227162],\n",
       "       [ 1.43954991,  0.37050265],\n",
       "       [-0.27257222, -1.41594911],\n",
       "       [ 0.96396043, -1.08843295],\n",
       "       [ 1.8200215 , -0.28452966],\n",
       "       [-0.27257222,  0.54914783],\n",
       "       [-1.12863329, -1.62436848],\n",
       "       [-1.41398698, -1.4754975 ],\n",
       "       [-0.08233643, -0.52272323],\n",
       "       [-1.22375118,  0.28118006],\n",
       "       [-0.17745433,  1.68056728],\n",
       "       [ 0.96396043, -1.02888456],\n",
       "       [-0.8432796 ,  0.31095426],\n",
       "       [-1.50910487, -1.53504589],\n",
       "       [ 1.7249036 , -0.28452966],\n",
       "       [ 0.96396043,  2.12718022],\n",
       "       [-0.55792591,  1.41259951],\n",
       "       [ 1.53466781,  0.0132123 ],\n",
       "       [-1.03351539, -1.14798135],\n",
       "       [ 0.01278147, -0.58227162],\n",
       "       [ 0.86884253, -1.4754975 ],\n",
       "       [ 1.34443202,  2.39514798],\n",
       "       [-0.7481617 , -0.22498127],\n",
       "       [-1.22375118,  0.51937363],\n",
       "       [-1.88957646, -0.7609168 ],\n",
       "       [ 0.77372464,  0.37050265],\n",
       "       [-1.12863329, -0.52272323],\n",
       "       [ 0.67860674, -1.29685233],\n",
       "       [-1.41398698,  0.37050265],\n",
       "       [ 0.58348885,  2.06763183],\n",
       "       [ 0.86884253, -1.38617491],\n",
       "       [-0.27257222, -1.32662652],\n",
       "       [-1.50910487, -0.19520707],\n",
       "       [-1.12863329, -1.02888456],\n",
       "       [-1.79445856,  0.19185748],\n",
       "       [ 0.01278147, -0.43340064],\n",
       "       [-0.55792591,  0.48959944],\n",
       "       [-0.8432796 ,  2.33559959],\n",
       "       [ 0.29813516, -0.52272323],\n",
       "       [ 1.53466781,  1.02553496],\n",
       "       [-0.08233643,  0.31095426],\n",
       "       [ 0.86884253,  1.05530916],\n",
       "       [-1.69934067,  0.37050265],\n",
       "       [ 0.86884253, -1.05865876],\n",
       "       [-0.9383975 , -0.43340064],\n",
       "       [-0.8432796 , -1.23730393],\n",
       "       [-0.55792591,  1.94853504],\n",
       "       [ 0.20301726, -0.37385225],\n",
       "       [-0.27257222, -0.34407805],\n",
       "       [-0.27257222,  0.63847042],\n",
       "       [-0.7481617 , -0.61204582],\n",
       "       [ 0.29813516, -0.31430386],\n",
       "       [ 0.29813516, -0.55249743],\n",
       "       [-0.27257222, -0.93956197],\n",
       "       [-0.08233643,  0.0429865 ],\n",
       "       [ 0.39325305,  0.31095426],\n",
       "       [-1.50910487, -0.43340064],\n",
       "       [ 0.58348885, -0.90978778],\n",
       "       [-1.12863329, -0.79069099],\n",
       "       [-0.27257222, -0.7609168 ],\n",
       "       [-0.46280801, -1.14798135],\n",
       "       [ 0.67860674, -1.41594911],\n",
       "       [-1.03351539, -0.37385225],\n",
       "       [ 1.43954991,  0.07276069],\n",
       "       [ 2.10537519,  0.96598657],\n",
       "       [-0.8432796 , -0.79069099],\n",
       "       [ 0.10789936,  1.91876085],\n",
       "       [ 0.10789936,  0.0429865 ],\n",
       "       [-1.60422277, -0.04633609],\n",
       "       [ 0.39325305, -0.46317484],\n",
       "       [-0.08233643, -0.22498127],\n",
       "       [-1.12863329,  0.31095426],\n",
       "       [-0.27257222, -0.31430386],\n",
       "       [ 0.39325305, -0.49294903],\n",
       "       [ 1.8200215 ,  0.13230908],\n",
       "       [ 0.77372464, -0.31430386],\n",
       "       [ 0.29813516, -0.52272323],\n",
       "       [ 0.01278147, -0.13565868],\n",
       "       [-0.27257222, -0.25475546],\n",
       "       [-1.31886908,  0.57892202],\n",
       "       [ 1.34443202, -0.93956197],\n",
       "       [-0.65304381,  1.44237371],\n",
       "       [ 0.20301726, -0.67159421],\n",
       "       [-0.36769012,  0.07276069],\n",
       "       [ 1.05907833,  0.54914783],\n",
       "       [-0.27257222,  0.16208328],\n",
       "       [-0.65304381,  0.0429865 ],\n",
       "       [-1.12863329, -1.56482009],\n",
       "       [-1.69934067, -0.99911037],\n",
       "       [-0.55792591, -1.53504589],\n",
       "       [-1.03351539, -1.56482009],\n",
       "       [ 0.01278147,  1.29350273],\n",
       "       [ 2.01025729,  1.79966406],\n",
       "       [-0.17745433, -1.08843295],\n",
       "       [-0.08233643, -1.08843295],\n",
       "       [ 1.05907833, -0.90978778],\n",
       "       [-0.7481617 , -1.56482009],\n",
       "       [ 0.67860674, -1.41594911],\n",
       "       [-0.08233643,  0.22163167],\n",
       "       [-0.17745433,  2.21650281],\n",
       "       [ 0.39325305,  0.0132123 ],\n",
       "       [ 1.91513939,  2.21650281],\n",
       "       [ 0.01278147,  1.26372853],\n",
       "       [ 0.77372464,  0.54914783],\n",
       "       [ 1.8200215 ,  1.56147049],\n",
       "       [ 1.91513939, -1.38617491],\n",
       "       [-1.03351539,  0.60869622],\n",
       "       [ 0.39325305,  0.10253489],\n",
       "       [ 0.39325305,  1.02553496],\n",
       "       [-0.65304381, -0.04633609],\n",
       "       [-0.9383975 ,  0.45982524],\n",
       "       [-0.9383975 ,  1.59124469],\n",
       "       [ 0.39325305,  0.31095426],\n",
       "       [ 1.05907833,  0.57892202],\n",
       "       [ 0.29813516, -0.19520707],\n",
       "       [ 0.77372464, -1.41594911],\n",
       "       [-0.7481617 ,  0.28118006],\n",
       "       [-0.17745433,  0.87666398],\n",
       "       [-0.27257222,  0.0429865 ],\n",
       "       [ 0.77372464, -1.11820715],\n",
       "       [-1.79445856, -1.44572331],\n",
       "       [ 1.34443202,  2.03785763],\n",
       "       [-0.27257222, -0.13565868],\n",
       "       [-1.12863329,  0.43005104],\n",
       "       [ 0.77372464, -0.85023939],\n",
       "       [-1.50910487, -1.26707813],\n",
       "       [-0.8432796 , -0.79069099],\n",
       "       [-0.65304381,  0.19185748],\n",
       "       [-1.03351539, -0.34407805],\n",
       "       [ 0.96396043, -1.20752974],\n",
       "       [ 0.29813516,  0.51937363],\n",
       "       [-1.31886908, -1.38617491],\n",
       "       [ 0.29813516, -0.7311426 ],\n",
       "       [-0.27257222, -1.4754975 ],\n",
       "       [ 1.34443202,  0.60869622],\n",
       "       [ 2.10537519,  1.14463175],\n",
       "       [ 0.39325305, -0.13565868],\n",
       "       [-1.79445856,  0.0132123 ],\n",
       "       [-0.65304381, -0.34407805],\n",
       "       [ 1.91513939, -0.67159421],\n",
       "       [-1.03351539,  0.54914783],\n",
       "       [-0.36769012,  1.35305112],\n",
       "       [ 0.01278147, -0.25475546],\n",
       "       [ 0.39325305, -0.46317484],\n",
       "       [ 2.01025729, -1.20752974],\n",
       "       [-0.7481617 ,  0.57892202],\n",
       "       [ 0.29813516,  0.28118006],\n",
       "       [-0.08233643,  0.69801881],\n",
       "       [ 0.10789936,  1.91876085],\n",
       "       [-0.27257222, -0.90978778],\n",
       "       [-0.8432796 , -0.25475546],\n",
       "       [ 0.86884253,  2.21650281],\n",
       "       [-0.08233643,  0.07276069],\n",
       "       [-1.69934067,  0.37050265],\n",
       "       [ 0.10789936, -0.31430386],\n",
       "       [ 1.05907833, -0.99911037],\n",
       "       [-0.9383975 ,  0.28118006],\n",
       "       [-0.9383975 ,  0.57892202],\n",
       "       [ 0.48837095,  1.88898665],\n",
       "       [ 0.10789936,  0.16208328],\n",
       "       [-0.55792591,  1.5019221 ],\n",
       "       [-1.22375118,  0.31095426],\n",
       "       [-0.17745433, -0.19520707],\n",
       "       [ 2.01025729,  0.19185748],\n",
       "       [-0.17745433,  1.44237371],\n",
       "       [ 0.20301726,  0.16208328],\n",
       "       [ 0.96396043,  0.13230908],\n",
       "       [ 0.20301726, -0.28452966],\n",
       "       [-0.8432796 , -0.67159421],\n",
       "       [-0.46280801, -1.23730393],\n",
       "       [ 1.7249036 ,  1.02553496],\n",
       "       [-1.69934067, -0.61204582],\n",
       "       [-0.27257222,  0.22163167],\n",
       "       [ 0.96396043, -0.85023939],\n",
       "       [ 0.77372464,  0.13230908],\n",
       "       [ 1.43954991,  2.18672861],\n",
       "       [ 0.29813516,  0.31095426],\n",
       "       [-0.55792591, -1.53504589],\n",
       "       [ 0.01278147, -0.58227162],\n",
       "       [-0.55792591,  0.90643818],\n",
       "       [-1.69934067, -1.38617491],\n",
       "       [-1.22375118, -1.41594911],\n",
       "       [ 0.01278147,  0.0429865 ],\n",
       "       [-0.27257222, -1.26707813],\n",
       "       [ 1.34443202,  1.32327693],\n",
       "       [-0.08233643, -0.49294903],\n",
       "       [-0.17745433,  0.16208328],\n",
       "       [ 1.05907833, -0.13565868],\n",
       "       [-0.65304381, -1.53504589],\n",
       "       [-0.27257222,  0.07276069],\n",
       "       [ 2.10537519,  0.40027685],\n",
       "       [-1.12863329, -1.59459429],\n",
       "       [ 1.05907833,  0.48959944],\n",
       "       [ 0.20301726,  0.0429865 ],\n",
       "       [-1.88957646,  0.48959944],\n",
       "       [ 0.39325305, -0.13565868],\n",
       "       [ 1.05907833, -1.23730393],\n",
       "       [ 0.96396043,  0.60869622],\n",
       "       [ 2.01025729,  0.40027685],\n",
       "       [ 1.43954991,  1.02553496],\n",
       "       [ 0.86884253, -0.79069099],\n",
       "       [ 0.39325305,  0.60869622],\n",
       "       [ 0.10789936,  1.56147049],\n",
       "       [-1.41398698, -1.23730393],\n",
       "       [-1.12863329,  1.44237371],\n",
       "       [-1.60422277, -1.59459429],\n",
       "       [-1.03351539,  2.00808343],\n",
       "       [ 0.20301726,  1.11485755],\n",
       "       [ 0.77372464,  0.28118006],\n",
       "       [-0.46280801, -0.85023939],\n",
       "       [-0.36769012, -0.79069099],\n",
       "       [ 1.53466781, -1.29685233],\n",
       "       [-0.08233643,  0.28118006],\n",
       "       [-1.12863329,  0.07276069],\n",
       "       [ 0.39325305,  1.14463175],\n",
       "       [ 0.48837095,  1.76988987],\n",
       "       [-1.88957646,  0.37050265],\n",
       "       [-0.8432796 ,  0.40027685],\n",
       "       [ 0.86884253, -1.32662652],\n",
       "       [-0.27257222,  0.16208328],\n",
       "       [ 0.20301726,  0.25140587],\n",
       "       [-0.08233643,  0.25140587],\n",
       "       [-0.9383975 ,  0.51937363],\n",
       "       [-0.7481617 ,  1.38282532],\n",
       "       [-0.46280801, -0.79069099],\n",
       "       [ 0.96396043, -1.17775554],\n",
       "       [-0.08233643,  0.13230908],\n",
       "       [-1.31886908,  0.43005104],\n",
       "       [ 0.96396043, -1.08843295],\n",
       "       [ 0.01278147,  0.31095426],\n",
       "       [-1.41398698, -0.19520707],\n",
       "       [ 1.24931412,  2.2760512 ],\n",
       "       [ 1.8200215 , -1.29685233],\n",
       "       [ 0.29813516, -1.17775554],\n",
       "       [-1.60422277,  0.07276069],\n",
       "       [-0.27257222, -0.37385225],\n",
       "       [ 0.96396043,  1.82943826],\n",
       "       [ 1.91513939,  0.7575672 ],\n",
       "       [ 0.96396043,  2.03785763],\n",
       "       [ 1.8200215 , -1.08843295],\n",
       "       [-0.65304381, -1.05865876],\n",
       "       [ 1.43954991, -1.05865876],\n",
       "       [-0.46280801, -0.0165619 ],\n",
       "       [ 0.10789936,  0.0429865 ],\n",
       "       [ 0.29813516,  0.07276069],\n",
       "       [ 0.10789936,  0.28118006],\n",
       "       [-1.03351539, -0.34407805],\n",
       "       [-0.36769012, -1.32662652],\n",
       "       [-0.46280801,  2.36537379],\n",
       "       [ 0.96396043,  0.7873414 ],\n",
       "       [-0.46280801, -0.55249743],\n",
       "       [ 0.86884253, -0.58227162],\n",
       "       [-0.7481617 ,  1.11485755],\n",
       "       [ 1.15419622, -0.7609168 ],\n",
       "       [-1.03351539,  0.7873414 ],\n",
       "       [ 0.10789936, -0.25475546],\n",
       "       [-1.31886908, -0.43340064],\n",
       "       [-0.65304381,  0.13230908],\n",
       "       [-1.31886908, -0.34407805],\n",
       "       [ 0.29813516,  0.0429865 ],\n",
       "       [ 0.86884253, -0.67159421],\n",
       "       [-0.9383975 ,  0.43005104],\n",
       "       [ 0.86884253, -1.17775554],\n",
       "       [-0.7481617 ,  0.31095426],\n",
       "       [-0.08233643, -0.43340064],\n",
       "       [ 1.91513939,  0.93621238],\n",
       "       [-0.55792591,  2.39514798],\n",
       "       [ 0.20301726,  2.15695441],\n",
       "       [-1.12863329, -1.17775554],\n",
       "       [ 0.01278147, -0.25475546],\n",
       "       [ 0.10789936, -0.82046519],\n",
       "       [ 0.20301726,  0.07276069],\n",
       "       [-1.22375118, -1.08843295],\n",
       "       [-0.46280801,  1.29350273],\n",
       "       [ 0.20301726, -0.31430386],\n",
       "       [-0.9383975 , -1.11820715],\n",
       "       [ 1.6297857 ,  1.79966406],\n",
       "       [ 2.10537519, -1.05865876]])"
      ]
     },
     "execution_count": 9,
     "metadata": {},
     "output_type": "execute_result"
    }
   ],
   "source": [
    "X_train"
   ]
  },
  {
   "cell_type": "code",
   "execution_count": 10,
   "id": "2460ec87",
   "metadata": {},
   "outputs": [
    {
     "data": {
      "text/html": [
       "<style>#sk-container-id-1 {color: black;background-color: white;}#sk-container-id-1 pre{padding: 0;}#sk-container-id-1 div.sk-toggleable {background-color: white;}#sk-container-id-1 label.sk-toggleable__label {cursor: pointer;display: block;width: 100%;margin-bottom: 0;padding: 0.3em;box-sizing: border-box;text-align: center;}#sk-container-id-1 label.sk-toggleable__label-arrow:before {content: \"▸\";float: left;margin-right: 0.25em;color: #696969;}#sk-container-id-1 label.sk-toggleable__label-arrow:hover:before {color: black;}#sk-container-id-1 div.sk-estimator:hover label.sk-toggleable__label-arrow:before {color: black;}#sk-container-id-1 div.sk-toggleable__content {max-height: 0;max-width: 0;overflow: hidden;text-align: left;background-color: #f0f8ff;}#sk-container-id-1 div.sk-toggleable__content pre {margin: 0.2em;color: black;border-radius: 0.25em;background-color: #f0f8ff;}#sk-container-id-1 input.sk-toggleable__control:checked~div.sk-toggleable__content {max-height: 200px;max-width: 100%;overflow: auto;}#sk-container-id-1 input.sk-toggleable__control:checked~label.sk-toggleable__label-arrow:before {content: \"▾\";}#sk-container-id-1 div.sk-estimator input.sk-toggleable__control:checked~label.sk-toggleable__label {background-color: #d4ebff;}#sk-container-id-1 div.sk-label input.sk-toggleable__control:checked~label.sk-toggleable__label {background-color: #d4ebff;}#sk-container-id-1 input.sk-hidden--visually {border: 0;clip: rect(1px 1px 1px 1px);clip: rect(1px, 1px, 1px, 1px);height: 1px;margin: -1px;overflow: hidden;padding: 0;position: absolute;width: 1px;}#sk-container-id-1 div.sk-estimator {font-family: monospace;background-color: #f0f8ff;border: 1px dotted black;border-radius: 0.25em;box-sizing: border-box;margin-bottom: 0.5em;}#sk-container-id-1 div.sk-estimator:hover {background-color: #d4ebff;}#sk-container-id-1 div.sk-parallel-item::after {content: \"\";width: 100%;border-bottom: 1px solid gray;flex-grow: 1;}#sk-container-id-1 div.sk-label:hover label.sk-toggleable__label {background-color: #d4ebff;}#sk-container-id-1 div.sk-serial::before {content: \"\";position: absolute;border-left: 1px solid gray;box-sizing: border-box;top: 0;bottom: 0;left: 50%;z-index: 0;}#sk-container-id-1 div.sk-serial {display: flex;flex-direction: column;align-items: center;background-color: white;padding-right: 0.2em;padding-left: 0.2em;position: relative;}#sk-container-id-1 div.sk-item {position: relative;z-index: 1;}#sk-container-id-1 div.sk-parallel {display: flex;align-items: stretch;justify-content: center;background-color: white;position: relative;}#sk-container-id-1 div.sk-item::before, #sk-container-id-1 div.sk-parallel-item::before {content: \"\";position: absolute;border-left: 1px solid gray;box-sizing: border-box;top: 0;bottom: 0;left: 50%;z-index: -1;}#sk-container-id-1 div.sk-parallel-item {display: flex;flex-direction: column;z-index: 1;position: relative;background-color: white;}#sk-container-id-1 div.sk-parallel-item:first-child::after {align-self: flex-end;width: 50%;}#sk-container-id-1 div.sk-parallel-item:last-child::after {align-self: flex-start;width: 50%;}#sk-container-id-1 div.sk-parallel-item:only-child::after {width: 0;}#sk-container-id-1 div.sk-dashed-wrapped {border: 1px dashed gray;margin: 0 0.4em 0.5em 0.4em;box-sizing: border-box;padding-bottom: 0.4em;background-color: white;}#sk-container-id-1 div.sk-label label {font-family: monospace;font-weight: bold;display: inline-block;line-height: 1.2em;}#sk-container-id-1 div.sk-label-container {text-align: center;}#sk-container-id-1 div.sk-container {/* jupyter's `normalize.less` sets `[hidden] { display: none; }` but bootstrap.min.css set `[hidden] { display: none !important; }` so we also need the `!important` here to be able to override the default hidden behavior on the sphinx rendered scikit-learn.org. See: https://github.com/scikit-learn/scikit-learn/issues/21755 */display: inline-block !important;position: relative;}#sk-container-id-1 div.sk-text-repr-fallback {display: none;}</style><div id=\"sk-container-id-1\" class=\"sk-top-container\"><div class=\"sk-text-repr-fallback\"><pre>LogisticRegression(random_state=0)</pre><b>In a Jupyter environment, please rerun this cell to show the HTML representation or trust the notebook. <br />On GitHub, the HTML representation is unable to render, please try loading this page with nbviewer.org.</b></div><div class=\"sk-container\" hidden><div class=\"sk-item\"><div class=\"sk-estimator sk-toggleable\"><input class=\"sk-toggleable__control sk-hidden--visually\" id=\"sk-estimator-id-1\" type=\"checkbox\" checked><label for=\"sk-estimator-id-1\" class=\"sk-toggleable__label sk-toggleable__label-arrow\">LogisticRegression</label><div class=\"sk-toggleable__content\"><pre>LogisticRegression(random_state=0)</pre></div></div></div></div></div>"
      ],
      "text/plain": [
       "LogisticRegression(random_state=0)"
      ]
     },
     "execution_count": 10,
     "metadata": {},
     "output_type": "execute_result"
    }
   ],
   "source": [
    "from sklearn.linear_model import LogisticRegression\n",
    "log_reg = LogisticRegression(random_state = 0)\n",
    "log_reg.fit(X_train, y_train)"
   ]
  },
  {
   "cell_type": "code",
   "execution_count": 11,
   "id": "9ee5ac8c",
   "metadata": {},
   "outputs": [],
   "source": [
    "y_pred=log_reg.predict(X_test)"
   ]
  },
  {
   "cell_type": "code",
   "execution_count": 12,
   "id": "16472590",
   "metadata": {},
   "outputs": [
    {
     "data": {
      "text/plain": [
       "array([1, 0, 0, 0, 0, 0, 0, 1, 0, 1, 1, 0, 0, 0, 0, 0, 1, 0, 0, 0, 1, 0,\n",
       "       1, 0, 1, 0, 0, 1, 1, 0, 1, 0, 1, 0, 0, 0, 0, 0, 0, 0, 1, 0, 1, 0,\n",
       "       0, 1, 0, 0, 1, 1, 1, 0, 0, 0, 0, 0, 1, 1, 1, 1, 0, 1, 0, 0, 0, 1,\n",
       "       0, 0, 1, 1, 1, 1, 0, 1, 0, 0, 0, 0, 0, 0], dtype=int64)"
      ]
     },
     "execution_count": 12,
     "metadata": {},
     "output_type": "execute_result"
    }
   ],
   "source": [
    "y_pred"
   ]
  },
  {
   "cell_type": "code",
   "execution_count": 13,
   "id": "8b1dc7ed",
   "metadata": {},
   "outputs": [
    {
     "data": {
      "text/plain": [
       "(80,)"
      ]
     },
     "execution_count": 13,
     "metadata": {},
     "output_type": "execute_result"
    }
   ],
   "source": [
    "y_pred.shape"
   ]
  },
  {
   "cell_type": "code",
   "execution_count": 14,
   "id": "ab332a74",
   "metadata": {},
   "outputs": [
    {
     "data": {
      "text/plain": [
       "218    0\n",
       "191    0\n",
       "117    0\n",
       "50     0\n",
       "348    0\n",
       "      ..\n",
       "184    0\n",
       "140    0\n",
       "107    0\n",
       "241    0\n",
       "48     1\n",
       "Name: Purchased, Length: 80, dtype: int64"
      ]
     },
     "execution_count": 14,
     "metadata": {},
     "output_type": "execute_result"
    }
   ],
   "source": [
    "y_test"
   ]
  },
  {
   "cell_type": "code",
   "execution_count": null,
   "id": "831e94c9",
   "metadata": {},
   "outputs": [],
   "source": []
  },
  {
   "cell_type": "code",
   "execution_count": 15,
   "id": "be021300",
   "metadata": {},
   "outputs": [
    {
     "name": "stdout",
     "output_type": "stream",
     "text": [
      "[0]\n"
     ]
    }
   ],
   "source": [
    "print(log_reg.predict(std_scaler.transform([[12,87000]])))"
   ]
  },
  {
   "cell_type": "code",
   "execution_count": null,
   "id": "c0e0aff4",
   "metadata": {},
   "outputs": [],
   "source": []
  },
  {
   "cell_type": "code",
   "execution_count": 16,
   "id": "bcf4df85",
   "metadata": {},
   "outputs": [
    {
     "name": "stdout",
     "output_type": "stream",
     "text": [
      "[[1 0]\n",
      " [0 0]\n",
      " [0 0]\n",
      " [0 0]\n",
      " [0 0]\n",
      " [0 1]\n",
      " [0 0]\n",
      " [1 0]\n",
      " [0 0]\n",
      " [1 0]\n",
      " [1 1]\n",
      " [0 0]\n",
      " [0 0]\n",
      " [0 0]\n",
      " [0 0]\n",
      " [0 0]\n",
      " [1 1]\n",
      " [0 0]\n",
      " [0 0]\n",
      " [0 0]\n",
      " [1 1]\n",
      " [0 0]\n",
      " [1 1]\n",
      " [0 0]\n",
      " [1 1]\n",
      " [0 0]\n",
      " [0 0]\n",
      " [1 1]\n",
      " [1 1]\n",
      " [0 0]\n",
      " [1 1]\n",
      " [0 0]\n",
      " [1 0]\n",
      " [0 0]\n",
      " [0 0]\n",
      " [0 1]\n",
      " [0 0]\n",
      " [0 0]\n",
      " [0 0]\n",
      " [0 0]\n",
      " [1 1]\n",
      " [0 0]\n",
      " [1 1]\n",
      " [0 0]\n",
      " [0 0]\n",
      " [1 1]\n",
      " [0 0]\n",
      " [0 0]\n",
      " [1 1]\n",
      " [1 1]\n",
      " [1 1]\n",
      " [0 0]\n",
      " [0 0]\n",
      " [0 0]\n",
      " [0 0]\n",
      " [0 0]\n",
      " [1 1]\n",
      " [1 1]\n",
      " [1 1]\n",
      " [1 1]\n",
      " [0 0]\n",
      " [1 0]\n",
      " [0 0]\n",
      " [0 0]\n",
      " [0 0]\n",
      " [1 1]\n",
      " [0 0]\n",
      " [0 0]\n",
      " [1 1]\n",
      " [1 1]\n",
      " [1 0]\n",
      " [1 1]\n",
      " [0 0]\n",
      " [1 1]\n",
      " [0 1]\n",
      " [0 0]\n",
      " [0 0]\n",
      " [0 0]\n",
      " [0 0]\n",
      " [0 1]]\n"
     ]
    }
   ],
   "source": [
    "#np.concatenate((y_pred.reshape(len(y_pred),1),y_test.reshape(len(y_test),1)),1)\n",
    "print(np.concatenate((y_pred.reshape(len(y_pred),1), y_test.values.reshape(len(y_test.values),1)),1))"
   ]
  },
  {
   "cell_type": "code",
   "execution_count": 17,
   "id": "f58a6b37",
   "metadata": {},
   "outputs": [
    {
     "name": "stdout",
     "output_type": "stream",
     "text": [
      "[[47  6]\n",
      " [ 4 23]]\n"
     ]
    },
    {
     "data": {
      "text/plain": [
       "0.875"
      ]
     },
     "execution_count": 17,
     "metadata": {},
     "output_type": "execute_result"
    }
   ],
   "source": [
    "from sklearn.metrics import confusion_matrix , accuracy_score\n",
    "cm = confusion_matrix(y_test, y_pred)\n",
    "print(cm)\n",
    "accuracy_score(y_test, y_pred)"
   ]
  },
  {
   "cell_type": "code",
   "execution_count": 18,
   "id": "5f0fa123",
   "metadata": {},
   "outputs": [],
   "source": [
    "from sklearn.neighbors import KNeighborsClassifier\n",
    "knn = KNeighborsClassifier(n_neighbors=1)"
   ]
  },
  {
   "cell_type": "code",
   "execution_count": 19,
   "id": "e3aed13a",
   "metadata": {},
   "outputs": [
    {
     "data": {
      "text/html": [
       "<style>#sk-container-id-2 {color: black;background-color: white;}#sk-container-id-2 pre{padding: 0;}#sk-container-id-2 div.sk-toggleable {background-color: white;}#sk-container-id-2 label.sk-toggleable__label {cursor: pointer;display: block;width: 100%;margin-bottom: 0;padding: 0.3em;box-sizing: border-box;text-align: center;}#sk-container-id-2 label.sk-toggleable__label-arrow:before {content: \"▸\";float: left;margin-right: 0.25em;color: #696969;}#sk-container-id-2 label.sk-toggleable__label-arrow:hover:before {color: black;}#sk-container-id-2 div.sk-estimator:hover label.sk-toggleable__label-arrow:before {color: black;}#sk-container-id-2 div.sk-toggleable__content {max-height: 0;max-width: 0;overflow: hidden;text-align: left;background-color: #f0f8ff;}#sk-container-id-2 div.sk-toggleable__content pre {margin: 0.2em;color: black;border-radius: 0.25em;background-color: #f0f8ff;}#sk-container-id-2 input.sk-toggleable__control:checked~div.sk-toggleable__content {max-height: 200px;max-width: 100%;overflow: auto;}#sk-container-id-2 input.sk-toggleable__control:checked~label.sk-toggleable__label-arrow:before {content: \"▾\";}#sk-container-id-2 div.sk-estimator input.sk-toggleable__control:checked~label.sk-toggleable__label {background-color: #d4ebff;}#sk-container-id-2 div.sk-label input.sk-toggleable__control:checked~label.sk-toggleable__label {background-color: #d4ebff;}#sk-container-id-2 input.sk-hidden--visually {border: 0;clip: rect(1px 1px 1px 1px);clip: rect(1px, 1px, 1px, 1px);height: 1px;margin: -1px;overflow: hidden;padding: 0;position: absolute;width: 1px;}#sk-container-id-2 div.sk-estimator {font-family: monospace;background-color: #f0f8ff;border: 1px dotted black;border-radius: 0.25em;box-sizing: border-box;margin-bottom: 0.5em;}#sk-container-id-2 div.sk-estimator:hover {background-color: #d4ebff;}#sk-container-id-2 div.sk-parallel-item::after {content: \"\";width: 100%;border-bottom: 1px solid gray;flex-grow: 1;}#sk-container-id-2 div.sk-label:hover label.sk-toggleable__label {background-color: #d4ebff;}#sk-container-id-2 div.sk-serial::before {content: \"\";position: absolute;border-left: 1px solid gray;box-sizing: border-box;top: 0;bottom: 0;left: 50%;z-index: 0;}#sk-container-id-2 div.sk-serial {display: flex;flex-direction: column;align-items: center;background-color: white;padding-right: 0.2em;padding-left: 0.2em;position: relative;}#sk-container-id-2 div.sk-item {position: relative;z-index: 1;}#sk-container-id-2 div.sk-parallel {display: flex;align-items: stretch;justify-content: center;background-color: white;position: relative;}#sk-container-id-2 div.sk-item::before, #sk-container-id-2 div.sk-parallel-item::before {content: \"\";position: absolute;border-left: 1px solid gray;box-sizing: border-box;top: 0;bottom: 0;left: 50%;z-index: -1;}#sk-container-id-2 div.sk-parallel-item {display: flex;flex-direction: column;z-index: 1;position: relative;background-color: white;}#sk-container-id-2 div.sk-parallel-item:first-child::after {align-self: flex-end;width: 50%;}#sk-container-id-2 div.sk-parallel-item:last-child::after {align-self: flex-start;width: 50%;}#sk-container-id-2 div.sk-parallel-item:only-child::after {width: 0;}#sk-container-id-2 div.sk-dashed-wrapped {border: 1px dashed gray;margin: 0 0.4em 0.5em 0.4em;box-sizing: border-box;padding-bottom: 0.4em;background-color: white;}#sk-container-id-2 div.sk-label label {font-family: monospace;font-weight: bold;display: inline-block;line-height: 1.2em;}#sk-container-id-2 div.sk-label-container {text-align: center;}#sk-container-id-2 div.sk-container {/* jupyter's `normalize.less` sets `[hidden] { display: none; }` but bootstrap.min.css set `[hidden] { display: none !important; }` so we also need the `!important` here to be able to override the default hidden behavior on the sphinx rendered scikit-learn.org. See: https://github.com/scikit-learn/scikit-learn/issues/21755 */display: inline-block !important;position: relative;}#sk-container-id-2 div.sk-text-repr-fallback {display: none;}</style><div id=\"sk-container-id-2\" class=\"sk-top-container\"><div class=\"sk-text-repr-fallback\"><pre>KNeighborsClassifier(n_neighbors=1)</pre><b>In a Jupyter environment, please rerun this cell to show the HTML representation or trust the notebook. <br />On GitHub, the HTML representation is unable to render, please try loading this page with nbviewer.org.</b></div><div class=\"sk-container\" hidden><div class=\"sk-item\"><div class=\"sk-estimator sk-toggleable\"><input class=\"sk-toggleable__control sk-hidden--visually\" id=\"sk-estimator-id-2\" type=\"checkbox\" checked><label for=\"sk-estimator-id-2\" class=\"sk-toggleable__label sk-toggleable__label-arrow\">KNeighborsClassifier</label><div class=\"sk-toggleable__content\"><pre>KNeighborsClassifier(n_neighbors=1)</pre></div></div></div></div></div>"
      ],
      "text/plain": [
       "KNeighborsClassifier(n_neighbors=1)"
      ]
     },
     "execution_count": 19,
     "metadata": {},
     "output_type": "execute_result"
    }
   ],
   "source": [
    "knn.fit(X_train,y_train)"
   ]
  },
  {
   "cell_type": "code",
   "execution_count": 20,
   "id": "4f602569",
   "metadata": {},
   "outputs": [],
   "source": [
    "y_pred_knn = knn.predict(X_test)"
   ]
  },
  {
   "cell_type": "code",
   "execution_count": 21,
   "id": "30061e43",
   "metadata": {},
   "outputs": [
    {
     "name": "stdout",
     "output_type": "stream",
     "text": [
      "[[48  5]\n",
      " [ 4 23]]\n"
     ]
    }
   ],
   "source": [
    "print(confusion_matrix(y_test, y_pred_knn))"
   ]
  },
  {
   "cell_type": "code",
   "execution_count": 22,
   "id": "eeaf9b92",
   "metadata": {},
   "outputs": [
    {
     "name": "stdout",
     "output_type": "stream",
     "text": [
      "              precision    recall  f1-score   support\n",
      "\n",
      "           0       0.92      0.91      0.91        53\n",
      "           1       0.82      0.85      0.84        27\n",
      "\n",
      "    accuracy                           0.89        80\n",
      "   macro avg       0.87      0.88      0.88        80\n",
      "weighted avg       0.89      0.89      0.89        80\n",
      "\n"
     ]
    }
   ],
   "source": [
    "from sklearn.metrics import classification_report\n",
    "print(classification_report(y_test,y_pred_knn))"
   ]
  },
  {
   "cell_type": "code",
   "execution_count": 23,
   "id": "bd71fafb",
   "metadata": {},
   "outputs": [
    {
     "data": {
      "text/plain": [
       "0.8875"
      ]
     },
     "execution_count": 23,
     "metadata": {},
     "output_type": "execute_result"
    }
   ],
   "source": [
    "accuracy_score(y_test,y_pred_knn)"
   ]
  },
  {
   "cell_type": "markdown",
   "id": "dfcb088c",
   "metadata": {},
   "source": [
    "choosing k value"
   ]
  },
  {
   "cell_type": "code",
   "execution_count": 24,
   "id": "6810dcb0",
   "metadata": {},
   "outputs": [],
   "source": [
    "error_rate = []\n",
    "for i in range(1,40):\n",
    "    knn = KNeighborsClassifier(n_neighbors=i)\n",
    "    knn.fit(X_train,y_train)\n",
    "    pred_i = knn.predict(X_test)\n",
    "    error_rate.append(np.mean(pred_i != y_test))"
   ]
  },
  {
   "cell_type": "code",
   "execution_count": 25,
   "id": "5786f36f",
   "metadata": {},
   "outputs": [
    {
     "data": {
      "text/plain": [
       "[0.1125,\n",
       " 0.15,\n",
       " 0.0875,\n",
       " 0.0875,\n",
       " 0.0875,\n",
       " 0.0875,\n",
       " 0.075,\n",
       " 0.075,\n",
       " 0.0625,\n",
       " 0.075,\n",
       " 0.0625,\n",
       " 0.0625,\n",
       " 0.0625,\n",
       " 0.0625,\n",
       " 0.0625,\n",
       " 0.0625,\n",
       " 0.0625,\n",
       " 0.05,\n",
       " 0.0625,\n",
       " 0.05,\n",
       " 0.05,\n",
       " 0.05,\n",
       " 0.05,\n",
       " 0.05,\n",
       " 0.05,\n",
       " 0.05,\n",
       " 0.05,\n",
       " 0.05,\n",
       " 0.05,\n",
       " 0.05,\n",
       " 0.05,\n",
       " 0.05,\n",
       " 0.05,\n",
       " 0.05,\n",
       " 0.05,\n",
       " 0.05,\n",
       " 0.05,\n",
       " 0.0625,\n",
       " 0.0625]"
      ]
     },
     "execution_count": 25,
     "metadata": {},
     "output_type": "execute_result"
    }
   ],
   "source": [
    "error_rate"
   ]
  },
  {
   "cell_type": "code",
   "execution_count": 26,
   "id": "df8243c6",
   "metadata": {},
   "outputs": [
    {
     "data": {
      "text/plain": [
       "Text(0, 0.5, 'Error Rate')"
      ]
     },
     "execution_count": 26,
     "metadata": {},
     "output_type": "execute_result"
    },
    {
     "data": {
      "image/png": "[encoded data removed]",
      "text/plain": [
       "<Figure size 720x432 with 1 Axes>"
      ]
     },
     "metadata": {
      "needs_background": "light"
     },
     "output_type": "display_data"
    }
   ],
   "source": [
    "plt.figure(figsize=(10,6))\n",
    "plt.plot(range(1,40),error_rate,color='blue', linestyle='dashed', marker='o',\n",
    "         markerfacecolor='red', markersize=10)\n",
    "plt.title('Error Rate vs. K Value')\n",
    "plt.xlabel('K')\n",
    "plt.ylabel('Error Rate')"
   ]
  },
  {
   "cell_type": "code",
   "execution_count": 27,
   "id": "235cc83a",
   "metadata": {},
   "outputs": [
    {
     "data": {
      "text/html": [
       "<style>#sk-container-id-3 {color: black;background-color: white;}#sk-container-id-3 pre{padding: 0;}#sk-container-id-3 div.sk-toggleable {background-color: white;}#sk-container-id-3 label.sk-toggleable__label {cursor: pointer;display: block;width: 100%;margin-bottom: 0;padding: 0.3em;box-sizing: border-box;text-align: center;}#sk-container-id-3 label.sk-toggleable__label-arrow:before {content: \"▸\";float: left;margin-right: 0.25em;color: #696969;}#sk-container-id-3 label.sk-toggleable__label-arrow:hover:before {color: black;}#sk-container-id-3 div.sk-estimator:hover label.sk-toggleable__label-arrow:before {color: black;}#sk-container-id-3 div.sk-toggleable__content {max-height: 0;max-width: 0;overflow: hidden;text-align: left;background-color: #f0f8ff;}#sk-container-id-3 div.sk-toggleable__content pre {margin: 0.2em;color: black;border-radius: 0.25em;background-color: #f0f8ff;}#sk-container-id-3 input.sk-toggleable__control:checked~div.sk-toggleable__content {max-height: 200px;max-width: 100%;overflow: auto;}#sk-container-id-3 input.sk-toggleable__control:checked~label.sk-toggleable__label-arrow:before {content: \"▾\";}#sk-container-id-3 div.sk-estimator input.sk-toggleable__control:checked~label.sk-toggleable__label {background-color: #d4ebff;}#sk-container-id-3 div.sk-label input.sk-toggleable__control:checked~label.sk-toggleable__label {background-color: #d4ebff;}#sk-container-id-3 input.sk-hidden--visually {border: 0;clip: rect(1px 1px 1px 1px);clip: rect(1px, 1px, 1px, 1px);height: 1px;margin: -1px;overflow: hidden;padding: 0;position: absolute;width: 1px;}#sk-container-id-3 div.sk-estimator {font-family: monospace;background-color: #f0f8ff;border: 1px dotted black;border-radius: 0.25em;box-sizing: border-box;margin-bottom: 0.5em;}#sk-container-id-3 div.sk-estimator:hover {background-color: #d4ebff;}#sk-container-id-3 div.sk-parallel-item::after {content: \"\";width: 100%;border-bottom: 1px solid gray;flex-grow: 1;}#sk-container-id-3 div.sk-label:hover label.sk-toggleable__label {background-color: #d4ebff;}#sk-container-id-3 div.sk-serial::before {content: \"\";position: absolute;border-left: 1px solid gray;box-sizing: border-box;top: 0;bottom: 0;left: 50%;z-index: 0;}#sk-container-id-3 div.sk-serial {display: flex;flex-direction: column;align-items: center;background-color: white;padding-right: 0.2em;padding-left: 0.2em;position: relative;}#sk-container-id-3 div.sk-item {position: relative;z-index: 1;}#sk-container-id-3 div.sk-parallel {display: flex;align-items: stretch;justify-content: center;background-color: white;position: relative;}#sk-container-id-3 div.sk-item::before, #sk-container-id-3 div.sk-parallel-item::before {content: \"\";position: absolute;border-left: 1px solid gray;box-sizing: border-box;top: 0;bottom: 0;left: 50%;z-index: -1;}#sk-container-id-3 div.sk-parallel-item {display: flex;flex-direction: column;z-index: 1;position: relative;background-color: white;}#sk-container-id-3 div.sk-parallel-item:first-child::after {align-self: flex-end;width: 50%;}#sk-container-id-3 div.sk-parallel-item:last-child::after {align-self: flex-start;width: 50%;}#sk-container-id-3 div.sk-parallel-item:only-child::after {width: 0;}#sk-container-id-3 div.sk-dashed-wrapped {border: 1px dashed gray;margin: 0 0.4em 0.5em 0.4em;box-sizing: border-box;padding-bottom: 0.4em;background-color: white;}#sk-container-id-3 div.sk-label label {font-family: monospace;font-weight: bold;display: inline-block;line-height: 1.2em;}#sk-container-id-3 div.sk-label-container {text-align: center;}#sk-container-id-3 div.sk-container {/* jupyter's `normalize.less` sets `[hidden] { display: none; }` but bootstrap.min.css set `[hidden] { display: none !important; }` so we also need the `!important` here to be able to override the default hidden behavior on the sphinx rendered scikit-learn.org. See: https://github.com/scikit-learn/scikit-learn/issues/21755 */display: inline-block !important;position: relative;}#sk-container-id-3 div.sk-text-repr-fallback {display: none;}</style><div id=\"sk-container-id-3\" class=\"sk-top-container\"><div class=\"sk-text-repr-fallback\"><pre>KNeighborsClassifier(n_neighbors=16)</pre><b>In a Jupyter environment, please rerun this cell to show the HTML representation or trust the notebook. <br />On GitHub, the HTML representation is unable to render, please try loading this page with nbviewer.org.</b></div><div class=\"sk-container\" hidden><div class=\"sk-item\"><div class=\"sk-estimator sk-toggleable\"><input class=\"sk-toggleable__control sk-hidden--visually\" id=\"sk-estimator-id-3\" type=\"checkbox\" checked><label for=\"sk-estimator-id-3\" class=\"sk-toggleable__label sk-toggleable__label-arrow\">KNeighborsClassifier</label><div class=\"sk-toggleable__content\"><pre>KNeighborsClassifier(n_neighbors=16)</pre></div></div></div></div></div>"
      ],
      "text/plain": [
       "KNeighborsClassifier(n_neighbors=16)"
      ]
     },
     "execution_count": 27,
     "metadata": {},
     "output_type": "execute_result"
    }
   ],
   "source": [
    "knn_16 = KNeighborsClassifier(n_neighbors=16)\n",
    "knn_16.fit(X_train,y_train)"
   ]
  },
  {
   "cell_type": "code",
   "execution_count": 28,
   "id": "9f9ddd93",
   "metadata": {},
   "outputs": [],
   "source": [
    "y_pred_16 = knn_16.predict(X_test)"
   ]
  },
  {
   "cell_type": "code",
   "execution_count": 29,
   "id": "28c651a5",
   "metadata": {},
   "outputs": [
    {
     "name": "stdout",
     "output_type": "stream",
     "text": [
      "[[49  4]\n",
      " [ 1 26]]\n",
      "\n",
      "\n",
      "0.9375\n",
      "\n",
      "\n",
      "              precision    recall  f1-score   support\n",
      "\n",
      "           0       0.98      0.92      0.95        53\n",
      "           1       0.87      0.96      0.91        27\n",
      "\n",
      "    accuracy                           0.94        80\n",
      "   macro avg       0.92      0.94      0.93        80\n",
      "weighted avg       0.94      0.94      0.94        80\n",
      "\n"
     ]
    }
   ],
   "source": [
    "print(confusion_matrix(y_test,y_pred_16))\n",
    "print('\\n')\n",
    "print(accuracy_score(y_test,y_pred_16))\n",
    "print('\\n')\n",
    "print(classification_report(y_test,y_pred_16))\n"
   ]
  },
  {
   "cell_type": "code",
   "execution_count": null,
   "id": "d0b5ec44",
   "metadata": {},
   "outputs": [],
   "source": []
  }
 ],
 "metadata": {
  "kernelspec": {
   "display_name": "Python 3 (ipykernel)",
   "language": "python",
   "name": "python3"
  },
  "language_info": {
   "codemirror_mode": {
    "name": "ipython",
    "version": 3
   },
   "file_extension": ".py",
   "mimetype": "text/x-python",
   "name": "python",
   "nbconvert_exporter": "python",
   "pygments_lexer": "ipython3",
   "version": "3.9.12"
  }
 },
 "nbformat": 4,
 "nbformat_minor": 5
}
