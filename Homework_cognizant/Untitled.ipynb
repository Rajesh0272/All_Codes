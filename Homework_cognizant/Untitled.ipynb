{
 "cells": [
  {
   "cell_type": "markdown",
   "id": "d21e6bad",
   "metadata": {},
   "source": [
    "# file handling"
   ]
  },
  {
   "cell_type": "code",
   "execution_count": 86,
   "id": "904f7be2",
   "metadata": {},
   "outputs": [],
   "source": [
    "with open('Ages.txt','x') as f:\n",
    "    f.write('25\\n')\n",
    "    f.write('22\\n')   "
   ]
  },
  {
   "cell_type": "code",
   "execution_count": 2,
   "id": "53697a66",
   "metadata": {},
   "outputs": [
    {
     "name": "stdout",
     "output_type": "stream",
     "text": [
      "25\n",
      "\n",
      "22\n",
      "\n"
     ]
    }
   ],
   "source": [
    "f=open('Ages.txt','r')\n",
    "for i in f:\n",
    "    print(i)"
   ]
  },
  {
   "cell_type": "code",
   "execution_count": 3,
   "id": "fd668754",
   "metadata": {},
   "outputs": [
    {
     "data": {
      "text/plain": [
       "''"
      ]
     },
     "execution_count": 3,
     "metadata": {},
     "output_type": "execute_result"
    }
   ],
   "source": [
    "f.read()"
   ]
  },
  {
   "cell_type": "code",
   "execution_count": 4,
   "id": "bf1e0f60",
   "metadata": {},
   "outputs": [
    {
     "data": {
      "text/plain": [
       "0"
      ]
     },
     "execution_count": 4,
     "metadata": {},
     "output_type": "execute_result"
    }
   ],
   "source": [
    "f.seek(0)"
   ]
  },
  {
   "cell_type": "code",
   "execution_count": 5,
   "id": "81faf555",
   "metadata": {},
   "outputs": [
    {
     "data": {
      "text/plain": [
       "'25\\n22\\n'"
      ]
     },
     "execution_count": 5,
     "metadata": {},
     "output_type": "execute_result"
    }
   ],
   "source": [
    "f.read()"
   ]
  },
  {
   "cell_type": "code",
   "execution_count": 7,
   "id": "6745fac2",
   "metadata": {},
   "outputs": [
    {
     "data": {
      "text/plain": [
       "['25\\n', '22\\n']"
      ]
     },
     "execution_count": 7,
     "metadata": {},
     "output_type": "execute_result"
    }
   ],
   "source": [
    "f.seek(0)\n",
    "f.readlines()"
   ]
  },
  {
   "cell_type": "code",
   "execution_count": 8,
   "id": "808988d8",
   "metadata": {},
   "outputs": [],
   "source": [
    "f.close()"
   ]
  },
  {
   "cell_type": "code",
   "execution_count": 9,
   "id": "61da25d7",
   "metadata": {},
   "outputs": [
    {
     "data": {
      "text/plain": [
       "37"
      ]
     },
     "execution_count": 9,
     "metadata": {},
     "output_type": "execute_result"
    }
   ],
   "source": [
    "file = open('age.txt','w+')\n",
    "file.write('Adding ages of trainees to this file ')"
   ]
  },
  {
   "cell_type": "code",
   "execution_count": 10,
   "id": "3515a8d1",
   "metadata": {},
   "outputs": [
    {
     "data": {
      "text/plain": [
       "'Adding ages of trainees to this file '"
      ]
     },
     "execution_count": 10,
     "metadata": {},
     "output_type": "execute_result"
    }
   ],
   "source": [
    "file.seek(0)\n",
    "file.read()"
   ]
  },
  {
   "cell_type": "code",
   "execution_count": 11,
   "id": "11a875d9",
   "metadata": {},
   "outputs": [
    {
     "data": {
      "text/plain": [
       "0"
      ]
     },
     "execution_count": 11,
     "metadata": {},
     "output_type": "execute_result"
    }
   ],
   "source": [
    "file.seek(0)"
   ]
  },
  {
   "cell_type": "code",
   "execution_count": 12,
   "id": "5acb6c0e",
   "metadata": {},
   "outputs": [],
   "source": [
    "file.close()"
   ]
  },
  {
   "cell_type": "markdown",
   "id": "06600b0a",
   "metadata": {},
   "source": [
    "### append values to file"
   ]
  },
  {
   "cell_type": "code",
   "execution_count": 13,
   "id": "57cbc485",
   "metadata": {},
   "outputs": [
    {
     "data": {
      "text/plain": [
       "3"
      ]
     },
     "execution_count": 13,
     "metadata": {},
     "output_type": "execute_result"
    }
   ],
   "source": [
    "file = open('age.txt','a+')\n",
    "file.write('\\n22')\n",
    "file.write('\\n23')\n",
    "file.write('\\n24')\n",
    "file.write('\\n25')"
   ]
  },
  {
   "cell_type": "code",
   "execution_count": 14,
   "id": "50a41c14",
   "metadata": {},
   "outputs": [
    {
     "name": "stdout",
     "output_type": "stream",
     "text": [
      "Adding ages of trainees to this file \n",
      "22\n",
      "23\n",
      "24\n",
      "25\n"
     ]
    }
   ],
   "source": [
    "file.seek(0)\n",
    "print(file.read())"
   ]
  },
  {
   "cell_type": "code",
   "execution_count": 15,
   "id": "badc7dbe",
   "metadata": {},
   "outputs": [
    {
     "name": "stdout",
     "output_type": "stream",
     "text": [
      "Adding ages of trainees to this file \n",
      "\n",
      "22\n",
      "\n",
      "23\n",
      "\n",
      "24\n",
      "\n",
      "25\n"
     ]
    }
   ],
   "source": [
    "file.seek(0)\n",
    "for line in file:\n",
    "    print(line) "
   ]
  },
  {
   "cell_type": "code",
   "execution_count": 16,
   "id": "1ce9f08c",
   "metadata": {},
   "outputs": [],
   "source": [
    "file.close()"
   ]
  },
  {
   "cell_type": "code",
   "execution_count": null,
   "id": "41fa5889",
   "metadata": {},
   "outputs": [],
   "source": []
  },
  {
   "cell_type": "markdown",
   "id": "875cfead",
   "metadata": {},
   "source": [
    "### Multiplication program"
   ]
  },
  {
   "cell_type": "code",
   "execution_count": 87,
   "id": "9fc35a04",
   "metadata": {},
   "outputs": [
    {
     "name": "stdout",
     "output_type": "stream",
     "text": [
      "enter number to multiply and to stop enter 0: 5\n",
      "enter no.of multiples required : 10\n",
      "\n",
      "Multiplication program for 5\n",
      "5*1=5\n",
      "5*2=10\n",
      "5*3=15\n",
      "5*4=20\n",
      "5*5=25\n",
      "5*6=30\n",
      "5*7=35\n",
      "5*8=40\n",
      "5*9=45\n",
      "5*10=50\n",
      "enter number to multiply and to stop enter 0: 0\n"
     ]
    }
   ],
   "source": [
    "i=1\n",
    "while i>0:\n",
    "    n=int(input('enter number to multiply and to stop enter 0: '))\n",
    "    if n==0:\n",
    "        i=-1\n",
    "    else:\n",
    "        mul=int(input('enter no.of multiples required : '))\n",
    "        f=open('file.txt','a+')\n",
    "        f.write('\\nMultiplication program for '+str(n))\n",
    "        for i in range(1,mul+1):\n",
    "            x=n*i\n",
    "            f.write('\\n'+str(n)+'*'+str(i)+'='+str(x))\n",
    "        f.seek(0)\n",
    "        print(f.read())\n",
    "    i=i+1"
   ]
  },
  {
   "cell_type": "markdown",
   "id": "65f0e995",
   "metadata": {},
   "source": [
    "### Reading lines in file.txt"
   ]
  },
  {
   "cell_type": "code",
   "execution_count": 88,
   "id": "41c6c3f6",
   "metadata": {},
   "outputs": [
    {
     "name": "stdout",
     "output_type": "stream",
     "text": [
      "\n",
      "\n",
      "Multiplication program for 5\n",
      "\n",
      "5*1=5\n",
      "\n",
      "5*2=10\n",
      "\n",
      "5*3=15\n",
      "\n",
      "5*4=20\n",
      "\n",
      "5*5=25\n",
      "\n",
      "5*6=30\n",
      "\n",
      "5*7=35\n",
      "\n",
      "5*8=40\n",
      "\n",
      "5*9=45\n",
      "\n",
      "5*10=50\n"
     ]
    }
   ],
   "source": [
    "file=open('file.txt','r')\n",
    "for line in file:\n",
    "    print(line)"
   ]
  },
  {
   "cell_type": "code",
   "execution_count": 89,
   "id": "dfaa8f44",
   "metadata": {},
   "outputs": [
    {
     "name": "stdout",
     "output_type": "stream",
     "text": [
      "['\\n', 'Multiplication program for 5\\n', '5*1=5\\n', '5*2=10\\n', '5*3=15\\n', '5*4=20\\n', '5*5=25\\n', '5*6=30\\n', '5*7=35\\n', '5*8=40\\n', '5*9=45\\n', '5*10=50']\n"
     ]
    }
   ],
   "source": [
    "file.seek(0)\n",
    "print(file.readlines())"
   ]
  },
  {
   "cell_type": "code",
   "execution_count": 90,
   "id": "c634976d",
   "metadata": {},
   "outputs": [],
   "source": [
    "file.close()"
   ]
  },
  {
   "cell_type": "code",
   "execution_count": 91,
   "id": "bdb9da34",
   "metadata": {},
   "outputs": [],
   "source": [
    "file=open('file.txt','r')"
   ]
  },
  {
   "cell_type": "code",
   "execution_count": 92,
   "id": "5939da58",
   "metadata": {},
   "outputs": [
    {
     "name": "stdout",
     "output_type": "stream",
     "text": [
      "\n",
      "\n",
      "Multiplication program for 5\n",
      "\n",
      "5*1=5\n",
      "\n"
     ]
    }
   ],
   "source": [
    "print(file.readline(-1))\n",
    "print(file.readline(-1))\n",
    "print(file.readline(-1))\n"
   ]
  },
  {
   "cell_type": "code",
   "execution_count": 93,
   "id": "af9ad7fb",
   "metadata": {},
   "outputs": [
    {
     "data": {
      "text/plain": [
       "True"
      ]
     },
     "execution_count": 93,
     "metadata": {},
     "output_type": "execute_result"
    }
   ],
   "source": [
    "file.readable()"
   ]
  },
  {
   "cell_type": "code",
   "execution_count": 94,
   "id": "0a83616e",
   "metadata": {},
   "outputs": [],
   "source": [
    "file.close()"
   ]
  },
  {
   "cell_type": "markdown",
   "id": "db180e51",
   "metadata": {},
   "source": [
    "### prime numbers between two numbers"
   ]
  },
  {
   "cell_type": "code",
   "execution_count": 97,
   "id": "70f5786a",
   "metadata": {
    "scrolled": true
   },
   "outputs": [
    {
     "name": "stdout",
     "output_type": "stream",
     "text": [
      "enter starting number and to stop enter 0 : 0\n",
      "enter ending number and to stop enter 0 : 0\n"
     ]
    }
   ],
   "source": [
    "i=1\n",
    "while i>0:\n",
    "    a=int(input('enter starting number and to stop enter 0 : '))\n",
    "    b=int(input('enter ending number and to stop enter 0 : '))    \n",
    "    if (a or b)==0:\n",
    "        i=-1\n",
    "    elif (a or b)<=0:\n",
    "        print('please enter only positive values ')\n",
    "    else:\n",
    "        file=open('file.txt','a+')\n",
    "        file.write('\\nPrime numbers between '+str(a)+'and'+str(b)+'\\n')\n",
    "        for i in range(a,b+1):\n",
    "            for j in range(2,i):\n",
    "                if i%j==0:\n",
    "                    break\n",
    "            else:\n",
    "                file.write('\\n'+str(i))\n",
    "        f.seek(0)\n",
    "        print(f.read())\n",
    "    i=i+1"
   ]
  },
  {
   "cell_type": "code",
   "execution_count": 96,
   "id": "9d2bac35",
   "metadata": {},
   "outputs": [
    {
     "name": "stdout",
     "output_type": "stream",
     "text": [
      "\n",
      "Multiplication program for 5\n",
      "5*1=5\n",
      "5*2=10\n",
      "5*3=15\n",
      "5*4=20\n",
      "5*5=25\n",
      "5*6=30\n",
      "5*7=35\n",
      "5*8=40\n",
      "5*9=45\n",
      "5*10=50\n",
      "Prime numbers between 10and30\n",
      "\n",
      "11\n",
      "13\n",
      "17\n",
      "19\n",
      "23\n",
      "29\n"
     ]
    }
   ],
   "source": [
    "file=open('file.txt','r')\n",
    "print(file.read())"
   ]
  },
  {
   "cell_type": "markdown",
   "id": "d8731ae1",
   "metadata": {},
   "source": [
    "### Adding the list"
   ]
  },
  {
   "cell_type": "code",
   "execution_count": 98,
   "id": "169a72fa",
   "metadata": {},
   "outputs": [
    {
     "name": "stdout",
     "output_type": "stream",
     "text": [
      "\n",
      "Multiplication program for 5\n",
      "5*1=5\n",
      "5*2=10\n",
      "5*3=15\n",
      "5*4=20\n",
      "5*5=25\n",
      "5*6=30\n",
      "5*7=35\n",
      "5*8=40\n",
      "5*9=45\n",
      "5*10=50\n",
      "Prime numbers between 10and30\n",
      "\n",
      "11\n",
      "13\n",
      "17\n",
      "19\n",
      "23\n",
      "29\n",
      "Addition of list [34, 45, 32, 53, 2]\n",
      "The output is 166\n"
     ]
    }
   ],
   "source": [
    "l=[34,45,32,53,2]\n",
    "file=open('file.txt','a+')\n",
    "file.write('\\nAddition of list '+str(l))\n",
    "sum=0\n",
    "for i in l:\n",
    "    sum+=i\n",
    "file.write('\\nThe output is '+str(sum))\n",
    "file.seek(0)\n",
    "print(file.read())"
   ]
  },
  {
   "cell_type": "markdown",
   "id": "90169c3d",
   "metadata": {},
   "source": [
    "### Multiplication of n natural numbers"
   ]
  },
  {
   "cell_type": "code",
   "execution_count": 101,
   "id": "ae61203f",
   "metadata": {
    "scrolled": true
   },
   "outputs": [
    {
     "name": "stdout",
     "output_type": "stream",
     "text": [
      "Enter a number 30\n",
      "\n",
      "Multiplication program for 5\n",
      "5*1=5\n",
      "5*2=10\n",
      "5*3=15\n",
      "5*4=20\n",
      "5*5=25\n",
      "5*6=30\n",
      "5*7=35\n",
      "5*8=40\n",
      "5*9=45\n",
      "5*10=50\n",
      "Prime numbers between 10and30\n",
      "\n",
      "11\n",
      "13\n",
      "17\n",
      "19\n",
      "23\n",
      "29\n",
      "Addition of list [34, 45, 32, 53, 2]\n",
      "The output is 166\n",
      "Multiplication of N natural numbers [34, 45, 32, 53, 2]\n",
      "The output is 0\n",
      "Multiplication of N natural numbers \n",
      "The output is 0\n",
      "Multiplication of N natural numbers \n",
      "The output is 265252859812191058636308480000000\n"
     ]
    }
   ],
   "source": [
    "n=int(input('Enter a number '))\n",
    "file=open('file.txt','a+')\n",
    "file.write('\\nMultiplication of N natural numbers ')\n",
    "mul_sum=1\n",
    "for i in range(1,n+1):\n",
    "    mul_sum*=i\n",
    "file.write('\\nThe output is '+str(mul_sum))\n",
    "file.seek(0)\n",
    "print(file.read())"
   ]
  },
  {
   "cell_type": "code",
   "execution_count": 102,
   "id": "aec8367a",
   "metadata": {},
   "outputs": [],
   "source": [
    "file.close()"
   ]
  },
  {
   "cell_type": "code",
   "execution_count": 83,
   "id": "64c9cd63",
   "metadata": {},
   "outputs": [],
   "source": [
    "import os\n",
    "os.remove(\"file.txt\")"
   ]
  },
  {
   "cell_type": "code",
   "execution_count": null,
   "id": "0cda2d44",
   "metadata": {},
   "outputs": [],
   "source": []
  },
  {
   "cell_type": "code",
   "execution_count": null,
   "id": "5801a3e1",
   "metadata": {},
   "outputs": [],
   "source": []
  },
  {
   "cell_type": "markdown",
   "id": "ed506e87",
   "metadata": {},
   "source": [
    "# OOPS"
   ]
  },
  {
   "cell_type": "code",
   "execution_count": 15,
   "id": "7f9df715",
   "metadata": {},
   "outputs": [
    {
     "name": "stdout",
     "output_type": "stream",
     "text": [
      "rajesh\n",
      "22222\n",
      "vamsi\n",
      "33333\n"
     ]
    }
   ],
   "source": [
    "class Trainee:\n",
    "\n",
    "    def __init__(x,name,emp_id):\n",
    "        x.name = name\n",
    "        x.emp_id = emp_id\n",
    "    def print_details(x):\n",
    "        print(x.name)\n",
    "        print(x.emp_id)\n",
    "\n",
    "\n",
    "\n",
    "r=Trainee(\"rajesh\",22222)\n",
    "r.print_details()\n",
    "\n",
    "r2=Trainee(\"vamsi\",33333)\n",
    "#r2.entry_details()\n",
    "r2.print_details()"
   ]
  },
  {
   "cell_type": "code",
   "execution_count": 11,
   "id": "d9a20eb3",
   "metadata": {},
   "outputs": [],
   "source": [
    "class laptop:\n",
    "    company ='Hp'\n",
    "    \n",
    "    def __init__(self,ram,ssd):\n",
    "        self.ram=ram\n",
    "        self.ssd=ssd\n",
    "        \n",
    "    def details(self):\n",
    "        return self.company,self.ram,self.ssd\n",
    "        \n",
    "c1=laptop(8,512)\n"
   ]
  },
  {
   "cell_type": "code",
   "execution_count": 13,
   "id": "58a87276",
   "metadata": {},
   "outputs": [
    {
     "data": {
      "text/plain": [
       "('Hp', 8, 512)"
      ]
     },
     "execution_count": 13,
     "metadata": {},
     "output_type": "execute_result"
    }
   ],
   "source": [
    "c1.details()"
   ]
  },
  {
   "cell_type": "code",
   "execution_count": 16,
   "id": "18528e7a",
   "metadata": {},
   "outputs": [
    {
     "data": {
      "text/plain": [
       "'Hp'"
      ]
     },
     "execution_count": 16,
     "metadata": {},
     "output_type": "execute_result"
    }
   ],
   "source": [
    "c1.company"
   ]
  },
  {
   "cell_type": "code",
   "execution_count": null,
   "id": "8c8af9c1",
   "metadata": {},
   "outputs": [],
   "source": []
  },
  {
   "cell_type": "code",
   "execution_count": 28,
   "id": "33d52ca8",
   "metadata": {},
   "outputs": [],
   "source": [
    "class car:\n",
    "    company = 'Name of the company'\n",
    "    def __init__(self):\n",
    "        self.mil=10\n",
    "        self.speed='80km/hr'\n",
    "        \n",
    "    def BMW(self):\n",
    "        self.company='BMW'\n",
    "        return self.company,self.mil,self.speed\n",
    "    \n",
    "    def Tesla(self):\n",
    "        self.company='Tesla'\n",
    "        return self.company,self.mil,self.speed\n",
    "    \n",
    "car=car()"
   ]
  },
  {
   "cell_type": "code",
   "execution_count": 29,
   "id": "bce29e27",
   "metadata": {},
   "outputs": [
    {
     "data": {
      "text/plain": [
       "('BMW', 10, '80km/hr')"
      ]
     },
     "execution_count": 29,
     "metadata": {},
     "output_type": "execute_result"
    }
   ],
   "source": [
    "car.BMW()"
   ]
  },
  {
   "cell_type": "code",
   "execution_count": 30,
   "id": "d5b5bb6e",
   "metadata": {},
   "outputs": [
    {
     "data": {
      "text/plain": [
       "('Tesla', 10, '80km/hr')"
      ]
     },
     "execution_count": 30,
     "metadata": {},
     "output_type": "execute_result"
    }
   ],
   "source": [
    "car.Tesla()"
   ]
  },
  {
   "cell_type": "code",
   "execution_count": null,
   "id": "57a153cb",
   "metadata": {},
   "outputs": [],
   "source": []
  },
  {
   "cell_type": "code",
   "execution_count": null,
   "id": "acbaefe2",
   "metadata": {},
   "outputs": [],
   "source": []
  },
  {
   "cell_type": "code",
   "execution_count": 9,
   "id": "b4d72d0a",
   "metadata": {},
   "outputs": [
    {
     "name": "stdout",
     "output_type": "stream",
     "text": [
      "4-Wheeler BMW\n",
      "black\n",
      "2-wheeler Fz\n",
      "black\n"
     ]
    }
   ],
   "source": [
    "class car(): \n",
    "#     def __init__(self,brand): \n",
    "#         self.brand=brand \n",
    "    def type(self,brand): \n",
    "        print(\"4-Wheeler\",brand) \n",
    "    def color(self): \n",
    "        print(\"black\") \n",
    "class bike(): \n",
    "#     def __init__(self,brand): \n",
    "#         self.brand=brand \n",
    "    def type(self,brand): \n",
    "        print(\"2-wheeler\",brand) \n",
    "    def color(self): \n",
    "        print(\"black\") \n",
    "        \n",
    "        \n",
    "c = car() \n",
    "b = bike() \n",
    "c.type('BMW') \n",
    "c.color() \n",
    "b.type('Fz') \n",
    "b.color() "
   ]
  },
  {
   "cell_type": "code",
   "execution_count": 15,
   "id": "c7a9a3d8",
   "metadata": {},
   "outputs": [
    {
     "name": "stdout",
     "output_type": "stream",
     "text": [
      "peter wakes at 8:10 am\n",
      "hidie wakes at 8:30 am\n"
     ]
    }
   ],
   "source": [
    "class person1:\n",
    "    def __init__(self,name,time):\n",
    "        self.name = name\n",
    "        self.time = time\n",
    "    def wake(self):\n",
    "        print(f\"{self.name} wakes at {self.time}\")\n",
    "class person2:\n",
    "    def __init__(self,name,time):\n",
    "        self.name = name\n",
    "        self.time = time\n",
    "    def wake(self):\n",
    "        print(f\"{self.name} wakes at {self.time}\")\n",
    "        \n",
    "peter = person1(\"peter\",\"8:10 am\")\n",
    "hidie = person2(\"hidie\",\"8:30 am\")\n",
    "peter.wake()\n",
    "hidie.wake()"
   ]
  },
  {
   "cell_type": "code",
   "execution_count": null,
   "id": "57785043",
   "metadata": {},
   "outputs": [],
   "source": []
  },
  {
   "cell_type": "code",
   "execution_count": null,
   "id": "ed2537a4",
   "metadata": {},
   "outputs": [],
   "source": []
  },
  {
   "cell_type": "code",
   "execution_count": null,
   "id": "bf1fb7a8",
   "metadata": {},
   "outputs": [],
   "source": []
  },
  {
   "cell_type": "code",
   "execution_count": null,
   "id": "6d45c6f4",
   "metadata": {},
   "outputs": [],
   "source": []
  },
  {
   "cell_type": "code",
   "execution_count": 36,
   "id": "7d13d89b",
   "metadata": {},
   "outputs": [
    {
     "name": "stdout",
     "output_type": "stream",
     "text": [
      "The student name of class A is \n",
      "Peter\n",
      "Hidie\n",
      "The student name of class A is \n",
      "Fathima\n",
      "Parker\n",
      "Hidie\n"
     ]
    }
   ],
   "source": [
    "class A:\n",
    "    def __init__(self):\n",
    "        print('The student name of class A is ')\n",
    "    def student_1(self):\n",
    "        print('Peter')\n",
    "    def student_2(self):\n",
    "        print('Hidie')\n",
    "    \n",
    "class B(A):\n",
    "    def student_1(self):\n",
    "        print('Parker')\n",
    "    def student_4(self):\n",
    "        print('Fathima')\n",
    "\n",
    "a=A()\n",
    "a.student_1()\n",
    "a.student_2()\n",
    "b=B()\n",
    "\n",
    "b.student_4()\n",
    "b.student_1()\n",
    "b.student_2()"
   ]
  },
  {
   "cell_type": "code",
   "execution_count": 40,
   "id": "b2c0b1b1",
   "metadata": {},
   "outputs": [
    {
     "name": "stdout",
     "output_type": "stream",
     "text": [
      "The student name of class A is  rajesh\n",
      "Peter\n",
      "Hidie\n",
      "The student name of class B is rajesh  and roll is 5\n",
      "Fathima\n",
      "Parker rajesh\n",
      "Hidie\n",
      "The student name of class A is  rajesh\n",
      "\n",
      "\n",
      "Peter\n",
      "Peter\n"
     ]
    }
   ],
   "source": [
    "class A:\n",
    "    name='rajesh'\n",
    "    def __init__(self):\n",
    "        print('The student name of class A is ',self.name)\n",
    "    def student_1(self):\n",
    "        print('Peter')\n",
    "    def student_2(self):\n",
    "        print('Hidie')\n",
    "    \n",
    "class B(A):\n",
    "    def __init__(self):\n",
    "       # super().__init__()\n",
    "        self.roll=5\n",
    "        print(f'The student name of class B is {self.name}  and roll is {self.roll}')\n",
    "    \n",
    "    def student_1(self):\n",
    "        print('Parker',self.name)\n",
    "    def student_4(self):\n",
    "        print('Fathima')\n",
    "\n",
    "a=A()\n",
    "a.student_1()\n",
    "a.student_2()\n",
    "b=B()\n",
    "b.student_4()\n",
    "b.student_1()\n",
    "b.student_2()\n",
    "b=A()\n",
    "print('\\n')\n",
    "b.student_1()\n",
    "a=b\n",
    "a.student_1()\n"
   ]
  },
  {
   "cell_type": "code",
   "execution_count": null,
   "id": "f6e282ca",
   "metadata": {},
   "outputs": [],
   "source": []
  },
  {
   "cell_type": "code",
   "execution_count": 2,
   "id": "d0049d6f",
   "metadata": {},
   "outputs": [
    {
     "name": "stdout",
     "output_type": "stream",
     "text": [
      "60\n"
     ]
    }
   ],
   "source": [
    "class A:\n",
    "    def area(self,r):\n",
    "        a=r**2\n",
    "        print(a) \n",
    "    def area(self,l,b):\n",
    "        a=l*b\n",
    "        print(a)\n",
    "    def area(self,l,b,h):\n",
    "        a=l*b*h\n",
    "        print(a) \n",
    "a=A()\n",
    "a.area(3,4,5)\n"
   ]
  },
  {
   "cell_type": "code",
   "execution_count": 20,
   "id": "c8503921",
   "metadata": {},
   "outputs": [
    {
     "name": "stdout",
     "output_type": "stream",
     "text": [
      "120\n",
      "2\n"
     ]
    }
   ],
   "source": [
    "class B:\n",
    "    def product(self,a, b):\n",
    "        p = a * b\n",
    "        print(p)\n",
    "\n",
    "    def product(self,a, b , c):\n",
    "        p = a * b * c\n",
    "        return p\n",
    "    \n",
    "class C(B):\n",
    "    def product(self,a,b):\n",
    "        p=a//b\n",
    "        return p\n",
    "    \n",
    "\n",
    "b=B()\n",
    "c=C()\n",
    "\n",
    "# print(b.product(4,6))\n",
    "print(b.product(4,6,5))\n",
    "print(c.product(4,2))"
   ]
  },
  {
   "cell_type": "code",
   "execution_count": null,
   "id": "2b952dc4",
   "metadata": {},
   "outputs": [],
   "source": []
  },
  {
   "cell_type": "code",
   "execution_count": null,
   "id": "480ed921",
   "metadata": {},
   "outputs": [],
   "source": []
  },
  {
   "cell_type": "code",
   "execution_count": null,
   "id": "326f3aec",
   "metadata": {},
   "outputs": [],
   "source": []
  },
  {
   "cell_type": "code",
   "execution_count": 35,
   "id": "85145dbc",
   "metadata": {},
   "outputs": [
    {
     "name": "stdout",
     "output_type": "stream",
     "text": [
      "20\n",
      "120\n",
      "16\n"
     ]
    }
   ],
   "source": [
    "class F:\n",
    "    def sum(self,a=None,b=None,c=None):\n",
    "        s=0\n",
    "        if a!=None and b!=None and c!=None:\n",
    "            s=a*b*c\n",
    "        elif a!=None and b!=None:\n",
    "            s=a*b\n",
    "        else:\n",
    "            s=a*a\n",
    "        return s\n",
    "f=F()\n",
    "print(f.sum(4,5))\n",
    "print(f.sum(4,5,6))\n",
    "print(f.sum(4))"
   ]
  },
  {
   "cell_type": "code",
   "execution_count": 2,
   "id": "d647ceb2",
   "metadata": {},
   "outputs": [
    {
     "name": "stdout",
     "output_type": "stream",
     "text": [
      "constructor\n",
      "Album: The wall is by Pink Floyd contains 26 songs\n",
      "Hello\n",
      "\n"
     ]
    }
   ],
   "source": [
    "class CD:\n",
    "    def __init__(self,songwriter,title,songs):\n",
    "        self.songwriter = songwriter\n",
    "        self.title = title\n",
    "        self.songs = songs\n",
    "        print('constructor')\n",
    "    def __str__(self):\n",
    "        return f'Album: {self.title} is by {self.songwriter} contains {self.songs} songs'\n",
    "    def x(self):\n",
    "        print(\"Hello\")\n",
    "        return ''\n",
    "my_cd = CD('Pink Floyd','The wall',26) \n",
    "print(my_cd) \n",
    "print(my_cd.x()) "
   ]
  },
  {
   "cell_type": "code",
   "execution_count": 25,
   "id": "14d2facb",
   "metadata": {},
   "outputs": [
    {
     "name": "stdout",
     "output_type": "stream",
     "text": [
      "welcome 0\n",
      "welcome 0\n",
      "welcome 54\n"
     ]
    }
   ],
   "source": [
    "class B:\n",
    "    \n",
    "    def show(self):\n",
    "        print(\"welcome\")\n",
    "    def show(self,first_name):\n",
    "        print(\"welcome\",first_name)\n",
    "    def show(self,first_name=0,last_name=0):\n",
    "        print(\"welcome\",first_name*last_name)\n",
    "\n",
    "b=B()\n",
    "b.show()\n",
    "b.show(9)\n",
    "b.show(6,9) "
   ]
  },
  {
   "cell_type": "code",
   "execution_count": 53,
   "id": "9e2bd8c6",
   "metadata": {},
   "outputs": [
    {
     "name": "stdout",
     "output_type": "stream",
     "text": [
      "0\n",
      "12\n"
     ]
    }
   ],
   "source": [
    "class A:\n",
    "    def area(self,a):\n",
    "        print(3.14*a*a)\n",
    "    def area(self,l=0,b=0):\n",
    "        print(l*b)\n",
    "    \n",
    "a=A()\n",
    "a.area(4)\n",
    "a.area(3,4) "
   ]
  },
  {
   "cell_type": "code",
   "execution_count": 51,
   "id": "30a1aae1",
   "metadata": {},
   "outputs": [
    {
     "name": "stdout",
     "output_type": "stream",
     "text": [
      "saritha\n"
     ]
    }
   ],
   "source": [
    "def add(a,b):\n",
    "    return a+b\n",
    "def add(x,y):\n",
    "    return x*y\n",
    "add(3,3)\n",
    "x=3\n",
    "x='saritha'\n",
    "print(x)"
   ]
  },
  {
   "cell_type": "code",
   "execution_count": 4,
   "id": "392d44ac",
   "metadata": {},
   "outputs": [
    {
     "name": "stdout",
     "output_type": "stream",
     "text": [
      "Element After Sorting List  [2, 3, 4, 34, 67]\n"
     ]
    }
   ],
   "source": [
    "l=[34,2,3,67,4]\n",
    "for i in range (len(l)):\n",
    "    for j in range(i + 1, len(l)):\n",
    "        if(l[i] > l[j]):\n",
    "            c = l[i]\n",
    "            l[i] = l[j]\n",
    "            l[j] = c\n",
    "\n",
    "print(\"Element After Sorting List \",l) "
   ]
  },
  {
   "cell_type": "code",
   "execution_count": 27,
   "id": "176c6862",
   "metadata": {},
   "outputs": [
    {
     "name": "stdout",
     "output_type": "stream",
     "text": [
      "Element After Sorting List  [[1, 2], [1, 4], [2, 9], [3, 4], [3, 7]]\n"
     ]
    }
   ],
   "source": [
    "l=[[1,4],[3,7],[3,4],[2,9],[1,2]]\n",
    "\n",
    "#l= [ [1,4], [1,2], [2,9], [3,7], [3,4]]\n",
    "#l= [ [1,2], [1,4], [2,9], [3,4], [3,7]]\n",
    "\n",
    "for i in range(len(l)):\n",
    "    for j in range(i+1,len(l)):\n",
    "        if l[i][0]>l[j][0]:\n",
    "            temp =l[i]\n",
    "            l[i]=l[j]\n",
    "            l[j]=temp   \n",
    "    for k in range(i+1,len(l)):\n",
    "        if l[i][0]==l[k][0] and l[i][1]>l[k][1]:\n",
    "            temp =l[i]\n",
    "            l[i]=l[k]\n",
    "            l[k]=temp     \n",
    "\n",
    "\n",
    "print(\"Element After Sorting List \",l)  "
   ]
  },
  {
   "cell_type": "code",
   "execution_count": null,
   "id": "80b9cb6a",
   "metadata": {},
   "outputs": [],
   "source": [
    " "
   ]
  },
  {
   "cell_type": "code",
   "execution_count": 28,
   "id": "29a021aa",
   "metadata": {},
   "outputs": [
    {
     "name": "stdout",
     "output_type": "stream",
     "text": [
      "elements after sorting: [[1, 4], [3, 9], [3, 6], [1, 2], [5, 9]]\n"
     ]
    }
   ],
   "source": [
    "l=[[1,4],[3,9],[3,6],[1,2],[5,9]]\n",
    "\n",
    "for i in range(len(l)):\n",
    "    for j in range(i+1,len(l)):\n",
    "        for k in range(0,2):\n",
    "            if l[i][k]>l[j][k] :\n",
    "                temp=l[i][k]\n",
    "                l[i][k]=l[j][k]\n",
    "                l[j][k]=temp       \n",
    "          \n",
    "        \n",
    "        \n",
    "print(\"elements after sorting:\",l)"
   ]
  },
  {
   "cell_type": "code",
   "execution_count": null,
   "id": "10dd51c0",
   "metadata": {},
   "outputs": [],
   "source": []
  }
 ],
 "metadata": {
  "kernelspec": {
   "display_name": "Python 3 (ipykernel)",
   "language": "python",
   "name": "python3"
  },
  "language_info": {
   "codemirror_mode": {
    "name": "ipython",
    "version": 3
   },
   "file_extension": ".py",
   "mimetype": "text/x-python",
   "name": "python",
   "nbconvert_exporter": "python",
   "pygments_lexer": "ipython3",
   "version": "3.9.12"
  }
 },
 "nbformat": 4,
 "nbformat_minor": 5
}
