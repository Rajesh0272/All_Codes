{
 "cells": [
  {
   "cell_type": "code",
   "execution_count": 11,
   "id": "b480434d",
   "metadata": {},
   "outputs": [
    {
     "name": "stdout",
     "output_type": "stream",
     "text": [
      "enter 1st number : 56\n",
      "enter 2nd number : 56\n",
      "Both are equal\n"
     ]
    }
   ],
   "source": [
    "a=int(input('enter 1st number : '))\n",
    "b=int(input('enter 2nd number : '))\n",
    "if a>b:\n",
    "    print(a,'is greater than',b)\n",
    "elif a<b:\n",
    "    print(a,'is less than',b)\n",
    "else:\n",
    "    print('Both are equal')"
   ]
  },
  {
   "cell_type": "code",
   "execution_count": 14,
   "id": "9cf6f2be",
   "metadata": {},
   "outputs": [
    {
     "name": "stdout",
     "output_type": "stream",
     "text": [
      "enter number : 1\n",
      "1\n"
     ]
    }
   ],
   "source": [
    "num = int(input('enter number : '))\n",
    "a,b=0,1\n",
    "c=0\n",
    "if num<0:\n",
    "    print('it an invalid num')\n",
    "elif num==0:\n",
    "    print(0)\n",
    "elif num==1 or num==2:\n",
    "    print(1)\n",
    "else:\n",
    "    print('Fibonacci sequence is ')\n",
    "    while c<num:\n",
    "        print(a,end=' ')\n",
    "        tem = a+b\n",
    "        a=b\n",
    "        b=tem\n",
    "        c+=1\n",
    "    \n",
    "    "
   ]
  },
  {
   "cell_type": "code",
   "execution_count": 12,
   "id": "987448ac",
   "metadata": {},
   "outputs": [
    {
     "name": "stdout",
     "output_type": "stream",
     "text": [
      "enter value to be multiplied 5\n",
      "enter end values 10\n",
      "5 * 1 = 5\n",
      "5 * 2 = 10\n",
      "5 * 3 = 15\n",
      "5 * 4 = 20\n",
      "5 * 5 = 25\n",
      "5 * 6 = 30\n",
      "5 * 7 = 35\n",
      "5 * 8 = 40\n",
      "5 * 9 = 45\n",
      "5 * 10 = 50\n"
     ]
    }
   ],
   "source": [
    "a=int(input('enter value to be multiplied '))\n",
    "b=int(input('enter end values '))\n",
    "for i in range(1,b+1):\n",
    "    print(a,'*',i,'=',a*i)"
   ]
  },
  {
   "cell_type": "code",
   "execution_count": 4,
   "id": "5ce6daa1",
   "metadata": {},
   "outputs": [
    {
     "name": "stdout",
     "output_type": "stream",
     "text": [
      "enter values with comma seperated34,23,52,43\n",
      "sum of all the values =  152\n",
      "mean of all the values =  38.0\n"
     ]
    }
   ],
   "source": [
    "values=input('enter values with comma seperated')\n",
    "b=values.split(',')\n",
    "l=[int(i) for i in b]\n",
    "print('sum of all the values = ',sum(l))\n",
    "print('mean of all the values = ',sum(l)/len(l))"
   ]
  },
  {
   "cell_type": "code",
   "execution_count": 5,
   "id": "cc84a76d",
   "metadata": {},
   "outputs": [
    {
     "name": "stdout",
     "output_type": "stream",
     "text": [
      "enter num to check palindrome : 56565\n",
      "56565 is a palindrome number\n"
     ]
    }
   ],
   "source": [
    "num = int(input('enter num to check palindrome : '))\n",
    "num_str = str(num)\n",
    "if num_str==num_str[::-1]:\n",
    "    print(num,'is a palindrome number')\n",
    "else:\n",
    "    print(num,'is not a palindrome number')"
   ]
  },
  {
   "cell_type": "code",
   "execution_count": 6,
   "id": "b2736225",
   "metadata": {},
   "outputs": [
    {
     "name": "stdout",
     "output_type": "stream",
     "text": [
      "enter number : 45632\n",
      "sum of digits of a number is =  20\n"
     ]
    }
   ],
   "source": [
    "num=int(input('enter number : '))\n",
    "num_str=str(num)\n",
    "l=[int(i) for i in num_str]\n",
    "print('sum of digits of a number is = ',sum(l))"
   ]
  },
  {
   "cell_type": "code",
   "execution_count": 1,
   "id": "188cc9d7",
   "metadata": {},
   "outputs": [
    {
     "data": {
      "text/plain": [
       "4563"
      ]
     },
     "execution_count": 1,
     "metadata": {},
     "output_type": "execute_result"
    }
   ],
   "source": [
    "45632//10"
   ]
  },
  {
   "cell_type": "code",
   "execution_count": 7,
   "id": "77bc9c66",
   "metadata": {},
   "outputs": [
    {
     "name": "stdout",
     "output_type": "stream",
     "text": [
      "enter number : 4532\n",
      "reversed number =  2354\n"
     ]
    }
   ],
   "source": [
    "num = int(input('enter number : '))\n",
    "num_reverse=0\n",
    "while num !=0:\n",
    "    carry = num % 10\n",
    "    num_reverse = num_reverse * 10 + carry\n",
    "    num = num//10\n",
    "print('reversed number = ',num_reverse)"
   ]
  },
  {
   "cell_type": "code",
   "execution_count": 8,
   "id": "c7edd316",
   "metadata": {},
   "outputs": [
    {
     "name": "stdout",
     "output_type": "stream",
     "text": [
      "enter number : 34523132\n",
      "three four five two three one three two "
     ]
    }
   ],
   "source": [
    "num = int(input('enter number : '))\n",
    "l=[\"zero\", \"one\", \"two\", \"three\", \"four\",\"five\", \"six\", \"seven\", \"eight\", \"nine\"]\n",
    "num_str = str(num)\n",
    "for i in num_str:\n",
    "    print(l[int(i)],end=' ')"
   ]
  },
  {
   "cell_type": "code",
   "execution_count": 9,
   "id": "0ec1b253",
   "metadata": {},
   "outputs": [
    {
     "name": "stdout",
     "output_type": "stream",
     "text": [
      "enter num to check armstrong : 153\n",
      "153 is an armstrong number\n"
     ]
    }
   ],
   "source": [
    "num = int(input('enter num to check armstrong : '))\n",
    "num_org = num\n",
    "a=len(str(num))\n",
    "add=0\n",
    "while num!=0:\n",
    "    k=num % 10\n",
    "    add = add+ (k**a)\n",
    "    num//=10\n",
    "if num_org == add:\n",
    "    print(num_org,'is an armstrong number')\n",
    "else:\n",
    "    print(num_org,'is not an armstrong number')"
   ]
  },
  {
   "cell_type": "code",
   "execution_count": null,
   "id": "e080f598",
   "metadata": {},
   "outputs": [],
   "source": []
  },
  {
   "cell_type": "code",
   "execution_count": null,
   "id": "4dd7ab3b",
   "metadata": {},
   "outputs": [],
   "source": []
  },
  {
   "cell_type": "code",
   "execution_count": null,
   "id": "a24585a7",
   "metadata": {},
   "outputs": [],
   "source": []
  },
  {
   "cell_type": "code",
   "execution_count": null,
   "id": "1c8fcc47",
   "metadata": {},
   "outputs": [],
   "source": []
  },
  {
   "cell_type": "code",
   "execution_count": 16,
   "id": "aef5ac49",
   "metadata": {},
   "outputs": [
    {
     "name": "stdout",
     "output_type": "stream",
     "text": [
      "enter a value : 5\n",
      "enter b value : 4\n",
      "enter c value : 3\n",
      "The gratest number is 5\n"
     ]
    }
   ],
   "source": [
    "a=int(input('enter a value : '))\n",
    "b=int(input('enter b value : '))\n",
    "c=int(input('enter c value : '))\n",
    "if (a>b) and (a>c):\n",
    "    print('The gratest number is',a)\n",
    "elif (b>a) and (b>c):\n",
    "    print('The greatest number is',b)\n",
    "else:\n",
    "    print('The greatest number is',c)"
   ]
  },
  {
   "cell_type": "code",
   "execution_count": 24,
   "id": "828c19ba",
   "metadata": {},
   "outputs": [
    {
     "name": "stdout",
     "output_type": "stream",
     "text": [
      "enter values by comma seperated : 34,546,234,23,453,6\n",
      "The largest number = 546\n",
      "The smallest number = 6\n"
     ]
    }
   ],
   "source": [
    "x=input('enter values by comma seperated : ')\n",
    "b=[int(i) for i in x.split(',')]\n",
    "c=sorted(b)\n",
    "print('The largest number =',c[-1])\n",
    "print('The smallest number =',c[0])\n"
   ]
  },
  {
   "cell_type": "code",
   "execution_count": 26,
   "id": "4210387b",
   "metadata": {},
   "outputs": [
    {
     "name": "stdout",
     "output_type": "stream",
     "text": [
      "enter values by comma seperated : 34,546,234,23,453,6\n",
      "The 2nd largest number = 453\n",
      "The 2nd smallest number = 23\n"
     ]
    }
   ],
   "source": [
    "x=input('enter values by comma seperated : ')\n",
    "b=[int(i) for i in x.split(',')]\n",
    "c=sorted(b)\n",
    "print('The 2nd largest number =',c[-2])\n",
    "print('The 2nd smallest number =',c[1])\n"
   ]
  },
  {
   "cell_type": "code",
   "execution_count": 50,
   "id": "79d6dfac",
   "metadata": {},
   "outputs": [
    {
     "name": "stdout",
     "output_type": "stream",
     "text": [
      "enter no.of values to be entered :5\n",
      "enter value to add : adfad\n",
      "enter value to add : er\n",
      "enter value to add : 4\n",
      "enter value to add : 35\n",
      "enter value to add : fdsa\n",
      "The 2nd last values entered by the user = 35\n"
     ]
    }
   ],
   "source": [
    "n=int(input('enter no.of values to be entered :'))\n",
    "l=[]\n",
    "for i in range(n):\n",
    "    x=input('enter value to add : ')\n",
    "    l.append(x)\n",
    "print(f'{\"The 2nd last values entered by the user =\"} {l[-2]}')"
   ]
  },
  {
   "cell_type": "code",
   "execution_count": 52,
   "id": "9dad87b1",
   "metadata": {},
   "outputs": [
    {
     "name": "stdout",
     "output_type": "stream",
     "text": [
      "enter values by comma seperated : 34,546,234,23,453,6\n",
      "['34', '546', '234', '23', '453', '6']\n"
     ]
    }
   ],
   "source": [
    "x=input('enter values by comma seperated : ')\n",
    "print(x.split(','))\n",
    "for i in x.split(','):\n",
    "    print(type(i))"
   ]
  },
  {
   "cell_type": "code",
   "execution_count": 54,
   "id": "cb7c78b9",
   "metadata": {},
   "outputs": [
    {
     "name": "stdout",
     "output_type": "stream",
     "text": [
      "enter values by comma seperated : 56,34,21,90,67.75\n",
      "53.75\n",
      "Difference from mean to 56.0 = -2.25\n",
      "Difference from mean to 34.0 = 19.75\n",
      "Difference from mean to 21.0 = 32.75\n",
      "Difference from mean to 90.0 = -36.25\n",
      "Difference from mean to 67.75 = -14.0\n"
     ]
    }
   ],
   "source": [
    "\n",
    "x=input('enter values by comma seperated : ')\n",
    "b=[float(i) for i in x.split(',')]\n",
    "c=sum(b)/len(b)\n",
    "print(c)\n",
    "for i in b:\n",
    "    print(f'{\"Difference from mean to\"} {i} {\"=\"} {c-i}')"
   ]
  },
  {
   "cell_type": "code",
   "execution_count": 44,
   "id": "24d62e06",
   "metadata": {
    "scrolled": true
   },
   "outputs": [
    {
     "name": "stdout",
     "output_type": "stream",
     "text": [
      "enter values by comma seperated : 56,34,21,90,67.75\n",
      "Square difference from mean to 56.0 = 5.0625\n",
      "Square difference from mean to 34.0 = 1156.0\n",
      "Square difference from mean to 21.0 = 441.0\n",
      "Square difference from mean to 90.0 = 1314.0625\n",
      "Square difference from mean to 67.75 = 196.0\n"
     ]
    }
   ],
   "source": [
    "import numpy as np\n",
    "x=input('enter values by comma seperated : ')\n",
    "b=[int(i) for i in x.split(',')]\n",
    "c=np.mean(b)\n",
    "for i in b:\n",
    "    print(f'{\"Square difference from mean to\"} {i} {\"=\"} {np.mod(i,c)**2}')"
   ]
  },
  {
   "cell_type": "code",
   "execution_count": null,
   "id": "9c47a746",
   "metadata": {},
   "outputs": [],
   "source": []
  },
  {
   "cell_type": "code",
   "execution_count": 49,
   "id": "31b574ef",
   "metadata": {},
   "outputs": [
    {
     "name": "stdout",
     "output_type": "stream",
     "text": [
      "enter numbers with comma seperation56,34,21,90,67.75\n",
      "[21.0, 34.0, 56.0, 67.75, 90.0]\n"
     ]
    }
   ],
   "source": [
    "n=input('enter numbers with comma seperation')\n",
    "l=[float(i) for i in n.split(',')]\n",
    "print(sorted(l))"
   ]
  },
  {
   "cell_type": "code",
   "execution_count": 1,
   "id": "1d50ac9c",
   "metadata": {},
   "outputs": [
    {
     "name": "stdout",
     "output_type": "stream",
     "text": [
      "enter percentages of students with comma seperation 56,34,21,90,67.75,45.2345\n",
      "The student is failed as percentage is 56.0\n",
      "The student is failed as percentage is 34.0\n",
      "The student is failed as percentage is 21.0\n",
      "The student grade for 90.0 = A\n",
      "The student grade for 67.75 = C\n",
      "The student is failed as percentage is 45.2345\n"
     ]
    }
   ],
   "source": [
    "n=input('enter percentages of students with comma seperation ')\n",
    "l=[float(i) for i in n.split(',')]\n",
    "for i in l:\n",
    "    if i>=90:\n",
    "        print(f'{\"The student grade for\"} {i} {\"=\"} {\"A\"}')\n",
    "\n",
    "    elif i>=75 and i<90:\n",
    "        print(f'{\"The student grade for\"} {i} {\"=\"} {\"B\"}')\n",
    "    elif i>=60 and i<75:\n",
    "        print(f'{\"The student grade for\"} {i} {\"=\"} {\"C\"}')\n",
    "    elif i>100 or i<0:\n",
    "        print(f'{\"You entered wrong value \"} {i}')\n",
    "\n",
    "    else:\n",
    "        print(f'{\"The student is failed as percentage is\"} {i}')\n",
    "        "
   ]
  },
  {
   "cell_type": "code",
   "execution_count": 6,
   "id": "7766baee",
   "metadata": {},
   "outputs": [
    {
     "name": "stdout",
     "output_type": "stream",
     "text": [
      "enter total no.of students :5\n",
      "enter percentage of a student :34\n",
      "enter percentage of a student :34\n",
      "enter percentage of a student :23\n",
      "enter percentage of a student :234\n",
      "please enter values between 0 to 100\n",
      "enter percentage of a student :542\n",
      "please enter values between 0 to 100\n",
      "[34, 34, 23]\n"
     ]
    }
   ],
   "source": [
    "l=[]\n",
    "a=int(input('enter total no.of students :'))\n",
    "for i in range(a):\n",
    "    x=int(input('enter percentage of a student :'))\n",
    "    if x>100 or x<0:\n",
    "        print('please enter values between 0 to 100')\n",
    "        \n",
    "    else:\n",
    "        l.append(x)\n",
    "print(l)"
   ]
  },
  {
   "cell_type": "code",
   "execution_count": null,
   "id": "aa44ccd0",
   "metadata": {},
   "outputs": [],
   "source": [
    "l=[]\n",
    "i=1\n",
    "a=int(input('enter total no.of students :'))\n",
    "while i<=a:\n",
    "    x=int(input('enter percentage of a student :'))\n",
    "    if x>100 or x<0:\n",
    "        print('please enter values between 0 to 100')\n",
    "    else:\n",
    "        l.append(x)\n",
    "        i=i+1\n",
    "print(l)"
   ]
  },
  {
   "cell_type": "code",
   "execution_count": null,
   "id": "c15d35b4",
   "metadata": {},
   "outputs": [],
   "source": []
  },
  {
   "cell_type": "code",
   "execution_count": null,
   "id": "4087a987",
   "metadata": {},
   "outputs": [],
   "source": []
  },
  {
   "cell_type": "code",
   "execution_count": null,
   "id": "b7730d6b",
   "metadata": {},
   "outputs": [],
   "source": []
  },
  {
   "cell_type": "code",
   "execution_count": null,
   "id": "2cfe27ad",
   "metadata": {},
   "outputs": [],
   "source": []
  },
  {
   "cell_type": "code",
   "execution_count": null,
   "id": "bec6f515",
   "metadata": {},
   "outputs": [],
   "source": []
  },
  {
   "cell_type": "code",
   "execution_count": 62,
   "id": "6dcb600f",
   "metadata": {},
   "outputs": [
    {
     "name": "stdout",
     "output_type": "stream",
     "text": [
      "same\n"
     ]
    }
   ],
   "source": [
    "a=5\n",
    "b=5\n",
    "x=(a^b)\n",
    "if x==0:\n",
    "    print('same')\n",
    "else:\n",
    "    print('not same')"
   ]
  },
  {
   "cell_type": "code",
   "execution_count": 65,
   "id": "3727b492",
   "metadata": {},
   "outputs": [
    {
     "name": "stdout",
     "output_type": "stream",
     "text": [
      "9\n"
     ]
    }
   ],
   "source": [
    "a=8\n",
    "b=a|1\n",
    "print(b)"
   ]
  },
  {
   "cell_type": "code",
   "execution_count": null,
   "id": "d77d6afa",
   "metadata": {},
   "outputs": [],
   "source": []
  },
  {
   "cell_type": "markdown",
   "id": "0278449b",
   "metadata": {},
   "source": [
    "1.Tax calculation"
   ]
  },
  {
   "cell_type": "code",
   "execution_count": 70,
   "id": "68391f20",
   "metadata": {},
   "outputs": [
    {
     "name": "stdout",
     "output_type": "stream",
     "text": [
      "enter amount : 350\n",
      "enter the range split for tax calculation : 100\n",
      "enter percentage of tax for 1 unit 10\n",
      "enter percentage of tax for 2 unit 20\n",
      "10.0\n",
      "30.0\n",
      "Tax for the income 350 =  40.0\n",
      "Income after deduction of tax for  350 is 310.0\n"
     ]
    }
   ],
   "source": [
    "n=int(input('enter amount : '))\n",
    "r = int(input('enter the range split for tax calculation : '))\n",
    "if n<=r:\n",
    "    print('No need of paying tax : ')\n",
    "else:\n",
    "    le=n//r\n",
    "    d=dict()\n",
    "    for i in range(0,le-1):\n",
    "        tax_percent=int(input(f'{\"enter percentage of tax for\"} {i+1} {\"unit\"} '))/100\n",
    "        d[i+1]=tax_percent\n",
    "#     a=n//r\n",
    "#     b=n%r\n",
    "    j=0\n",
    "    i=1\n",
    "    while i < (n//r):\n",
    "        j=j+(r*d[i])\n",
    "        i+=1\n",
    "        print(j)\n",
    "    j=j+(d[(n//r)-1]*(n%r))\n",
    "    print(f'{\"Tax for the income\"} {n} {\"= \"} {j}')\n",
    "    print(f'{\"Income after deduction of tax for \"} {n} {\"is\"} {n-j}')\n",
    "    \n",
    "\n",
    "    "
   ]
  },
  {
   "cell_type": "markdown",
   "id": "c2aa5d2d",
   "metadata": {},
   "source": [
    "2.Ages of trainees in the company"
   ]
  },
  {
   "cell_type": "code",
   "execution_count": 91,
   "id": "b63e861e",
   "metadata": {},
   "outputs": [
    {
     "name": "stdout",
     "output_type": "stream",
     "text": [
      "enter total no.of trainees :5\n",
      "enter age of a trainee :21\n",
      "enter age of a trainee :454\n",
      "The person is not eligible for trainig\n",
      "enter age of a trainee :20\n",
      "The person is not eligible for trainig\n",
      "enter age of a trainee :23\n",
      "enter age of a trainee :23\n",
      "[21, 23, 23]\n"
     ]
    }
   ],
   "source": [
    "l=[] \n",
    "i=1\n",
    "no_of_trainees =int(input('enter total no.of trainees :')) \n",
    "while i<= no_of_trainees :\n",
    "    Age_of_trainee =int(input(f'{\"enter the age of a trainee no : \"} {i} '))\n",
    "    if Age_of_trainee>58 or Age_of_trainee<21:\n",
    "        print('Please re-enter the trainees age those whose age lies in between 21 to 58 ')\n",
    "    else:\n",
    "        l.append(i)\n",
    "        i=i+1\n",
    "print(l) "
   ]
  },
  {
   "cell_type": "code",
   "execution_count": 11,
   "id": "017c1a23",
   "metadata": {},
   "outputs": [
    {
     "name": "stdout",
     "output_type": "stream",
     "text": [
      "enter the age of a trainee no and enter 0 to stop :  1 56\n",
      "enter the age of a trainee no and enter 0 to stop :  2 32\n",
      "enter the age of a trainee no and enter 0 to stop :  3 206\n",
      "Please re-enter the trainees age those whose age lies in between 21 to 58 \n",
      "enter the age of a trainee no and enter 0 to stop :  3 36\n",
      "enter the age of a trainee no and enter 0 to stop :  4 0\n",
      "[1, 2, 3]\n"
     ]
    }
   ],
   "source": [
    "l=[] \n",
    "i=1\n",
    "# no_of_trainees =int(input('enter total no.of trainees :'))  \n",
    "while i > 0 :\n",
    "    Age_of_trainee =int(input(f'{\"enter the age of a trainee no and enter 0 to stop : \"} {i} '))\n",
    "    if Age_of_trainee==0:\n",
    "        i=0\n",
    "    elif Age_of_trainee>58 or Age_of_trainee<21:\n",
    "        print('Please re-enter the trainees age those whose age lies in between 21 to 58 ')\n",
    "    \n",
    "    else:\n",
    "        l.append(i)\n",
    "        i=i+1\n",
    "print(l) "
   ]
  },
  {
   "cell_type": "code",
   "execution_count": null,
   "id": "e67098f6",
   "metadata": {},
   "outputs": [],
   "source": []
  },
  {
   "cell_type": "markdown",
   "id": "7736ae86",
   "metadata": {},
   "source": [
    "3.Electricity bill charge"
   ]
  },
  {
   "cell_type": "code",
   "execution_count": 9,
   "id": "c39bdf31",
   "metadata": {},
   "outputs": [
    {
     "name": "stdout",
     "output_type": "stream",
     "text": [
      "enter no.of units consumed : 150\n",
      "enter the range split for bill calculation : 100\n",
      "enter fixed charges : 40\n",
      "enter power charge for each unit :1\n",
      "enter cost per  1 unit  2\n",
      "enter cost per  2 unit  4\n",
      "Electricity bill for  150 =  790.0\n"
     ]
    }
   ],
   "source": [
    "n=int(input('enter no.of units consumed : '))\n",
    "r=int(input('enter the range split for bill calculation : '))\n",
    "e=int(input('enter fixed charges : '))\n",
    "p=float(input('enter power charge for each unit :'))\n",
    "le=n//r\n",
    "d=dict()\n",
    "for i in range(0,le+1):\n",
    "    tax_percent=float(input(f'{\"enter cost per \"} {i+1} {\"unit \"} '))\n",
    "    d[i]=tax_percent\n",
    "#     a=n//r\n",
    "#     b=n%r\n",
    "j=0\n",
    "i=0\n",
    "while i < (n//r)+1:\n",
    "    j=j+(r*d[i])\n",
    "    i+=1\n",
    "#     print(j)\n",
    "j=j+e+(n*p)\n",
    "print(f'{\"Electricity bill for \"} {n} {\"= \"} {j}')\n",
    "#     print(f'{\"Income after deduction of tax for \"} {n} {\"is\"} {n-j}')"
   ]
  },
  {
   "cell_type": "code",
   "execution_count": 1,
   "id": "25725454",
   "metadata": {},
   "outputs": [
    {
     "data": {
      "text/plain": [
       "1"
      ]
     },
     "execution_count": 1,
     "metadata": {},
     "output_type": "execute_result"
    }
   ],
   "source": [
    "150//100"
   ]
  },
  {
   "cell_type": "markdown",
   "id": "56a3e7ea",
   "metadata": {},
   "source": [
    "4. Write a program to print pattern using a loop"
   ]
  },
  {
   "cell_type": "code",
   "execution_count": 17,
   "id": "1eca1e31",
   "metadata": {
    "scrolled": true
   },
   "outputs": [
    {
     "name": "stdout",
     "output_type": "stream",
     "text": [
      "1 \n",
      "1 2 \n",
      "1 2 3 \n",
      "1 2 3 4 \n",
      "1 2 3 4 5 \n"
     ]
    }
   ],
   "source": [
    "row = 5\n",
    "for i in range(1, row + 1):\n",
    "    for j in range(1, i + 1):\n",
    "        print(j, end=' ')\n",
    "    print(\"\")"
   ]
  },
  {
   "cell_type": "code",
   "execution_count": 22,
   "id": "702235b0",
   "metadata": {},
   "outputs": [
    {
     "name": "stdout",
     "output_type": "stream",
     "text": [
      "1 2 3 4 5 \n",
      "1 2 3 4 5 \n",
      "1 2 3 4 5 \n",
      "1 2 3 4 5 \n",
      "1 2 3 4 5 \n"
     ]
    }
   ],
   "source": [
    "row=5\n",
    "for i in range(row):\n",
    "    for j in range(1,row+1):\n",
    "        print(j,end=' ')\n",
    "    print('')"
   ]
  },
  {
   "cell_type": "code",
   "execution_count": 1,
   "id": "efa12bf5",
   "metadata": {},
   "outputs": [],
   "source": [
    "# row = 5\n",
    "# for i in range(5,0,-1):\n",
    "#     for j in range(i,0,-c):\n",
    "#         print(j)\n",
    "#         c=c-1\n",
    "#     print('')\n",
    "        "
   ]
  },
  {
   "cell_type": "code",
   "execution_count": 12,
   "id": "d026e7e4",
   "metadata": {},
   "outputs": [
    {
     "name": "stdout",
     "output_type": "stream",
     "text": [
      "     1 \n",
      "    1 2 \n",
      "   1 2 3 \n",
      "  1 2 3 4 \n",
      " 1 2 3 4 5 \n"
     ]
    }
   ],
   "source": [
    "for i in range(1,6):\n",
    "    for j in range(6-i):\n",
    "        print(\" \", end=\"\")\n",
    "    for j in range(1,i+1):\n",
    "        print(f\"{j}\", end=\" \")\n",
    "    print() "
   ]
  },
  {
   "cell_type": "code",
   "execution_count": 126,
   "id": "a81bfc36",
   "metadata": {},
   "outputs": [
    {
     "name": "stdout",
     "output_type": "stream",
     "text": [
      " 5 4 3 2 1 \n",
      "  4 3 2 1 \n",
      "   3 2 1 \n",
      "    2 1 \n",
      "     1 \n"
     ]
    }
   ],
   "source": [
    "for i in range(1,6):\n",
    "    for j in range(i):\n",
    "        print(\" \", end=\"\")\n",
    "    for j in range(6-i,0,-1):\n",
    "        print(j, end=\" \")\n",
    "    print() "
   ]
  },
  {
   "cell_type": "code",
   "execution_count": 25,
   "id": "a6ba5467",
   "metadata": {},
   "outputs": [
    {
     "name": "stdout",
     "output_type": "stream",
     "text": [
      "5 \n",
      "4 5 \n",
      "3 4 5 \n",
      "2 3 4 5 \n",
      "1 2 3 4 5 \n"
     ]
    }
   ],
   "source": [
    "for i in range(5):\n",
    "    for j in range(i,-1,-1):\n",
    "        print(5-j,end=\" \")\n",
    "    print()"
   ]
  },
  {
   "cell_type": "code",
   "execution_count": 122,
   "id": "40db8c7c",
   "metadata": {},
   "outputs": [
    {
     "name": "stdout",
     "output_type": "stream",
     "text": [
      "1 2 3 4 5 \n",
      "1 2 3 4 \n",
      "1 2 3 \n",
      "1 2 \n",
      "1 \n",
      "\n"
     ]
    }
   ],
   "source": [
    "r=5\n",
    "for i in range(r+1,0,-1):\n",
    "    for j in range(1,i):\n",
    "        print(j,end=' ')\n",
    "    print('')"
   ]
  },
  {
   "cell_type": "code",
   "execution_count": 35,
   "id": "af0aceb6",
   "metadata": {},
   "outputs": [
    {
     "name": "stdout",
     "output_type": "stream",
     "text": [
      "1 \n",
      "0 1 \n",
      "1 0 1 \n",
      "0 1 0 1 \n",
      "1 0 1 0 1 \n"
     ]
    }
   ],
   "source": [
    "n=5\n",
    "for i in range(1,n+1):\n",
    "    if i%2==0:\n",
    "        x='0'\n",
    "    else:\n",
    "        x=\"1\"\n",
    "        \n",
    "    for j in range(i):\n",
    "        print(x,end=' ')\n",
    "        if x==\"1\":\n",
    "            x='0'    \n",
    "        else:\n",
    "            x='1'  \n",
    "    print()"
   ]
  },
  {
   "cell_type": "code",
   "execution_count": 39,
   "id": "77ba89fa",
   "metadata": {},
   "outputs": [
    {
     "name": "stdout",
     "output_type": "stream",
     "text": [
      "0 \n",
      "1 0 \n",
      "1 0 1 \n",
      "0 1 0 1 \n",
      "0 1 0 1 0 \n"
     ]
    }
   ],
   "source": [
    "x=0\n",
    "for i in range(1,6):\n",
    "    for j in range(i):\n",
    "        print(x,end=\" \")\n",
    "        x=(x+1)%2\n",
    "    print()"
   ]
  },
  {
   "cell_type": "code",
   "execution_count": 40,
   "id": "a833680a",
   "metadata": {},
   "outputs": [
    {
     "name": "stdout",
     "output_type": "stream",
     "text": [
      "1 \n",
      "0 1 \n",
      "0 1 0 \n",
      "1 0 1 0 \n",
      "1 0 1 0 1 \n"
     ]
    }
   ],
   "source": [
    "x=1\n",
    "for i in range(1,6):\n",
    "    for j in range(i):\n",
    "        print(x,end=\" \")\n",
    "        x=(x+1)%2\n",
    "    print()"
   ]
  },
  {
   "cell_type": "code",
   "execution_count": 46,
   "id": "a0c87503",
   "metadata": {},
   "outputs": [
    {
     "name": "stdout",
     "output_type": "stream",
     "text": [
      "enter number : 6\n",
      "6 The number is perfect number \n"
     ]
    }
   ],
   "source": [
    "num = int(input(\"enter number : \"))\n",
    "total = 0\n",
    "i=1\n",
    "while i<num:\n",
    "    if num%i==0:\n",
    "        total=total+i\n",
    "    i=i+1\n",
    "if total==num:\n",
    "    print(num,\"The number is perfect number \")\n",
    "else:\n",
    "    print(num,\"The number is not a perfect number\")"
   ]
  },
  {
   "cell_type": "code",
   "execution_count": null,
   "id": "d5b03f2c",
   "metadata": {},
   "outputs": [],
   "source": []
  },
  {
   "cell_type": "code",
   "execution_count": 106,
   "id": "021232e8",
   "metadata": {},
   "outputs": [
    {
     "name": "stdout",
     "output_type": "stream",
     "text": [
      "Enter starting value : 1\n",
      "Enter ending value : 100\n",
      "The perfect numbers between 1 100 are  [6, 28]\n"
     ]
    }
   ],
   "source": [
    "a=int(input('Enter starting value : '))\n",
    "b=int(input('Enter ending value : '))\n",
    "\n",
    "l=[]\n",
    "for i in range(a,b):\n",
    "    total=0\n",
    "    for j in range(1,i):\n",
    "        if i%j==0:\n",
    "            total=total+j\n",
    "    if total == i:\n",
    "        l.append(i)\n",
    "print(f'The perfect numbers between {a} {b} are ',l)\n",
    "            "
   ]
  },
  {
   "cell_type": "code",
   "execution_count": 114,
   "id": "63f8bea6",
   "metadata": {},
   "outputs": [
    {
     "name": "stdout",
     "output_type": "stream",
     "text": [
      "enter starting number for the range or -1 to stop : 1\n",
      "enter ending number for the range or -1 to stop : 10\n",
      "The prime numbers between 2 and 10 are:  [2, 3, 5, 7]\n",
      "\n",
      "\n",
      "enter starting number for the range or -1 to stop : 1\n",
      "enter ending number for the range or -1 to stop : 32\n",
      "The prime numbers between 2 and 32 are:  [2, 3, 5, 7, 11, 13, 17, 19, 23, 29, 31]\n",
      "\n",
      "\n",
      "enter starting number for the range or -1 to stop : -1\n",
      "enter ending number for the range or -1 to stop : -1\n",
      "{4: [2, 10], 11: [2, 32]}\n",
      "The less no.of prime numbers lies between the ranges  [2, 10]\n",
      "The more no.of prime numbers lies between the ranges  [2, 32]\n"
     ]
    }
   ],
   "source": [
    "d=dict()\n",
    "i=1\n",
    "while i>0:\n",
    "    l=[]\n",
    "    a=int(input('enter starting number for the range or -1 to stop : '))\n",
    "    b=int(input('enter ending number for the range or -1 to stop : '))\n",
    "    if a==-1:\n",
    "        i=-1\n",
    "    else:\n",
    "        if a==1:\n",
    "            a=2\n",
    "        for i in range(a,b):\n",
    "            for j in range(2,i):\n",
    "                if i%j==0:\n",
    "                    break\n",
    "            else:\n",
    "                l.append(i)\n",
    "        print(f'The prime numbers between {a} and {b} are: ',l)\n",
    "        print(\"\\n\")\n",
    "    d[len(l)]=[a,b]\n",
    "    i=i+1\n",
    "del d[0]\n",
    "print(d)\n",
    "x=sorted(d.items())\n",
    "print('The less no.of prime numbers lies between the ranges ',x[0][1])\n",
    "print('The more no.of prime numbers lies between the ranges ',x[-1][1])"
   ]
  },
  {
   "cell_type": "code",
   "execution_count": 13,
   "id": "60f26ebf",
   "metadata": {},
   "outputs": [
    {
     "name": "stdout",
     "output_type": "stream",
     "text": [
      "enter the 1st range of number :2\n",
      "enter the last range of number:15\n",
      "total no.of prime numbers between given numbers is: 31\n",
      "the prime numbers are: [3, 5, 5, 5, 7, 7, 7, 7, 7, 9, 11, 11, 11, 11, 11, 11, 11, 11, 11, 13, 13, 13, 13, 13, 13, 13, 13, 13, 13, 13, 15]\n"
     ]
    }
   ],
   "source": [
    "a=int(input(\"enter the 1st range of number :\"))\n",
    "b=int(input(\"enter the last range of number:\"))\n",
    "count=0\n",
    "k=0\n",
    "#i=1\n",
    "l=[]\n",
    "for i in range(a,b+1):\n",
    "    for j in range(2,i):\n",
    "        if i%j==0:\n",
    "            break\n",
    "    else:\n",
    "        l.append(i)\n",
    "print(\"total no.of prime numbers between given numbers is:\",len(l))\n",
    "print(\"the prime numbers are:\",l)"
   ]
  },
  {
   "cell_type": "code",
   "execution_count": 29,
   "id": "8ded3fa2",
   "metadata": {},
   "outputs": [
    {
     "name": "stdout",
     "output_type": "stream",
     "text": [
      "enter number : 6\n",
      "enter up to how many multiples : 10\n",
      "6\t12\t18\t24\t30\t36\t42\t48\t54\t60\t\n",
      "1\t2\t3\t4\t5\t6\t7\t8\t9\t10\t\n",
      "6\t6\t6\t6\t6\t6\t6\t6\t6\t6\t"
     ]
    }
   ],
   "source": [
    "n=int(input('enter number : '))\n",
    "ran= int(input('enter up to how many multiples : '))\n",
    "for j in range(1):\n",
    "    for i in range(1,ran+1):\n",
    "        print(n*i,end=\"\\t\")\n",
    "    print()\n",
    "    for i in range(1,ran+1):\n",
    "        print(i,end=\"\\t\")\n",
    "    print()\n",
    "    for i in range(1,ran+1):\n",
    "        print(n,end=\"\\t\")"
   ]
  },
  {
   "cell_type": "code",
   "execution_count": null,
   "id": "87349704",
   "metadata": {},
   "outputs": [],
   "source": []
  },
  {
   "cell_type": "code",
   "execution_count": 16,
   "id": "f5f6edf5",
   "metadata": {},
   "outputs": [
    {
     "name": "stdout",
     "output_type": "stream",
     "text": [
      "A\n",
      "AB\n",
      "ABC\n",
      "ABCD\n",
      "ABCDE\n"
     ]
    }
   ],
   "source": [
    "for i in range (65,70):\n",
    "    for j in range(65,i+1):\n",
    "        print(chr(j),end=\"\")\n",
    "    print()"
   ]
  },
  {
   "cell_type": "code",
   "execution_count": 18,
   "id": "536ce387",
   "metadata": {},
   "outputs": [
    {
     "name": "stdout",
     "output_type": "stream",
     "text": [
      "ABCDE\n",
      "ABCD\n",
      "ABC\n",
      "AB\n",
      "A\n"
     ]
    }
   ],
   "source": [
    "for i in range (69,64,-1):\n",
    "    for j in range(65,i+1):\n",
    "        print(chr(j),end=\"\")\n",
    "    print()"
   ]
  },
  {
   "cell_type": "code",
   "execution_count": 19,
   "id": "e30a0694",
   "metadata": {},
   "outputs": [
    {
     "name": "stdout",
     "output_type": "stream",
     "text": [
      "    A\n",
      "   AB\n",
      "  ABC\n",
      " ABCD\n",
      "ABCDE\n"
     ]
    }
   ],
   "source": [
    "size = 5\n",
    "for i in range(size):\n",
    "    for j in range(1, size - i):\n",
    "        print(\" \", end=\"\")\n",
    "    for k in range(i + 1):\n",
    "        print(chr(65 + k), end=\"\")\n",
    "    print()"
   ]
  },
  {
   "cell_type": "code",
   "execution_count": 23,
   "id": "9ad5ab94",
   "metadata": {},
   "outputs": [
    {
     "name": "stdout",
     "output_type": "stream",
     "text": [
      "      5\n",
      "     4\n",
      "    3\n",
      "   2\n"
     ]
    }
   ],
   "source": [
    "for i in range(65,71):\n",
    "    print(chr(i))\n",
    "    for j in range(65,71):\n",
    "        print(' '*)"
   ]
  },
  {
   "cell_type": "code",
   "execution_count": 41,
   "id": "a0a295ef",
   "metadata": {},
   "outputs": [
    {
     "name": "stdout",
     "output_type": "stream",
     "text": [
      "[1, 2, 3, 4, 5]\n",
      "[1, 2, 3, 4, 5, 6]\n"
     ]
    }
   ],
   "source": [
    "l=[1,2,3,4,5]\n",
    "print(l)\n",
    "l.append(6)\n",
    "print(l)"
   ]
  },
  {
   "cell_type": "code",
   "execution_count": 37,
   "id": "8c55a732",
   "metadata": {},
   "outputs": [
    {
     "data": {
      "text/plain": [
       "[1, 9, 2, 3, 4, 5, 6]"
      ]
     },
     "execution_count": 37,
     "metadata": {},
     "output_type": "execute_result"
    }
   ],
   "source": [
    "l.insert(1,9)\n",
    "l"
   ]
  },
  {
   "cell_type": "code",
   "execution_count": 39,
   "id": "5cdd8b2c",
   "metadata": {},
   "outputs": [
    {
     "data": {
      "text/plain": [
       "[1, 2, 3, 5, 6]"
      ]
     },
     "execution_count": 39,
     "metadata": {},
     "output_type": "execute_result"
    }
   ],
   "source": [
    "l.pop(1)\n",
    "l"
   ]
  },
  {
   "cell_type": "code",
   "execution_count": 40,
   "id": "a2775472",
   "metadata": {},
   "outputs": [
    {
     "data": {
      "text/plain": [
       "[]"
      ]
     },
     "execution_count": 40,
     "metadata": {},
     "output_type": "execute_result"
    }
   ],
   "source": [
    "l.clear()\n",
    "l"
   ]
  },
  {
   "cell_type": "code",
   "execution_count": 43,
   "id": "05991ca7",
   "metadata": {},
   "outputs": [
    {
     "data": {
      "text/plain": [
       "[6, 5, 4, 3, 2, 1]"
      ]
     },
     "execution_count": 43,
     "metadata": {},
     "output_type": "execute_result"
    }
   ],
   "source": [
    "l"
   ]
  },
  {
   "cell_type": "code",
   "execution_count": 44,
   "id": "8c8bd30f",
   "metadata": {},
   "outputs": [
    {
     "data": {
      "text/plain": [
       "[1, 2, 3, 4, 5, 6]"
      ]
     },
     "execution_count": 44,
     "metadata": {},
     "output_type": "execute_result"
    }
   ],
   "source": [
    "l.reverse()\n",
    "l"
   ]
  },
  {
   "cell_type": "code",
   "execution_count": 46,
   "id": "ba9a1ec3",
   "metadata": {},
   "outputs": [],
   "source": [
    "r=[33,55,23,343,234,3]"
   ]
  },
  {
   "cell_type": "code",
   "execution_count": 47,
   "id": "375ee7dc",
   "metadata": {},
   "outputs": [
    {
     "data": {
      "text/plain": [
       "[33, 23, 343, 234, 3]"
      ]
     },
     "execution_count": 47,
     "metadata": {},
     "output_type": "execute_result"
    }
   ],
   "source": [
    "r.remove(55)\n",
    "r"
   ]
  },
  {
   "cell_type": "code",
   "execution_count": 48,
   "id": "a8943466",
   "metadata": {},
   "outputs": [
    {
     "data": {
      "text/plain": [
       "[33, 23, 343, 234, 3]"
      ]
     },
     "execution_count": 48,
     "metadata": {},
     "output_type": "execute_result"
    }
   ],
   "source": [
    "k=r.copy()\n",
    "k"
   ]
  },
  {
   "cell_type": "code",
   "execution_count": 49,
   "id": "08ff1560",
   "metadata": {},
   "outputs": [
    {
     "name": "stdout",
     "output_type": "stream",
     "text": [
      "2  adress  2532131760464\n",
      "2  adress  2532131760464\n"
     ]
    }
   ],
   "source": [
    "l=[2,34,3,2]\n",
    "print(l[0],' adress ',id(l[0]))\n",
    "print(l[-1],' adress ',id(l[-1]))"
   ]
  },
  {
   "cell_type": "code",
   "execution_count": 51,
   "id": "f6953e20",
   "metadata": {},
   "outputs": [
    {
     "name": "stdout",
     "output_type": "stream",
     "text": [
      "2532246547200\n",
      "2532247737152\n"
     ]
    }
   ],
   "source": [
    "print(id(l))\n",
    "l1=copy.deepcopy(l)\n",
    "print(id(l1))"
   ]
  },
  {
   "cell_type": "code",
   "execution_count": 53,
   "id": "a27741c1",
   "metadata": {},
   "outputs": [],
   "source": [
    "l.append(54)"
   ]
  },
  {
   "cell_type": "code",
   "execution_count": 54,
   "id": "aa396c48",
   "metadata": {},
   "outputs": [
    {
     "name": "stdout",
     "output_type": "stream",
     "text": [
      "2  adress  2532131760464\n",
      "54  adress  2532131762128\n"
     ]
    }
   ],
   "source": [
    "import copy\n",
    "r=copy.deepcopy(l)\n",
    "print(r[0],' adress ',id(r[0]))\n",
    "print(r[-1],' adress ',id(r[-1]))"
   ]
  },
  {
   "cell_type": "code",
   "execution_count": null,
   "id": "a35d0240",
   "metadata": {},
   "outputs": [],
   "source": [
    "l."
   ]
  },
  {
   "cell_type": "markdown",
   "id": "8b54c259",
   "metadata": {},
   "source": [
    "5.Calculate the sum of all numbers from 1 to a given number"
   ]
  },
  {
   "cell_type": "code",
   "execution_count": 68,
   "id": "3553d104",
   "metadata": {},
   "outputs": [
    {
     "name": "stdout",
     "output_type": "stream",
     "text": [
      "Enter number 4\n",
      "\n",
      "\n",
      "Sum is:  10\n"
     ]
    }
   ],
   "source": [
    "s = 0\n",
    "n = int(input(\"Enter number \"))\n",
    "for i in range(1, n + 1, 1):\n",
    "    s += i\n",
    "print(\"\\n\")\n",
    "print(\"Sum is: \", s)"
   ]
  },
  {
   "cell_type": "markdown",
   "id": "ecbba3b2",
   "metadata": {},
   "source": [
    "6.Count the total number of digits in a number"
   ]
  },
  {
   "cell_type": "code",
   "execution_count": 69,
   "id": "d0f55583",
   "metadata": {},
   "outputs": [
    {
     "name": "stdout",
     "output_type": "stream",
     "text": [
      "Enter number 324565\n",
      "Total digits are: 6\n"
     ]
    }
   ],
   "source": [
    "num = int(input(\"Enter number \"))\n",
    "count = 0\n",
    "while num != 0:\n",
    "    num = num // 10\n",
    "    count = count + 1\n",
    "print(\"Total digits are:\", count)"
   ]
  },
  {
   "cell_type": "code",
   "execution_count": 18,
   "id": "06676f6d",
   "metadata": {},
   "outputs": [
    {
     "name": "stdout",
     "output_type": "stream",
     "text": [
      "enter the no.of rows:4\n",
      "   1 \n",
      "  1 2 \n",
      " 1 2 3 \n",
      "1 2 3 4 \n",
      "1 2 3 4 \n",
      " 1 2 3 \n",
      "  1 2 \n",
      "   1 \n"
     ]
    }
   ],
   "source": [
    "n=int(input(\"enter the no.of rows:\"))\n",
    "for i in range(n):\n",
    "    for j in range(n-i-1):\n",
    "        print(\" \",end=\"\")\n",
    "    for j in range(i+1):\n",
    "        print(j+1,end=\" \")\n",
    "    print()\n",
    "for i in range(n-1,-1,-1):\n",
    "    for j in range(n-i-1):\n",
    "        print(\" \",end=\"\")\n",
    "    for j in range(i+1):\n",
    "        print(j+1,end=\" \")\n",
    "    print()"
   ]
  },
  {
   "cell_type": "markdown",
   "id": "bbd80f72",
   "metadata": {},
   "source": [
    "7.Print the following pattern"
   ]
  },
  {
   "cell_type": "code",
   "execution_count": 71,
   "id": "f8afd26e",
   "metadata": {
    "scrolled": true
   },
   "outputs": [
    {
     "name": "stdout",
     "output_type": "stream",
     "text": [
      "5 4 3 2 1 \n",
      "4 3 2 1 \n",
      "3 2 1 \n",
      "2 1 \n",
      "1 \n",
      "\n"
     ]
    }
   ],
   "source": [
    "n = 5\n",
    "k = 5\n",
    "for i in range(0,n+1):\n",
    "    for j in range(k-i,0,-1):\n",
    "        print(j,end=' ')\n",
    "    print()"
   ]
  },
  {
   "cell_type": "markdown",
   "id": "bd41cf87",
   "metadata": {},
   "source": [
    "8.Fibonacci sequence"
   ]
  },
  {
   "cell_type": "code",
   "execution_count": 72,
   "id": "67b4813d",
   "metadata": {},
   "outputs": [
    {
     "name": "stdout",
     "output_type": "stream",
     "text": [
      "enter number : 6\n",
      "Fibonacci sequence is \n",
      "0 1 1 2 3 5 "
     ]
    }
   ],
   "source": [
    "num = int(input('enter number : '))\n",
    "a,b=0,1\n",
    "c=0\n",
    "if num<0:\n",
    "    print('it an invalid num')\n",
    "elif num==0:\n",
    "    print(0)\n",
    "elif num==1 or num==2:\n",
    "    print(1)\n",
    "else:\n",
    "    print('Fibonacci sequence is ')\n",
    "    while c<num:\n",
    "        print(a,end=' ')\n",
    "        tem = a+b\n",
    "        a=b\n",
    "        b=tem\n",
    "        c+=1\n",
    "    "
   ]
  },
  {
   "cell_type": "markdown",
   "id": "bfeed624",
   "metadata": {},
   "source": [
    "9.Armstrong number"
   ]
  },
  {
   "cell_type": "code",
   "execution_count": 73,
   "id": "dcd2044d",
   "metadata": {},
   "outputs": [
    {
     "name": "stdout",
     "output_type": "stream",
     "text": [
      "enter num to check armstrong : 153\n",
      "153 is an armstrong number\n"
     ]
    }
   ],
   "source": [
    "num = int(input('enter num to check armstrong : '))\n",
    "num_org = num\n",
    "a=len(str(num))\n",
    "add=0\n",
    "while num!=0:\n",
    "    k=num % 10\n",
    "    add = add+ (k**a)\n",
    "    num//=10\n",
    "if num_org == add:\n",
    "    print(num_org,'is an armstrong number')\n",
    "else:\n",
    "    print(num_org,'is not an armstrong number')"
   ]
  },
  {
   "cell_type": "markdown",
   "id": "82296613",
   "metadata": {},
   "source": [
    "10.printing words of each number"
   ]
  },
  {
   "cell_type": "code",
   "execution_count": 74,
   "id": "d92c9efc",
   "metadata": {},
   "outputs": [
    {
     "name": "stdout",
     "output_type": "stream",
     "text": [
      "enter number : 4532\n",
      "four five three two "
     ]
    }
   ],
   "source": [
    "num = int(input('enter number : '))\n",
    "l=[\"zero\", \"one\", \"two\", \"three\", \"four\",\"five\", \"six\", \"seven\", \"eight\", \"nine\"]\n",
    "num_str = str(num)\n",
    "for i in num_str:\n",
    "    print(l[int(i)],end=' ')"
   ]
  },
  {
   "cell_type": "markdown",
   "id": "a13d13b2",
   "metadata": {},
   "source": [
    "11.Reversal of a number"
   ]
  },
  {
   "cell_type": "code",
   "execution_count": 76,
   "id": "41f6931a",
   "metadata": {},
   "outputs": [
    {
     "name": "stdout",
     "output_type": "stream",
     "text": [
      "enter number : 34256\n",
      "reversed number =  65243\n"
     ]
    }
   ],
   "source": [
    "num = int(input('enter number : '))\n",
    "num_reverse=0\n",
    "while num !=0:\n",
    "    carry = num % 10\n",
    "    num_reverse = num_reverse * 10 + carry\n",
    "    num = num//10\n",
    "print('reversed number = ',num_reverse)"
   ]
  },
  {
   "cell_type": "markdown",
   "id": "3b352d77",
   "metadata": {},
   "source": [
    "12.Sum of digits of a number"
   ]
  },
  {
   "cell_type": "code",
   "execution_count": 77,
   "id": "6668e95b",
   "metadata": {},
   "outputs": [
    {
     "name": "stdout",
     "output_type": "stream",
     "text": [
      "enter number : 34567\n",
      "sum of digits of a number is =  25\n"
     ]
    }
   ],
   "source": [
    "num=int(input('enter number : '))\n",
    "num_str=str(num)\n",
    "l=[int(i) for i in num_str]\n",
    "print('sum of digits of a number is = ',sum(l))"
   ]
  },
  {
   "cell_type": "markdown",
   "id": "1f0637ee",
   "metadata": {},
   "source": [
    "13.Palindrome number"
   ]
  },
  {
   "cell_type": "code",
   "execution_count": 78,
   "id": "a4c7957d",
   "metadata": {},
   "outputs": [
    {
     "name": "stdout",
     "output_type": "stream",
     "text": [
      "enter num to check palindrome : 35476\n",
      "35476 is not a palindrome number\n"
     ]
    }
   ],
   "source": [
    "num = int(input('enter num to check palindrome : '))\n",
    "num_str = str(num)\n",
    "if num_str==num_str[::-1]:\n",
    "    print(num,'is a palindrome number')\n",
    "else:\n",
    "    print(num,'is not a palindrome number')"
   ]
  },
  {
   "cell_type": "markdown",
   "id": "eb5b7170",
   "metadata": {},
   "source": [
    "14.comparion operation"
   ]
  },
  {
   "cell_type": "code",
   "execution_count": 80,
   "id": "a771e4ad",
   "metadata": {},
   "outputs": [
    {
     "name": "stdout",
     "output_type": "stream",
     "text": [
      "enter a value : 5\n",
      "enter b value : 343\n",
      "enter c value : 5\n",
      "The greatest number is 343\n"
     ]
    }
   ],
   "source": [
    "a=int(input('enter a value : '))\n",
    "b=int(input('enter b value : '))\n",
    "c=int(input('enter c value : '))\n",
    "if (a>b) and (a>c):\n",
    "    print('The gratest number is',a)\n",
    "elif (b>a) and (b>c):\n",
    "    print('The greatest number is',b)\n",
    "else:\n",
    "    print('The greatest number is',c)"
   ]
  },
  {
   "cell_type": "markdown",
   "id": "a4d5a14a",
   "metadata": {},
   "source": [
    "15.Prime number between to values"
   ]
  },
  {
   "cell_type": "code",
   "execution_count": 83,
   "id": "1cb967ac",
   "metadata": {},
   "outputs": [
    {
     "name": "stdout",
     "output_type": "stream",
     "text": [
      "Prime numbers between 25 and 50 are:\n",
      "29\n",
      "31\n",
      "37\n",
      "41\n",
      "43\n",
      "47\n"
     ]
    }
   ],
   "source": [
    "start = 25\n",
    "end = 50\n",
    "print(\"Prime numbers between\", start, \"and\", end, \"are:\")\n",
    "\n",
    "for num in range(start, end + 1):\n",
    "    if num > 1:\n",
    "        for i in range(2, num):\n",
    "            if (num % i) == 0:\n",
    "                break\n",
    "        else:\n",
    "            print(num)"
   ]
  },
  {
   "cell_type": "markdown",
   "id": "611d271f",
   "metadata": {},
   "source": [
    "16.Factorial "
   ]
  },
  {
   "cell_type": "code",
   "execution_count": 86,
   "id": "5907619f",
   "metadata": {},
   "outputs": [
    {
     "name": "stdout",
     "output_type": "stream",
     "text": [
      "enter number to find factorial : 5\n",
      "The factorial of 5 is 120\n"
     ]
    }
   ],
   "source": [
    "num = int(input('enter number to find factorial : '))\n",
    "factorial = 1\n",
    "if num < 0:\n",
    "    print(\"Factorial does not exist for negative numbers\")\n",
    "elif num == 0:\n",
    "    print(\"The factorial of 0 is 1\")\n",
    "else:\n",
    "    for i in range(1, num + 1):\n",
    "        factorial = factorial * i\n",
    "    print(\"The factorial of\", num, \"is\", factorial)"
   ]
  },
  {
   "cell_type": "code",
   "execution_count": 2,
   "id": "0ae3b463",
   "metadata": {},
   "outputs": [
    {
     "data": {
      "text/plain": [
       "1"
      ]
     },
     "execution_count": 2,
     "metadata": {},
     "output_type": "execute_result"
    }
   ],
   "source": [
    "l=[45,32,54,52,234,563,3,41]\n",
    "l.count(32)"
   ]
  },
  {
   "cell_type": "code",
   "execution_count": 10,
   "id": "b2060118",
   "metadata": {},
   "outputs": [
    {
     "name": "stdout",
     "output_type": "stream",
     "text": [
      "rice\n",
      "dal\n",
      "masala\n",
      "Enter the new item tobe added :\n",
      "item = sugar\n",
      "rice dal masala sugar "
     ]
    }
   ],
   "source": [
    "grossory_list=['rice','dal','masala']\n",
    "for i in range(len(grossory_list)):\n",
    "    print(grossory_list[i])\n",
    "print(\"Enter the new item tobe added :\")\n",
    "item=input('item = ')\n",
    "grossory_list.append(item)\n",
    "for i in range(len(grossory_list)):\n",
    "    print(grossory_list[i],end=' ')"
   ]
  },
  {
   "cell_type": "code",
   "execution_count": 8,
   "id": "97035fda",
   "metadata": {},
   "outputs": [
    {
     "name": "stdout",
     "output_type": "stream",
     "text": [
      "enter item name else 0 : red \n",
      "enter item name else 0 : blue\n",
      "enter item name else 0 : yellow\n",
      "enter item name else 0 : apple\n",
      "enter item name else 0 : banana\n",
      "enter item name else 0 : cognizant\n",
      "enter item name else 0 : dell \n",
      "enter item name else 0 : google\n",
      "enter item name else 0 : cricket\n",
      "enter item name else 0 : volleyball\n",
      "enter item name else 0 : 0\n",
      "['red ', 'blue', 'yellow', 'apple', 'banana', 'cognizant', 'dell ', 'google', 'cricket', 'volleyball']\n"
     ]
    }
   ],
   "source": [
    "l=[]\n",
    "i=1\n",
    "while i>0:\n",
    "    item=input('enter item name else 0 : ')\n",
    "    if item==\"0\":\n",
    "        i=0\n",
    "    else:\n",
    "        l.append(item)\n",
    "        i=i+1\n",
    "print(l)"
   ]
  },
  {
   "cell_type": "code",
   "execution_count": 26,
   "id": "14019dc3",
   "metadata": {},
   "outputs": [
    {
     "data": {
      "text/plain": [
       "['red ',\n",
       " 'black',\n",
       " 'blue',\n",
       " 'yellow',\n",
       " 'apple',\n",
       " 'banana',\n",
       " 'cognizant',\n",
       " 'dell ',\n",
       " 'google',\n",
       " 'cricket',\n",
       " 'volleyball',\n",
       " 21]"
      ]
     },
     "execution_count": 26,
     "metadata": {},
     "output_type": "execute_result"
    }
   ],
   "source": [
    "l.extend([21])\n",
    "l"
   ]
  },
  {
   "cell_type": "code",
   "execution_count": 27,
   "id": "5fd5496b",
   "metadata": {},
   "outputs": [
    {
     "data": {
      "text/plain": [
       "['red ',\n",
       " 'black',\n",
       " 'black',\n",
       " 'blue',\n",
       " 'yellow',\n",
       " 'apple',\n",
       " 'banana',\n",
       " 'cognizant',\n",
       " 'dell ',\n",
       " 'google',\n",
       " 'cricket',\n",
       " 'volleyball',\n",
       " 21]"
      ]
     },
     "execution_count": 27,
     "metadata": {},
     "output_type": "execute_result"
    }
   ],
   "source": [
    "l.insert(1,\"black\")\n",
    "l"
   ]
  },
  {
   "cell_type": "code",
   "execution_count": 28,
   "id": "fe198cd1",
   "metadata": {},
   "outputs": [
    {
     "data": {
      "text/plain": [
       "['red ',\n",
       " 'black',\n",
       " 'black',\n",
       " 'blue',\n",
       " 'yellow',\n",
       " 'apple',\n",
       " 'banana',\n",
       " 'cognizant',\n",
       " 'dell ',\n",
       " 'google',\n",
       " 'cricket',\n",
       " 'volleyball']"
      ]
     },
     "execution_count": 28,
     "metadata": {},
     "output_type": "execute_result"
    }
   ],
   "source": [
    "l.pop()\n",
    "l"
   ]
  },
  {
   "cell_type": "code",
   "execution_count": null,
   "id": "882584f2",
   "metadata": {},
   "outputs": [],
   "source": [
    "#implement all functionalities of list and tuple\n",
    "a=input(\" enter the list items separetted by cama:\")\n",
    "b=a.split(\",\")\n",
    "l=[i for i in b]\n",
    "print(l)\n",
    "l.insert(2,\"Apple\")\n",
    "print(l)\n",
    "del l[2]\n",
    "print(l)\n",
    "l.reverse()\n",
    "print(l)\n",
    "k=l.copy()\n",
    "print(k)\n",
    "l.pop()\n",
    "print(l)\n",
    "l.append(\"Kabadi\")\n",
    "print(l)\n",
    "l.pop(2)\n",
    "print(l)\n",
    "l.remove(\"Cognizant\")\n",
    "print(l)\n",
    "l[2]=\"grapes\"\n",
    "print(l)\n",
    "l.sort()\n",
    "print(l)"
   ]
  },
  {
   "cell_type": "code",
   "execution_count": 1,
   "id": "17213ce2",
   "metadata": {},
   "outputs": [
    {
     "name": "stdout",
     "output_type": "stream",
     "text": [
      "enter the no.of elements in the list:5\n",
      "enter the element:45\n",
      "enter the element:34\n",
      "enter the element:23\n",
      "enter the element:454\n",
      "enter the element:6\n",
      "enter the element:43\n",
      "[45, 34, 23, 454, 6, 43]\n",
      "the sum of number of digits in a list: 47\n"
     ]
    }
   ],
   "source": [
    "#sum of number of digits in a list\n",
    "l=[]\n",
    "n=int(input(\"enter the no.of elements in the list:\"))\n",
    "for i in range(n+1):\n",
    "    a=int(input(\"enter the element:\"))\n",
    "    l.append(a)\n",
    "print(l)\n",
    "k=0\n",
    "for i in l:\n",
    "    sum=0\n",
    "    while i!=0:\n",
    "        r=i%10\n",
    "        sum=sum+r\n",
    "        i=i//10\n",
    "    k=k+sum\n",
    "print(\"the sum of number of digits in a list:\",k)"
   ]
  },
  {
   "cell_type": "code",
   "execution_count": 3,
   "id": "8b1976fb",
   "metadata": {},
   "outputs": [
    {
     "name": "stdout",
     "output_type": "stream",
     "text": [
      "enter the no.of elements in the list:6\n",
      "enter the element:34\n",
      "enter the element:45\n",
      "enter the element:65\n",
      "enter the element:23\n",
      "enter the element:12\n",
      "enter the element:53\n",
      "enter the element:43\n",
      "[34, 45, 65, 23, 12, 53, 43]\n",
      "list after swapping elements:\n",
      "[34, 45, 53, 23, 12, 65, 43]\n"
     ]
    }
   ],
   "source": [
    "# swapping two elements in a list i.e., pos2--->pos5 and pos5--->pos2\n",
    "l=[]\n",
    "n=int(input(\"enter the no.of elements in the list:\"))\n",
    "for i in range(n+1):\n",
    "    a=int(input(\"enter the element:\"))\n",
    "    l.append(a)\n",
    "print(l)\n",
    "temp=l[2]\n",
    "l[2]=l[5]\n",
    "l[5]=temp\n",
    "print(\"list after swapping elements:\")\n",
    "print(l)"
   ]
  },
  {
   "cell_type": "code",
   "execution_count": 4,
   "id": "07f4d37b",
   "metadata": {},
   "outputs": [
    {
     "name": "stdout",
     "output_type": "stream",
     "text": [
      "enter the no.of elements in the list:4\n",
      "enter the element:3\n",
      "enter the element:4\n",
      "enter the element:2\n",
      "enter the element:4\n",
      "enter the element:6\n",
      "['3', '4', '2', '4', '6']\n",
      "list after interchanging first and last element:\n",
      "['6', '4', '2', '4', '3']\n"
     ]
    }
   ],
   "source": [
    "#interchange first and last elements in the list:\n",
    "l=[]\n",
    "n=int(input(\"enter the no.of elements in the list:\"))\n",
    "for i in range(n+1):\n",
    "    a=input(\"enter the element:\")\n",
    "    l.append(a)\n",
    "print(l)\n",
    "temp=l[0]\n",
    "l[0]=l[n]\n",
    "l[n]=temp\n",
    "print(\"list after interchanging first and last element:\")\n",
    "print(l)"
   ]
  },
  {
   "cell_type": "code",
   "execution_count": 6,
   "id": "50c9ced7",
   "metadata": {},
   "outputs": [
    {
     "name": "stdout",
     "output_type": "stream",
     "text": [
      "enter the item for list:5\n",
      "enter the item for list:4\n",
      "enter the item for list:3\n",
      "enter the item for list:8\n",
      "['5', '4', '3', '8']\n",
      "Element After Sorting List in Ascending Order is :  ['3', '4', '5', '8']\n"
     ]
    }
   ],
   "source": [
    "#sorting the list\n",
    "l=[]\n",
    "for i  in range(4):\n",
    "    a=input(\"enter the item for list:\")\n",
    "    l.append(a)\n",
    "print(l)\n",
    "for i in range (len(l)):\n",
    "    for j in range(i + 1, len(l)):\n",
    "        if(l[i] > l[j]):\n",
    "            temp = l[i]\n",
    "            l[i] = l[j]\n",
    "            l[j] = temp\n",
    "\n",
    "print(\"Element After Sorting List in Ascending Order is : \",l)"
   ]
  },
  {
   "cell_type": "code",
   "execution_count": 7,
   "id": "f361d09c",
   "metadata": {},
   "outputs": [
    {
     "name": "stdout",
     "output_type": "stream",
     "text": [
      "enter the no.of elements in the list:3\n",
      "enter the element:43\n",
      "enter the element:3\n",
      "enter the element:2\n",
      "enter the element:5\n",
      "[43, 3, 2, 5]\n",
      "turning the elements in the list into its squares:\n",
      "[1849, 9, 4, 25]\n"
     ]
    }
   ],
   "source": [
    "#turning every item in the into  its square:\n",
    "l=[]\n",
    "n=int(input(\"enter the no.of elements in the list:\"))\n",
    "for i in range(n+1):\n",
    "    a=int(input(\"enter the element:\"))\n",
    "    l.append(a)\n",
    "print(l)\n",
    "print(\"turning the elements in the list into its squares:\")\n",
    "k=[]\n",
    "for i in l:\n",
    "    b=i*i\n",
    "    k.append(b)\n",
    "print(k)"
   ]
  },
  {
   "cell_type": "code",
   "execution_count": 8,
   "id": "338d5ff0",
   "metadata": {},
   "outputs": [
    {
     "name": "stdout",
     "output_type": "stream",
     "text": [
      "enter the item for list:3\n",
      "enter the item for list:4\n",
      "enter the item for list:23\n",
      "enter the item for list:42\n",
      "['3', '4', '23', '42']\n",
      "enter the item to be searched in list:42\n",
      "item is found\n",
      "42 is present at the index: 3\n"
     ]
    }
   ],
   "source": [
    "#searching item \n",
    "l=[]\n",
    "for i  in range(4):\n",
    "    a=input(\"enter the item for list:\")\n",
    "    l.append(a)\n",
    "print(l)\n",
    "b=input(\"enter the item to be searched in list:\")\n",
    "if b in l:\n",
    "    print(\"item is found\")\n",
    "    print(b,\"is present at the index:\",l.index(b))\n",
    "else:\n",
    "    print(\"item not found\")"
   ]
  },
  {
   "cell_type": "code",
   "execution_count": null,
   "id": "f125ef8e",
   "metadata": {},
   "outputs": [],
   "source": []
  },
  {
   "cell_type": "code",
   "execution_count": 9,
   "id": "78836a2d",
   "metadata": {},
   "outputs": [
    {
     "name": "stdout",
     "output_type": "stream",
     "text": [
      "['rajesh', 'ravi', 'kiran', 34, 4, 3, 2]\n"
     ]
    }
   ],
   "source": [
    "l=['rajesh','ravi','kiran',34,4,3,2]\n",
    "print(l)"
   ]
  },
  {
   "cell_type": "code",
   "execution_count": 24,
   "id": "37a86dcd",
   "metadata": {},
   "outputs": [
    {
     "data": {
      "text/plain": [
       "['rajesh', 'ravi', 'kiran', 34, 4, 3, 2]"
      ]
     },
     "execution_count": 24,
     "metadata": {},
     "output_type": "execute_result"
    }
   ],
   "source": [
    "l=['rajesh','ravi','kiran',34,4,3,2]\n",
    "l"
   ]
  },
  {
   "cell_type": "code",
   "execution_count": 10,
   "id": "c4fa0d2a",
   "metadata": {},
   "outputs": [
    {
     "name": "stdout",
     "output_type": "stream",
     "text": [
      "['rajesh', 'ravi', 'kiran', 34, 4, 3, 2]\n",
      "<class 'str'>\n"
     ]
    }
   ],
   "source": [
    "s=str(l)\n",
    "print(s)\n",
    "print(type(s))"
   ]
  },
  {
   "cell_type": "code",
   "execution_count": 23,
   "id": "9119b402",
   "metadata": {},
   "outputs": [
    {
     "data": {
      "text/plain": [
       "'r'"
      ]
     },
     "execution_count": 23,
     "metadata": {},
     "output_type": "execute_result"
    }
   ],
   "source": [
    "n='rajesh'\n",
    "n[0]"
   ]
  },
  {
   "cell_type": "code",
   "execution_count": 25,
   "id": "aec0510e",
   "metadata": {},
   "outputs": [
    {
     "name": "stdout",
     "output_type": "stream",
     "text": [
      "[_'_r_a_j_e_s_h_'_,_ _'_r_a_v_i_'_,_ _'_k_i_r_a_n_'_,_ _3_4_,_ _4_,_ _3_,_ _2_]_"
     ]
    }
   ],
   "source": [
    "for i in range(len(s)):\n",
    "    print(s[i],end='_')"
   ]
  },
  {
   "cell_type": "code",
   "execution_count": 26,
   "id": "f07b3ff8",
   "metadata": {},
   "outputs": [
    {
     "data": {
      "text/plain": [
       "['rajesh', 'ravi', 'kiran', 34, 4, 3, 2]"
      ]
     },
     "execution_count": 26,
     "metadata": {},
     "output_type": "execute_result"
    }
   ],
   "source": [
    "l"
   ]
  },
  {
   "cell_type": "code",
   "execution_count": 22,
   "id": "bbafe41b",
   "metadata": {},
   "outputs": [
    {
     "name": "stdout",
     "output_type": "stream",
     "text": [
      "rajesh,ravi,kiran,34,4,3,2\n"
     ]
    }
   ],
   "source": [
    "k= ','.join(str(i) for i in l)\n",
    "print(k)"
   ]
  },
  {
   "cell_type": "code",
   "execution_count": 27,
   "id": "5563eb10",
   "metadata": {},
   "outputs": [
    {
     "data": {
      "text/plain": [
       "str"
      ]
     },
     "execution_count": 27,
     "metadata": {},
     "output_type": "execute_result"
    }
   ],
   "source": [
    "type(k)"
   ]
  },
  {
   "cell_type": "code",
   "execution_count": 28,
   "id": "dfedc33e",
   "metadata": {},
   "outputs": [
    {
     "name": "stdout",
     "output_type": "stream",
     "text": [
      "('rajesh', 'ravi', 'kiran', 34, 4, 3, 2)\n"
     ]
    }
   ],
   "source": [
    "t=tuple(l)\n",
    "print(t)"
   ]
  },
  {
   "cell_type": "code",
   "execution_count": 30,
   "id": "462d2d14",
   "metadata": {},
   "outputs": [
    {
     "name": "stdout",
     "output_type": "stream",
     "text": [
      "['rajesh', 'ravi', 'kiran', 34, 4, 3, 2]\n",
      "['rajesh', 'ravi', 'kiran', 34, 4, 3, 2, 53]\n"
     ]
    }
   ],
   "source": [
    "l1=list(t)\n",
    "print(l1)\n",
    "l1.append(53)\n",
    "print(l1)"
   ]
  },
  {
   "cell_type": "code",
   "execution_count": 37,
   "id": "3de028cc",
   "metadata": {},
   "outputs": [
    {
     "name": "stdout",
     "output_type": "stream",
     "text": [
      "43  is available\n",
      "43  is not available\n"
     ]
    }
   ],
   "source": [
    "# search an element from a list\n",
    "l2=['ra',43,'tkas',67]\n",
    "x=43\n",
    "for i in l2:\n",
    "    if i==x:\n",
    "        print(x,' is available')\n",
    "else:\n",
    "    print(x,' is not available')"
   ]
  },
  {
   "cell_type": "code",
   "execution_count": null,
   "id": "faaf1a2c",
   "metadata": {},
   "outputs": [],
   "source": []
  },
  {
   "cell_type": "code",
   "execution_count": 26,
   "id": "9fcab130",
   "metadata": {},
   "outputs": [
    {
     "data": {
      "text/plain": [
       "5"
      ]
     },
     "execution_count": 26,
     "metadata": {},
     "output_type": "execute_result"
    }
   ],
   "source": [
    "l=[3,5,4,6,7]\n",
    "l[1]"
   ]
  },
  {
   "cell_type": "code",
   "execution_count": 5,
   "id": "c937323d",
   "metadata": {},
   "outputs": [
    {
     "data": {
      "text/plain": [
       "'Mustang'"
      ]
     },
     "execution_count": 5,
     "metadata": {},
     "output_type": "execute_result"
    }
   ],
   "source": [
    "d = {\"brand\": \"Ford\",\"model\": \"Mustang\",\"year\": 1964 }\n",
    "x = d[\"model\"]\n",
    "x"
   ]
  },
  {
   "cell_type": "code",
   "execution_count": 6,
   "id": "94204650",
   "metadata": {},
   "outputs": [
    {
     "data": {
      "text/plain": [
       "'Mustang'"
      ]
     },
     "execution_count": 6,
     "metadata": {},
     "output_type": "execute_result"
    }
   ],
   "source": [
    "x = d.get(\"model\")\n",
    "x"
   ]
  },
  {
   "cell_type": "code",
   "execution_count": 8,
   "id": "52bf9a40",
   "metadata": {},
   "outputs": [
    {
     "data": {
      "text/plain": [
       "dict_items([('brand', 'Ford'), ('model', 'Mustang'), ('year', 1964)])"
      ]
     },
     "execution_count": 8,
     "metadata": {},
     "output_type": "execute_result"
    }
   ],
   "source": [
    "d.items()"
   ]
  },
  {
   "cell_type": "code",
   "execution_count": 9,
   "id": "0407db6e",
   "metadata": {},
   "outputs": [
    {
     "data": {
      "text/plain": [
       "dict_keys(['brand', 'model', 'year'])"
      ]
     },
     "execution_count": 9,
     "metadata": {},
     "output_type": "execute_result"
    }
   ],
   "source": [
    "d.keys()"
   ]
  },
  {
   "cell_type": "code",
   "execution_count": 12,
   "id": "33224cfb",
   "metadata": {},
   "outputs": [
    {
     "data": {
      "text/plain": [
       "'Ford'"
      ]
     },
     "execution_count": 12,
     "metadata": {},
     "output_type": "execute_result"
    }
   ],
   "source": [
    "d.setdefault('brand')"
   ]
  },
  {
   "cell_type": "code",
   "execution_count": 14,
   "id": "68290729",
   "metadata": {},
   "outputs": [
    {
     "name": "stdout",
     "output_type": "stream",
     "text": [
      "{1: 'A', 2: 'B', 3: 'C'}\n",
      "{1: 'A', 3: 'C'}\n"
     ]
    }
   ],
   "source": [
    "# Adding elements to a Dictionary\n",
    "\n",
    "my_dict = {1: 'A', 2: 'B'}\n",
    "my_dict[3] = 'C'\n",
    "print(my_dict)\n",
    "\n",
    "\n",
    "# Removing elements in a Dictionary\n",
    "\n",
    "my_dict = {1: 'A', 2: 'B', 3: 'C'}\n",
    "my_dict.pop(2)\n",
    "print(my_dict)"
   ]
  },
  {
   "cell_type": "code",
   "execution_count": 1,
   "id": "4bbd058d",
   "metadata": {},
   "outputs": [
    {
     "name": "stdout",
     "output_type": "stream",
     "text": [
      "{'name': 'John', 'age': 36, 'country': 'Norway'}\n"
     ]
    }
   ],
   "source": [
    "dic = dict(name = \"John\", age = 36, country = \"Norway\")\n",
    "print(dic)"
   ]
  },
  {
   "cell_type": "code",
   "execution_count": 28,
   "id": "5dbd9c69",
   "metadata": {
    "scrolled": true
   },
   "outputs": [
    {
     "name": "stdout",
     "output_type": "stream",
     "text": [
      "enter key 2\n",
      "enter valuetwo\n",
      "enter key 3\n",
      "enter valuethree\n",
      "enter key 4\n",
      "enter valuefour\n",
      "enter key 5\n",
      "enter valuefive\n"
     ]
    }
   ],
   "source": [
    "d=dict()\n",
    "i=0\n",
    "while i<4:\n",
    "    key=input('enter key : ')\n",
    "    value=input('enter value : ')\n",
    "    d[key]=value\n",
    "    i=i+1 \n",
    "print(d)"
   ]
  },
  {
   "cell_type": "code",
   "execution_count": 29,
   "id": "3339c8b9",
   "metadata": {},
   "outputs": [
    {
     "data": {
      "text/plain": [
       "{'2': 'two', '3': 'three', '4': 'four', '5': 'five'}"
      ]
     },
     "execution_count": 29,
     "metadata": {},
     "output_type": "execute_result"
    }
   ],
   "source": [
    "d"
   ]
  },
  {
   "cell_type": "code",
   "execution_count": null,
   "id": "5969d121",
   "metadata": {},
   "outputs": [],
   "source": []
  },
  {
   "cell_type": "code",
   "execution_count": null,
   "id": "3161fd6b",
   "metadata": {},
   "outputs": [],
   "source": []
  },
  {
   "cell_type": "code",
   "execution_count": 19,
   "id": "7126f631",
   "metadata": {},
   "outputs": [
    {
     "name": "stdout",
     "output_type": "stream",
     "text": [
      "{1, 2, 3}\n",
      "<class 'set'>\n"
     ]
    }
   ],
   "source": [
    "#set of integers\n",
    "s = {1, 2, 3}\n",
    "print(s)\n",
    "\n",
    "#print type of s\n",
    "print(type(s))"
   ]
  },
  {
   "cell_type": "code",
   "execution_count": 20,
   "id": "ddf97db3",
   "metadata": {},
   "outputs": [
    {
     "name": "stdout",
     "output_type": "stream",
     "text": [
      "{1, 2, 3}\n"
     ]
    }
   ],
   "source": [
    "s = {1,2}\n",
    "s.add(3)\n",
    "print(s)"
   ]
  },
  {
   "cell_type": "code",
   "execution_count": 21,
   "id": "cdb2bc5b",
   "metadata": {},
   "outputs": [
    {
     "name": "stdout",
     "output_type": "stream",
     "text": [
      "{1, 2, 3, 4, 5, 6}\n"
     ]
    }
   ],
   "source": [
    "s = {1,2,3}\n",
    "s.update([3,4,5,6])\n",
    "print(s)"
   ]
  },
  {
   "cell_type": "code",
   "execution_count": 22,
   "id": "a8108c59",
   "metadata": {},
   "outputs": [
    {
     "name": "stdout",
     "output_type": "stream",
     "text": [
      "{1, 2, 3, 4}\n",
      "{1, 2, 3, 4}\n",
      "{2, 3, 4, 5}\n"
     ]
    }
   ],
   "source": [
    "# remove function\n",
    "\n",
    "s = {1,2,3,4,5}\n",
    "s.remove(5)\n",
    "print(s)\n",
    "\n",
    "# discard function\n",
    "\n",
    "s = {1,2,3,4,5}\n",
    "s.discard(5)\n",
    "print(s)\n",
    "\n",
    "# pop function\n",
    "\n",
    "s = {1,2,3,4,5}\n",
    "s.pop()\n",
    "print(s)"
   ]
  },
  {
   "cell_type": "code",
   "execution_count": 23,
   "id": "3805b768",
   "metadata": {},
   "outputs": [
    {
     "name": "stdout",
     "output_type": "stream",
     "text": [
      "{1, 2, 3, 4, 5}\n",
      "{1, 2, 3, 4, 5}\n"
     ]
    }
   ],
   "source": [
    "s1 = {1,2,3}\n",
    "s2 = {3,4,5}\n",
    "su1 = s1 | s2\n",
    "su2 = s1.union(s2)\n",
    "print(su1)\n",
    "print(su2)"
   ]
  },
  {
   "cell_type": "code",
   "execution_count": 24,
   "id": "9bae1180",
   "metadata": {},
   "outputs": [
    {
     "name": "stdout",
     "output_type": "stream",
     "text": [
      "{3}\n",
      "{3}\n"
     ]
    }
   ],
   "source": [
    "s1 = {1,2,3}\n",
    "s2 = {3,4,5}\n",
    "si1 = s1 & s2\n",
    "si2 = s1.intersection(s2)\n",
    "print(si1)\n",
    "print(si2)"
   ]
  },
  {
   "cell_type": "code",
   "execution_count": 25,
   "id": "aadbd81f",
   "metadata": {},
   "outputs": [
    {
     "name": "stdout",
     "output_type": "stream",
     "text": [
      "{1, 2}\n",
      "{1, 2}\n",
      "{1, 2, 4, 5}\n",
      "{1, 2, 4, 5}\n",
      "frozenset({1, 2, 3, 4})\n",
      "<class 'frozenset'>\n"
     ]
    }
   ],
   "source": [
    "s1 = {1,2,3}\n",
    "s2 = {3,4,5}\n",
    "sd1 = s1 - s2\n",
    "sd2 = s1.difference(s2)\n",
    "print(sd1)\n",
    "print(sd2)\n",
    "\n",
    "s1 = {1,2,3}\n",
    "s2 = {3,4,5}\n",
    "ssd1 = s1 ^ s2\n",
    "ssd2 = s1.symmetric_difference(s2)\n",
    "print(ssd1)\n",
    "print(ssd2)\n",
    "\n",
    "s = frozenset([1, 2, 3, 4])\n",
    "print(s)\n",
    "\n",
    "#print type of s\n",
    "print(type(s))"
   ]
  },
  {
   "cell_type": "code",
   "execution_count": null,
   "id": "f7bb0cf0",
   "metadata": {},
   "outputs": [],
   "source": []
  },
  {
   "cell_type": "code",
   "execution_count": null,
   "id": "6bce29fb",
   "metadata": {},
   "outputs": [],
   "source": []
  },
  {
   "cell_type": "code",
   "execution_count": 1,
   "id": "9598b414",
   "metadata": {},
   "outputs": [
    {
     "name": "stdout",
     "output_type": "stream",
     "text": [
      "48\n"
     ]
    }
   ],
   "source": [
    "def su(l):\n",
    "    \n",
    "    return sum(l)\n",
    "l=[2,34,5,7]\n",
    "print(su(l))"
   ]
  },
  {
   "cell_type": "code",
   "execution_count": 7,
   "id": "2f0cd8b8",
   "metadata": {},
   "outputs": [
    {
     "name": "stdout",
     "output_type": "stream",
     "text": [
      "enter the no of elements to be present in the list3\n",
      "Enter integer no. 23\n",
      "Enter integer no. 23\n",
      "Enter integer no. 23\n",
      "The sum of square error is: 0\n"
     ]
    }
   ],
   "source": [
    "#this function is used to enter integer values into a list\n",
    "def enter_list(n):\n",
    "    l=[]\n",
    "    for i in range(n):\n",
    "        num=int(input(\"Enter integer no. \"))\n",
    "        l.append(num)\n",
    "    return l\n",
    "\n",
    "#this function will return the sum of numbers of a list\n",
    "def total(l):\n",
    "    sum=0\n",
    "    for element in l:\n",
    "        sum+=element\n",
    "    return sum\n",
    "\n",
    "#this function will calculate and return the mean from total and no of elemnts\n",
    "def mean(sum,n):\n",
    "    m=sum//n\n",
    "    return m\n",
    "\n",
    "#return the mean square error sum\n",
    "def mean_square_error(l,mean):\n",
    "    sum=0\n",
    "    for item in l:\n",
    "        x=mean-item\n",
    "        x_square=x*x\n",
    "        sum+=x_square\n",
    "    return sum\n",
    "\n",
    "n=int(input (\"enter the no of elements to be present in the list\"))\n",
    "element_list=enter_list(n)\n",
    "total=total(element_list)\n",
    "mean=mean(total,n)\n",
    "sum_square_error=mean_square_error(element_list, mean)\n",
    "print(\"The sum of square error is:\", sum_square_error)"
   ]
  },
  {
   "cell_type": "code",
   "execution_count": null,
   "id": "3127e2df",
   "metadata": {},
   "outputs": [],
   "source": []
  },
  {
   "cell_type": "code",
   "execution_count": 5,
   "id": "80ee614a",
   "metadata": {},
   "outputs": [
    {
     "name": "stdout",
     "output_type": "stream",
     "text": [
      "Please enter the integer number : 5\n",
      "Enter 1-for Prime number , 2-for Armstrong , 3-for Palindrome , 4-for factorial And -1 for stop :4\n",
      "120\n",
      "Please enter the integer number : 5\n",
      "Enter 1-for Prime number , 2-for Armstrong , 3-for Palindrome , 4-for factorial And -1 for stop :-1\n",
      "Thank you your session is completed\n"
     ]
    }
   ],
   "source": [
    "i=1\n",
    "while i>0:\n",
    "    n=int(input('Please enter the integer number : '))\n",
    "    num_to_check = int(input('Enter 1-for Prime number , 2-for Armstrong , 3-for Palindrome , 4-for factorial And -1 for stop :'))\n",
    "    if num_to_check==-1:\n",
    "        i=-1\n",
    "        i=i-1\n",
    "    elif num_to_check==1:\n",
    "        #n=int(input('Please enter the integer number : '))\n",
    "        \n",
    "        def prime(n):\n",
    "            if n>1:\n",
    "                c=0\n",
    "                for i in range(2,n):\n",
    "                    if n%2==0:\n",
    "                        c+=1\n",
    "                if c==0:\n",
    "                    return ('The number is a prime number')\n",
    "            else:\n",
    "                return ('The number is not a prime number')\n",
    "        print(prime(n))\n",
    "        i=i+1\n",
    "        \n",
    "    elif num_to_check==2:\n",
    "        #n=int(input('Please enter the integer number : '))\n",
    "        \n",
    "        def armstrong(n):\n",
    "            num_org = n\n",
    "            a=len(str(n))\n",
    "            add=0\n",
    "            while n!=0:\n",
    "                k=n % 10\n",
    "                add = add+ (k**a)\n",
    "                n//=10\n",
    "            if num_org == add:\n",
    "                return (num_org,'is an armstrong number')\n",
    "            else:\n",
    "                return (num_org,'is not an armstrong number')\n",
    "        print(armstrong(n))\n",
    "        i=i+1\n",
    "        \n",
    "    elif num_to_check==3:\n",
    "        #n=int(input('Please enter the integer number : '))\n",
    "        \n",
    "        def palindrome(n):\n",
    "            s=str(n)\n",
    "            if s==s[::-1]:\n",
    "                return ('The number is a palindrome')\n",
    "            else:\n",
    "                return ('The number is not a palindrome')\n",
    "        print(palindrome(n))\n",
    "        i=i+1\n",
    "        \n",
    "    elif num_to_check==4:\n",
    "        #n=int(input('Please enter the integer number : '))\n",
    "        def factorial(n):\n",
    "            if n==0 or n==1:\n",
    "                return 1\n",
    "            else:\n",
    "                return n*factorial(n-1)\n",
    "        print(factorial(n))\n",
    "        i=i+1\n",
    "        \n",
    "    else:\n",
    "        print('Thank you your session is completed')\n",
    "print('Thank you your session is completed')\n",
    "    "
   ]
  },
  {
   "cell_type": "code",
   "execution_count": 27,
   "id": "10800a81",
   "metadata": {},
   "outputs": [
    {
     "name": "stdout",
     "output_type": "stream",
     "text": [
      "Please enter the integer number : 54545\n",
      "Enter 1-for Prime number , 2-for Armstrong , 3-for Palindrome , 4-for factorial And -1 for stop :3\n",
      "The number is a palindrome\n",
      "Please enter the integer number : 5\n",
      "Enter 1-for Prime number , 2-for Armstrong , 3-for Palindrome , 4-for factorial And -1 for stop :4\n",
      "120\n",
      "Please enter the integer number : 345\n",
      "Enter 1-for Prime number , 2-for Armstrong , 3-for Palindrome , 4-for factorial And -1 for stop :-1\n",
      "Thank you your session is completed\n"
     ]
    }
   ],
   "source": [
    "def prime(n):\n",
    "    if n>1:\n",
    "        c=0\n",
    "        for i in range(2,n):\n",
    "            if n%2==0:\n",
    "                c+=1\n",
    "        if c==0:\n",
    "            return ('The number is a prime number')\n",
    "        else:\n",
    "            return ('The number is not a prime number')\n",
    "    else:\n",
    "        return ('The number is not a prime number')\n",
    "\n",
    "def armstrong(n):\n",
    "    num_org = n\n",
    "    a=len(str(n))\n",
    "    add=0\n",
    "    while n!=0:\n",
    "        k=n % 10\n",
    "        add = add+ (k**a)\n",
    "        n//=10\n",
    "    if num_org == add:\n",
    "        return num_org,'is an armstrong number'\n",
    "    else:\n",
    "        return num_org,'is not an armstrong number'\n",
    "\n",
    "def palindrome(n):\n",
    "    s=str(n)\n",
    "    if s==s[::-1]:\n",
    "        return 'The number is a palindrome'\n",
    "    else:\n",
    "        return 'The number is not a palindrome'\n",
    "\n",
    "def factorial(n):\n",
    "    if n==0 or n==1:\n",
    "        return 1\n",
    "    else:\n",
    "        return n*factorial(n-1)\n",
    "\n",
    "i=1\n",
    "while i>0:\n",
    "    \n",
    "    n=int(input('Please enter the integer number : '))\n",
    "    num_to_check = int(input('Enter 1-for Prime number , 2-for Armstrong , 3-for Palindrome , 4-for factorial And -1 for stop :'))\n",
    "    if num_to_check==-1:\n",
    "        i=-2\n",
    "    elif num_to_check==1:\n",
    "        print(prime(n))\n",
    "    elif num_to_check==2:\n",
    "        print(armstrong(n))\n",
    "    elif num_to_check==3:\n",
    "        print(palindrome(n))\n",
    "    else: \n",
    "        print(factorial(n))\n",
    "    i=i+1\n",
    "print('Thank you your session is completed')\n",
    "        "
   ]
  },
  {
   "cell_type": "code",
   "execution_count": null,
   "id": "06e75aff",
   "metadata": {},
   "outputs": [],
   "source": []
  },
  {
   "cell_type": "markdown",
   "id": "03311375",
   "metadata": {},
   "source": [
    "# Recurssion"
   ]
  },
  {
   "cell_type": "code",
   "execution_count": 8,
   "id": "e27c2d1a",
   "metadata": {},
   "outputs": [
    {
     "name": "stdout",
     "output_type": "stream",
     "text": [
      "2\n"
     ]
    }
   ],
   "source": [
    "#sum of list elements\n",
    "def sum_of_list(n):\n",
    "    if n==1:\n",
    "        return l[0]\n",
    "    else:\n",
    "         return l[n-1]+sum_of_list(n-1)\n",
    "\n",
    "l=[2,3,4,5,6]\n",
    "n=len(l)\n",
    "print(sum_of_list(n))"
   ]
  },
  {
   "cell_type": "code",
   "execution_count": 15,
   "id": "4368472f",
   "metadata": {},
   "outputs": [
    {
     "name": "stdout",
     "output_type": "stream",
     "text": [
      "enter the values : 5\n",
      "120\n"
     ]
    }
   ],
   "source": [
    "def factorial(n):\n",
    "    if n==0 or n==1:\n",
    "        return 1\n",
    "    else:\n",
    "        return n*factorial(n-1)\n",
    "n=int(input('enter the values : '))\n",
    "print(factorial(n)) "
   ]
  },
  {
   "cell_type": "code",
   "execution_count": null,
   "id": "54d2b75e",
   "metadata": {},
   "outputs": [],
   "source": []
  },
  {
   "cell_type": "code",
   "execution_count": 21,
   "id": "b443e709",
   "metadata": {},
   "outputs": [
    {
     "name": "stdout",
     "output_type": "stream",
     "text": [
      "34\n"
     ]
    }
   ],
   "source": [
    "def recursive_list_sum(data_list):\n",
    "    total = 0\n",
    "    for element in data_list:\n",
    "        if type(element) == type([]):\n",
    "            total = total + recursive_list_sum(element)\n",
    "        else:\n",
    "            total = total + element\n",
    "\n",
    "    return total\n",
    "print( recursive_list_sum([1,6, [2,7, [3,4],[5,6]]]))"
   ]
  },
  {
   "cell_type": "code",
   "execution_count": 9,
   "id": "edc8c71e",
   "metadata": {},
   "outputs": [
    {
     "name": "stdout",
     "output_type": "stream",
     "text": [
      "2\n"
     ]
    }
   ],
   "source": [
    "def fibonacci(n):\n",
    "    if n == 1: \n",
    "        return 0\n",
    "    elif n==2:\n",
    "        return 1\n",
    "    else:\n",
    "        return (fibonacci(n - 1) + (fibonacci(n - 2)))\n",
    "\n",
    "print(fibonacci(5))  "
   ]
  },
  {
   "cell_type": "code",
   "execution_count": 24,
   "id": "b6fcb8ef",
   "metadata": {},
   "outputs": [
    {
     "name": "stdout",
     "output_type": "stream",
     "text": [
      "32\n"
     ]
    }
   ],
   "source": [
    "def power(a,b):\n",
    "    if b==0:\n",
    "        return 1\n",
    "    elif a==0:\n",
    "        return 0\n",
    "    elif b==1:\n",
    "        return a\n",
    "    else:\n",
    "        return a*power(a,b-1)\n",
    "\n",
    "print(power(2,5))"
   ]
  },
  {
   "cell_type": "code",
   "execution_count": null,
   "id": "8a457a28",
   "metadata": {},
   "outputs": [],
   "source": []
  },
  {
   "cell_type": "code",
   "execution_count": 6,
   "id": "71c1a440",
   "metadata": {},
   "outputs": [
    {
     "name": "stdout",
     "output_type": "stream",
     "text": [
      "Yeah ! Your answer is :\n"
     ]
    }
   ],
   "source": [
    "def divide(x, y):\n",
    "    try:\n",
    "        result=x*y\n",
    "        print(\"Yeah ! Your answer is :\")\n",
    "        \n",
    "    except IndentationError:\n",
    "        print(\"Sorry ! You are making indendation error\")\n",
    "\n",
    "divide(3,2) "
   ]
  },
  {
   "cell_type": "code",
   "execution_count": 81,
   "id": "d96737fd",
   "metadata": {},
   "outputs": [
    {
     "name": "stdout",
     "output_type": "stream",
     "text": [
      "error\n"
     ]
    }
   ],
   "source": [
    "def divide(x,y):\n",
    "    try:\n",
    "        res=x//y\n",
    "        print('result')\n",
    "    except ZeroDivisionError:\n",
    "\n",
    "        print('error')\n",
    "    \n",
    "    \n",
    "divide(3,0)"
   ]
  },
  {
   "cell_type": "code",
   "execution_count": 5,
   "id": "95a001ce",
   "metadata": {},
   "outputs": [
    {
     "name": "stdout",
     "output_type": "stream",
     "text": [
      "1\n"
     ]
    }
   ],
   "source": [
    "def divide(x,y):\n",
    "    r=x//y\n",
    "    print(r)\n",
    "divide(3,2)"
   ]
  },
  {
   "cell_type": "code",
   "execution_count": 32,
   "id": "f65954b0",
   "metadata": {},
   "outputs": [
    {
     "name": "stdout",
     "output_type": "stream",
     "text": [
      "Name error occurred and handled\n"
     ]
    }
   ],
   "source": [
    "def function(n):\n",
    "    if n<4:\n",
    "        b=n/(n-3)\n",
    "        print(\"the value of b:\",b)\n",
    "try:\n",
    "    function(3)\n",
    "except:\n",
    "    print(\"Name error occurred and handled\")\n"
   ]
  },
  {
   "cell_type": "code",
   "execution_count": 2,
   "id": "c34e2921",
   "metadata": {},
   "outputs": [
    {
     "name": "stdout",
     "output_type": "stream",
     "text": [
      "7.0\n",
      "an error occurred\n"
     ]
    }
   ],
   "source": [
    "def function(a,b):\n",
    "    try:\n",
    "        c=((a+b)/(a-b))\n",
    "    except:\n",
    "        print('an error occurred')\n",
    "    else:\n",
    "        print(c)\n",
    "function(4,3)\n",
    "function(6,6)"
   ]
  },
  {
   "cell_type": "code",
   "execution_count": 37,
   "id": "6f1a3755",
   "metadata": {},
   "outputs": [
    {
     "name": "stdout",
     "output_type": "stream",
     "text": [
      "Please enter a number and to stop enter 0 : 67\n",
      "Please enter a number and to stop enter 0 : jb\n",
      "Oops!  That was no valid number.  Try again...\n",
      "Please enter a number and to stop enter 0 : 0\n"
     ]
    }
   ],
   "source": [
    "i=1\n",
    "while i>0:\n",
    "    try:\n",
    "        x = int(input(\"Please enter a number and to stop enter 0 : \"))\n",
    "        i=x\n",
    "    except IndentationError:\n",
    "        print('Indentation error')\n",
    "    except ValueError:\n",
    "        print(\"Oops!  That was no valid number.  Try again...\")\n",
    "    "
   ]
  },
  {
   "cell_type": "code",
   "execution_count": 31,
   "id": "092eedbf",
   "metadata": {},
   "outputs": [
    {
     "name": "stdout",
     "output_type": "stream",
     "text": [
      "Invalid input! enter number greater than 0 \n"
     ]
    }
   ],
   "source": [
    "def fact(n):\n",
    "    \n",
    "    try:\n",
    "        if n<=-1:\n",
    "            raise ValueError('Invalid input! enter number greater than 0 ')\n",
    "        elif n==1:\n",
    "            return n\n",
    "            #elif(n<=0):\n",
    "            #   print(\"Impossible to find the factorial of negavtive numbers\")\n",
    "        \n",
    "        else:\n",
    "            return n*fact(n-1)    \n",
    "    except Exception as e:\n",
    "        print(str(e))\n",
    "        #print(\"Input error, please try again\")\n",
    "        #raise\n",
    "fact(-1)"
   ]
  },
  {
   "cell_type": "code",
   "execution_count": 1,
   "id": "31b5ac04",
   "metadata": {},
   "outputs": [
    {
     "name": "stdout",
     "output_type": "stream",
     "text": [
      "division by zero\n"
     ]
    }
   ],
   "source": [
    "def function(n):\n",
    "    if n>4 or n<0:\n",
    "        \n",
    "        raise ValueError(\"Enter 0 to 4:\")\n",
    "        \n",
    "    else:\n",
    "        b=n/(n-3)\n",
    "        print(\"the value of b:\",b)\n",
    "try:\n",
    "    function(3)\n",
    "    \n",
    "except Exception as e:\n",
    "        print(str(e))"
   ]
  },
  {
   "cell_type": "code",
   "execution_count": 3,
   "id": "cbfd07c8",
   "metadata": {},
   "outputs": [
    {
     "name": "stdout",
     "output_type": "stream",
     "text": [
      "name 'error' is not defined\n",
      "7\n",
      "division by zero\n",
      "10\n"
     ]
    }
   ],
   "source": [
    "def function(a,b):\n",
    "    try:\n",
    "        c=((a+b)/(a-b))\n",
    "        raise error('error')\n",
    "    except Exception as e:\n",
    "        print(str(e))\n",
    "    else:\n",
    "        print(c)\n",
    "    finally:\n",
    "        d=a+b\n",
    "        print(d)\n",
    "function(5,2)\n",
    "function(5,5)"
   ]
  },
  {
   "cell_type": "code",
   "execution_count": null,
   "id": "618f2658",
   "metadata": {},
   "outputs": [],
   "source": []
  },
  {
   "cell_type": "code",
   "execution_count": null,
   "id": "4dbc0d80",
   "metadata": {},
   "outputs": [],
   "source": []
  },
  {
   "cell_type": "markdown",
   "id": "7598d62f",
   "metadata": {},
   "source": [
    "# file handling"
   ]
  },
  {
   "cell_type": "code",
   "execution_count": 26,
   "id": "070003e5",
   "metadata": {},
   "outputs": [],
   "source": [
    "with open('Ages.txt','x') as f:\n",
    "    f.write('25\\n')\n",
    "    f.write('22\\n')   "
   ]
  },
  {
   "cell_type": "code",
   "execution_count": 28,
   "id": "7950676b",
   "metadata": {},
   "outputs": [
    {
     "name": "stdout",
     "output_type": "stream",
     "text": [
      "25\n",
      "\n",
      "22\n",
      "\n"
     ]
    }
   ],
   "source": [
    "f=open('Ages.txt','r')\n",
    "for i in f:\n",
    "    print(i)"
   ]
  },
  {
   "cell_type": "code",
   "execution_count": 31,
   "id": "d46b7fb9",
   "metadata": {},
   "outputs": [
    {
     "data": {
      "text/plain": [
       "''"
      ]
     },
     "execution_count": 31,
     "metadata": {},
     "output_type": "execute_result"
    }
   ],
   "source": [
    "f.read()"
   ]
  },
  {
   "cell_type": "code",
   "execution_count": 32,
   "id": "cfb943a3",
   "metadata": {},
   "outputs": [
    {
     "data": {
      "text/plain": [
       "0"
      ]
     },
     "execution_count": 32,
     "metadata": {},
     "output_type": "execute_result"
    }
   ],
   "source": [
    "f.seek(0)"
   ]
  },
  {
   "cell_type": "code",
   "execution_count": 33,
   "id": "5285e14e",
   "metadata": {},
   "outputs": [
    {
     "data": {
      "text/plain": [
       "'25\\n22\\n'"
      ]
     },
     "execution_count": 33,
     "metadata": {},
     "output_type": "execute_result"
    }
   ],
   "source": [
    "f.read()"
   ]
  },
  {
   "cell_type": "code",
   "execution_count": 34,
   "id": "ea883ff4",
   "metadata": {},
   "outputs": [
    {
     "data": {
      "text/plain": [
       "['25\\n', '22\\n']"
      ]
     },
     "execution_count": 34,
     "metadata": {},
     "output_type": "execute_result"
    }
   ],
   "source": [
    "f.seek(0)\n",
    "f.readlines()"
   ]
  },
  {
   "cell_type": "code",
   "execution_count": 35,
   "id": "d4c18830",
   "metadata": {},
   "outputs": [],
   "source": [
    "f.close()"
   ]
  },
  {
   "cell_type": "code",
   "execution_count": 36,
   "id": "29a063e6",
   "metadata": {},
   "outputs": [
    {
     "data": {
      "text/plain": [
       "37"
      ]
     },
     "execution_count": 36,
     "metadata": {},
     "output_type": "execute_result"
    }
   ],
   "source": [
    "file = open('age.txt','w+')\n",
    "file.write('Adding ages of trainees to this file ')"
   ]
  },
  {
   "cell_type": "code",
   "execution_count": 37,
   "id": "737ea069",
   "metadata": {},
   "outputs": [
    {
     "data": {
      "text/plain": [
       "'Adding ages of trainees to this file '"
      ]
     },
     "execution_count": 37,
     "metadata": {},
     "output_type": "execute_result"
    }
   ],
   "source": [
    "file.seek(0)\n",
    "file.read()"
   ]
  },
  {
   "cell_type": "code",
   "execution_count": 38,
   "id": "165e5110",
   "metadata": {},
   "outputs": [
    {
     "data": {
      "text/plain": [
       "0"
      ]
     },
     "execution_count": 38,
     "metadata": {},
     "output_type": "execute_result"
    }
   ],
   "source": [
    "file.seek(0)"
   ]
  },
  {
   "cell_type": "code",
   "execution_count": 39,
   "id": "0d5605dc",
   "metadata": {},
   "outputs": [],
   "source": [
    "file.close()"
   ]
  },
  {
   "cell_type": "markdown",
   "id": "69bed304",
   "metadata": {},
   "source": [
    "### append values to file"
   ]
  },
  {
   "cell_type": "code",
   "execution_count": 40,
   "id": "f332b3eb",
   "metadata": {},
   "outputs": [
    {
     "data": {
      "text/plain": [
       "3"
      ]
     },
     "execution_count": 40,
     "metadata": {},
     "output_type": "execute_result"
    }
   ],
   "source": [
    "file = open('age.txt','a+')\n",
    "file.write('\\n22')\n",
    "file.write('\\n23')\n",
    "file.write('\\n24')\n",
    "file.write('\\n25')"
   ]
  },
  {
   "cell_type": "code",
   "execution_count": 42,
   "id": "31fd0d33",
   "metadata": {},
   "outputs": [
    {
     "name": "stdout",
     "output_type": "stream",
     "text": [
      "Adding ages of trainees to this file \n",
      "22\n",
      "23\n",
      "24\n",
      "25\n"
     ]
    }
   ],
   "source": [
    "file.seek(0)\n",
    "print(file.read())"
   ]
  },
  {
   "cell_type": "code",
   "execution_count": 43,
   "id": "dce54e3a",
   "metadata": {},
   "outputs": [
    {
     "name": "stdout",
     "output_type": "stream",
     "text": [
      "Adding ages of trainees to this file \n",
      "\n",
      "22\n",
      "\n",
      "23\n",
      "\n",
      "24\n",
      "\n",
      "25\n"
     ]
    }
   ],
   "source": [
    "file.seek(0)\n",
    "for line in file:\n",
    "    print(line) "
   ]
  },
  {
   "cell_type": "code",
   "execution_count": 44,
   "id": "d7302cbd",
   "metadata": {},
   "outputs": [],
   "source": [
    "file.close()"
   ]
  },
  {
   "cell_type": "code",
   "execution_count": 45,
   "id": "2f892ae4",
   "metadata": {},
   "outputs": [
    {
     "data": {
      "text/plain": [
       "3"
      ]
     },
     "execution_count": 45,
     "metadata": {},
     "output_type": "execute_result"
    }
   ],
   "source": [
    "a=str(5)\n",
    "b=str(6)\n",
    "file =open('age.txt','a+')\n",
    "file.write(a+'*'+b)"
   ]
  },
  {
   "cell_type": "code",
   "execution_count": 52,
   "id": "e8a2c382",
   "metadata": {},
   "outputs": [
    {
     "name": "stdout",
     "output_type": "stream",
     "text": [
      "Adding ages of trainees to this file \n",
      "22\n",
      "23\n",
      "24\n",
      "255*6\n",
      "4*5=204*5=20\n"
     ]
    }
   ],
   "source": [
    "file.seek(0)\n",
    "print(file.read())"
   ]
  },
  {
   "cell_type": "code",
   "execution_count": 51,
   "id": "40c592d2",
   "metadata": {},
   "outputs": [
    {
     "data": {
      "text/plain": [
       "6"
      ]
     },
     "execution_count": 51,
     "metadata": {},
     "output_type": "execute_result"
    }
   ],
   "source": [
    "file.seek(0)\n",
    "file.write(str(4)+'*'+str(5)+'='+str(20))"
   ]
  },
  {
   "cell_type": "code",
   "execution_count": 53,
   "id": "0258ee80",
   "metadata": {},
   "outputs": [],
   "source": [
    "file.close()"
   ]
  },
  {
   "cell_type": "code",
   "execution_count": 62,
   "id": "fe59fba6",
   "metadata": {},
   "outputs": [],
   "source": [
    "f=open('age.txt','a+')\n",
    "f.write('\\nnew line 4')\n",
    "for i in range(2):\n",
    "    f.write('command 4')"
   ]
  },
  {
   "cell_type": "code",
   "execution_count": 63,
   "id": "525f0aa2",
   "metadata": {},
   "outputs": [
    {
     "name": "stdout",
     "output_type": "stream",
     "text": [
      "\n",
      "new linecommandcommand\n",
      "new linecommandcommand\n",
      "new linecommandcommand\n",
      "new linecommandcommand\n",
      "new line 4command 4command 4\n"
     ]
    }
   ],
   "source": [
    "f.seek(0)\n",
    "print(f.read())"
   ]
  },
  {
   "cell_type": "code",
   "execution_count": null,
   "id": "7b2ceb73",
   "metadata": {},
   "outputs": [],
   "source": []
  }
 ],
 "metadata": {
  "kernelspec": {
   "display_name": "Python 3 (ipykernel)",
   "language": "python",
   "name": "python3"
  },
  "language_info": {
   "codemirror_mode": {
    "name": "ipython",
    "version": 3
   },
   "file_extension": ".py",
   "mimetype": "text/x-python",
   "name": "python",
   "nbconvert_exporter": "python",
   "pygments_lexer": "ipython3",
   "version": "3.9.12"
  }
 },
 "nbformat": 4,
 "nbformat_minor": 5
}
