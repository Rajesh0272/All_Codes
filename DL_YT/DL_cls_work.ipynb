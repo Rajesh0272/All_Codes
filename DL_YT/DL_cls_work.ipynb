{
 "cells": [
  {
   "cell_type": "code",
   "execution_count": 1,
   "id": "c97e072c",
   "metadata": {},
   "outputs": [],
   "source": [
    "import tensorflow as tf\n",
    "from tensorflow import keras\n",
    "import matplotlib.pyplot as plt\n",
    "%matplotlib inline\n",
    "import numpy as np\n",
    "import pandas as pd\n",
    "from tensorflow.keras.layers import Dropout\n"
   ]
  },
  {
   "cell_type": "code",
   "execution_count": 2,
   "id": "e6d9e65b",
   "metadata": {},
   "outputs": [],
   "source": [
    "df = pd.read_csv(r'C:\\Users\\M RAJESH\\Downloads\\Admission_Predict_Ver1.1.csv')\n"
   ]
  },
  {
   "cell_type": "code",
   "execution_count": 3,
   "id": "517c0b51",
   "metadata": {},
   "outputs": [],
   "source": [
    "x=df.iloc[:,1:-1]\n",
    "y=df.iloc[:,-1]"
   ]
  },
  {
   "cell_type": "code",
   "execution_count": 4,
   "id": "cf3c1bf6",
   "metadata": {},
   "outputs": [],
   "source": [
    "from sklearn.model_selection import train_test_split\n",
    "x_train,x_test,y_train,y_test = train_test_split(x,y,test_size=0.2,random_state=90)"
   ]
  },
  {
   "cell_type": "code",
   "execution_count": 5,
   "id": "9a9d60e8",
   "metadata": {},
   "outputs": [],
   "source": [
    "from sklearn.preprocessing import MinMaxScaler\n",
    "scaler = MinMaxScaler()\n",
    "x_train_s = scaler.fit_transform(x_train)\n",
    "x_test_s = scaler.transform(x_test)"
   ]
  },
  {
   "cell_type": "code",
   "execution_count": 6,
   "id": "c43d9bba",
   "metadata": {},
   "outputs": [
    {
     "data": {
      "text/plain": [
       "(400, 7)"
      ]
     },
     "execution_count": 6,
     "metadata": {},
     "output_type": "execute_result"
    }
   ],
   "source": [
    "x_train.shape"
   ]
  },
  {
   "cell_type": "code",
   "execution_count": 7,
   "id": "30adcee0",
   "metadata": {
    "scrolled": true
   },
   "outputs": [],
   "source": [
    "model = keras.Sequential([\n",
    "    keras.layers.Dense(7, input_dim=7 ,activation='relu'),\n",
    "#     keras.layers.Dropout(0.3),\n",
    "    keras.layers.Dense(4,activation='relu'),\n",
    "#     keras.layers.Dropout(0.3),\n",
    "    keras.layers.Dense(1,activation='sigmoid')\n",
    "])\n",
    "\n",
    "model.compile( optimizer='adam', loss=tf.keras.losses.MeanSquaredError())\n"
   ]
  },
  {
   "cell_type": "code",
   "execution_count": 8,
   "id": "02c84b07",
   "metadata": {},
   "outputs": [],
   "source": [
    "early_stop=tf.keras.callbacks.EarlyStopping(\n",
    "    monitor=\"val_accuracy\",\n",
    "    min_delta=0,\n",
    "    patience=10,\n",
    "    verbose=0,\n",
    "    mode=\"auto\",\n",
    "    baseline=None,\n",
    "    restore_best_weights=False\n",
    ")"
   ]
  },
  {
   "cell_type": "code",
   "execution_count": 9,
   "id": "53a14c61",
   "metadata": {},
   "outputs": [
    {
     "name": "stdout",
     "output_type": "stream",
     "text": [
      "Epoch 1/100\n",
      " 1/27 [>.............................] - ETA: 11s - loss: 0.0254WARNING:tensorflow:Early stopping conditioned on metric `val_accuracy` which is not available. Available metrics are: loss,val_loss\n",
      "27/27 [==============================] - 1s 7ms/step - loss: 0.0352 - val_loss: 0.0270\n",
      "Epoch 2/100\n",
      " 1/27 [>.............................] - ETA: 0s - loss: 0.0276WARNING:tensorflow:Early stopping conditioned on metric `val_accuracy` which is not available. Available metrics are: loss,val_loss\n",
      "27/27 [==============================] - 0s 2ms/step - loss: 0.0209 - val_loss: 0.0164\n",
      "Epoch 3/100\n",
      " 1/27 [>.............................] - ETA: 0s - loss: 0.0161WARNING:tensorflow:Early stopping conditioned on metric `val_accuracy` which is not available. Available metrics are: loss,val_loss\n",
      "27/27 [==============================] - 0s 2ms/step - loss: 0.0132 - val_loss: 0.0118\n",
      "Epoch 4/100\n",
      " 1/27 [>.............................] - ETA: 0s - loss: 0.0056WARNING:tensorflow:Early stopping conditioned on metric `val_accuracy` which is not available. Available metrics are: loss,val_loss\n",
      "27/27 [==============================] - 0s 2ms/step - loss: 0.0102 - val_loss: 0.0102\n",
      "Epoch 5/100\n",
      " 1/27 [>.............................] - ETA: 0s - loss: 0.0227WARNING:tensorflow:Early stopping conditioned on metric `val_accuracy` which is not available. Available metrics are: loss,val_loss\n",
      "27/27 [==============================] - 0s 2ms/step - loss: 0.0093 - val_loss: 0.0097\n",
      "Epoch 6/100\n",
      " 1/27 [>.............................] - ETA: 0s - loss: 0.0081WARNING:tensorflow:Early stopping conditioned on metric `val_accuracy` which is not available. Available metrics are: loss,val_loss\n",
      "27/27 [==============================] - 0s 3ms/step - loss: 0.0091 - val_loss: 0.0096\n",
      "Epoch 7/100\n",
      " 1/27 [>.............................] - ETA: 0s - loss: 0.0082WARNING:tensorflow:Early stopping conditioned on metric `val_accuracy` which is not available. Available metrics are: loss,val_loss\n",
      "27/27 [==============================] - 0s 2ms/step - loss: 0.0090 - val_loss: 0.0095\n",
      "Epoch 8/100\n",
      " 1/27 [>.............................] - ETA: 0s - loss: 0.0053WARNING:tensorflow:Early stopping conditioned on metric `val_accuracy` which is not available. Available metrics are: loss,val_loss\n",
      "27/27 [==============================] - 0s 2ms/step - loss: 0.0088 - val_loss: 0.0094\n",
      "Epoch 9/100\n",
      " 1/27 [>.............................] - ETA: 0s - loss: 0.0071WARNING:tensorflow:Early stopping conditioned on metric `val_accuracy` which is not available. Available metrics are: loss,val_loss\n",
      "27/27 [==============================] - 0s 2ms/step - loss: 0.0087 - val_loss: 0.0093\n",
      "Epoch 10/100\n",
      " 1/27 [>.............................] - ETA: 0s - loss: 0.0110WARNING:tensorflow:Early stopping conditioned on metric `val_accuracy` which is not available. Available metrics are: loss,val_loss\n",
      "27/27 [==============================] - 0s 2ms/step - loss: 0.0086 - val_loss: 0.0092\n",
      "Epoch 11/100\n",
      " 1/27 [>.............................] - ETA: 0s - loss: 0.0036WARNING:tensorflow:Early stopping conditioned on metric `val_accuracy` which is not available. Available metrics are: loss,val_loss\n",
      "27/27 [==============================] - 0s 2ms/step - loss: 0.0085 - val_loss: 0.0091\n",
      "Epoch 12/100\n",
      " 1/27 [>.............................] - ETA: 0s - loss: 0.0078WARNING:tensorflow:Early stopping conditioned on metric `val_accuracy` which is not available. Available metrics are: loss,val_loss\n",
      "27/27 [==============================] - 0s 2ms/step - loss: 0.0084 - val_loss: 0.0090\n",
      "Epoch 13/100\n",
      " 1/27 [>.............................] - ETA: 0s - loss: 0.0042WARNING:tensorflow:Early stopping conditioned on metric `val_accuracy` which is not available. Available metrics are: loss,val_loss\n",
      "27/27 [==============================] - 0s 2ms/step - loss: 0.0083 - val_loss: 0.0089\n",
      "Epoch 14/100\n",
      " 1/27 [>.............................] - ETA: 0s - loss: 0.0071WARNING:tensorflow:Early stopping conditioned on metric `val_accuracy` which is not available. Available metrics are: loss,val_loss\n",
      "27/27 [==============================] - 0s 2ms/step - loss: 0.0082 - val_loss: 0.0088\n",
      "Epoch 15/100\n",
      " 1/27 [>.............................] - ETA: 0s - loss: 0.0115WARNING:tensorflow:Early stopping conditioned on metric `val_accuracy` which is not available. Available metrics are: loss,val_loss\n",
      "27/27 [==============================] - 0s 2ms/step - loss: 0.0081 - val_loss: 0.0086\n",
      "Epoch 16/100\n",
      " 1/27 [>.............................] - ETA: 0s - loss: 0.0134WARNING:tensorflow:Early stopping conditioned on metric `val_accuracy` which is not available. Available metrics are: loss,val_loss\n",
      "27/27 [==============================] - 0s 2ms/step - loss: 0.0080 - val_loss: 0.0086\n",
      "Epoch 17/100\n",
      " 1/27 [>.............................] - ETA: 0s - loss: 0.0030WARNING:tensorflow:Early stopping conditioned on metric `val_accuracy` which is not available. Available metrics are: loss,val_loss\n",
      "27/27 [==============================] - 0s 2ms/step - loss: 0.0079 - val_loss: 0.0085\n",
      "Epoch 18/100\n",
      " 1/27 [>.............................] - ETA: 0s - loss: 0.0164WARNING:tensorflow:Early stopping conditioned on metric `val_accuracy` which is not available. Available metrics are: loss,val_loss\n",
      "27/27 [==============================] - 0s 2ms/step - loss: 0.0079 - val_loss: 0.0084\n",
      "Epoch 19/100\n",
      " 1/27 [>.............................] - ETA: 0s - loss: 0.0056WARNING:tensorflow:Early stopping conditioned on metric `val_accuracy` which is not available. Available metrics are: loss,val_loss\n",
      "27/27 [==============================] - 0s 2ms/step - loss: 0.0077 - val_loss: 0.0083\n",
      "Epoch 20/100\n",
      " 1/27 [>.............................] - ETA: 0s - loss: 0.0057WARNING:tensorflow:Early stopping conditioned on metric `val_accuracy` which is not available. Available metrics are: loss,val_loss\n",
      "27/27 [==============================] - 0s 2ms/step - loss: 0.0077 - val_loss: 0.0082\n",
      "Epoch 21/100\n",
      " 1/27 [>.............................] - ETA: 0s - loss: 0.0103WARNING:tensorflow:Early stopping conditioned on metric `val_accuracy` which is not available. Available metrics are: loss,val_loss\n",
      "27/27 [==============================] - 0s 2ms/step - loss: 0.0076 - val_loss: 0.0081\n",
      "Epoch 22/100\n",
      " 1/27 [>.............................] - ETA: 0s - loss: 0.0059WARNING:tensorflow:Early stopping conditioned on metric `val_accuracy` which is not available. Available metrics are: loss,val_loss\n",
      "27/27 [==============================] - 0s 2ms/step - loss: 0.0075 - val_loss: 0.0080\n",
      "Epoch 23/100\n",
      " 1/27 [>.............................] - ETA: 0s - loss: 0.0066WARNING:tensorflow:Early stopping conditioned on metric `val_accuracy` which is not available. Available metrics are: loss,val_loss\n",
      "27/27 [==============================] - 0s 2ms/step - loss: 0.0074 - val_loss: 0.0079\n",
      "Epoch 24/100\n",
      " 1/27 [>.............................] - ETA: 0s - loss: 0.0033WARNING:tensorflow:Early stopping conditioned on metric `val_accuracy` which is not available. Available metrics are: loss,val_loss\n",
      "27/27 [==============================] - 0s 2ms/step - loss: 0.0073 - val_loss: 0.0078\n",
      "Epoch 25/100\n",
      " 1/27 [>.............................] - ETA: 0s - loss: 0.0022WARNING:tensorflow:Early stopping conditioned on metric `val_accuracy` which is not available. Available metrics are: loss,val_loss\n",
      "27/27 [==============================] - 0s 2ms/step - loss: 0.0072 - val_loss: 0.0077\n",
      "Epoch 26/100\n",
      " 1/27 [>.............................] - ETA: 0s - loss: 0.0103WARNING:tensorflow:Early stopping conditioned on metric `val_accuracy` which is not available. Available metrics are: loss,val_loss\n",
      "27/27 [==============================] - 0s 2ms/step - loss: 0.0071 - val_loss: 0.0076\n",
      "Epoch 27/100\n",
      " 1/27 [>.............................] - ETA: 0s - loss: 7.9533e-04WARNING:tensorflow:Early stopping conditioned on metric `val_accuracy` which is not available. Available metrics are: loss,val_loss\n",
      "27/27 [==============================] - 0s 2ms/step - loss: 0.0070 - val_loss: 0.0075\n",
      "Epoch 28/100\n",
      " 1/27 [>.............................] - ETA: 0s - loss: 0.0025WARNING:tensorflow:Early stopping conditioned on metric `val_accuracy` which is not available. Available metrics are: loss,val_loss\n",
      "27/27 [==============================] - 0s 2ms/step - loss: 0.0069 - val_loss: 0.0074\n"
     ]
    },
    {
     "name": "stdout",
     "output_type": "stream",
     "text": [
      "Epoch 29/100\n",
      " 1/27 [>.............................] - ETA: 0s - loss: 0.0033WARNING:tensorflow:Early stopping conditioned on metric `val_accuracy` which is not available. Available metrics are: loss,val_loss\n",
      "27/27 [==============================] - 0s 2ms/step - loss: 0.0069 - val_loss: 0.0073\n",
      "Epoch 30/100\n",
      " 1/27 [>.............................] - ETA: 0s - loss: 0.0073WARNING:tensorflow:Early stopping conditioned on metric `val_accuracy` which is not available. Available metrics are: loss,val_loss\n",
      "27/27 [==============================] - 0s 2ms/step - loss: 0.0068 - val_loss: 0.0072\n",
      "Epoch 31/100\n",
      " 1/27 [>.............................] - ETA: 0s - loss: 0.0087WARNING:tensorflow:Early stopping conditioned on metric `val_accuracy` which is not available. Available metrics are: loss,val_loss\n",
      "27/27 [==============================] - 0s 2ms/step - loss: 0.0067 - val_loss: 0.0071\n",
      "Epoch 32/100\n",
      " 1/27 [>.............................] - ETA: 0s - loss: 0.0064WARNING:tensorflow:Early stopping conditioned on metric `val_accuracy` which is not available. Available metrics are: loss,val_loss\n",
      "27/27 [==============================] - 0s 2ms/step - loss: 0.0066 - val_loss: 0.0070\n",
      "Epoch 33/100\n",
      " 1/27 [>.............................] - ETA: 0s - loss: 0.0132WARNING:tensorflow:Early stopping conditioned on metric `val_accuracy` which is not available. Available metrics are: loss,val_loss\n",
      "27/27 [==============================] - 0s 2ms/step - loss: 0.0065 - val_loss: 0.0069\n",
      "Epoch 34/100\n",
      " 1/27 [>.............................] - ETA: 0s - loss: 0.0028WARNING:tensorflow:Early stopping conditioned on metric `val_accuracy` which is not available. Available metrics are: loss,val_loss\n",
      "27/27 [==============================] - 0s 2ms/step - loss: 0.0064 - val_loss: 0.0069\n",
      "Epoch 35/100\n",
      " 1/27 [>.............................] - ETA: 0s - loss: 0.0059WARNING:tensorflow:Early stopping conditioned on metric `val_accuracy` which is not available. Available metrics are: loss,val_loss\n",
      "27/27 [==============================] - 0s 2ms/step - loss: 0.0064 - val_loss: 0.0068\n",
      "Epoch 36/100\n",
      " 1/27 [>.............................] - ETA: 0s - loss: 0.0032WARNING:tensorflow:Early stopping conditioned on metric `val_accuracy` which is not available. Available metrics are: loss,val_loss\n",
      "27/27 [==============================] - 0s 2ms/step - loss: 0.0063 - val_loss: 0.0067\n",
      "Epoch 37/100\n",
      " 1/27 [>.............................] - ETA: 0s - loss: 0.0082WARNING:tensorflow:Early stopping conditioned on metric `val_accuracy` which is not available. Available metrics are: loss,val_loss\n",
      "27/27 [==============================] - 0s 2ms/step - loss: 0.0062 - val_loss: 0.0066\n",
      "Epoch 38/100\n",
      " 1/27 [>.............................] - ETA: 0s - loss: 0.0067WARNING:tensorflow:Early stopping conditioned on metric `val_accuracy` which is not available. Available metrics are: loss,val_loss\n",
      "27/27 [==============================] - 0s 2ms/step - loss: 0.0061 - val_loss: 0.0065\n",
      "Epoch 39/100\n",
      " 1/27 [>.............................] - ETA: 0s - loss: 0.0057WARNING:tensorflow:Early stopping conditioned on metric `val_accuracy` which is not available. Available metrics are: loss,val_loss\n",
      "27/27 [==============================] - 0s 2ms/step - loss: 0.0061 - val_loss: 0.0064\n",
      "Epoch 40/100\n",
      " 1/27 [>.............................] - ETA: 0s - loss: 0.0027WARNING:tensorflow:Early stopping conditioned on metric `val_accuracy` which is not available. Available metrics are: loss,val_loss\n",
      "27/27 [==============================] - 0s 2ms/step - loss: 0.0060 - val_loss: 0.0063\n",
      "Epoch 41/100\n",
      " 1/27 [>.............................] - ETA: 0s - loss: 0.0105WARNING:tensorflow:Early stopping conditioned on metric `val_accuracy` which is not available. Available metrics are: loss,val_loss\n",
      "27/27 [==============================] - 0s 2ms/step - loss: 0.0059 - val_loss: 0.0062\n",
      "Epoch 42/100\n",
      " 1/27 [>.............................] - ETA: 0s - loss: 0.0041WARNING:tensorflow:Early stopping conditioned on metric `val_accuracy` which is not available. Available metrics are: loss,val_loss\n",
      "27/27 [==============================] - 0s 2ms/step - loss: 0.0059 - val_loss: 0.0062\n",
      "Epoch 43/100\n",
      " 1/27 [>.............................] - ETA: 0s - loss: 0.0062WARNING:tensorflow:Early stopping conditioned on metric `val_accuracy` which is not available. Available metrics are: loss,val_loss\n",
      "27/27 [==============================] - 0s 2ms/step - loss: 0.0058 - val_loss: 0.0061\n",
      "Epoch 44/100\n",
      " 1/27 [>.............................] - ETA: 0s - loss: 0.0130WARNING:tensorflow:Early stopping conditioned on metric `val_accuracy` which is not available. Available metrics are: loss,val_loss\n",
      "27/27 [==============================] - 0s 2ms/step - loss: 0.0057 - val_loss: 0.0060\n",
      "Epoch 45/100\n",
      " 1/27 [>.............................] - ETA: 0s - loss: 0.0030WARNING:tensorflow:Early stopping conditioned on metric `val_accuracy` which is not available. Available metrics are: loss,val_loss\n",
      "27/27 [==============================] - 0s 2ms/step - loss: 0.0057 - val_loss: 0.0059\n",
      "Epoch 46/100\n",
      " 1/27 [>.............................] - ETA: 0s - loss: 0.0055WARNING:tensorflow:Early stopping conditioned on metric `val_accuracy` which is not available. Available metrics are: loss,val_loss\n",
      "27/27 [==============================] - 0s 2ms/step - loss: 0.0056 - val_loss: 0.0059\n",
      "Epoch 47/100\n",
      " 1/27 [>.............................] - ETA: 0s - loss: 0.0087WARNING:tensorflow:Early stopping conditioned on metric `val_accuracy` which is not available. Available metrics are: loss,val_loss\n",
      "27/27 [==============================] - 0s 2ms/step - loss: 0.0056 - val_loss: 0.0058\n",
      "Epoch 48/100\n",
      " 1/27 [>.............................] - ETA: 0s - loss: 0.0012WARNING:tensorflow:Early stopping conditioned on metric `val_accuracy` which is not available. Available metrics are: loss,val_loss\n",
      "27/27 [==============================] - 0s 2ms/step - loss: 0.0056 - val_loss: 0.0058\n",
      "Epoch 49/100\n",
      " 1/27 [>.............................] - ETA: 0s - loss: 0.0053WARNING:tensorflow:Early stopping conditioned on metric `val_accuracy` which is not available. Available metrics are: loss,val_loss\n",
      "27/27 [==============================] - 0s 2ms/step - loss: 0.0054 - val_loss: 0.0057\n",
      "Epoch 50/100\n",
      " 1/27 [>.............................] - ETA: 0s - loss: 0.0024WARNING:tensorflow:Early stopping conditioned on metric `val_accuracy` which is not available. Available metrics are: loss,val_loss\n",
      "27/27 [==============================] - 0s 2ms/step - loss: 0.0054 - val_loss: 0.0056\n",
      "Epoch 51/100\n",
      " 1/27 [>.............................] - ETA: 0s - loss: 0.0041WARNING:tensorflow:Early stopping conditioned on metric `val_accuracy` which is not available. Available metrics are: loss,val_loss\n",
      "27/27 [==============================] - 0s 2ms/step - loss: 0.0054 - val_loss: 0.0056\n",
      "Epoch 52/100\n",
      " 1/27 [>.............................] - ETA: 0s - loss: 0.0143WARNING:tensorflow:Early stopping conditioned on metric `val_accuracy` which is not available. Available metrics are: loss,val_loss\n",
      "27/27 [==============================] - 0s 2ms/step - loss: 0.0053 - val_loss: 0.0056\n",
      "Epoch 53/100\n",
      " 1/27 [>.............................] - ETA: 0s - loss: 0.0039WARNING:tensorflow:Early stopping conditioned on metric `val_accuracy` which is not available. Available metrics are: loss,val_loss\n",
      "27/27 [==============================] - 0s 2ms/step - loss: 0.0053 - val_loss: 0.0055\n",
      "Epoch 54/100\n",
      " 1/27 [>.............................] - ETA: 0s - loss: 0.0075WARNING:tensorflow:Early stopping conditioned on metric `val_accuracy` which is not available. Available metrics are: loss,val_loss\n",
      "27/27 [==============================] - 0s 2ms/step - loss: 0.0053 - val_loss: 0.0055\n",
      "Epoch 55/100\n",
      " 1/27 [>.............................] - ETA: 0s - loss: 0.0021WARNING:tensorflow:Early stopping conditioned on metric `val_accuracy` which is not available. Available metrics are: loss,val_loss\n",
      "27/27 [==============================] - 0s 2ms/step - loss: 0.0052 - val_loss: 0.0054\n",
      "Epoch 56/100\n",
      " 1/27 [>.............................] - ETA: 0s - loss: 0.0031WARNING:tensorflow:Early stopping conditioned on metric `val_accuracy` which is not available. Available metrics are: loss,val_loss\n",
      "27/27 [==============================] - 0s 2ms/step - loss: 0.0052 - val_loss: 0.0054\n"
     ]
    },
    {
     "name": "stdout",
     "output_type": "stream",
     "text": [
      "Epoch 57/100\n",
      " 1/27 [>.............................] - ETA: 0s - loss: 0.0033WARNING:tensorflow:Early stopping conditioned on metric `val_accuracy` which is not available. Available metrics are: loss,val_loss\n",
      "27/27 [==============================] - 0s 2ms/step - loss: 0.0052 - val_loss: 0.0054\n",
      "Epoch 58/100\n",
      " 1/27 [>.............................] - ETA: 0s - loss: 0.0081WARNING:tensorflow:Early stopping conditioned on metric `val_accuracy` which is not available. Available metrics are: loss,val_loss\n",
      "27/27 [==============================] - 0s 3ms/step - loss: 0.0052 - val_loss: 0.0054\n",
      "Epoch 59/100\n",
      " 1/27 [>.............................] - ETA: 0s - loss: 0.0041WARNING:tensorflow:Early stopping conditioned on metric `val_accuracy` which is not available. Available metrics are: loss,val_loss\n",
      "27/27 [==============================] - 0s 3ms/step - loss: 0.0051 - val_loss: 0.0053\n",
      "Epoch 60/100\n",
      " 1/27 [>.............................] - ETA: 0s - loss: 0.0028WARNING:tensorflow:Early stopping conditioned on metric `val_accuracy` which is not available. Available metrics are: loss,val_loss\n",
      "27/27 [==============================] - 0s 3ms/step - loss: 0.0051 - val_loss: 0.0053\n",
      "Epoch 61/100\n",
      " 1/27 [>.............................] - ETA: 0s - loss: 0.0097WARNING:tensorflow:Early stopping conditioned on metric `val_accuracy` which is not available. Available metrics are: loss,val_loss\n",
      "27/27 [==============================] - 0s 3ms/step - loss: 0.0050 - val_loss: 0.0052\n",
      "Epoch 62/100\n",
      " 1/27 [>.............................] - ETA: 0s - loss: 0.0021WARNING:tensorflow:Early stopping conditioned on metric `val_accuracy` which is not available. Available metrics are: loss,val_loss\n",
      "27/27 [==============================] - 0s 2ms/step - loss: 0.0051 - val_loss: 0.0052\n",
      "Epoch 63/100\n",
      " 1/27 [>.............................] - ETA: 0s - loss: 0.0051WARNING:tensorflow:Early stopping conditioned on metric `val_accuracy` which is not available. Available metrics are: loss,val_loss\n",
      "27/27 [==============================] - 0s 3ms/step - loss: 0.0050 - val_loss: 0.0052\n",
      "Epoch 64/100\n",
      " 1/27 [>.............................] - ETA: 0s - loss: 0.0018WARNING:tensorflow:Early stopping conditioned on metric `val_accuracy` which is not available. Available metrics are: loss,val_loss\n",
      "27/27 [==============================] - 0s 2ms/step - loss: 0.0050 - val_loss: 0.0052\n",
      "Epoch 65/100\n",
      " 1/27 [>.............................] - ETA: 0s - loss: 0.0049WARNING:tensorflow:Early stopping conditioned on metric `val_accuracy` which is not available. Available metrics are: loss,val_loss\n",
      "27/27 [==============================] - 0s 2ms/step - loss: 0.0050 - val_loss: 0.0052\n",
      "Epoch 66/100\n",
      " 1/27 [>.............................] - ETA: 0s - loss: 0.0048WARNING:tensorflow:Early stopping conditioned on metric `val_accuracy` which is not available. Available metrics are: loss,val_loss\n",
      "27/27 [==============================] - 0s 2ms/step - loss: 0.0050 - val_loss: 0.0051\n",
      "Epoch 67/100\n",
      " 1/27 [>.............................] - ETA: 0s - loss: 0.0082WARNING:tensorflow:Early stopping conditioned on metric `val_accuracy` which is not available. Available metrics are: loss,val_loss\n",
      "27/27 [==============================] - 0s 2ms/step - loss: 0.0050 - val_loss: 0.0051\n",
      "Epoch 68/100\n",
      " 1/27 [>.............................] - ETA: 0s - loss: 0.0016WARNING:tensorflow:Early stopping conditioned on metric `val_accuracy` which is not available. Available metrics are: loss,val_loss\n",
      "27/27 [==============================] - 0s 3ms/step - loss: 0.0050 - val_loss: 0.0051\n",
      "Epoch 69/100\n",
      " 1/27 [>.............................] - ETA: 0s - loss: 0.0092WARNING:tensorflow:Early stopping conditioned on metric `val_accuracy` which is not available. Available metrics are: loss,val_loss\n",
      "27/27 [==============================] - 0s 2ms/step - loss: 0.0049 - val_loss: 0.0051\n",
      "Epoch 70/100\n",
      " 1/27 [>.............................] - ETA: 0s - loss: 0.0087WARNING:tensorflow:Early stopping conditioned on metric `val_accuracy` which is not available. Available metrics are: loss,val_loss\n",
      "27/27 [==============================] - 0s 2ms/step - loss: 0.0049 - val_loss: 0.0051\n",
      "Epoch 71/100\n",
      " 1/27 [>.............................] - ETA: 0s - loss: 0.0059WARNING:tensorflow:Early stopping conditioned on metric `val_accuracy` which is not available. Available metrics are: loss,val_loss\n",
      "27/27 [==============================] - 0s 2ms/step - loss: 0.0049 - val_loss: 0.0050\n",
      "Epoch 72/100\n",
      " 1/27 [>.............................] - ETA: 0s - loss: 0.0084WARNING:tensorflow:Early stopping conditioned on metric `val_accuracy` which is not available. Available metrics are: loss,val_loss\n",
      "27/27 [==============================] - 0s 2ms/step - loss: 0.0049 - val_loss: 0.0050\n",
      "Epoch 73/100\n",
      " 1/27 [>.............................] - ETA: 0s - loss: 0.0084WARNING:tensorflow:Early stopping conditioned on metric `val_accuracy` which is not available. Available metrics are: loss,val_loss\n",
      "27/27 [==============================] - 0s 2ms/step - loss: 0.0048 - val_loss: 0.0050\n",
      "Epoch 74/100\n",
      " 1/27 [>.............................] - ETA: 0s - loss: 0.0022WARNING:tensorflow:Early stopping conditioned on metric `val_accuracy` which is not available. Available metrics are: loss,val_loss\n",
      "27/27 [==============================] - 0s 2ms/step - loss: 0.0048 - val_loss: 0.0050\n",
      "Epoch 75/100\n",
      " 1/27 [>.............................] - ETA: 0s - loss: 0.0086WARNING:tensorflow:Early stopping conditioned on metric `val_accuracy` which is not available. Available metrics are: loss,val_loss\n",
      "27/27 [==============================] - 0s 2ms/step - loss: 0.0048 - val_loss: 0.0050\n",
      "Epoch 76/100\n",
      " 1/27 [>.............................] - ETA: 0s - loss: 0.0065WARNING:tensorflow:Early stopping conditioned on metric `val_accuracy` which is not available. Available metrics are: loss,val_loss\n",
      "27/27 [==============================] - 0s 3ms/step - loss: 0.0048 - val_loss: 0.0050\n",
      "Epoch 77/100\n",
      " 1/27 [>.............................] - ETA: 0s - loss: 0.0028WARNING:tensorflow:Early stopping conditioned on metric `val_accuracy` which is not available. Available metrics are: loss,val_loss\n",
      "27/27 [==============================] - 0s 3ms/step - loss: 0.0048 - val_loss: 0.0049\n",
      "Epoch 78/100\n",
      " 1/27 [>.............................] - ETA: 0s - loss: 0.0044WARNING:tensorflow:Early stopping conditioned on metric `val_accuracy` which is not available. Available metrics are: loss,val_loss\n",
      "27/27 [==============================] - 0s 2ms/step - loss: 0.0048 - val_loss: 0.0049\n",
      "Epoch 79/100\n",
      " 1/27 [>.............................] - ETA: 0s - loss: 0.0070WARNING:tensorflow:Early stopping conditioned on metric `val_accuracy` which is not available. Available metrics are: loss,val_loss\n",
      "27/27 [==============================] - 0s 2ms/step - loss: 0.0048 - val_loss: 0.0049\n",
      "Epoch 80/100\n",
      " 1/27 [>.............................] - ETA: 0s - loss: 0.0088WARNING:tensorflow:Early stopping conditioned on metric `val_accuracy` which is not available. Available metrics are: loss,val_loss\n",
      "27/27 [==============================] - 0s 2ms/step - loss: 0.0048 - val_loss: 0.0049\n",
      "Epoch 81/100\n",
      " 1/27 [>.............................] - ETA: 0s - loss: 0.0083WARNING:tensorflow:Early stopping conditioned on metric `val_accuracy` which is not available. Available metrics are: loss,val_loss\n",
      "27/27 [==============================] - 0s 2ms/step - loss: 0.0048 - val_loss: 0.0049\n",
      "Epoch 82/100\n",
      " 1/27 [>.............................] - ETA: 0s - loss: 0.0021WARNING:tensorflow:Early stopping conditioned on metric `val_accuracy` which is not available. Available metrics are: loss,val_loss\n",
      "27/27 [==============================] - 0s 2ms/step - loss: 0.0048 - val_loss: 0.0049\n",
      "Epoch 83/100\n",
      " 1/27 [>.............................] - ETA: 0s - loss: 0.0017WARNING:tensorflow:Early stopping conditioned on metric `val_accuracy` which is not available. Available metrics are: loss,val_loss\n",
      "27/27 [==============================] - 0s 2ms/step - loss: 0.0047 - val_loss: 0.0049\n",
      "Epoch 84/100\n",
      " 1/27 [>.............................] - ETA: 0s - loss: 0.0037WARNING:tensorflow:Early stopping conditioned on metric `val_accuracy` which is not available. Available metrics are: loss,val_loss\n",
      "27/27 [==============================] - 0s 3ms/step - loss: 0.0047 - val_loss: 0.0049\n"
     ]
    },
    {
     "name": "stdout",
     "output_type": "stream",
     "text": [
      "Epoch 85/100\n",
      " 1/27 [>.............................] - ETA: 0s - loss: 0.0067WARNING:tensorflow:Early stopping conditioned on metric `val_accuracy` which is not available. Available metrics are: loss,val_loss\n",
      "27/27 [==============================] - 0s 3ms/step - loss: 0.0047 - val_loss: 0.0048\n",
      "Epoch 86/100\n",
      " 1/27 [>.............................] - ETA: 0s - loss: 0.0076WARNING:tensorflow:Early stopping conditioned on metric `val_accuracy` which is not available. Available metrics are: loss,val_loss\n",
      "27/27 [==============================] - 0s 3ms/step - loss: 0.0047 - val_loss: 0.0048\n",
      "Epoch 87/100\n",
      " 1/27 [>.............................] - ETA: 0s - loss: 0.0062WARNING:tensorflow:Early stopping conditioned on metric `val_accuracy` which is not available. Available metrics are: loss,val_loss\n",
      "27/27 [==============================] - 0s 2ms/step - loss: 0.0047 - val_loss: 0.0048\n",
      "Epoch 88/100\n",
      " 1/27 [>.............................] - ETA: 0s - loss: 0.0086WARNING:tensorflow:Early stopping conditioned on metric `val_accuracy` which is not available. Available metrics are: loss,val_loss\n",
      "27/27 [==============================] - 0s 3ms/step - loss: 0.0047 - val_loss: 0.0048\n",
      "Epoch 89/100\n",
      " 1/27 [>.............................] - ETA: 0s - loss: 0.0056WARNING:tensorflow:Early stopping conditioned on metric `val_accuracy` which is not available. Available metrics are: loss,val_loss\n",
      "27/27 [==============================] - 0s 2ms/step - loss: 0.0047 - val_loss: 0.0048\n",
      "Epoch 90/100\n",
      " 1/27 [>.............................] - ETA: 0s - loss: 0.0037WARNING:tensorflow:Early stopping conditioned on metric `val_accuracy` which is not available. Available metrics are: loss,val_loss\n",
      "27/27 [==============================] - 0s 2ms/step - loss: 0.0047 - val_loss: 0.0048\n",
      "Epoch 91/100\n",
      " 1/27 [>.............................] - ETA: 0s - loss: 0.0053WARNING:tensorflow:Early stopping conditioned on metric `val_accuracy` which is not available. Available metrics are: loss,val_loss\n",
      "27/27 [==============================] - 0s 2ms/step - loss: 0.0047 - val_loss: 0.0048\n",
      "Epoch 92/100\n",
      " 1/27 [>.............................] - ETA: 0s - loss: 0.0028WARNING:tensorflow:Early stopping conditioned on metric `val_accuracy` which is not available. Available metrics are: loss,val_loss\n",
      "27/27 [==============================] - 0s 2ms/step - loss: 0.0047 - val_loss: 0.0048\n",
      "Epoch 93/100\n",
      " 1/27 [>.............................] - ETA: 0s - loss: 0.0095WARNING:tensorflow:Early stopping conditioned on metric `val_accuracy` which is not available. Available metrics are: loss,val_loss\n",
      "27/27 [==============================] - 0s 2ms/step - loss: 0.0047 - val_loss: 0.0048\n",
      "Epoch 94/100\n",
      " 1/27 [>.............................] - ETA: 0s - loss: 0.0026WARNING:tensorflow:Early stopping conditioned on metric `val_accuracy` which is not available. Available metrics are: loss,val_loss\n",
      "27/27 [==============================] - 0s 2ms/step - loss: 0.0046 - val_loss: 0.0047\n",
      "Epoch 95/100\n",
      " 1/27 [>.............................] - ETA: 0s - loss: 0.0020WARNING:tensorflow:Early stopping conditioned on metric `val_accuracy` which is not available. Available metrics are: loss,val_loss\n",
      "27/27 [==============================] - 0s 2ms/step - loss: 0.0046 - val_loss: 0.0047\n",
      "Epoch 96/100\n",
      " 1/27 [>.............................] - ETA: 0s - loss: 0.0024WARNING:tensorflow:Early stopping conditioned on metric `val_accuracy` which is not available. Available metrics are: loss,val_loss\n",
      "27/27 [==============================] - 0s 2ms/step - loss: 0.0047 - val_loss: 0.0047\n",
      "Epoch 97/100\n",
      " 1/27 [>.............................] - ETA: 0s - loss: 0.0031WARNING:tensorflow:Early stopping conditioned on metric `val_accuracy` which is not available. Available metrics are: loss,val_loss\n",
      "27/27 [==============================] - 0s 2ms/step - loss: 0.0046 - val_loss: 0.0047\n",
      "Epoch 98/100\n",
      " 1/27 [>.............................] - ETA: 0s - loss: 0.0027WARNING:tensorflow:Early stopping conditioned on metric `val_accuracy` which is not available. Available metrics are: loss,val_loss\n",
      "27/27 [==============================] - 0s 2ms/step - loss: 0.0046 - val_loss: 0.0047\n",
      "Epoch 99/100\n",
      " 1/27 [>.............................] - ETA: 0s - loss: 0.0093WARNING:tensorflow:Early stopping conditioned on metric `val_accuracy` which is not available. Available metrics are: loss,val_loss\n",
      "27/27 [==============================] - 0s 2ms/step - loss: 0.0046 - val_loss: 0.0047\n",
      "Epoch 100/100\n",
      " 1/27 [>.............................] - ETA: 0s - loss: 0.0084WARNING:tensorflow:Early stopping conditioned on metric `val_accuracy` which is not available. Available metrics are: loss,val_loss\n",
      "27/27 [==============================] - 0s 2ms/step - loss: 0.0046 - val_loss: 0.0047\n"
     ]
    },
    {
     "data": {
      "text/plain": [
       "<keras.callbacks.History at 0x1e0fb124cd0>"
      ]
     },
     "execution_count": 9,
     "metadata": {},
     "output_type": "execute_result"
    }
   ],
   "source": [
    "model.fit(x_train_s,y_train,validation_split=0.33,batch_size=10,callbacks=early_stop,epochs=100) "
   ]
  },
  {
   "cell_type": "code",
   "execution_count": 10,
   "id": "23bd8a4f",
   "metadata": {},
   "outputs": [
    {
     "name": "stdout",
     "output_type": "stream",
     "text": [
      "4/4 [==============================] - 0s 1000us/step\n"
     ]
    }
   ],
   "source": [
    "y_pred=model.predict(x_test_s)"
   ]
  },
  {
   "cell_type": "code",
   "execution_count": 11,
   "id": "8095bf60",
   "metadata": {},
   "outputs": [
    {
     "data": {
      "text/plain": [
       "0.8240477857820274"
      ]
     },
     "execution_count": 11,
     "metadata": {},
     "output_type": "execute_result"
    }
   ],
   "source": [
    "from sklearn.metrics import r2_score\n",
    "R2 = r2_score(y_test,y_pred)\n",
    "R2"
   ]
  },
  {
   "cell_type": "code",
   "execution_count": 12,
   "id": "296a3a24",
   "metadata": {},
   "outputs": [],
   "source": [
    "Adj_r2= 1-(1-R2)*(400-1)/(400-7-1)"
   ]
  },
  {
   "cell_type": "code",
   "execution_count": 13,
   "id": "f6a2fe86",
   "metadata": {},
   "outputs": [
    {
     "data": {
      "text/plain": [
       "0.8209057819567065"
      ]
     },
     "execution_count": 13,
     "metadata": {},
     "output_type": "execute_result"
    }
   ],
   "source": [
    "Adj_r2"
   ]
  },
  {
   "cell_type": "code",
   "execution_count": null,
   "id": "6372cbb2",
   "metadata": {},
   "outputs": [],
   "source": []
  },
  {
   "cell_type": "code",
   "execution_count": 14,
   "id": "dcc39523",
   "metadata": {},
   "outputs": [],
   "source": [
    "model_2 = keras.Sequential([\n",
    "    keras.layers.Dense(7, input_dim=7 ,activation='sigmoid'),\n",
    "#     keras.layers.Dropout(0.3),\n",
    "    keras.layers.Dense(4,activation='sigmoid'),\n",
    "#     keras.layers.Dropout(0.3),\n",
    "    keras.layers.Dense(1,activation='linear')\n",
    "])\n",
    "\n",
    "model_2.compile( optimizer='adam', loss=tf.keras.losses.MeanSquaredError())\n"
   ]
  },
  {
   "cell_type": "code",
   "execution_count": 15,
   "id": "b243cd36",
   "metadata": {
    "scrolled": true
   },
   "outputs": [
    {
     "name": "stdout",
     "output_type": "stream",
     "text": [
      "Epoch 1/100\n",
      " 1/27 [>.............................] - ETA: 9s - loss: 0.0382WARNING:tensorflow:Early stopping conditioned on metric `val_accuracy` which is not available. Available metrics are: loss,val_loss\n",
      "27/27 [==============================] - 1s 6ms/step - loss: 0.0206 - val_loss: 0.0196\n",
      "Epoch 2/100\n",
      " 1/27 [>.............................] - ETA: 0s - loss: 0.0210WARNING:tensorflow:Early stopping conditioned on metric `val_accuracy` which is not available. Available metrics are: loss,val_loss\n",
      "27/27 [==============================] - 0s 2ms/step - loss: 0.0186 - val_loss: 0.0179\n",
      "Epoch 3/100\n",
      " 1/27 [>.............................] - ETA: 0s - loss: 0.0113WARNING:tensorflow:Early stopping conditioned on metric `val_accuracy` which is not available. Available metrics are: loss,val_loss\n",
      "27/27 [==============================] - 0s 2ms/step - loss: 0.0171 - val_loss: 0.0166\n",
      "Epoch 4/100\n",
      " 1/27 [>.............................] - ETA: 0s - loss: 0.0070WARNING:tensorflow:Early stopping conditioned on metric `val_accuracy` which is not available. Available metrics are: loss,val_loss\n",
      "27/27 [==============================] - 0s 2ms/step - loss: 0.0159 - val_loss: 0.0155\n",
      "Epoch 5/100\n",
      " 1/27 [>.............................] - ETA: 0s - loss: 0.0166WARNING:tensorflow:Early stopping conditioned on metric `val_accuracy` which is not available. Available metrics are: loss,val_loss\n",
      "27/27 [==============================] - 0s 2ms/step - loss: 0.0151 - val_loss: 0.0146\n",
      "Epoch 6/100\n",
      " 1/27 [>.............................] - ETA: 0s - loss: 0.0144WARNING:tensorflow:Early stopping conditioned on metric `val_accuracy` which is not available. Available metrics are: loss,val_loss\n",
      "27/27 [==============================] - 0s 2ms/step - loss: 0.0141 - val_loss: 0.0138\n",
      "Epoch 7/100\n",
      " 1/27 [>.............................] - ETA: 0s - loss: 0.0085WARNING:tensorflow:Early stopping conditioned on metric `val_accuracy` which is not available. Available metrics are: loss,val_loss\n",
      "27/27 [==============================] - 0s 2ms/step - loss: 0.0133 - val_loss: 0.0130\n",
      "Epoch 8/100\n",
      " 1/27 [>.............................] - ETA: 0s - loss: 0.0089WARNING:tensorflow:Early stopping conditioned on metric `val_accuracy` which is not available. Available metrics are: loss,val_loss\n",
      "27/27 [==============================] - 0s 2ms/step - loss: 0.0124 - val_loss: 0.0124\n",
      "Epoch 9/100\n",
      " 1/27 [>.............................] - ETA: 0s - loss: 0.0119WARNING:tensorflow:Early stopping conditioned on metric `val_accuracy` which is not available. Available metrics are: loss,val_loss\n",
      "27/27 [==============================] - 0s 2ms/step - loss: 0.0118 - val_loss: 0.0117\n",
      "Epoch 10/100\n",
      " 1/27 [>.............................] - ETA: 0s - loss: 0.0167WARNING:tensorflow:Early stopping conditioned on metric `val_accuracy` which is not available. Available metrics are: loss,val_loss\n",
      "27/27 [==============================] - 0s 2ms/step - loss: 0.0112 - val_loss: 0.0111\n",
      "Epoch 11/100\n",
      " 1/27 [>.............................] - ETA: 0s - loss: 0.0081WARNING:tensorflow:Early stopping conditioned on metric `val_accuracy` which is not available. Available metrics are: loss,val_loss\n",
      "27/27 [==============================] - 0s 2ms/step - loss: 0.0107 - val_loss: 0.0106\n",
      "Epoch 12/100\n",
      " 1/27 [>.............................] - ETA: 0s - loss: 0.0069WARNING:tensorflow:Early stopping conditioned on metric `val_accuracy` which is not available. Available metrics are: loss,val_loss\n",
      "27/27 [==============================] - 0s 2ms/step - loss: 0.0101 - val_loss: 0.0101\n",
      "Epoch 13/100\n",
      " 1/27 [>.............................] - ETA: 0s - loss: 0.0116WARNING:tensorflow:Early stopping conditioned on metric `val_accuracy` which is not available. Available metrics are: loss,val_loss\n",
      "27/27 [==============================] - 0s 2ms/step - loss: 0.0096 - val_loss: 0.0096\n",
      "Epoch 14/100\n",
      " 1/27 [>.............................] - ETA: 0s - loss: 0.0090WARNING:tensorflow:Early stopping conditioned on metric `val_accuracy` which is not available. Available metrics are: loss,val_loss\n",
      "27/27 [==============================] - 0s 2ms/step - loss: 0.0092 - val_loss: 0.0092\n",
      "Epoch 15/100\n",
      " 1/27 [>.............................] - ETA: 0s - loss: 0.0059WARNING:tensorflow:Early stopping conditioned on metric `val_accuracy` which is not available. Available metrics are: loss,val_loss\n",
      "27/27 [==============================] - 0s 2ms/step - loss: 0.0089 - val_loss: 0.0088\n",
      "Epoch 16/100\n",
      " 1/27 [>.............................] - ETA: 0s - loss: 0.0127WARNING:tensorflow:Early stopping conditioned on metric `val_accuracy` which is not available. Available metrics are: loss,val_loss\n",
      "27/27 [==============================] - 0s 2ms/step - loss: 0.0085 - val_loss: 0.0085\n",
      "Epoch 17/100\n",
      " 1/27 [>.............................] - ETA: 0s - loss: 0.0029WARNING:tensorflow:Early stopping conditioned on metric `val_accuracy` which is not available. Available metrics are: loss,val_loss\n",
      "27/27 [==============================] - 0s 2ms/step - loss: 0.0081 - val_loss: 0.0080\n",
      "Epoch 18/100\n",
      " 1/27 [>.............................] - ETA: 0s - loss: 0.0194WARNING:tensorflow:Early stopping conditioned on metric `val_accuracy` which is not available. Available metrics are: loss,val_loss\n",
      "27/27 [==============================] - 0s 2ms/step - loss: 0.0077 - val_loss: 0.0079\n",
      "Epoch 19/100\n",
      " 1/27 [>.............................] - ETA: 0s - loss: 0.0062WARNING:tensorflow:Early stopping conditioned on metric `val_accuracy` which is not available. Available metrics are: loss,val_loss\n",
      "27/27 [==============================] - 0s 2ms/step - loss: 0.0075 - val_loss: 0.0074\n",
      "Epoch 20/100\n",
      " 1/27 [>.............................] - ETA: 0s - loss: 0.0025WARNING:tensorflow:Early stopping conditioned on metric `val_accuracy` which is not available. Available metrics are: loss,val_loss\n",
      "27/27 [==============================] - 0s 2ms/step - loss: 0.0071 - val_loss: 0.0071\n",
      "Epoch 21/100\n",
      " 1/27 [>.............................] - ETA: 0s - loss: 0.0081WARNING:tensorflow:Early stopping conditioned on metric `val_accuracy` which is not available. Available metrics are: loss,val_loss\n",
      "27/27 [==============================] - 0s 2ms/step - loss: 0.0069 - val_loss: 0.0069\n",
      "Epoch 22/100\n",
      " 1/27 [>.............................] - ETA: 0s - loss: 0.0025WARNING:tensorflow:Early stopping conditioned on metric `val_accuracy` which is not available. Available metrics are: loss,val_loss\n",
      "27/27 [==============================] - 0s 2ms/step - loss: 0.0067 - val_loss: 0.0066\n",
      "Epoch 23/100\n",
      " 1/27 [>.............................] - ETA: 0s - loss: 0.0041WARNING:tensorflow:Early stopping conditioned on metric `val_accuracy` which is not available. Available metrics are: loss,val_loss\n",
      "27/27 [==============================] - 0s 2ms/step - loss: 0.0064 - val_loss: 0.0065\n",
      "Epoch 24/100\n",
      " 1/27 [>.............................] - ETA: 0s - loss: 0.0098WARNING:tensorflow:Early stopping conditioned on metric `val_accuracy` which is not available. Available metrics are: loss,val_loss\n",
      "27/27 [==============================] - 0s 2ms/step - loss: 0.0062 - val_loss: 0.0063\n",
      "Epoch 25/100\n",
      " 1/27 [>.............................] - ETA: 0s - loss: 0.0021WARNING:tensorflow:Early stopping conditioned on metric `val_accuracy` which is not available. Available metrics are: loss,val_loss\n",
      "27/27 [==============================] - 0s 2ms/step - loss: 0.0061 - val_loss: 0.0061\n",
      "Epoch 26/100\n",
      " 1/27 [>.............................] - ETA: 0s - loss: 0.0029WARNING:tensorflow:Early stopping conditioned on metric `val_accuracy` which is not available. Available metrics are: loss,val_loss\n",
      "27/27 [==============================] - 0s 2ms/step - loss: 0.0059 - val_loss: 0.0059\n",
      "Epoch 27/100\n",
      " 1/27 [>.............................] - ETA: 0s - loss: 0.0100WARNING:tensorflow:Early stopping conditioned on metric `val_accuracy` which is not available. Available metrics are: loss,val_loss\n",
      "27/27 [==============================] - 0s 2ms/step - loss: 0.0058 - val_loss: 0.0058\n",
      "Epoch 28/100\n",
      " 1/27 [>.............................] - ETA: 0s - loss: 0.0047WARNING:tensorflow:Early stopping conditioned on metric `val_accuracy` which is not available. Available metrics are: loss,val_loss\n",
      "27/27 [==============================] - 0s 2ms/step - loss: 0.0057 - val_loss: 0.0057\n"
     ]
    },
    {
     "name": "stdout",
     "output_type": "stream",
     "text": [
      "Epoch 29/100\n",
      " 1/27 [>.............................] - ETA: 0s - loss: 0.0072WARNING:tensorflow:Early stopping conditioned on metric `val_accuracy` which is not available. Available metrics are: loss,val_loss\n",
      "27/27 [==============================] - 0s 2ms/step - loss: 0.0056 - val_loss: 0.0056\n",
      "Epoch 30/100\n",
      " 1/27 [>.............................] - ETA: 0s - loss: 0.0051WARNING:tensorflow:Early stopping conditioned on metric `val_accuracy` which is not available. Available metrics are: loss,val_loss\n",
      "27/27 [==============================] - 0s 2ms/step - loss: 0.0055 - val_loss: 0.0054\n",
      "Epoch 31/100\n",
      " 1/27 [>.............................] - ETA: 0s - loss: 0.0023WARNING:tensorflow:Early stopping conditioned on metric `val_accuracy` which is not available. Available metrics are: loss,val_loss\n",
      "27/27 [==============================] - 0s 2ms/step - loss: 0.0055 - val_loss: 0.0055\n",
      "Epoch 32/100\n",
      " 1/27 [>.............................] - ETA: 0s - loss: 0.0015WARNING:tensorflow:Early stopping conditioned on metric `val_accuracy` which is not available. Available metrics are: loss,val_loss\n",
      "27/27 [==============================] - 0s 2ms/step - loss: 0.0053 - val_loss: 0.0053\n",
      "Epoch 33/100\n",
      " 1/27 [>.............................] - ETA: 0s - loss: 0.0034WARNING:tensorflow:Early stopping conditioned on metric `val_accuracy` which is not available. Available metrics are: loss,val_loss\n",
      "27/27 [==============================] - 0s 2ms/step - loss: 0.0053 - val_loss: 0.0052\n",
      "Epoch 34/100\n",
      " 1/27 [>.............................] - ETA: 0s - loss: 0.0044WARNING:tensorflow:Early stopping conditioned on metric `val_accuracy` which is not available. Available metrics are: loss,val_loss\n",
      "27/27 [==============================] - 0s 2ms/step - loss: 0.0052 - val_loss: 0.0051\n",
      "Epoch 35/100\n",
      " 1/27 [>.............................] - ETA: 0s - loss: 0.0095WARNING:tensorflow:Early stopping conditioned on metric `val_accuracy` which is not available. Available metrics are: loss,val_loss\n",
      "27/27 [==============================] - 0s 2ms/step - loss: 0.0051 - val_loss: 0.0053\n",
      "Epoch 36/100\n",
      " 1/27 [>.............................] - ETA: 0s - loss: 0.0022WARNING:tensorflow:Early stopping conditioned on metric `val_accuracy` which is not available. Available metrics are: loss,val_loss\n",
      "27/27 [==============================] - 0s 2ms/step - loss: 0.0052 - val_loss: 0.0050\n",
      "Epoch 37/100\n",
      " 1/27 [>.............................] - ETA: 0s - loss: 0.0044WARNING:tensorflow:Early stopping conditioned on metric `val_accuracy` which is not available. Available metrics are: loss,val_loss\n",
      "27/27 [==============================] - 0s 2ms/step - loss: 0.0050 - val_loss: 0.0049\n",
      "Epoch 38/100\n",
      " 1/27 [>.............................] - ETA: 0s - loss: 0.0074WARNING:tensorflow:Early stopping conditioned on metric `val_accuracy` which is not available. Available metrics are: loss,val_loss\n",
      "27/27 [==============================] - 0s 2ms/step - loss: 0.0050 - val_loss: 0.0049\n",
      "Epoch 39/100\n",
      " 1/27 [>.............................] - ETA: 0s - loss: 0.0090WARNING:tensorflow:Early stopping conditioned on metric `val_accuracy` which is not available. Available metrics are: loss,val_loss\n",
      "27/27 [==============================] - 0s 2ms/step - loss: 0.0049 - val_loss: 0.0049\n",
      "Epoch 40/100\n",
      " 1/27 [>.............................] - ETA: 0s - loss: 0.0043WARNING:tensorflow:Early stopping conditioned on metric `val_accuracy` which is not available. Available metrics are: loss,val_loss\n",
      "27/27 [==============================] - 0s 2ms/step - loss: 0.0050 - val_loss: 0.0048\n",
      "Epoch 41/100\n",
      " 1/27 [>.............................] - ETA: 0s - loss: 0.0030WARNING:tensorflow:Early stopping conditioned on metric `val_accuracy` which is not available. Available metrics are: loss,val_loss\n",
      "27/27 [==============================] - 0s 2ms/step - loss: 0.0049 - val_loss: 0.0047\n",
      "Epoch 42/100\n",
      " 1/27 [>.............................] - ETA: 0s - loss: 0.0030WARNING:tensorflow:Early stopping conditioned on metric `val_accuracy` which is not available. Available metrics are: loss,val_loss\n",
      "27/27 [==============================] - 0s 2ms/step - loss: 0.0048 - val_loss: 0.0047\n",
      "Epoch 43/100\n",
      " 1/27 [>.............................] - ETA: 0s - loss: 0.0041WARNING:tensorflow:Early stopping conditioned on metric `val_accuracy` which is not available. Available metrics are: loss,val_loss\n",
      "27/27 [==============================] - 0s 2ms/step - loss: 0.0048 - val_loss: 0.0047\n",
      "Epoch 44/100\n",
      " 1/27 [>.............................] - ETA: 0s - loss: 0.0103WARNING:tensorflow:Early stopping conditioned on metric `val_accuracy` which is not available. Available metrics are: loss,val_loss\n",
      "27/27 [==============================] - 0s 2ms/step - loss: 0.0047 - val_loss: 0.0046\n",
      "Epoch 45/100\n",
      " 1/27 [>.............................] - ETA: 0s - loss: 0.0019WARNING:tensorflow:Early stopping conditioned on metric `val_accuracy` which is not available. Available metrics are: loss,val_loss\n",
      "27/27 [==============================] - 0s 2ms/step - loss: 0.0047 - val_loss: 0.0046\n",
      "Epoch 46/100\n",
      " 1/27 [>.............................] - ETA: 0s - loss: 0.0030WARNING:tensorflow:Early stopping conditioned on metric `val_accuracy` which is not available. Available metrics are: loss,val_loss\n",
      "27/27 [==============================] - 0s 2ms/step - loss: 0.0047 - val_loss: 0.0045\n",
      "Epoch 47/100\n",
      " 1/27 [>.............................] - ETA: 0s - loss: 0.0069WARNING:tensorflow:Early stopping conditioned on metric `val_accuracy` which is not available. Available metrics are: loss,val_loss\n",
      "27/27 [==============================] - 0s 2ms/step - loss: 0.0046 - val_loss: 0.0045\n",
      "Epoch 48/100\n",
      " 1/27 [>.............................] - ETA: 0s - loss: 0.0087WARNING:tensorflow:Early stopping conditioned on metric `val_accuracy` which is not available. Available metrics are: loss,val_loss\n",
      "27/27 [==============================] - 0s 2ms/step - loss: 0.0046 - val_loss: 0.0046\n",
      "Epoch 49/100\n",
      " 1/27 [>.............................] - ETA: 0s - loss: 0.0041WARNING:tensorflow:Early stopping conditioned on metric `val_accuracy` which is not available. Available metrics are: loss,val_loss\n",
      "27/27 [==============================] - 0s 2ms/step - loss: 0.0046 - val_loss: 0.0044\n",
      "Epoch 50/100\n",
      " 1/27 [>.............................] - ETA: 0s - loss: 0.0050WARNING:tensorflow:Early stopping conditioned on metric `val_accuracy` which is not available. Available metrics are: loss,val_loss\n",
      "27/27 [==============================] - 0s 2ms/step - loss: 0.0046 - val_loss: 0.0044\n",
      "Epoch 51/100\n",
      " 1/27 [>.............................] - ETA: 0s - loss: 0.0025WARNING:tensorflow:Early stopping conditioned on metric `val_accuracy` which is not available. Available metrics are: loss,val_loss\n",
      "27/27 [==============================] - 0s 2ms/step - loss: 0.0046 - val_loss: 0.0044\n",
      "Epoch 52/100\n",
      " 1/27 [>.............................] - ETA: 0s - loss: 0.0023WARNING:tensorflow:Early stopping conditioned on metric `val_accuracy` which is not available. Available metrics are: loss,val_loss\n",
      "27/27 [==============================] - 0s 2ms/step - loss: 0.0045 - val_loss: 0.0044\n",
      "Epoch 53/100\n",
      " 1/27 [>.............................] - ETA: 0s - loss: 0.0041WARNING:tensorflow:Early stopping conditioned on metric `val_accuracy` which is not available. Available metrics are: loss,val_loss\n",
      "27/27 [==============================] - 0s 3ms/step - loss: 0.0046 - val_loss: 0.0044\n",
      "Epoch 54/100\n",
      " 1/27 [>.............................] - ETA: 0s - loss: 0.0027WARNING:tensorflow:Early stopping conditioned on metric `val_accuracy` which is not available. Available metrics are: loss,val_loss\n",
      "27/27 [==============================] - 0s 2ms/step - loss: 0.0045 - val_loss: 0.0045\n",
      "Epoch 55/100\n",
      " 1/27 [>.............................] - ETA: 0s - loss: 0.0085WARNING:tensorflow:Early stopping conditioned on metric `val_accuracy` which is not available. Available metrics are: loss,val_loss\n",
      "27/27 [==============================] - 0s 2ms/step - loss: 0.0045 - val_loss: 0.0043\n",
      "Epoch 56/100\n",
      " 1/27 [>.............................] - ETA: 0s - loss: 0.0034WARNING:tensorflow:Early stopping conditioned on metric `val_accuracy` which is not available. Available metrics are: loss,val_loss\n",
      "27/27 [==============================] - 0s 2ms/step - loss: 0.0046 - val_loss: 0.0043\n"
     ]
    },
    {
     "name": "stdout",
     "output_type": "stream",
     "text": [
      "Epoch 57/100\n",
      " 1/27 [>.............................] - ETA: 0s - loss: 0.0068WARNING:tensorflow:Early stopping conditioned on metric `val_accuracy` which is not available. Available metrics are: loss,val_loss\n",
      "27/27 [==============================] - 0s 2ms/step - loss: 0.0045 - val_loss: 0.0042\n",
      "Epoch 58/100\n",
      " 1/27 [>.............................] - ETA: 0s - loss: 0.0036WARNING:tensorflow:Early stopping conditioned on metric `val_accuracy` which is not available. Available metrics are: loss,val_loss\n",
      "27/27 [==============================] - 0s 2ms/step - loss: 0.0044 - val_loss: 0.0043\n",
      "Epoch 59/100\n",
      " 1/27 [>.............................] - ETA: 0s - loss: 0.0034WARNING:tensorflow:Early stopping conditioned on metric `val_accuracy` which is not available. Available metrics are: loss,val_loss\n",
      "27/27 [==============================] - 0s 2ms/step - loss: 0.0044 - val_loss: 0.0042\n",
      "Epoch 60/100\n",
      " 1/27 [>.............................] - ETA: 0s - loss: 0.0050WARNING:tensorflow:Early stopping conditioned on metric `val_accuracy` which is not available. Available metrics are: loss,val_loss\n",
      "27/27 [==============================] - 0s 2ms/step - loss: 0.0044 - val_loss: 0.0042\n",
      "Epoch 61/100\n",
      " 1/27 [>.............................] - ETA: 0s - loss: 0.0027WARNING:tensorflow:Early stopping conditioned on metric `val_accuracy` which is not available. Available metrics are: loss,val_loss\n",
      "27/27 [==============================] - 0s 2ms/step - loss: 0.0044 - val_loss: 0.0042\n",
      "Epoch 62/100\n",
      " 1/27 [>.............................] - ETA: 0s - loss: 0.0016WARNING:tensorflow:Early stopping conditioned on metric `val_accuracy` which is not available. Available metrics are: loss,val_loss\n",
      "27/27 [==============================] - 0s 2ms/step - loss: 0.0044 - val_loss: 0.0042\n",
      "Epoch 63/100\n",
      " 1/27 [>.............................] - ETA: 0s - loss: 0.0015WARNING:tensorflow:Early stopping conditioned on metric `val_accuracy` which is not available. Available metrics are: loss,val_loss\n",
      "27/27 [==============================] - 0s 2ms/step - loss: 0.0044 - val_loss: 0.0042\n",
      "Epoch 64/100\n",
      " 1/27 [>.............................] - ETA: 0s - loss: 0.0027WARNING:tensorflow:Early stopping conditioned on metric `val_accuracy` which is not available. Available metrics are: loss,val_loss\n",
      "27/27 [==============================] - 0s 2ms/step - loss: 0.0043 - val_loss: 0.0042\n",
      "Epoch 65/100\n",
      " 1/27 [>.............................] - ETA: 0s - loss: 0.0031WARNING:tensorflow:Early stopping conditioned on metric `val_accuracy` which is not available. Available metrics are: loss,val_loss\n",
      "27/27 [==============================] - 0s 2ms/step - loss: 0.0043 - val_loss: 0.0042\n",
      "Epoch 66/100\n",
      " 1/27 [>.............................] - ETA: 0s - loss: 0.0058WARNING:tensorflow:Early stopping conditioned on metric `val_accuracy` which is not available. Available metrics are: loss,val_loss\n",
      "27/27 [==============================] - 0s 2ms/step - loss: 0.0043 - val_loss: 0.0041\n",
      "Epoch 67/100\n",
      " 1/27 [>.............................] - ETA: 0s - loss: 0.0086WARNING:tensorflow:Early stopping conditioned on metric `val_accuracy` which is not available. Available metrics are: loss,val_loss\n",
      "27/27 [==============================] - 0s 2ms/step - loss: 0.0043 - val_loss: 0.0041\n",
      "Epoch 68/100\n",
      " 1/27 [>.............................] - ETA: 0s - loss: 0.0073WARNING:tensorflow:Early stopping conditioned on metric `val_accuracy` which is not available. Available metrics are: loss,val_loss\n",
      "27/27 [==============================] - 0s 2ms/step - loss: 0.0043 - val_loss: 0.0041\n",
      "Epoch 69/100\n",
      " 1/27 [>.............................] - ETA: 0s - loss: 0.0071WARNING:tensorflow:Early stopping conditioned on metric `val_accuracy` which is not available. Available metrics are: loss,val_loss\n",
      "27/27 [==============================] - 0s 2ms/step - loss: 0.0043 - val_loss: 0.0041\n",
      "Epoch 70/100\n",
      " 1/27 [>.............................] - ETA: 0s - loss: 0.0038WARNING:tensorflow:Early stopping conditioned on metric `val_accuracy` which is not available. Available metrics are: loss,val_loss\n",
      "27/27 [==============================] - 0s 2ms/step - loss: 0.0043 - val_loss: 0.0041\n",
      "Epoch 71/100\n",
      " 1/27 [>.............................] - ETA: 0s - loss: 0.0041WARNING:tensorflow:Early stopping conditioned on metric `val_accuracy` which is not available. Available metrics are: loss,val_loss\n",
      "27/27 [==============================] - 0s 2ms/step - loss: 0.0043 - val_loss: 0.0041\n",
      "Epoch 72/100\n",
      " 1/27 [>.............................] - ETA: 0s - loss: 3.8849e-04WARNING:tensorflow:Early stopping conditioned on metric `val_accuracy` which is not available. Available metrics are: loss,val_loss\n",
      "27/27 [==============================] - 0s 2ms/step - loss: 0.0042 - val_loss: 0.0041\n",
      "Epoch 73/100\n",
      " 1/27 [>.............................] - ETA: 0s - loss: 0.0022WARNING:tensorflow:Early stopping conditioned on metric `val_accuracy` which is not available. Available metrics are: loss,val_loss\n",
      "27/27 [==============================] - 0s 2ms/step - loss: 0.0042 - val_loss: 0.0043\n",
      "Epoch 74/100\n",
      " 1/27 [>.............................] - ETA: 0s - loss: 0.0022WARNING:tensorflow:Early stopping conditioned on metric `val_accuracy` which is not available. Available metrics are: loss,val_loss\n",
      "27/27 [==============================] - 0s 2ms/step - loss: 0.0043 - val_loss: 0.0040\n",
      "Epoch 75/100\n",
      " 1/27 [>.............................] - ETA: 0s - loss: 0.0037WARNING:tensorflow:Early stopping conditioned on metric `val_accuracy` which is not available. Available metrics are: loss,val_loss\n",
      "27/27 [==============================] - 0s 2ms/step - loss: 0.0043 - val_loss: 0.0041\n",
      "Epoch 76/100\n",
      " 1/27 [>.............................] - ETA: 0s - loss: 0.0014WARNING:tensorflow:Early stopping conditioned on metric `val_accuracy` which is not available. Available metrics are: loss,val_loss\n",
      "27/27 [==============================] - 0s 2ms/step - loss: 0.0042 - val_loss: 0.0040\n",
      "Epoch 77/100\n",
      " 1/27 [>.............................] - ETA: 0s - loss: 0.0039WARNING:tensorflow:Early stopping conditioned on metric `val_accuracy` which is not available. Available metrics are: loss,val_loss\n",
      "27/27 [==============================] - 0s 2ms/step - loss: 0.0043 - val_loss: 0.0040\n",
      "Epoch 78/100\n",
      " 1/27 [>.............................] - ETA: 0s - loss: 0.0038WARNING:tensorflow:Early stopping conditioned on metric `val_accuracy` which is not available. Available metrics are: loss,val_loss\n",
      "27/27 [==============================] - 0s 2ms/step - loss: 0.0042 - val_loss: 0.0040\n",
      "Epoch 79/100\n",
      " 1/27 [>.............................] - ETA: 0s - loss: 0.0014WARNING:tensorflow:Early stopping conditioned on metric `val_accuracy` which is not available. Available metrics are: loss,val_loss\n",
      "27/27 [==============================] - 0s 2ms/step - loss: 0.0042 - val_loss: 0.0040\n",
      "Epoch 80/100\n",
      " 1/27 [>.............................] - ETA: 0s - loss: 0.0080WARNING:tensorflow:Early stopping conditioned on metric `val_accuracy` which is not available. Available metrics are: loss,val_loss\n",
      "27/27 [==============================] - 0s 2ms/step - loss: 0.0042 - val_loss: 0.0040\n",
      "Epoch 81/100\n",
      " 1/27 [>.............................] - ETA: 0s - loss: 0.0042WARNING:tensorflow:Early stopping conditioned on metric `val_accuracy` which is not available. Available metrics are: loss,val_loss\n",
      "27/27 [==============================] - 0s 2ms/step - loss: 0.0042 - val_loss: 0.0040\n",
      "Epoch 82/100\n",
      " 1/27 [>.............................] - ETA: 0s - loss: 0.0035WARNING:tensorflow:Early stopping conditioned on metric `val_accuracy` which is not available. Available metrics are: loss,val_loss\n",
      "27/27 [==============================] - 0s 2ms/step - loss: 0.0043 - val_loss: 0.0041\n",
      "Epoch 83/100\n",
      " 1/27 [>.............................] - ETA: 0s - loss: 0.0024WARNING:tensorflow:Early stopping conditioned on metric `val_accuracy` which is not available. Available metrics are: loss,val_loss\n",
      "27/27 [==============================] - 0s 2ms/step - loss: 0.0042 - val_loss: 0.0040\n",
      "Epoch 84/100\n",
      " 1/27 [>.............................] - ETA: 0s - loss: 0.0046WARNING:tensorflow:Early stopping conditioned on metric `val_accuracy` which is not available. Available metrics are: loss,val_loss\n",
      "27/27 [==============================] - 0s 2ms/step - loss: 0.0042 - val_loss: 0.0041\n"
     ]
    },
    {
     "name": "stdout",
     "output_type": "stream",
     "text": [
      "Epoch 85/100\n",
      " 1/27 [>.............................] - ETA: 0s - loss: 0.0052WARNING:tensorflow:Early stopping conditioned on metric `val_accuracy` which is not available. Available metrics are: loss,val_loss\n",
      "27/27 [==============================] - 0s 2ms/step - loss: 0.0042 - val_loss: 0.0040\n",
      "Epoch 86/100\n",
      " 1/27 [>.............................] - ETA: 0s - loss: 0.0025WARNING:tensorflow:Early stopping conditioned on metric `val_accuracy` which is not available. Available metrics are: loss,val_loss\n",
      "27/27 [==============================] - 0s 2ms/step - loss: 0.0042 - val_loss: 0.0041\n",
      "Epoch 87/100\n",
      " 1/27 [>.............................] - ETA: 0s - loss: 0.0023WARNING:tensorflow:Early stopping conditioned on metric `val_accuracy` which is not available. Available metrics are: loss,val_loss\n",
      "27/27 [==============================] - 0s 2ms/step - loss: 0.0042 - val_loss: 0.0041\n",
      "Epoch 88/100\n",
      " 1/27 [>.............................] - ETA: 0s - loss: 0.0022WARNING:tensorflow:Early stopping conditioned on metric `val_accuracy` which is not available. Available metrics are: loss,val_loss\n",
      "27/27 [==============================] - 0s 2ms/step - loss: 0.0042 - val_loss: 0.0040\n",
      "Epoch 89/100\n",
      " 1/27 [>.............................] - ETA: 0s - loss: 0.0039WARNING:tensorflow:Early stopping conditioned on metric `val_accuracy` which is not available. Available metrics are: loss,val_loss\n",
      "27/27 [==============================] - 0s 2ms/step - loss: 0.0042 - val_loss: 0.0040\n",
      "Epoch 90/100\n",
      " 1/27 [>.............................] - ETA: 0s - loss: 0.0026WARNING:tensorflow:Early stopping conditioned on metric `val_accuracy` which is not available. Available metrics are: loss,val_loss\n",
      "27/27 [==============================] - 0s 2ms/step - loss: 0.0041 - val_loss: 0.0041\n",
      "Epoch 91/100\n",
      " 1/27 [>.............................] - ETA: 0s - loss: 0.0026WARNING:tensorflow:Early stopping conditioned on metric `val_accuracy` which is not available. Available metrics are: loss,val_loss\n",
      "27/27 [==============================] - 0s 2ms/step - loss: 0.0042 - val_loss: 0.0039\n",
      "Epoch 92/100\n",
      " 1/27 [>.............................] - ETA: 0s - loss: 0.0077WARNING:tensorflow:Early stopping conditioned on metric `val_accuracy` which is not available. Available metrics are: loss,val_loss\n",
      "27/27 [==============================] - 0s 2ms/step - loss: 0.0041 - val_loss: 0.0040\n",
      "Epoch 93/100\n",
      " 1/27 [>.............................] - ETA: 0s - loss: 0.0019WARNING:tensorflow:Early stopping conditioned on metric `val_accuracy` which is not available. Available metrics are: loss,val_loss\n",
      "27/27 [==============================] - 0s 2ms/step - loss: 0.0041 - val_loss: 0.0043\n",
      "Epoch 94/100\n",
      " 1/27 [>.............................] - ETA: 0s - loss: 0.0104WARNING:tensorflow:Early stopping conditioned on metric `val_accuracy` which is not available. Available metrics are: loss,val_loss\n",
      "27/27 [==============================] - 0s 2ms/step - loss: 0.0041 - val_loss: 0.0040\n",
      "Epoch 95/100\n",
      " 1/27 [>.............................] - ETA: 0s - loss: 0.0021WARNING:tensorflow:Early stopping conditioned on metric `val_accuracy` which is not available. Available metrics are: loss,val_loss\n",
      "27/27 [==============================] - 0s 2ms/step - loss: 0.0043 - val_loss: 0.0039\n",
      "Epoch 96/100\n",
      " 1/27 [>.............................] - ETA: 0s - loss: 0.0043WARNING:tensorflow:Early stopping conditioned on metric `val_accuracy` which is not available. Available metrics are: loss,val_loss\n",
      "27/27 [==============================] - 0s 2ms/step - loss: 0.0041 - val_loss: 0.0039\n",
      "Epoch 97/100\n",
      " 1/27 [>.............................] - ETA: 0s - loss: 8.1595e-04WARNING:tensorflow:Early stopping conditioned on metric `val_accuracy` which is not available. Available metrics are: loss,val_loss\n",
      "27/27 [==============================] - 0s 2ms/step - loss: 0.0041 - val_loss: 0.0040\n",
      "Epoch 98/100\n",
      " 1/27 [>.............................] - ETA: 0s - loss: 0.0030WARNING:tensorflow:Early stopping conditioned on metric `val_accuracy` which is not available. Available metrics are: loss,val_loss\n",
      "27/27 [==============================] - 0s 2ms/step - loss: 0.0041 - val_loss: 0.0040\n",
      "Epoch 99/100\n",
      " 1/27 [>.............................] - ETA: 0s - loss: 0.0011WARNING:tensorflow:Early stopping conditioned on metric `val_accuracy` which is not available. Available metrics are: loss,val_loss\n",
      "27/27 [==============================] - 0s 2ms/step - loss: 0.0042 - val_loss: 0.0040\n",
      "Epoch 100/100\n",
      " 1/27 [>.............................] - ETA: 0s - loss: 0.0014WARNING:tensorflow:Early stopping conditioned on metric `val_accuracy` which is not available. Available metrics are: loss,val_loss\n",
      "27/27 [==============================] - 0s 2ms/step - loss: 0.0041 - val_loss: 0.0039\n"
     ]
    },
    {
     "data": {
      "text/plain": [
       "<keras.callbacks.History at 0x1e0fc6ffee0>"
      ]
     },
     "execution_count": 15,
     "metadata": {},
     "output_type": "execute_result"
    }
   ],
   "source": [
    "model_2.fit(x_train_s,y_train,validation_split=0.33,batch_size=10,callbacks=early_stop,epochs=100) "
   ]
  },
  {
   "cell_type": "code",
   "execution_count": 16,
   "id": "53f40a80",
   "metadata": {},
   "outputs": [
    {
     "name": "stdout",
     "output_type": "stream",
     "text": [
      "4/4 [==============================] - 0s 1ms/step\n"
     ]
    },
    {
     "data": {
      "text/plain": [
       "0.8551507019041668"
      ]
     },
     "execution_count": 16,
     "metadata": {},
     "output_type": "execute_result"
    }
   ],
   "source": [
    "y_pred=model_2.predict(x_test_s)\n",
    "R2 = r2_score(y_test,y_pred)\n",
    "R2"
   ]
  },
  {
   "cell_type": "code",
   "execution_count": null,
   "id": "9b3bcf8b",
   "metadata": {},
   "outputs": [],
   "source": []
  },
  {
   "cell_type": "code",
   "execution_count": 17,
   "id": "936e8438",
   "metadata": {},
   "outputs": [
    {
     "name": "stdout",
     "output_type": "stream",
     "text": [
      "13/13 [==============================] - 0s 834us/step\n"
     ]
    },
    {
     "data": {
      "text/plain": [
       "0.7667780719342451"
      ]
     },
     "execution_count": 17,
     "metadata": {},
     "output_type": "execute_result"
    }
   ],
   "source": [
    "y_pred_train = model.predict(x_train_s)\n",
    "r2_score(y_train,y_pred_train)"
   ]
  },
  {
   "cell_type": "code",
   "execution_count": 18,
   "id": "93f123a5",
   "metadata": {},
   "outputs": [
    {
     "name": "stdout",
     "output_type": "stream",
     "text": [
      "13/13 [==============================] - 0s 668us/step\n"
     ]
    },
    {
     "data": {
      "text/plain": [
       "0.7980904306345203"
      ]
     },
     "execution_count": 18,
     "metadata": {},
     "output_type": "execute_result"
    }
   ],
   "source": [
    "y_pred_train = model_2.predict(x_train_s)\n",
    "r2_score(y_train,y_pred_train)"
   ]
  },
  {
   "cell_type": "code",
   "execution_count": null,
   "id": "c624d059",
   "metadata": {},
   "outputs": [],
   "source": []
  }
 ],
 "metadata": {
  "kernelspec": {
   "display_name": "Python 3 (ipykernel)",
   "language": "python",
   "name": "python3"
  },
  "language_info": {
   "codemirror_mode": {
    "name": "ipython",
    "version": 3
   },
   "file_extension": ".py",
   "mimetype": "text/x-python",
   "name": "python",
   "nbconvert_exporter": "python",
   "pygments_lexer": "ipython3",
   "version": "3.9.12"
  }
 },
 "nbformat": 4,
 "nbformat_minor": 5
}
